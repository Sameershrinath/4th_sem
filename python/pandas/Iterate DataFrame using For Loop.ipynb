{
 "cells": [
  {
   "cell_type": "code",
   "execution_count": 1,
   "id": "c73d088e",
   "metadata": {},
   "outputs": [],
   "source": [
    "import pandas as pd\n",
    "import numpy as np"
   ]
  },
  {
   "cell_type": "markdown",
   "id": "41009f5f",
   "metadata": {},
   "source": [
    "# Iterate DataFrame using For Loop"
   ]
  },
  {
   "cell_type": "code",
   "execution_count": 2,
   "id": "b72d4095",
   "metadata": {},
   "outputs": [
    {
     "data": {
      "text/html": [
       "<div>\n",
       "<style scoped>\n",
       "    .dataframe tbody tr th:only-of-type {\n",
       "        vertical-align: middle;\n",
       "    }\n",
       "\n",
       "    .dataframe tbody tr th {\n",
       "        vertical-align: top;\n",
       "    }\n",
       "\n",
       "    .dataframe thead th {\n",
       "        text-align: right;\n",
       "    }\n",
       "</style>\n",
       "<table border=\"1\" class=\"dataframe\">\n",
       "  <thead>\n",
       "    <tr style=\"text-align: right;\">\n",
       "      <th></th>\n",
       "      <th>a</th>\n",
       "      <th>b</th>\n",
       "      <th>c</th>\n",
       "      <th>d</th>\n",
       "    </tr>\n",
       "  </thead>\n",
       "  <tbody>\n",
       "    <tr>\n",
       "      <th>p</th>\n",
       "      <td>22</td>\n",
       "      <td>29</td>\n",
       "      <td>29</td>\n",
       "      <td>26</td>\n",
       "    </tr>\n",
       "    <tr>\n",
       "      <th>y</th>\n",
       "      <td>22</td>\n",
       "      <td>22</td>\n",
       "      <td>21</td>\n",
       "      <td>27</td>\n",
       "    </tr>\n",
       "    <tr>\n",
       "      <th>t</th>\n",
       "      <td>28</td>\n",
       "      <td>20</td>\n",
       "      <td>28</td>\n",
       "      <td>26</td>\n",
       "    </tr>\n",
       "    <tr>\n",
       "      <th>h</th>\n",
       "      <td>29</td>\n",
       "      <td>24</td>\n",
       "      <td>27</td>\n",
       "      <td>21</td>\n",
       "    </tr>\n",
       "    <tr>\n",
       "      <th>o</th>\n",
       "      <td>25</td>\n",
       "      <td>27</td>\n",
       "      <td>26</td>\n",
       "      <td>24</td>\n",
       "    </tr>\n",
       "    <tr>\n",
       "      <th>n</th>\n",
       "      <td>27</td>\n",
       "      <td>26</td>\n",
       "      <td>22</td>\n",
       "      <td>25</td>\n",
       "    </tr>\n",
       "  </tbody>\n",
       "</table>\n",
       "</div>"
      ],
      "text/plain": [
       "    a   b   c   d\n",
       "p  22  29  29  26\n",
       "y  22  22  21  27\n",
       "t  28  20  28  26\n",
       "h  29  24  27  21\n",
       "o  25  27  26  24\n",
       "n  27  26  22  25"
      ]
     },
     "execution_count": 2,
     "metadata": {},
     "output_type": "execute_result"
    }
   ],
   "source": [
    "array = np.random.randint(20,30, size = (6,4))\n",
    "df = pd.DataFrame(array, index = list(\"python\"), columns=list('abcd'))\n",
    "df"
   ]
  },
  {
   "cell_type": "markdown",
   "id": "fed9a9af",
   "metadata": {},
   "source": [
    "# 1. df.columns"
   ]
  },
  {
   "cell_type": "code",
   "execution_count": 3,
   "id": "58b6a13b",
   "metadata": {},
   "outputs": [
    {
     "name": "stdout",
     "output_type": "stream",
     "text": [
      "Col_name a\n",
      "Col_name b\n",
      "Col_name c\n",
      "Col_name d\n"
     ]
    }
   ],
   "source": [
    "for col_name in df.columns:\n",
    "    print(\"Col_name\", col_name)"
   ]
  },
  {
   "cell_type": "code",
   "execution_count": 4,
   "id": "eefd2039",
   "metadata": {},
   "outputs": [
    {
     "name": "stdout",
     "output_type": "stream",
     "text": [
      "Col_name a\n",
      "p    22\n",
      "y    22\n",
      "t    28\n",
      "h    29\n",
      "o    25\n",
      "n    27\n",
      "Name: a, dtype: int32\n",
      "************************************************************\n",
      "\n",
      "Col_name b\n",
      "p    29\n",
      "y    22\n",
      "t    20\n",
      "h    24\n",
      "o    27\n",
      "n    26\n",
      "Name: b, dtype: int32\n",
      "************************************************************\n",
      "\n",
      "Col_name c\n",
      "p    29\n",
      "y    21\n",
      "t    28\n",
      "h    27\n",
      "o    26\n",
      "n    22\n",
      "Name: c, dtype: int32\n",
      "************************************************************\n",
      "\n",
      "Col_name d\n",
      "p    26\n",
      "y    27\n",
      "t    26\n",
      "h    21\n",
      "o    24\n",
      "n    25\n",
      "Name: d, dtype: int32\n",
      "************************************************************\n",
      "\n"
     ]
    }
   ],
   "source": [
    "for col_name in df.columns:\n",
    "    print(\"Col_name\", col_name)\n",
    "    print(df[col_name])\n",
    "    print(\"*\"*60)\n",
    "    print()"
   ]
  },
  {
   "cell_type": "markdown",
   "id": "bdfb3b79",
   "metadata": {},
   "source": [
    "# 2. df.items()"
   ]
  },
  {
   "cell_type": "code",
   "execution_count": 5,
   "id": "cf271e28",
   "metadata": {},
   "outputs": [
    {
     "name": "stdout",
     "output_type": "stream",
     "text": [
      "Col_name a\n",
      "Col_name b\n",
      "Col_name c\n",
      "Col_name d\n"
     ]
    }
   ],
   "source": [
    "for col_name, col_data in df.items():\n",
    "    print(\"Col_name\",col_name)"
   ]
  },
  {
   "cell_type": "code",
   "execution_count": 6,
   "id": "d54210cb",
   "metadata": {},
   "outputs": [
    {
     "name": "stdout",
     "output_type": "stream",
     "text": [
      "Col_name a\n",
      "p    22\n",
      "y    22\n",
      "t    28\n",
      "h    29\n",
      "o    25\n",
      "n    27\n",
      "Name: a, dtype: int32\n",
      "************************************************************\n",
      "\n",
      "Col_name b\n",
      "p    29\n",
      "y    22\n",
      "t    20\n",
      "h    24\n",
      "o    27\n",
      "n    26\n",
      "Name: b, dtype: int32\n",
      "************************************************************\n",
      "\n",
      "Col_name c\n",
      "p    29\n",
      "y    21\n",
      "t    28\n",
      "h    27\n",
      "o    26\n",
      "n    22\n",
      "Name: c, dtype: int32\n",
      "************************************************************\n",
      "\n",
      "Col_name d\n",
      "p    26\n",
      "y    27\n",
      "t    26\n",
      "h    21\n",
      "o    24\n",
      "n    25\n",
      "Name: d, dtype: int32\n",
      "************************************************************\n",
      "\n"
     ]
    }
   ],
   "source": [
    "for col_name, col_data in df.items():\n",
    "    print(\"Col_name\",col_name)\n",
    "    print(col_data)\n",
    "    print(\"*\"*60)\n",
    "    print()"
   ]
  },
  {
   "cell_type": "code",
   "execution_count": null,
   "id": "5fe9666f",
   "metadata": {},
   "outputs": [],
   "source": [
    "# Access rows"
   ]
  },
  {
   "cell_type": "code",
   "execution_count": 7,
   "id": "dad34d04",
   "metadata": {},
   "outputs": [
    {
     "name": "stdout",
     "output_type": "stream",
     "text": [
      "Row Name p\n",
      "Row Name y\n",
      "Row Name t\n",
      "Row Name h\n",
      "Row Name o\n",
      "Row Name n\n"
     ]
    }
   ],
   "source": [
    "for row_name in df.index:\n",
    "    print(\"Row Name\",row_name)"
   ]
  },
  {
   "cell_type": "code",
   "execution_count": 8,
   "id": "88b55b08",
   "metadata": {},
   "outputs": [
    {
     "name": "stdout",
     "output_type": "stream",
     "text": [
      "Row Name p\n",
      "a    22\n",
      "b    29\n",
      "c    29\n",
      "d    26\n",
      "Name: p, dtype: int32\n",
      "************************************************************\n",
      "\n",
      "Row Name y\n",
      "a    22\n",
      "b    22\n",
      "c    21\n",
      "d    27\n",
      "Name: y, dtype: int32\n",
      "************************************************************\n",
      "\n",
      "Row Name t\n",
      "a    28\n",
      "b    20\n",
      "c    28\n",
      "d    26\n",
      "Name: t, dtype: int32\n",
      "************************************************************\n",
      "\n",
      "Row Name h\n",
      "a    29\n",
      "b    24\n",
      "c    27\n",
      "d    21\n",
      "Name: h, dtype: int32\n",
      "************************************************************\n",
      "\n",
      "Row Name o\n",
      "a    25\n",
      "b    27\n",
      "c    26\n",
      "d    24\n",
      "Name: o, dtype: int32\n",
      "************************************************************\n",
      "\n",
      "Row Name n\n",
      "a    27\n",
      "b    26\n",
      "c    22\n",
      "d    25\n",
      "Name: n, dtype: int32\n",
      "************************************************************\n",
      "\n"
     ]
    }
   ],
   "source": [
    "for row_name in df.index:\n",
    "    print(\"Row Name\",row_name)\n",
    "    print(df.loc[row_name])\n",
    "    print(\"*\"*60)\n",
    "    print()"
   ]
  },
  {
   "cell_type": "markdown",
   "id": "4d5ba3f3",
   "metadata": {},
   "source": [
    "# df.iteritems"
   ]
  },
  {
   "cell_type": "code",
   "execution_count": 9,
   "id": "091c392e",
   "metadata": {},
   "outputs": [
    {
     "name": "stdout",
     "output_type": "stream",
     "text": [
      "Col_name a\n",
      "Col_name b\n",
      "Col_name c\n",
      "Col_name d\n"
     ]
    }
   ],
   "source": [
    "for col_name, col_data in df.iteritems():\n",
    "    print(\"Col_name\", col_name)"
   ]
  },
  {
   "cell_type": "code",
   "execution_count": 11,
   "id": "6a74dd66",
   "metadata": {},
   "outputs": [
    {
     "name": "stdout",
     "output_type": "stream",
     "text": [
      "Col_name a\n",
      "p    22\n",
      "y    22\n",
      "t    28\n",
      "h    29\n",
      "o    25\n",
      "n    27\n",
      "Name: a, dtype: int32 <class 'pandas.core.series.Series'>\n",
      "************************************************************\n",
      "\n",
      "Col_name b\n",
      "p    29\n",
      "y    22\n",
      "t    20\n",
      "h    24\n",
      "o    27\n",
      "n    26\n",
      "Name: b, dtype: int32 <class 'pandas.core.series.Series'>\n",
      "************************************************************\n",
      "\n",
      "Col_name c\n",
      "p    29\n",
      "y    21\n",
      "t    28\n",
      "h    27\n",
      "o    26\n",
      "n    22\n",
      "Name: c, dtype: int32 <class 'pandas.core.series.Series'>\n",
      "************************************************************\n",
      "\n",
      "Col_name d\n",
      "p    26\n",
      "y    27\n",
      "t    26\n",
      "h    21\n",
      "o    24\n",
      "n    25\n",
      "Name: d, dtype: int32 <class 'pandas.core.series.Series'>\n",
      "************************************************************\n",
      "\n"
     ]
    }
   ],
   "source": [
    "for col_name, col_data in df.iteritems():\n",
    "    print(\"Col_name\", col_name)\n",
    "    print(col_data, type(col_data))\n",
    "    print(\"*\"*60)\n",
    "    print()"
   ]
  },
  {
   "cell_type": "code",
   "execution_count": 12,
   "id": "5864a5ec",
   "metadata": {},
   "outputs": [
    {
     "name": "stdout",
     "output_type": "stream",
     "text": [
      "Col_name a\n",
      "[22, 22, 28, 29, 25, 27]\n",
      "************************************************************\n",
      "\n",
      "Col_name b\n",
      "[29, 22, 20, 24, 27, 26]\n",
      "************************************************************\n",
      "\n",
      "Col_name c\n",
      "[29, 21, 28, 27, 26, 22]\n",
      "************************************************************\n",
      "\n",
      "Col_name d\n",
      "[26, 27, 26, 21, 24, 25]\n",
      "************************************************************\n",
      "\n"
     ]
    }
   ],
   "source": [
    "for col_name, col_data in df.iteritems():\n",
    "    print(\"Col_name\", col_name)\n",
    "    print(col_data.tolist())\n",
    "    print(\"*\"*60)\n",
    "    print()"
   ]
  },
  {
   "cell_type": "markdown",
   "id": "7e9372dc",
   "metadata": {},
   "source": [
    "# df.iterrows()"
   ]
  },
  {
   "cell_type": "code",
   "execution_count": 13,
   "id": "1051759a",
   "metadata": {},
   "outputs": [
    {
     "name": "stdout",
     "output_type": "stream",
     "text": [
      "Row Name p\n",
      "Row Name y\n",
      "Row Name t\n",
      "Row Name h\n",
      "Row Name o\n",
      "Row Name n\n"
     ]
    }
   ],
   "source": [
    "for row_label, row_data in df.iterrows():\n",
    "    print(\"Row Name\", row_label)"
   ]
  },
  {
   "cell_type": "code",
   "execution_count": 14,
   "id": "139bb7d7",
   "metadata": {},
   "outputs": [
    {
     "name": "stdout",
     "output_type": "stream",
     "text": [
      "Row Name p\n",
      "a    22\n",
      "b    29\n",
      "c    29\n",
      "d    26\n",
      "Name: p, dtype: int32\n",
      "************************************************************\n",
      "\n",
      "Row Name y\n",
      "a    22\n",
      "b    22\n",
      "c    21\n",
      "d    27\n",
      "Name: y, dtype: int32\n",
      "************************************************************\n",
      "\n",
      "Row Name t\n",
      "a    28\n",
      "b    20\n",
      "c    28\n",
      "d    26\n",
      "Name: t, dtype: int32\n",
      "************************************************************\n",
      "\n",
      "Row Name h\n",
      "a    29\n",
      "b    24\n",
      "c    27\n",
      "d    21\n",
      "Name: h, dtype: int32\n",
      "************************************************************\n",
      "\n",
      "Row Name o\n",
      "a    25\n",
      "b    27\n",
      "c    26\n",
      "d    24\n",
      "Name: o, dtype: int32\n",
      "************************************************************\n",
      "\n",
      "Row Name n\n",
      "a    27\n",
      "b    26\n",
      "c    22\n",
      "d    25\n",
      "Name: n, dtype: int32\n",
      "************************************************************\n",
      "\n"
     ]
    }
   ],
   "source": [
    "for row_label, row_data in df.iterrows():\n",
    "    print(\"Row Name\", row_label)\n",
    "    print(row_data)\n",
    "    print(\"*\"*60)\n",
    "    print()"
   ]
  },
  {
   "cell_type": "code",
   "execution_count": 15,
   "id": "c6630b4e",
   "metadata": {},
   "outputs": [
    {
     "name": "stdout",
     "output_type": "stream",
     "text": [
      "Row Name p\n",
      "a    22\n",
      "b    29\n",
      "c    29\n",
      "d    26\n",
      "Name: p, dtype: int32\n",
      "Row Name y\n",
      "a    22\n",
      "b    22\n",
      "c    21\n",
      "d    27\n",
      "Name: y, dtype: int32\n",
      "Row Name t\n",
      "a    28\n",
      "b    20\n",
      "c    28\n",
      "d    26\n",
      "Name: t, dtype: int32\n",
      "Row Name h\n",
      "a    29\n",
      "b    24\n",
      "c    27\n",
      "d    21\n",
      "Name: h, dtype: int32\n",
      "Row Name o\n",
      "a    25\n",
      "b    27\n",
      "c    26\n",
      "d    24\n",
      "Name: o, dtype: int32\n",
      "Row Name n\n",
      "a    27\n",
      "b    26\n",
      "c    22\n",
      "d    25\n",
      "Name: n, dtype: int32\n"
     ]
    }
   ],
   "source": [
    "for row_label, row_data in df.iterrows():\n",
    "    print(\"Row Name\", row_label)\n",
    "    print(row_data)"
   ]
  },
  {
   "cell_type": "code",
   "execution_count": 16,
   "id": "b38e66f6",
   "metadata": {},
   "outputs": [
    {
     "name": "stdout",
     "output_type": "stream",
     "text": [
      "Row Name p\n",
      "[22, 29, 29, 26]\n",
      "Row Name y\n",
      "[22, 22, 21, 27]\n",
      "Row Name t\n",
      "[28, 20, 28, 26]\n",
      "Row Name h\n",
      "[29, 24, 27, 21]\n",
      "Row Name o\n",
      "[25, 27, 26, 24]\n",
      "Row Name n\n",
      "[27, 26, 22, 25]\n"
     ]
    }
   ],
   "source": [
    "for row_label, row_data in df.iterrows():\n",
    "    print(\"Row Name\", row_label)\n",
    "    print(row_data.tolist())"
   ]
  },
  {
   "cell_type": "code",
   "execution_count": null,
   "id": "b44a7059",
   "metadata": {},
   "outputs": [],
   "source": []
  }
 ],
 "metadata": {
  "kernelspec": {
   "display_name": "Python 3 (ipykernel)",
   "language": "python",
   "name": "python3"
  },
  "language_info": {
   "codemirror_mode": {
    "name": "ipython",
    "version": 3
   },
   "file_extension": ".py",
   "mimetype": "text/x-python",
   "name": "python",
   "nbconvert_exporter": "python",
   "pygments_lexer": "ipython3",
   "version": "3.9.12"
  }
 },
 "nbformat": 4,
 "nbformat_minor": 5
}
