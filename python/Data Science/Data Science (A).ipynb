{
 "cells": [
  {
   "cell_type": "markdown",
   "id": "d2d9c4e1",
   "metadata": {},
   "source": [
    "# Data Science Project Steps"
   ]
  },
  {
   "cell_type": "markdown",
   "id": "3a8e7336",
   "metadata": {},
   "source": [
    "1. Problem Statement\n",
    "\n",
    "2. Data Gathering (databases- MySQL, MongoDB)\n",
    "\n",
    "3. Exploratory Data Analysis - (Pandas, Numpy, Seaborn, Matplotlib)\n",
    "\n",
    "4. Feature Engineering:\n",
    "    Scaling: (Always required in distance based algorithm)\n",
    "        Standadization\n",
    "        Normalization\n",
    "        Transformation(Log, Square Root, Cube Root)  \n",
    "    Encoding:\n",
    "        One Hot Encoding\n",
    "        Label Encoding\n",
    "    Binning\n",
    "\n",
    "5. Feature Selection: (base on the importance of features)\n",
    "    1. Filter method\n",
    "    2. Wrapper Method\n",
    "    3. Embedded Method\n",
    "    \n",
    "6. Model Training:\n",
    "    Linear Regression\n",
    "    KNN Regression\n",
    "    DT Regression\n",
    "    RF Regresson\n",
    "    \n",
    "7. Model Evaluation:\n",
    "    Regression:\n",
    "        1. MSE\n",
    "        2. RMSE\n",
    "        3. MAE\n",
    "        4. R-Squared Value\n",
    "        5. Adjusted R-Squared Value\n",
    "    \n",
    "    Classification:\n",
    "        1. Confusion Matrix\n",
    "        2. Classification Report(Accuracy, Precison, Recall, F-Beta-Score)\n",
    "        3. AUC - ROC Curve\n",
    "        4. Accuracy\n",
    "        5. Precison\n",
    "        6. Recall\n",
    "        7. F-Beta-Score\n",
    "        \n",
    "8. Web Deployment Framework:\n",
    "    1. Flask --> Use to write API\n",
    "    2. Django\n",
    "    3. FastAI\n",
    "    4. gRPC\n",
    "    \n",
    "9. Deployment:\n",
    "    1. AWS\n",
    "    2. GCP --> Google Cloud Platform\n",
    "    3. Microsoft Azure\n",
    "    4. Herokku --> Open Source Platform"
   ]
  },
  {
   "cell_type": "code",
   "execution_count": null,
   "id": "99739989",
   "metadata": {},
   "outputs": [],
   "source": []
  }
 ],
 "metadata": {
  "kernelspec": {
   "display_name": "base",
   "language": "python",
   "name": "python3"
  },
  "language_info": {
   "codemirror_mode": {
    "name": "ipython",
    "version": 3
   },
   "file_extension": ".py",
   "mimetype": "text/x-python",
   "name": "python",
   "nbconvert_exporter": "python",
   "pygments_lexer": "ipython3",
   "version": "3.11.5"
  }
 },
 "nbformat": 4,
 "nbformat_minor": 5
}
