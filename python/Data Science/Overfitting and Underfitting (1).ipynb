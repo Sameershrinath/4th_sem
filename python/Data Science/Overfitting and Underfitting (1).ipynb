{
 "cells": [
  {
   "cell_type": "markdown",
   "id": "3be85fcf",
   "metadata": {},
   "source": [
    "# Overfitting"
   ]
  },
  {
   "cell_type": "code",
   "execution_count": null,
   "id": "c4312b30",
   "metadata": {},
   "outputs": [],
   "source": [
    "Model is performed well on training datasets (Not on testing datasets)\n",
    "\n",
    "Training data Accuracy --> regression (r2 = 0.95), classification (accuracy = 0.98)\n",
    "Testing data Accuracy --> regression (r2 = 0.69), classification (accuracy = 0.70)\n",
    "\n",
    "# Less occurs in Linear Model\n",
    "# Parametric Models are less prone to overfitting\n",
    "# Non- Parametric Models Decision Tree, random Forest, KNN has prone to overfitting\n",
    "\n",
    "Low Bias and High Variance"
   ]
  },
  {
   "cell_type": "markdown",
   "id": "21cb6a34",
   "metadata": {},
   "source": [
    "# Underfitting"
   ]
  },
  {
   "cell_type": "code",
   "execution_count": null,
   "id": "c4034ab9",
   "metadata": {},
   "outputs": [],
   "source": [
    "Model is performed niether performing well on training dataset nor on testing dataset\n",
    "\n",
    "Training data Accuracy --> regression (r2 = 0.62), classification (accuracy = 0.65)\n",
    "Testing data Accuracy --> regression (r2 = 0.60), classification (accuracy = 0.61)\n",
    "\n",
    "\n",
    "High Bias and Low Variance"
   ]
  },
  {
   "cell_type": "markdown",
   "id": "8fb4438e",
   "metadata": {},
   "source": [
    "# Best Fit Model"
   ]
  },
  {
   "cell_type": "code",
   "execution_count": null,
   "id": "ea69a4f1",
   "metadata": {},
   "outputs": [],
   "source": [
    "Model is performing well on training dataset and on testing dataset\n",
    "\n",
    "Training data Accuracy --> regression (r2 = 0.95), classification (accuracy = 0.93)\n",
    "Testing data Accuracy --> regression (r2 = 0.94), classification (accuracy = 0.94)\n",
    "\n",
    "\n",
    "Low Bias and Low Variance"
   ]
  },
  {
   "cell_type": "markdown",
   "id": "e616988a",
   "metadata": {},
   "source": [
    "# How to avoid overfitting"
   ]
  },
  {
   "cell_type": "code",
   "execution_count": null,
   "id": "268d1031",
   "metadata": {},
   "outputs": [],
   "source": [
    "1. Hyperparameter Tunning:\n",
    "    GridsearchCV\n",
    "    RandamizedSearchCV\n",
    "    \n",
    "2. Train model with more data (5000 >> 10000)\n",
    "\n",
    "3. Reduce Number of features (30 >> 14):\n",
    "    Use feature selection techniques\n",
    "    Dimensionality reduction techniques (PCA, LDA)\n",
    "    \n",
    "4. Prunning >> Used in tree based algorithm >> (Cutting the branches of trees)\n",
    "\n",
    "5. Regularization Techniques: >> Linear based algorithm\n",
    "    L1 Regularization >> Lasso regression\n",
    "    L2 regularization >> Ridge regression\n",
    "    \n",
    "6. Cross validation:\n",
    "    k-fold cross validation\n",
    "    \n",
    "7. Removing Outliers"
   ]
  },
  {
   "cell_type": "markdown",
   "id": "3aa16e84",
   "metadata": {},
   "source": [
    "# How to avoid overfitting"
   ]
  },
  {
   "cell_type": "code",
   "execution_count": null,
   "id": "7e58245f",
   "metadata": {},
   "outputs": [],
   "source": [
    "1. Increase number of features:\n",
    "    Add good correlated features\n",
    "    Add derived features\n",
    "    \n",
    "2. Use proper feature selection:\n",
    "    1. Filter Method\n",
    "    2. Wrapper Method\n",
    "    3. Embedded Method\n",
    "    \n",
    "3. Hyperparameter Tunning"
   ]
  }
 ],
 "metadata": {
  "kernelspec": {
   "display_name": "Python 3 (ipykernel)",
   "language": "python",
   "name": "python3"
  },
  "language_info": {
   "codemirror_mode": {
    "name": "ipython",
    "version": 3
   },
   "file_extension": ".py",
   "mimetype": "text/x-python",
   "name": "python",
   "nbconvert_exporter": "python",
   "pygments_lexer": "ipython3",
   "version": "3.12.7"
  }
 },
 "nbformat": 4,
 "nbformat_minor": 5
}
