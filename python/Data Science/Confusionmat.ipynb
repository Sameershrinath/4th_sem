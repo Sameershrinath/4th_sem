{
 "cells": [
  {
   "cell_type": "markdown",
   "metadata": {},
   "source": [
    "## **Import the Libraries**"
   ]
  },
  {
   "cell_type": "code",
   "execution_count": 10,
   "metadata": {},
   "outputs": [],
   "source": [
    "import pandas as pd\n",
    "import numpy as np\n",
    "from sklearn.linear_model import LogisticRegression\n",
    "from sklearn.model_selection import train_test_split\n",
    "\n",
    "from sklearn.metrics import confusion_matrix,classification_report,accuracy_score\n",
    "from sklearn.metrics import precision_score,recall_score,f1_score\n",
    "from sklearn.metrics import ConfusionMatrixDisplay\n",
    "from sklearn.metrics import roc_curve, roc_auc_score,auc\n",
    "\n",
    "\n",
    "import matplotlib.pyplot as plt\n",
    "import seaborn as sns\n",
    "\n",
    "import warnings\n",
    "warnings.filterwarnings(\"ignore\")"
   ]
  },
  {
   "cell_type": "markdown",
   "metadata": {},
   "source": [
    "## **Import the Diabetes dataframe**"
   ]
  },
  {
   "cell_type": "code",
   "execution_count": 11,
   "metadata": {},
   "outputs": [
    {
     "data": {
      "text/html": [
       "<div>\n",
       "<style scoped>\n",
       "    .dataframe tbody tr th:only-of-type {\n",
       "        vertical-align: middle;\n",
       "    }\n",
       "\n",
       "    .dataframe tbody tr th {\n",
       "        vertical-align: top;\n",
       "    }\n",
       "\n",
       "    .dataframe thead th {\n",
       "        text-align: right;\n",
       "    }\n",
       "</style>\n",
       "<table border=\"1\" class=\"dataframe\">\n",
       "  <thead>\n",
       "    <tr style=\"text-align: right;\">\n",
       "      <th></th>\n",
       "      <th>Pregnancies</th>\n",
       "      <th>Glucose</th>\n",
       "      <th>BloodPressure</th>\n",
       "      <th>SkinThickness</th>\n",
       "      <th>Insulin</th>\n",
       "      <th>BMI</th>\n",
       "      <th>DiabetesPedigreeFunction</th>\n",
       "      <th>Age</th>\n",
       "      <th>Outcome</th>\n",
       "    </tr>\n",
       "  </thead>\n",
       "  <tbody>\n",
       "    <tr>\n",
       "      <th>count</th>\n",
       "      <td>2000.000000</td>\n",
       "      <td>2000.000000</td>\n",
       "      <td>2000.000000</td>\n",
       "      <td>2000.000000</td>\n",
       "      <td>2000.000000</td>\n",
       "      <td>2000.000000</td>\n",
       "      <td>2000.000000</td>\n",
       "      <td>2000.000000</td>\n",
       "      <td>2000.000000</td>\n",
       "    </tr>\n",
       "    <tr>\n",
       "      <th>mean</th>\n",
       "      <td>3.703500</td>\n",
       "      <td>121.182500</td>\n",
       "      <td>69.145500</td>\n",
       "      <td>20.935000</td>\n",
       "      <td>80.254000</td>\n",
       "      <td>32.193000</td>\n",
       "      <td>0.470930</td>\n",
       "      <td>33.090500</td>\n",
       "      <td>0.342000</td>\n",
       "    </tr>\n",
       "    <tr>\n",
       "      <th>std</th>\n",
       "      <td>3.306063</td>\n",
       "      <td>32.068636</td>\n",
       "      <td>19.188315</td>\n",
       "      <td>16.103243</td>\n",
       "      <td>111.180534</td>\n",
       "      <td>8.149901</td>\n",
       "      <td>0.323553</td>\n",
       "      <td>11.786423</td>\n",
       "      <td>0.474498</td>\n",
       "    </tr>\n",
       "    <tr>\n",
       "      <th>min</th>\n",
       "      <td>0.000000</td>\n",
       "      <td>0.000000</td>\n",
       "      <td>0.000000</td>\n",
       "      <td>0.000000</td>\n",
       "      <td>0.000000</td>\n",
       "      <td>0.000000</td>\n",
       "      <td>0.078000</td>\n",
       "      <td>21.000000</td>\n",
       "      <td>0.000000</td>\n",
       "    </tr>\n",
       "    <tr>\n",
       "      <th>25%</th>\n",
       "      <td>1.000000</td>\n",
       "      <td>99.000000</td>\n",
       "      <td>63.500000</td>\n",
       "      <td>0.000000</td>\n",
       "      <td>0.000000</td>\n",
       "      <td>27.375000</td>\n",
       "      <td>0.244000</td>\n",
       "      <td>24.000000</td>\n",
       "      <td>0.000000</td>\n",
       "    </tr>\n",
       "    <tr>\n",
       "      <th>50%</th>\n",
       "      <td>3.000000</td>\n",
       "      <td>117.000000</td>\n",
       "      <td>72.000000</td>\n",
       "      <td>23.000000</td>\n",
       "      <td>40.000000</td>\n",
       "      <td>32.300000</td>\n",
       "      <td>0.376000</td>\n",
       "      <td>29.000000</td>\n",
       "      <td>0.000000</td>\n",
       "    </tr>\n",
       "    <tr>\n",
       "      <th>75%</th>\n",
       "      <td>6.000000</td>\n",
       "      <td>141.000000</td>\n",
       "      <td>80.000000</td>\n",
       "      <td>32.000000</td>\n",
       "      <td>130.000000</td>\n",
       "      <td>36.800000</td>\n",
       "      <td>0.624000</td>\n",
       "      <td>40.000000</td>\n",
       "      <td>1.000000</td>\n",
       "    </tr>\n",
       "    <tr>\n",
       "      <th>max</th>\n",
       "      <td>17.000000</td>\n",
       "      <td>199.000000</td>\n",
       "      <td>122.000000</td>\n",
       "      <td>110.000000</td>\n",
       "      <td>744.000000</td>\n",
       "      <td>80.600000</td>\n",
       "      <td>2.420000</td>\n",
       "      <td>81.000000</td>\n",
       "      <td>1.000000</td>\n",
       "    </tr>\n",
       "  </tbody>\n",
       "</table>\n",
       "</div>"
      ],
      "text/plain": [
       "       Pregnancies      Glucose  BloodPressure  SkinThickness      Insulin  \\\n",
       "count  2000.000000  2000.000000    2000.000000    2000.000000  2000.000000   \n",
       "mean      3.703500   121.182500      69.145500      20.935000    80.254000   \n",
       "std       3.306063    32.068636      19.188315      16.103243   111.180534   \n",
       "min       0.000000     0.000000       0.000000       0.000000     0.000000   \n",
       "25%       1.000000    99.000000      63.500000       0.000000     0.000000   \n",
       "50%       3.000000   117.000000      72.000000      23.000000    40.000000   \n",
       "75%       6.000000   141.000000      80.000000      32.000000   130.000000   \n",
       "max      17.000000   199.000000     122.000000     110.000000   744.000000   \n",
       "\n",
       "               BMI  DiabetesPedigreeFunction          Age      Outcome  \n",
       "count  2000.000000               2000.000000  2000.000000  2000.000000  \n",
       "mean     32.193000                  0.470930    33.090500     0.342000  \n",
       "std       8.149901                  0.323553    11.786423     0.474498  \n",
       "min       0.000000                  0.078000    21.000000     0.000000  \n",
       "25%      27.375000                  0.244000    24.000000     0.000000  \n",
       "50%      32.300000                  0.376000    29.000000     0.000000  \n",
       "75%      36.800000                  0.624000    40.000000     1.000000  \n",
       "max      80.600000                  2.420000    81.000000     1.000000  "
      ]
     },
     "execution_count": 11,
     "metadata": {},
     "output_type": "execute_result"
    }
   ],
   "source": [
    "df=pd.read_csv(\"./Datasets/diabetes.csv\")\n",
    "df.describe()"
   ]
  },
  {
   "cell_type": "code",
   "execution_count": 12,
   "metadata": {},
   "outputs": [
    {
     "data": {
      "text/html": [
       "<div>\n",
       "<style scoped>\n",
       "    .dataframe tbody tr th:only-of-type {\n",
       "        vertical-align: middle;\n",
       "    }\n",
       "\n",
       "    .dataframe tbody tr th {\n",
       "        vertical-align: top;\n",
       "    }\n",
       "\n",
       "    .dataframe thead th {\n",
       "        text-align: right;\n",
       "    }\n",
       "</style>\n",
       "<table border=\"1\" class=\"dataframe\">\n",
       "  <thead>\n",
       "    <tr style=\"text-align: right;\">\n",
       "      <th></th>\n",
       "      <th>Pregnancies</th>\n",
       "      <th>Glucose</th>\n",
       "      <th>BloodPressure</th>\n",
       "      <th>SkinThickness</th>\n",
       "      <th>Insulin</th>\n",
       "      <th>BMI</th>\n",
       "      <th>DiabetesPedigreeFunction</th>\n",
       "      <th>Age</th>\n",
       "      <th>Outcome</th>\n",
       "    </tr>\n",
       "  </thead>\n",
       "  <tbody>\n",
       "    <tr>\n",
       "      <th>0</th>\n",
       "      <td>2</td>\n",
       "      <td>138</td>\n",
       "      <td>62</td>\n",
       "      <td>35</td>\n",
       "      <td>0</td>\n",
       "      <td>33.6</td>\n",
       "      <td>0.127</td>\n",
       "      <td>47</td>\n",
       "      <td>1</td>\n",
       "    </tr>\n",
       "    <tr>\n",
       "      <th>1</th>\n",
       "      <td>0</td>\n",
       "      <td>84</td>\n",
       "      <td>82</td>\n",
       "      <td>31</td>\n",
       "      <td>125</td>\n",
       "      <td>38.2</td>\n",
       "      <td>0.233</td>\n",
       "      <td>23</td>\n",
       "      <td>0</td>\n",
       "    </tr>\n",
       "    <tr>\n",
       "      <th>2</th>\n",
       "      <td>0</td>\n",
       "      <td>145</td>\n",
       "      <td>0</td>\n",
       "      <td>0</td>\n",
       "      <td>0</td>\n",
       "      <td>44.2</td>\n",
       "      <td>0.630</td>\n",
       "      <td>31</td>\n",
       "      <td>1</td>\n",
       "    </tr>\n",
       "    <tr>\n",
       "      <th>3</th>\n",
       "      <td>0</td>\n",
       "      <td>135</td>\n",
       "      <td>68</td>\n",
       "      <td>42</td>\n",
       "      <td>250</td>\n",
       "      <td>42.3</td>\n",
       "      <td>0.365</td>\n",
       "      <td>24</td>\n",
       "      <td>1</td>\n",
       "    </tr>\n",
       "    <tr>\n",
       "      <th>4</th>\n",
       "      <td>1</td>\n",
       "      <td>139</td>\n",
       "      <td>62</td>\n",
       "      <td>41</td>\n",
       "      <td>480</td>\n",
       "      <td>40.7</td>\n",
       "      <td>0.536</td>\n",
       "      <td>21</td>\n",
       "      <td>0</td>\n",
       "    </tr>\n",
       "  </tbody>\n",
       "</table>\n",
       "</div>"
      ],
      "text/plain": [
       "   Pregnancies  Glucose  BloodPressure  SkinThickness  Insulin   BMI  \\\n",
       "0            2      138             62             35        0  33.6   \n",
       "1            0       84             82             31      125  38.2   \n",
       "2            0      145              0              0        0  44.2   \n",
       "3            0      135             68             42      250  42.3   \n",
       "4            1      139             62             41      480  40.7   \n",
       "\n",
       "   DiabetesPedigreeFunction  Age  Outcome  \n",
       "0                     0.127   47        1  \n",
       "1                     0.233   23        0  \n",
       "2                     0.630   31        1  \n",
       "3                     0.365   24        1  \n",
       "4                     0.536   21        0  "
      ]
     },
     "execution_count": 12,
     "metadata": {},
     "output_type": "execute_result"
    }
   ],
   "source": [
    "df.head()"
   ]
  },
  {
   "cell_type": "code",
   "execution_count": 28,
   "metadata": {},
   "outputs": [
    {
     "name": "stdout",
     "output_type": "stream",
     "text": [
      "Training set size: (1500, 8)\n",
      "Test set size: (500, 8)\n"
     ]
    }
   ],
   "source": [
    "X = df.drop('Outcome', axis=1)\n",
    "y = df['Outcome']\n",
    "\n",
    "X_train, X_test, y_train, y_test = train_test_split(X, y, test_size=0.25, random_state=1,stratify=y)\n",
    "\n",
    "print(\"Training set size:\", X_train.shape)\n",
    "print(\"Test set size:\", X_test.shape)"
   ]
  },
  {
   "cell_type": "code",
   "execution_count": 29,
   "metadata": {},
   "outputs": [
    {
     "data": {
      "text/plain": [
       "Outcome\n",
       "0    1316\n",
       "1     684\n",
       "Name: count, dtype: int64"
      ]
     },
     "execution_count": 29,
     "metadata": {},
     "output_type": "execute_result"
    }
   ],
   "source": [
    "y.value_counts()"
   ]
  },
  {
   "cell_type": "code",
   "execution_count": 30,
   "metadata": {},
   "outputs": [
    {
     "data": {
      "text/plain": [
       "Outcome\n",
       "0    987\n",
       "1    513\n",
       "Name: count, dtype: int64"
      ]
     },
     "execution_count": 30,
     "metadata": {},
     "output_type": "execute_result"
    }
   ],
   "source": [
    "y_train.value_counts()"
   ]
  },
  {
   "cell_type": "code",
   "execution_count": 27,
   "metadata": {},
   "outputs": [
    {
     "data": {
      "text/plain": [
       "0.6526666666666666"
      ]
     },
     "execution_count": 27,
     "metadata": {},
     "output_type": "execute_result"
    }
   ],
   "source": [
    "# WIthout Stratify\n",
    "979/(979+521)"
   ]
  },
  {
   "cell_type": "code",
   "execution_count": 31,
   "metadata": {},
   "outputs": [
    {
     "data": {
      "text/plain": [
       "0.650197628458498"
      ]
     },
     "execution_count": 31,
     "metadata": {},
     "output_type": "execute_result"
    }
   ],
   "source": [
    "#With stratify\n",
    "987/(987+531)"
   ]
  },
  {
   "cell_type": "markdown",
   "metadata": {},
   "source": [
    "## Model Training"
   ]
  },
  {
   "cell_type": "code",
   "execution_count": null,
   "metadata": {},
   "outputs": [
    {
     "data": {
      "text/html": [
       "<style>#sk-container-id-1 {color: black;background-color: white;}#sk-container-id-1 pre{padding: 0;}#sk-container-id-1 div.sk-toggleable {background-color: white;}#sk-container-id-1 label.sk-toggleable__label {cursor: pointer;display: block;width: 100%;margin-bottom: 0;padding: 0.3em;box-sizing: border-box;text-align: center;}#sk-container-id-1 label.sk-toggleable__label-arrow:before {content: \"▸\";float: left;margin-right: 0.25em;color: #696969;}#sk-container-id-1 label.sk-toggleable__label-arrow:hover:before {color: black;}#sk-container-id-1 div.sk-estimator:hover label.sk-toggleable__label-arrow:before {color: black;}#sk-container-id-1 div.sk-toggleable__content {max-height: 0;max-width: 0;overflow: hidden;text-align: left;background-color: #f0f8ff;}#sk-container-id-1 div.sk-toggleable__content pre {margin: 0.2em;color: black;border-radius: 0.25em;background-color: #f0f8ff;}#sk-container-id-1 input.sk-toggleable__control:checked~div.sk-toggleable__content {max-height: 200px;max-width: 100%;overflow: auto;}#sk-container-id-1 input.sk-toggleable__control:checked~label.sk-toggleable__label-arrow:before {content: \"▾\";}#sk-container-id-1 div.sk-estimator input.sk-toggleable__control:checked~label.sk-toggleable__label {background-color: #d4ebff;}#sk-container-id-1 div.sk-label input.sk-toggleable__control:checked~label.sk-toggleable__label {background-color: #d4ebff;}#sk-container-id-1 input.sk-hidden--visually {border: 0;clip: rect(1px 1px 1px 1px);clip: rect(1px, 1px, 1px, 1px);height: 1px;margin: -1px;overflow: hidden;padding: 0;position: absolute;width: 1px;}#sk-container-id-1 div.sk-estimator {font-family: monospace;background-color: #f0f8ff;border: 1px dotted black;border-radius: 0.25em;box-sizing: border-box;margin-bottom: 0.5em;}#sk-container-id-1 div.sk-estimator:hover {background-color: #d4ebff;}#sk-container-id-1 div.sk-parallel-item::after {content: \"\";width: 100%;border-bottom: 1px solid gray;flex-grow: 1;}#sk-container-id-1 div.sk-label:hover label.sk-toggleable__label {background-color: #d4ebff;}#sk-container-id-1 div.sk-serial::before {content: \"\";position: absolute;border-left: 1px solid gray;box-sizing: border-box;top: 0;bottom: 0;left: 50%;z-index: 0;}#sk-container-id-1 div.sk-serial {display: flex;flex-direction: column;align-items: center;background-color: white;padding-right: 0.2em;padding-left: 0.2em;position: relative;}#sk-container-id-1 div.sk-item {position: relative;z-index: 1;}#sk-container-id-1 div.sk-parallel {display: flex;align-items: stretch;justify-content: center;background-color: white;position: relative;}#sk-container-id-1 div.sk-item::before, #sk-container-id-1 div.sk-parallel-item::before {content: \"\";position: absolute;border-left: 1px solid gray;box-sizing: border-box;top: 0;bottom: 0;left: 50%;z-index: -1;}#sk-container-id-1 div.sk-parallel-item {display: flex;flex-direction: column;z-index: 1;position: relative;background-color: white;}#sk-container-id-1 div.sk-parallel-item:first-child::after {align-self: flex-end;width: 50%;}#sk-container-id-1 div.sk-parallel-item:last-child::after {align-self: flex-start;width: 50%;}#sk-container-id-1 div.sk-parallel-item:only-child::after {width: 0;}#sk-container-id-1 div.sk-dashed-wrapped {border: 1px dashed gray;margin: 0 0.4em 0.5em 0.4em;box-sizing: border-box;padding-bottom: 0.4em;background-color: white;}#sk-container-id-1 div.sk-label label {font-family: monospace;font-weight: bold;display: inline-block;line-height: 1.2em;}#sk-container-id-1 div.sk-label-container {text-align: center;}#sk-container-id-1 div.sk-container {/* jupyter's `normalize.less` sets `[hidden] { display: none; }` but bootstrap.min.css set `[hidden] { display: none !important; }` so we also need the `!important` here to be able to override the default hidden behavior on the sphinx rendered scikit-learn.org. See: https://github.com/scikit-learn/scikit-learn/issues/21755 */display: inline-block !important;position: relative;}#sk-container-id-1 div.sk-text-repr-fallback {display: none;}</style><div id=\"sk-container-id-1\" class=\"sk-top-container\"><div class=\"sk-text-repr-fallback\"><pre>LogisticRegression()</pre><b>In a Jupyter environment, please rerun this cell to show the HTML representation or trust the notebook. <br />On GitHub, the HTML representation is unable to render, please try loading this page with nbviewer.org.</b></div><div class=\"sk-container\" hidden><div class=\"sk-item\"><div class=\"sk-estimator sk-toggleable\"><input class=\"sk-toggleable__control sk-hidden--visually\" id=\"sk-estimator-id-1\" type=\"checkbox\" checked><label for=\"sk-estimator-id-1\" class=\"sk-toggleable__label sk-toggleable__label-arrow\">LogisticRegression</label><div class=\"sk-toggleable__content\"><pre>LogisticRegression()</pre></div></div></div></div></div>"
      ],
      "text/plain": [
       "LogisticRegression()"
      ]
     },
     "execution_count": 32,
     "metadata": {},
     "output_type": "execute_result"
    }
   ],
   "source": [
    "model=LogisticRegression()9\\\n",
    "\n",
    "model.fit(X_train,y_train)"
   ]
  },
  {
   "cell_type": "code",
   "execution_count": 36,
   "metadata": {},
   "outputs": [
    {
     "data": {
      "image/png": "[encoded data removed]",
      "text/plain": [
       "<Figure size 640x480 with 2 Axes>"
      ]
     },
     "metadata": {},
     "output_type": "display_data"
    }
   ],
   "source": [
    "y_pred_train=model.predict(X_train)\n",
    " #compute confusion matrix\n",
    "cm=confusion_matrix(y_train,y_pred_train)\n",
    "\n",
    "\n",
    "#Display the confusion matrix\n",
    "\n",
    "disp=ConfusionMatrixDisplay(confusion_matrix=cm)\n",
    "disp.plot()\n",
    "plt.show()"
   ]
  },
  {
   "cell_type": "code",
   "execution_count": 37,
   "metadata": {},
   "outputs": [
    {
     "data": {
      "image/png": "[encoded data removed]",
      "text/plain": [
       "<Figure size 640x480 with 2 Axes>"
      ]
     },
     "metadata": {},
     "output_type": "display_data"
    }
   ],
   "source": [
    "y_pred_test=model.predict(X_test)\n",
    "\n",
    "#compute confusion matrix\n",
    "\n",
    "cm=confusion_matrix(y_test,y_pred_test)\n",
    "\n",
    "\n",
    "#Display the confusion matrix\n",
    "\n",
    "disp=ConfusionMatrixDisplay(confusion_matrix=cm)\n",
    "disp.plot()\n",
    "plt.show()"
   ]
  },
  {
   "cell_type": "code",
   "execution_count": 38,
   "metadata": {},
   "outputs": [
    {
     "data": {
      "text/plain": [
       "0.7806666666666666"
      ]
     },
     "execution_count": 38,
     "metadata": {},
     "output_type": "execute_result"
    }
   ],
   "source": [
    "# Training accuracy\n",
    "model.score(X_train,y_train)"
   ]
  },
  {
   "cell_type": "code",
   "execution_count": 39,
   "metadata": {},
   "outputs": [
    {
     "data": {
      "text/plain": [
       "0.792"
      ]
     },
     "execution_count": 39,
     "metadata": {},
     "output_type": "execute_result"
    }
   ],
   "source": [
    "# Testing accuracy\n",
    "model.score(X_test,y_test)"
   ]
  },
  {
   "cell_type": "code",
   "execution_count": 41,
   "metadata": {},
   "outputs": [
    {
     "name": "stdout",
     "output_type": "stream",
     "text": [
      "Training Accuracy: 0.7806666666666666\n",
      "Testing Accuracy: 0.792\n",
      "The model is underfitting.\n"
     ]
    }
   ],
   "source": [
    "# Model test\n",
    "\n",
    "train_accuracy = model.score(X_train, y_train)\n",
    "test_accuracy = model.score(X_test, y_test)\n",
    "\n",
    "print(\"Training Accuracy:\", train_accuracy)\n",
    "print(\"Testing Accuracy:\", test_accuracy)\n",
    "\n",
    "if train_accuracy > test_accuracy:\n",
    "    print(\"The model is overfitting.\")\n",
    "elif train_accuracy < test_accuracy:\n",
    "    print(\"The model is underfitting.\")\n",
    "else:\n",
    "    print(\"The model has a good fit.\")"
   ]
  },
  {
   "cell_type": "code",
   "execution_count": 42,
   "metadata": {},
   "outputs": [
    {
     "name": "stdout",
     "output_type": "stream",
     "text": [
      "Confusion Matrix \n",
      " [[289  40]\n",
      " [ 64 107]]\n",
      "*********************************************\n",
      "accuracy_score 0.792\n",
      "*********************************************\n",
      "Classification report : \n",
      "               precision    recall  f1-score   support\n",
      "\n",
      "           0       0.80      0.90      0.84       987\n",
      "           1       0.74      0.56      0.63       513\n",
      "\n",
      "    accuracy                           0.78      1500\n",
      "   macro avg       0.77      0.73      0.74      1500\n",
      "weighted avg       0.78      0.78      0.77      1500\n",
      "\n"
     ]
    }
   ],
   "source": [
    "y_pred=model.predict(X_test)\n",
    "# Testing data\n",
    "cnf_matrix=confusion_matrix(y_test,y_pred)\n",
    "print(\"Confusion Matrix \\n\",cnf_matrix)\n",
    "\n",
    "print(\"*\"*45)\n",
    "accuracy=accuracy_score(y_test,y_pred)\n",
    "print(\"accuracy_score\",accuracy)\n",
    "print(\"*\"*45)\n",
    "\n",
    "clf_report=classification_report(y_train,y_pred_train)\n",
    "print(\"Classification report : \\n\",clf_report)"
   ]
  },
  {
   "cell_type": "markdown",
   "metadata": {},
   "source": [
    "## **AUC and ROC curve**"
   ]
  },
  {
   "cell_type": "code",
   "execution_count": 43,
   "metadata": {},
   "outputs": [
    {
     "data": {
      "text/plain": [
       "array([1.99266397, 0.99266397, 0.98904942, 0.96938001, 0.95959338,\n",
       "       0.95955776, 0.95730793, 0.95580959, 0.95217079, 0.94726513,\n",
       "       0.94297584, 0.94039656, 0.93961459, 0.93075192, 0.9244216 ,\n",
       "       0.92426319, 0.91612349, 0.91477282, 0.90947577, 0.90910785,\n",
       "       0.90654934, 0.90644772, 0.90463251, 0.90159462, 0.89269398,\n",
       "       0.8922948 , 0.89224825, 0.88923099, 0.88842651, 0.88122871,\n",
       "       0.87942174, 0.87664454, 0.87488656, 0.87038558, 0.8575758 ,\n",
       "       0.85410128, 0.85381478, 0.85139328, 0.85016994, 0.84961132,\n",
       "       0.84779234, 0.84378307, 0.84083943, 0.83455927, 0.8281725 ,\n",
       "       0.82423263, 0.8240198 , 0.82213027, 0.81738579, 0.8139609 ,\n",
       "       0.81288537, 0.81194132, 0.81097171, 0.81005604, 0.80592016,\n",
       "       0.79427714, 0.79124305, 0.79123209, 0.78771166, 0.78597423,\n",
       "       0.78498574, 0.77533137, 0.77171127, 0.77036336, 0.76930592,\n",
       "       0.76827094, 0.76317625, 0.76189577, 0.76142182, 0.76055554,\n",
       "       0.75631089, 0.74857312, 0.7467188 , 0.7426508 , 0.7388534 ,\n",
       "       0.73109822, 0.72569776, 0.71848694, 0.71761726, 0.71401443,\n",
       "       0.7137295 , 0.71346263, 0.70523894, 0.7044554 , 0.70418641,\n",
       "       0.70399377, 0.7030627 , 0.70193806, 0.70191211, 0.70088769,\n",
       "       0.6983271 , 0.69528132, 0.6882048 , 0.68325571, 0.68289768,\n",
       "       0.68124685, 0.67602753, 0.67445309, 0.66916519, 0.66508935,\n",
       "       0.66027934, 0.66020897, 0.65547119, 0.65532977, 0.65517537,\n",
       "       0.65393097, 0.65046048, 0.64786675, 0.64781727, 0.64279806,\n",
       "       0.63850339, 0.63558858, 0.62460586, 0.61839873, 0.61040871,\n",
       "       0.60722154, 0.60379302, 0.60203872, 0.60108108, 0.60062447,\n",
       "       0.5966015 , 0.59603336, 0.59235793, 0.5880398 , 0.5875819 ,\n",
       "       0.58715659, 0.58561483, 0.5820523 , 0.57943139, 0.57400344,\n",
       "       0.573456  , 0.56863354, 0.56803376, 0.5671651 , 0.55740467,\n",
       "       0.54969639, 0.54655755, 0.54476433, 0.54382345, 0.54247852,\n",
       "       0.54203849, 0.54117649, 0.53915249, 0.53838351, 0.53576454,\n",
       "       0.53356863, 0.52666513, 0.52458011, 0.52378584, 0.52072564,\n",
       "       0.51683901, 0.51270367, 0.51129932, 0.51062512, 0.50901169,\n",
       "       0.5087637 , 0.50758367, 0.50542247, 0.50518224, 0.50476578,\n",
       "       0.49810628, 0.4979807 , 0.49099596, 0.48829585, 0.48748248,\n",
       "       0.48658979, 0.48631049, 0.47963712, 0.47242957, 0.46740673,\n",
       "       0.46614684, 0.46577335, 0.46104227, 0.45754236, 0.45523054,\n",
       "       0.45468553, 0.45463143, 0.45367522, 0.45331004, 0.45209806,\n",
       "       0.44702559, 0.44594849, 0.44280869, 0.44022409, 0.43910638,\n",
       "       0.43836664, 0.43778868, 0.4329148 , 0.42860278, 0.42773956,\n",
       "       0.42670384, 0.42398005, 0.42008824, 0.41931524, 0.41721323,\n",
       "       0.4170354 , 0.41653672, 0.41397602, 0.41278255, 0.41039227,\n",
       "       0.40524222, 0.40512172, 0.40492719, 0.40247549, 0.40214962,\n",
       "       0.40152657, 0.40033906, 0.4002928 , 0.39880686, 0.39719531,\n",
       "       0.39408097, 0.39323601, 0.39205848, 0.38784737, 0.38711883,\n",
       "       0.38668271, 0.38594284, 0.385507  , 0.38548573, 0.38440116,\n",
       "       0.38317813, 0.37746902, 0.37516505, 0.37486796, 0.37418281,\n",
       "       0.37364378, 0.37170986, 0.37159388, 0.36991304, 0.36814625,\n",
       "       0.36761105, 0.36629238, 0.3628337 , 0.36034773, 0.3556641 ,\n",
       "       0.35451397, 0.35418901, 0.35275175, 0.35225505, 0.35161743,\n",
       "       0.35152778, 0.35056443, 0.35011555, 0.3500515 , 0.34041726,\n",
       "       0.33973436, 0.33952221, 0.33725285, 0.33724947, 0.33711132,\n",
       "       0.3370829 , 0.33419892, 0.33234435, 0.32913766, 0.32674933,\n",
       "       0.32629827, 0.32476219, 0.3205085 , 0.31908281, 0.31833956,\n",
       "       0.31595889, 0.31368946, 0.31246199, 0.31202139, 0.31018017,\n",
       "       0.30986751, 0.30915767, 0.30476371, 0.30430182, 0.30392208,\n",
       "       0.30386393, 0.30302978, 0.30265081, 0.3021844 , 0.30160545,\n",
       "       0.30077463, 0.29810535, 0.29803342, 0.29671269, 0.29577979,\n",
       "       0.29558446, 0.29557729, 0.29546976, 0.2951795 , 0.29399195,\n",
       "       0.29337056, 0.29278944, 0.29274352, 0.28692017, 0.28581967,\n",
       "       0.28572078, 0.28505992, 0.28137435, 0.27974169, 0.27902853,\n",
       "       0.27829628, 0.27708328, 0.27682833, 0.27611356, 0.27522392,\n",
       "       0.27303284, 0.27009224, 0.26968691, 0.26907515, 0.26531337,\n",
       "       0.26502707, 0.26421648, 0.26289284, 0.26105204, 0.26084406,\n",
       "       0.26082908, 0.2598162 , 0.25826956, 0.25711517, 0.25584889,\n",
       "       0.2512932 , 0.25089451, 0.25073777, 0.24724431, 0.24720493,\n",
       "       0.24372949, 0.24369854, 0.24167002, 0.24008904, 0.23960678,\n",
       "       0.23885763, 0.2380776 , 0.23740738, 0.23703137, 0.23688483,\n",
       "       0.23562282, 0.23451697, 0.23374056, 0.23084179, 0.23043621,\n",
       "       0.22809571, 0.22693841, 0.22624593, 0.22207018, 0.22139724,\n",
       "       0.22133625, 0.2152896 , 0.213423  , 0.21266041, 0.21265677,\n",
       "       0.21258537, 0.20745264, 0.20389859, 0.2026002 , 0.2023614 ,\n",
       "       0.20102005, 0.20013008, 0.19742074, 0.19638888, 0.19536326,\n",
       "       0.19426406, 0.19391815, 0.19383152, 0.19141964, 0.19135956,\n",
       "       0.19028326, 0.18972832, 0.18952475, 0.18796149, 0.18659895,\n",
       "       0.18659221, 0.18446535, 0.18430329, 0.18214768, 0.18208861,\n",
       "       0.18055206, 0.17919311, 0.17837496, 0.1751702 , 0.17516458,\n",
       "       0.17343308, 0.17119349, 0.17039393, 0.16997205, 0.1692718 ,\n",
       "       0.16906774, 0.16751583, 0.16735111, 0.16731324, 0.16628265,\n",
       "       0.16578559, 0.16564114, 0.16561978, 0.16478175, 0.1638261 ,\n",
       "       0.16370599, 0.1628373 , 0.16124069, 0.15988104, 0.1590789 ,\n",
       "       0.15818192, 0.15813981, 0.15772818, 0.15647921, 0.15556233,\n",
       "       0.15534222, 0.15499348, 0.15320393, 0.15188185, 0.15163158,\n",
       "       0.15132635, 0.15085082, 0.15073443, 0.14736479, 0.14427377,\n",
       "       0.143159  , 0.14188695, 0.1397155 , 0.13960948, 0.13948182,\n",
       "       0.13917003, 0.13901798, 0.13847145, 0.1373625 , 0.13649356,\n",
       "       0.13617944, 0.13563593, 0.13486725, 0.13454629, 0.13446796,\n",
       "       0.13057987, 0.12976935, 0.12961139, 0.12960414, 0.12657036,\n",
       "       0.12571498, 0.12543359, 0.12528446, 0.12438173, 0.12384355,\n",
       "       0.12383928, 0.12358099, 0.12137932, 0.12103142, 0.11885742,\n",
       "       0.11877501, 0.11775738, 0.11758454, 0.11733512, 0.11687875,\n",
       "       0.11576863, 0.11515076, 0.11502724, 0.11389048, 0.11368398,\n",
       "       0.11236426, 0.11235482, 0.11076577, 0.11020953, 0.10972381,\n",
       "       0.10847121, 0.10624038, 0.10577166, 0.10558886, 0.10525063,\n",
       "       0.10483506, 0.10462204, 0.10461894, 0.10460318, 0.1043599 ,\n",
       "       0.10363898, 0.10063078, 0.09996085, 0.09898803, 0.09879582,\n",
       "       0.09873947, 0.09829917, 0.09659797, 0.09612465, 0.09581926,\n",
       "       0.09576183, 0.09478531, 0.09434501, 0.09217548, 0.09080077,\n",
       "       0.08984592, 0.08919383, 0.08861932, 0.08817262, 0.08788209,\n",
       "       0.08765865, 0.08686621, 0.08679678, 0.08648106, 0.08609983,\n",
       "       0.08500477, 0.08389448, 0.08344219, 0.08297936, 0.08280495,\n",
       "       0.08197829, 0.08161008, 0.07968523, 0.07896099, 0.0786675 ,\n",
       "       0.07842083, 0.07842082, 0.07769451, 0.07626786, 0.0751822 ,\n",
       "       0.07493251, 0.07189028, 0.06986735, 0.06981352, 0.06954422,\n",
       "       0.0662554 , 0.06552064, 0.06518875, 0.06399883, 0.06317057,\n",
       "       0.05999194, 0.05825278, 0.05822599, 0.0565864 , 0.05612392,\n",
       "       0.05562402, 0.05494957, 0.05437985, 0.0543198 , 0.05260025,\n",
       "       0.05192748, 0.05064914, 0.04959332, 0.04846886, 0.04845604,\n",
       "       0.04821274, 0.04728041, 0.04477232, 0.04442495, 0.04146612,\n",
       "       0.03982092, 0.03894771, 0.03863743, 0.03682744, 0.03671746,\n",
       "       0.035336  , 0.03488417, 0.03305831, 0.03178469, 0.03114062,\n",
       "       0.02881585, 0.02825655, 0.02601584, 0.02574966, 0.02425745,\n",
       "       0.02403411, 0.02062042, 0.02042062, 0.01763465, 0.01712471,\n",
       "       0.01400725, 0.01317119, 0.01184048, 0.00927005, 0.00224026,\n",
       "       0.00214548])"
      ]
     },
     "execution_count": 43,
     "metadata": {},
     "output_type": "execute_result"
    }
   ],
   "source": [
    "y_pred_proba=model.predict_proba(X_train)\n",
    "y_pred_proba[:,1]\n",
    "\n",
    "fpr,tpr,thresh=roc_curve(y_train,y_pred_proba[:,1])\n",
    "thresh"
   ]
  },
  {
   "cell_type": "code",
   "execution_count": 46,
   "metadata": {},
   "outputs": [
    {
     "data": {
      "image/png": "[encoded data removed]",
      "text/plain": [
       "<Figure size 640x480 with 1 Axes>"
      ]
     },
     "metadata": {},
     "output_type": "display_data"
    }
   ],
   "source": [
    "plt.plot(fpr,tpr)\n",
    "plt.xlabel(\"False Positive Rate -->\")\n",
    "plt.ylabel(\"True Positive Rate -->\")\n",
    "plt.title(\"Receive Operating Characterists\")\n",
    "plt.show()\n"
   ]
  },
  {
   "cell_type": "code",
   "execution_count": 47,
   "metadata": {},
   "outputs": [
    {
     "data": {
      "text/plain": [
       "0.8366523084701509"
      ]
     },
     "execution_count": 47,
     "metadata": {},
     "output_type": "execute_result"
    }
   ],
   "source": [
    "# 1st way\n",
    "auc_value=roc_auc_score(y_train,y_pred_proba[:,1])\n",
    "auc_value"
   ]
  },
  {
   "cell_type": "code",
   "execution_count": 49,
   "metadata": {},
   "outputs": [
    {
     "data": {
      "text/plain": [
       "0.8366523084701509"
      ]
     },
     "execution_count": 49,
     "metadata": {},
     "output_type": "execute_result"
    }
   ],
   "source": [
    "# 2nd way\n",
    "auc_value=auc(fpr,tpr)\n",
    "auc_value"
   ]
  },
  {
   "cell_type": "code",
   "execution_count": null,
   "metadata": {},
   "outputs": [],
   "source": []
  }
 ],
 "metadata": {
  "kernelspec": {
   "display_name": "base",
   "language": "python",
   "name": "python3"
  },
  "language_info": {
   "codemirror_mode": {
    "name": "ipython",
    "version": 3
   },
   "file_extension": ".py",
   "mimetype": "text/x-python",
   "name": "python",
   "nbconvert_exporter": "python",
   "pygments_lexer": "ipython3",
   "version": "3.11.5"
  }
 },
 "nbformat": 4,
 "nbformat_minor": 2
}
