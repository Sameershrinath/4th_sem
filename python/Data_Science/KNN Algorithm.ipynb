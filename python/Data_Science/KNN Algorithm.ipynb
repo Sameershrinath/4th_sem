{
 "cells": [
  {
   "cell_type": "markdown",
   "id": "160cafad",
   "metadata": {},
   "source": [
    "# K- Nearest Neighbour"
   ]
  },
  {
   "cell_type": "code",
   "execution_count": null,
   "id": "47921c98",
   "metadata": {},
   "outputs": [],
   "source": [
    "It is supervised Machine Learning Algorithm which can be used for both classification and regression.\n",
    "\n",
    "KNN is distance based algorithm.\n",
    "\n",
    "Distance:\n",
    "    1. Euclidean Distance (P=2) --> Bydefault\n",
    "    2. Manhattan Distance (P=1)\n",
    "    \n",
    "KNN is non parametric algorithm\n",
    "non parametric >> No assumptions on distribution of data"
   ]
  },
  {
   "cell_type": "markdown",
   "id": "0dfa1f5c",
   "metadata": {},
   "source": [
    "# KNN Algorithm Steps"
   ]
  },
  {
   "cell_type": "code",
   "execution_count": null,
   "id": "5482a1b4",
   "metadata": {},
   "outputs": [],
   "source": [
    "1. Select the value of K = nearest Neighbour\n",
    "2. Calculate distance with all training data point\n",
    "3. Sort the distance in ascending order\n",
    "4. Pick the 1st K entries from sorted collection\n",
    "5. Classification: Voting Classifire --> Majority of KNN from the training pts is considered \n",
    "                                            as predicted class for testing data pt.\n",
    "    \n",
    "    Regression: Take mean of corresponding actual values which are sorted with respect to first k entries"
   ]
  },
  {
   "cell_type": "markdown",
   "id": "af826b92",
   "metadata": {},
   "source": [
    "# Feature Scaling"
   ]
  },
  {
   "cell_type": "raw",
   "id": "adafef38-aa38-4b88-b972-240f8384e159",
   "metadata": {},
   "source": [
    "Feature scaling is essential in Machine Learning (ML) because models perform better\n",
    "when all features are on a similar scale. \n",
    "It ensures that no particular feature dominates the learning process due to differences in magnitude.\n"
   ]
  },
  {
   "cell_type": "raw",
   "id": "b7493155-8e1f-4fb4-ac04-ef5b603c0bac",
   "metadata": {},
   "source": [
    "Key Reasons for Feature Scaling:\n",
    "1. Improves Model Performance:\n",
    "Without scaling, features with larger values dominate updates, slowing learning.\n",
    "\n",
    "2. Prevents Bias Due to Magnitude Differences:\n",
    "Example: If we have height (in cm) and income (in dollars), the income values will be much higher in magnitude and dominate the training process.\n",
    "\n",
    "3.Required for Distance-Based Algorithms:\n",
    "Algorithms like K-Nearest Neighbors (KNN), Support Vector Machines (SVM), and K-Means rely on Euclidean distance.\n",
    "Scaling ensures fair distance calculations. \n",
    "\n",
    "4. Enhances Interpretability & Comparability:\n",
    "Standardized features make it easier to compare feature importance in models like Linear Regression & Neural Networks."
   ]
  },
  {
   "cell_type": "code",
   "execution_count": null,
   "id": "eddd793f",
   "metadata": {},
   "outputs": [],
   "source": [
    "1. Normalization --> MinMaxScalar\n",
    "2. Standardization --> StandardScalar "
   ]
  },
  {
   "cell_type": "code",
   "execution_count": null,
   "id": "9b5eae51",
   "metadata": {},
   "outputs": [],
   "source": [
    "Distance Based Algorithm (Scaling required):\n",
    "    1. KNN\n",
    "    2. K-Mean Clustering\n",
    "    3. PCA   #principal component Ananlysis\n",
    "    4. SVM   # Support Vector Machine\n",
    "    \n",
    "Gradient Descent Based Algorithm (Scaling is optional):\n",
    "    1. Linear Regression\n",
    "    2. Logistic Regression\n",
    "    3. Lasso Regression (L1)  --> lambda * |m|\n",
    "    4. Ridge Regression (L2)  --> lambda * m^2\n",
    "    5. Neural Network\n",
    "    \n",
    "Tree Based Algorithm (Scaling is Not required):\n",
    "    1. Decision Tree\n",
    "    2. Random Forest\n",
    "    3. Adaboost                                                \n",
    "    4. Gradient Boost\n",
    "    5. XGBoost"
   ]
  },
  {
   "cell_type": "markdown",
   "id": "12a86771",
   "metadata": {},
   "source": [
    "# 1. Normalization"
   ]
  },
  {
   "cell_type": "code",
   "execution_count": null,
   "id": "b180e6c9",
   "metadata": {},
   "outputs": [],
   "source": [
    "It uses minimum and maximum value of particular column.\n",
    "\n",
    "Formulae:\n",
    "    Xnew = (Xi - Xmin)/(Xmax - Xmin)\n",
    "    \n",
    "Range --> 0 to 1\n",
    "\n",
    "Sensitive to the outlier\n",
    "\n",
    "When to use:\n",
    "    When data is not normally distributed"
   ]
  },
  {
   "cell_type": "markdown",
   "id": "355d41e0",
   "metadata": {},
   "source": [
    "# 2. Standardization"
   ]
  },
  {
   "cell_type": "code",
   "execution_count": null,
   "id": "41815d49",
   "metadata": {},
   "outputs": [],
   "source": [
    "z_score --> Standardization\n",
    "\n",
    "Formulae:\n",
    "    Xnew = (Xi - Xmean)/std\n",
    "    \n",
    "Ideal range : -inf to +inf\n",
    "Actual value : -3 to +3\n",
    "    \n",
    "Less Sensetive to the outlier\n",
    "\n",
    "When to use:\n",
    "    When data is normally distributed "
   ]
  },
  {
   "cell_type": "code",
   "execution_count": 1,
   "id": "34387133",
   "metadata": {},
   "outputs": [],
   "source": [
    "import numpy as np\n",
    "import pandas as pd"
   ]
  },
  {
   "cell_type": "code",
   "execution_count": 2,
   "id": "41b2cdac",
   "metadata": {},
   "outputs": [
    {
     "data": {
      "text/plain": [
       "array([20, 25, 24, 29, 35, 45, 24, 25, 26])"
      ]
     },
     "execution_count": 2,
     "metadata": {},
     "output_type": "execute_result"
    }
   ],
   "source": [
    "array = np.array([20,25,24,29,35,45,24,25,26])\n",
    "array"
   ]
  },
  {
   "cell_type": "code",
   "execution_count": 3,
   "id": "e4daa49e",
   "metadata": {},
   "outputs": [
    {
     "data": {
      "text/plain": [
       "28.11111111111111"
      ]
     },
     "execution_count": 3,
     "metadata": {},
     "output_type": "execute_result"
    }
   ],
   "source": [
    "mean = np.mean(array)\n",
    "mean"
   ]
  },
  {
   "cell_type": "code",
   "execution_count": 4,
   "id": "1570e445",
   "metadata": {},
   "outputs": [
    {
     "data": {
      "text/plain": [
       "7.124986463058399"
      ]
     },
     "execution_count": 4,
     "metadata": {},
     "output_type": "execute_result"
    }
   ],
   "source": [
    "std = np.std(array)\n",
    "std"
   ]
  },
  {
   "cell_type": "code",
   "execution_count": 5,
   "id": "7b96a514",
   "metadata": {},
   "outputs": [
    {
     "data": {
      "text/plain": [
       "-1.1384037223320447"
      ]
     },
     "execution_count": 5,
     "metadata": {},
     "output_type": "execute_result"
    }
   ],
   "source": [
    "x_20 = (20 - mean)/std\n",
    "x_20"
   ]
  },
  {
   "cell_type": "code",
   "execution_count": 6,
   "id": "6a2f4140",
   "metadata": {},
   "outputs": [
    {
     "data": {
      "text/plain": [
       "-0.43664800308626367"
      ]
     },
     "execution_count": 6,
     "metadata": {},
     "output_type": "execute_result"
    }
   ],
   "source": [
    "x_25 = (25 - mean)/std\n",
    "x_25"
   ]
  },
  {
   "cell_type": "code",
   "execution_count": 7,
   "id": "84380502",
   "metadata": {},
   "outputs": [
    {
     "name": "stdout",
     "output_type": "stream",
     "text": [
      "20 --> -1.1384037223320447\n",
      "25 --> -0.43664800308626367\n",
      "24 --> -0.5769991469354199\n",
      "29 --> 0.12475657231036111\n",
      "35 --> 0.9668634354052983\n",
      "45 --> 2.37037487389686\n",
      "24 --> -0.5769991469354199\n",
      "25 --> -0.43664800308626367\n",
      "26 --> -0.29629685923710747\n"
     ]
    }
   ],
   "source": [
    "for i in array:\n",
    "    X_i = (i - mean)/std\n",
    "    print(f\"{i} -->\", X_i)"
   ]
  },
  {
   "cell_type": "code",
   "execution_count": null,
   "id": "7713db06",
   "metadata": {},
   "outputs": [],
   "source": []
  },
  {
   "cell_type": "code",
   "execution_count": 16,
   "id": "0b3e8f59",
   "metadata": {},
   "outputs": [
    {
     "data": {
      "text/plain": [
       "array([    20,     25,     24,     29,     35,     45,     24,     25,\n",
       "       200000])"
      ]
     },
     "execution_count": 16,
     "metadata": {},
     "output_type": "execute_result"
    }
   ],
   "source": [
    "array = np.array([20,25,24,29,35,45,24,25,200000])\n",
    "array"
   ]
  },
  {
   "cell_type": "code",
   "execution_count": 17,
   "id": "6a6c79d6",
   "metadata": {},
   "outputs": [
    {
     "data": {
      "text/plain": [
       "22247.444444444445"
      ]
     },
     "execution_count": 17,
     "metadata": {},
     "output_type": "execute_result"
    }
   ],
   "source": [
    "mean = np.mean(array)\n",
    "mean"
   ]
  },
  {
   "cell_type": "code",
   "execution_count": 18,
   "id": "b91bd820",
   "metadata": {},
   "outputs": [
    {
     "data": {
      "text/plain": [
       "62845.01910274744"
      ]
     },
     "execution_count": 18,
     "metadata": {},
     "output_type": "execute_result"
    }
   ],
   "source": [
    "std = np.std(array)\n",
    "std"
   ]
  },
  {
   "cell_type": "code",
   "execution_count": 19,
   "id": "55d71ebd",
   "metadata": {},
   "outputs": [
    {
     "name": "stdout",
     "output_type": "stream",
     "text": [
      "20 --> -0.35368665268609506\n",
      "25 --> -0.35360709188602873\n",
      "24 --> -0.35362300404604197\n",
      "29 --> -0.35354344324597564\n",
      "35 --> -0.35344797028589603\n",
      "45 --> -0.3532888486857633\n",
      "24 --> -0.35362300404604197\n",
      "25 --> -0.35360709188602873\n",
      "200000 --> 2.8284271067678715\n"
     ]
    }
   ],
   "source": [
    "for i in array:\n",
    "    X_i = (i - mean)/std\n",
    "    print(f\"{i} -->\", X_i)"
   ]
  }
 ],
 "metadata": {
  "kernelspec": {
   "display_name": "Python 3 (ipykernel)",
   "language": "python",
   "name": "python3"
  },
  "language_info": {
   "codemirror_mode": {
    "name": "ipython",
    "version": 3
   },
   "file_extension": ".py",
   "mimetype": "text/x-python",
   "name": "python",
   "nbconvert_exporter": "python",
   "pygments_lexer": "ipython3",
   "version": "3.12.7"
  }
 },
 "nbformat": 4,
 "nbformat_minor": 5
}
