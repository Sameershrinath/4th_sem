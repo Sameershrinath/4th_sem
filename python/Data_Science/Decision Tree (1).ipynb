{
 "cells": [
  {
   "cell_type": "markdown",
   "id": "ac2a3b9d",
   "metadata": {},
   "source": [
    "# Decision Tree Algorithm"
   ]
  },
  {
   "cell_type": "code",
   "execution_count": null,
   "id": "3c3a9397",
   "metadata": {},
   "outputs": [],
   "source": [
    "It is supervised machine learning algorithm which is used \n",
    "to predict categorical as well as continuous data.\n",
    "\n",
    "It is used for classification as well as regression.\n",
    "\n",
    "It is non parametric algorithm."
   ]
  },
  {
   "cell_type": "code",
   "execution_count": null,
   "id": "b02b6d93",
   "metadata": {},
   "outputs": [],
   "source": [
    "Root Node >> Decision Node\n",
    "Branch Node  >> Decison Node\n",
    "Leaf Node  >> Terminal Node"
   ]
  },
  {
   "cell_type": "markdown",
   "id": "2f6509d5",
   "metadata": {},
   "source": [
    "# Attribute Selection Measures"
   ]
  },
  {
   "cell_type": "code",
   "execution_count": null,
   "id": "2565e305",
   "metadata": {},
   "outputs": [],
   "source": [
    "Attribute selection measures --> Crieteria to decide decision node.(Root/Branch)\n",
    "\n",
    "1. Entropy\n",
    "2. Gini Index\n",
    "\n",
    "Algorithm\n",
    "1. ID3 --> Iterative Dichotomiser 3 >> uses Entropy --> Information Gain (High) selected as Decision Node\n",
    "2. CART --> Classification and Regression Tree --> uses Gini Index (Low) selected as Decision Node\n",
    "3. c4.5 --> Information Gain and Ginin Index (this is not in sklearn)"
   ]
  },
  {
   "cell_type": "code",
   "execution_count": 1,
   "id": "d59f2dcb",
   "metadata": {},
   "outputs": [
    {
     "data": {
      "text/html": [
       "<style>#sk-container-id-1 {color: black;background-color: white;}#sk-container-id-1 pre{padding: 0;}#sk-container-id-1 div.sk-toggleable {background-color: white;}#sk-container-id-1 label.sk-toggleable__label {cursor: pointer;display: block;width: 100%;margin-bottom: 0;padding: 0.3em;box-sizing: border-box;text-align: center;}#sk-container-id-1 label.sk-toggleable__label-arrow:before {content: \"▸\";float: left;margin-right: 0.25em;color: #696969;}#sk-container-id-1 label.sk-toggleable__label-arrow:hover:before {color: black;}#sk-container-id-1 div.sk-estimator:hover label.sk-toggleable__label-arrow:before {color: black;}#sk-container-id-1 div.sk-toggleable__content {max-height: 0;max-width: 0;overflow: hidden;text-align: left;background-color: #f0f8ff;}#sk-container-id-1 div.sk-toggleable__content pre {margin: 0.2em;color: black;border-radius: 0.25em;background-color: #f0f8ff;}#sk-container-id-1 input.sk-toggleable__control:checked~div.sk-toggleable__content {max-height: 200px;max-width: 100%;overflow: auto;}#sk-container-id-1 input.sk-toggleable__control:checked~label.sk-toggleable__label-arrow:before {content: \"▾\";}#sk-container-id-1 div.sk-estimator input.sk-toggleable__control:checked~label.sk-toggleable__label {background-color: #d4ebff;}#sk-container-id-1 div.sk-label input.sk-toggleable__control:checked~label.sk-toggleable__label {background-color: #d4ebff;}#sk-container-id-1 input.sk-hidden--visually {border: 0;clip: rect(1px 1px 1px 1px);clip: rect(1px, 1px, 1px, 1px);height: 1px;margin: -1px;overflow: hidden;padding: 0;position: absolute;width: 1px;}#sk-container-id-1 div.sk-estimator {font-family: monospace;background-color: #f0f8ff;border: 1px dotted black;border-radius: 0.25em;box-sizing: border-box;margin-bottom: 0.5em;}#sk-container-id-1 div.sk-estimator:hover {background-color: #d4ebff;}#sk-container-id-1 div.sk-parallel-item::after {content: \"\";width: 100%;border-bottom: 1px solid gray;flex-grow: 1;}#sk-container-id-1 div.sk-label:hover label.sk-toggleable__label {background-color: #d4ebff;}#sk-container-id-1 div.sk-serial::before {content: \"\";position: absolute;border-left: 1px solid gray;box-sizing: border-box;top: 0;bottom: 0;left: 50%;z-index: 0;}#sk-container-id-1 div.sk-serial {display: flex;flex-direction: column;align-items: center;background-color: white;padding-right: 0.2em;padding-left: 0.2em;position: relative;}#sk-container-id-1 div.sk-item {position: relative;z-index: 1;}#sk-container-id-1 div.sk-parallel {display: flex;align-items: stretch;justify-content: center;background-color: white;position: relative;}#sk-container-id-1 div.sk-item::before, #sk-container-id-1 div.sk-parallel-item::before {content: \"\";position: absolute;border-left: 1px solid gray;box-sizing: border-box;top: 0;bottom: 0;left: 50%;z-index: -1;}#sk-container-id-1 div.sk-parallel-item {display: flex;flex-direction: column;z-index: 1;position: relative;background-color: white;}#sk-container-id-1 div.sk-parallel-item:first-child::after {align-self: flex-end;width: 50%;}#sk-container-id-1 div.sk-parallel-item:last-child::after {align-self: flex-start;width: 50%;}#sk-container-id-1 div.sk-parallel-item:only-child::after {width: 0;}#sk-container-id-1 div.sk-dashed-wrapped {border: 1px dashed gray;margin: 0 0.4em 0.5em 0.4em;box-sizing: border-box;padding-bottom: 0.4em;background-color: white;}#sk-container-id-1 div.sk-label label {font-family: monospace;font-weight: bold;display: inline-block;line-height: 1.2em;}#sk-container-id-1 div.sk-label-container {text-align: center;}#sk-container-id-1 div.sk-container {/* jupyter's `normalize.less` sets `[hidden] { display: none; }` but bootstrap.min.css set `[hidden] { display: none !important; }` so we also need the `!important` here to be able to override the default hidden behavior on the sphinx rendered scikit-learn.org. See: https://github.com/scikit-learn/scikit-learn/issues/21755 */display: inline-block !important;position: relative;}#sk-container-id-1 div.sk-text-repr-fallback {display: none;}</style><div id=\"sk-container-id-1\" class=\"sk-top-container\"><div class=\"sk-text-repr-fallback\"><pre>DecisionTreeClassifier()</pre><b>In a Jupyter environment, please rerun this cell to show the HTML representation or trust the notebook. <br />On GitHub, the HTML representation is unable to render, please try loading this page with nbviewer.org.</b></div><div class=\"sk-container\" hidden><div class=\"sk-item\"><div class=\"sk-estimator sk-toggleable\"><input class=\"sk-toggleable__control sk-hidden--visually\" id=\"sk-estimator-id-1\" type=\"checkbox\" checked><label for=\"sk-estimator-id-1\" class=\"sk-toggleable__label sk-toggleable__label-arrow\">DecisionTreeClassifier</label><div class=\"sk-toggleable__content\"><pre>DecisionTreeClassifier()</pre></div></div></div></div></div>"
      ],
      "text/plain": [
       "DecisionTreeClassifier()"
      ]
     },
     "execution_count": 1,
     "metadata": {},
     "output_type": "execute_result"
    }
   ],
   "source": [
    "from sklearn.tree import DecisionTreeClassifier\n",
    "\n",
    "DecisionTreeClassifier()\n",
    "\n",
    "# criterion{“gini”, “entropy”} --> default = 'gini'"
   ]
  },
  {
   "cell_type": "markdown",
   "id": "309c7b56",
   "metadata": {},
   "source": [
    "# 1. Entropy"
   ]
  },
  {
   "cell_type": "raw",
   "id": "ad8e89c4-38cc-431e-8ef9-dbaf1cd81dca",
   "metadata": {},
   "source": [
    "It is the measure of impurity of node.\n",
    "It findes node is impure/pure.\n",
    "Entropy is a measure of disorder or randomness in a dataset. \n",
    "A dataset with high entropy has more randomness, while a dataset with low entropy is more ordered. \n",
    "In the context of decision trees, if less entropy then more knowledge  and if more entropy then less knowledge. \n",
    "\n",
    "Entropy(S):\n",
    "    E(S) = -[P(Y) * log2(P(Y)) + P(N) * log2(P(N))]"
   ]
  },
  {
   "cell_type": "raw",
   "id": "27ecc0b3-13b5-4f10-b5e8-cec2e771a965",
   "metadata": {},
   "source": [
    "Information Gain: (High --> select decision node)\n",
    "    IG(S) = Overall E(S) - sum[Weighted Avg. * Entropy of each value]\n",
    "    \n",
    "    Weighted Avg. = No. os samples of particulars / Total No. of samples"
   ]
  },
  {
   "cell_type": "code",
   "execution_count": 1,
   "id": "1ee0932e",
   "metadata": {},
   "outputs": [],
   "source": [
    "import numpy as np"
   ]
  },
  {
   "cell_type": "code",
   "execution_count": 2,
   "id": "7fca79a5",
   "metadata": {},
   "outputs": [
    {
     "data": {
      "text/plain": [
       "0.0"
      ]
     },
     "execution_count": 2,
     "metadata": {},
     "output_type": "execute_result"
    }
   ],
   "source": [
    "np.log2(1)"
   ]
  },
  {
   "cell_type": "code",
   "execution_count": 3,
   "id": "93f966d7",
   "metadata": {},
   "outputs": [
    {
     "data": {
      "text/plain": [
       "-0.5"
      ]
     },
     "execution_count": 3,
     "metadata": {},
     "output_type": "execute_result"
    }
   ],
   "source": [
    "0.5 * np.log2(0.5)"
   ]
  },
  {
   "cell_type": "code",
   "execution_count": 4,
   "id": "49d6976a",
   "metadata": {},
   "outputs": [
    {
     "data": {
      "text/plain": [
       "1.0"
      ]
     },
     "execution_count": 4,
     "metadata": {},
     "output_type": "execute_result"
    }
   ],
   "source": [
    "-((0.5 * np.log2(0.5)) + (0.5 * np.log2(0.5)))"
   ]
  },
  {
   "cell_type": "code",
   "execution_count": 5,
   "id": "a8b94b2b",
   "metadata": {},
   "outputs": [
    {
     "data": {
      "text/plain": [
       "0.8812908992306927"
      ]
     },
     "execution_count": 5,
     "metadata": {},
     "output_type": "execute_result"
    }
   ],
   "source": [
    "-((0.7 * np.log2(0.7)) + (0.3 * np.log2(0.3)))"
   ]
  },
  {
   "cell_type": "code",
   "execution_count": 6,
   "id": "acfd24fd",
   "metadata": {},
   "outputs": [
    {
     "data": {
      "text/plain": [
       "0.3523245327928188"
      ]
     },
     "execution_count": 6,
     "metadata": {},
     "output_type": "execute_result"
    }
   ],
   "source": [
    "-((0.9999 * np.log2(0.9999)) + (0.1111 * np.log2(0.11111)))"
   ]
  },
  {
   "cell_type": "markdown",
   "id": "7226506b",
   "metadata": {},
   "source": [
    "# Outlook"
   ]
  },
  {
   "cell_type": "code",
   "execution_count": null,
   "id": "7fda9804",
   "metadata": {},
   "outputs": [],
   "source": [
    "\n",
    "outlook  >> 9Y & 5N  >> 14\n",
    "overcast >> 4Y & 0N  >> 4\n",
    "rainy    >> 3Y & 2N  >> 5\n",
    "sunny    >> 2Y & 3N  >> 5\n",
    "\n",
    "Total Number of Samples = 14\n",
    "\n",
    "E(outlook == overcast) = 0\n",
    "E(outlook == rainy) = 0.9709\n",
    "E(outlook == sunny) = 0.9709\n",
    "\n",
    "# Overall Entropy\n",
    "E(S) = -(((9/14) * np.log2(9/14)) + ((5/14) * np.log2(5/14)))\n",
    "E(S) = 0.9403\n",
    "\n",
    "# Information Gain\n",
    "IG(S) = Overall E(S) - sum[Weighted Avg. * Entropy of each value]   \n",
    "# Weighted Entropy =   sum[Weighted Avg. * Entropy of each value]\n",
    "\n",
    "IG_Outlook = 0.9403 - [(4/14) * 0 + (5/14) * 0.9709 + (5/14) * 0.9709]\n",
    "IG_Outlook = 0.2468"
   ]
  },
  {
   "cell_type": "markdown",
   "id": "5d7e4d6a-b71f-4c9a-acb6-4c87f968d115",
   "metadata": {},
   "source": [
    "## step1 Entropy of Parent"
   ]
  },
  {
   "cell_type": "code",
   "execution_count": 7,
   "id": "b3b4fc3d-5a8c-4dec-9fea-40531a25e84b",
   "metadata": {},
   "outputs": [
    {
     "data": {
      "text/plain": [
       "0.9402859586706311"
      ]
     },
     "execution_count": 7,
     "metadata": {},
     "output_type": "execute_result"
    }
   ],
   "source": [
    "# Overall Entropy\n",
    "import numpy as np\n",
    "E = -(((9/14) * np.log2(9/14)) + ((5/14) * np.log2(5/14)))\n",
    "E"
   ]
  },
  {
   "cell_type": "markdown",
   "id": "6caa6a7d-5e86-4685-bbfb-1e2e2d67bd5b",
   "metadata": {},
   "source": [
    "## step2. Calculate Entropy for children"
   ]
  },
  {
   "cell_type": "code",
   "execution_count": 8,
   "id": "8549e447",
   "metadata": {},
   "outputs": [
    {
     "data": {
      "text/plain": [
       "0.9709505944546686"
      ]
     },
     "execution_count": 8,
     "metadata": {},
     "output_type": "execute_result"
    }
   ],
   "source": [
    "# entropy for sunny\n",
    "E_S = -(((2/5) * np.log2(2/5)) + ((3/5) * np.log2(3/5)))\n",
    "E_S"
   ]
  },
  {
   "cell_type": "code",
   "execution_count": 9,
   "id": "13cb9ba7",
   "metadata": {},
   "outputs": [
    {
     "name": "stderr",
     "output_type": "stream",
     "text": [
      "C:\\Users\\Samee\\AppData\\Local\\Temp\\ipykernel_11644\\4153041835.py:2: RuntimeWarning: divide by zero encountered in log2\n",
      "  E_O = -(((4/4) * np.log2(4/4)) + ((0/4) * np.log2(0/4)))\n",
      "C:\\Users\\Samee\\AppData\\Local\\Temp\\ipykernel_11644\\4153041835.py:2: RuntimeWarning: invalid value encountered in scalar multiply\n",
      "  E_O = -(((4/4) * np.log2(4/4)) + ((0/4) * np.log2(0/4)))\n"
     ]
    },
    {
     "data": {
      "text/plain": [
       "nan"
      ]
     },
     "execution_count": 9,
     "metadata": {},
     "output_type": "execute_result"
    }
   ],
   "source": [
    "# entropy for overcast\n",
    "E_O = -(((4/4) * np.log2(4/4)) + ((0/4) * np.log2(0/4)))\n",
    "E_O # P(overcast) is a leafnode as its entropy is 0 after leafnode we dont split anymore"
   ]
  },
  {
   "cell_type": "code",
   "execution_count": 10,
   "id": "a52e4618-8a3a-45d8-917d-303adc10f4ba",
   "metadata": {},
   "outputs": [
    {
     "data": {
      "text/plain": [
       "0.9709505944546686"
      ]
     },
     "execution_count": 10,
     "metadata": {},
     "output_type": "execute_result"
    }
   ],
   "source": [
    "# entropy for rainy\n",
    "E_R = -(((3/5) * np.log2(3/5)) + ((2/5) * np.log2(2/5)))\n",
    "E_R"
   ]
  },
  {
   "cell_type": "markdown",
   "id": "d4040e94-d9e6-4ca1-98ae-8dec4077f2dd",
   "metadata": {},
   "source": [
    "## step3 calculate children entropy of children"
   ]
  },
  {
   "cell_type": "code",
   "execution_count": 11,
   "id": "ab009073-9478-4012-bd55-b06a3fe78658",
   "metadata": {},
   "outputs": [
    {
     "data": {
      "text/plain": [
       "0.6935"
      ]
     },
     "execution_count": 11,
     "metadata": {},
     "output_type": "execute_result"
    }
   ],
   "source": [
    "# weighted entropy= sum[Weighted Avg. * Entropy of each value]\n",
    "WE_C=   (5/14) * 0.9709 + (4/14) * 0 + (5/14) * 0.9709\n",
    "WE_C"
   ]
  },
  {
   "cell_type": "markdown",
   "id": "ba2071aa-14da-4e6d-8526-dc341eea5762",
   "metadata": {},
   "source": [
    "## step4 calculate Information gain"
   ]
  },
  {
   "cell_type": "code",
   "execution_count": 12,
   "id": "73367192",
   "metadata": {},
   "outputs": [
    {
     "data": {
      "text/plain": [
       "0.24680000000000002"
      ]
     },
     "execution_count": 12,
     "metadata": {},
     "output_type": "execute_result"
    }
   ],
   "source": [
    "# IG(S) = Overall E(S) - sum[Weighted Avg. * Entropy of each value] \n",
    "\n",
    "IG_Outlook = 0.9403 - (((4/14) * 0) + ((5/14) * 0.9709) + ((5/14) * 0.9709))\n",
    "IG_Outlook"
   ]
  },
  {
   "cell_type": "markdown",
   "id": "624480cb-78c3-4be5-807f-8fc7240de8d5",
   "metadata": {},
   "source": [
    "## step4 calculate information gain for all column"
   ]
  },
  {
   "cell_type": "markdown",
   "id": "5f02369a",
   "metadata": {},
   "source": [
    "# 2. Temerature"
   ]
  },
  {
   "cell_type": "code",
   "execution_count": null,
   "id": "8912004b",
   "metadata": {},
   "outputs": [],
   "source": [
    "Temp  >> 9Y & 5N\n",
    "hot   >> 2Y & 2N  --> Highly Impure\n",
    "mild  >> 4Y & 2N\n",
    "cool  >> 3Y & 1N\n",
    "\n",
    "\n",
    "Total Number of Samples = 14\n",
    "\n",
    "E(Temperature == hot) = 1\n",
    "E(Temperature == mild) = 0.9183\n",
    "E(Temperature == cool) = 0.8113\n",
    "\n",
    "# Overall Entropy\n",
    "E(S) = -(((9/14) * np.log2(9/14)) + ((5/14) * np.log2(5/14)))\n",
    "E(S) = 0.9403\n",
    "\n",
    "# Information Gain\n",
    "IG(S) = Overall E(S) - sum[Weighted Avg. * Entropy of each value]\n",
    "\n",
    "IG_Temperatue = 0.9403 - [(4/14) * 1 + (6/14) * 0.9183 + (4/14) * 0.8113]\n",
    "IG_Temperatue = 0.0292"
   ]
  },
  {
   "cell_type": "code",
   "execution_count": 15,
   "id": "8aef932f",
   "metadata": {},
   "outputs": [
    {
     "data": {
      "text/plain": [
       "0.8112781244591328"
      ]
     },
     "execution_count": 15,
     "metadata": {},
     "output_type": "execute_result"
    }
   ],
   "source": [
    "-(((9/14) * np.log2(9/14)) + ((1/4) * np.log2(1/4)))"
   ]
  },
  {
   "cell_type": "code",
   "execution_count": 16,
   "id": "eff3a7ac",
   "metadata": {},
   "outputs": [
    {
     "data": {
      "text/plain": [
       "0.029228571428571493"
      ]
     },
     "execution_count": 16,
     "metadata": {},
     "output_type": "execute_result"
    }
   ],
   "source": [
    "IG_Outlook = 0.9403 - (((4/14) * 1) + ((6/14) * 0.9183) + ((4/14) * 0.8113))\n",
    "IG_Outlook"
   ]
  },
  {
   "cell_type": "markdown",
   "id": "a2181b54",
   "metadata": {},
   "source": [
    "# 3. Humidity"
   ]
  },
  {
   "cell_type": "code",
   "execution_count": null,
   "id": "f709d03e",
   "metadata": {},
   "outputs": [],
   "source": [
    "High 3Y & 4N\n",
    "Normal 6Y & 1N\n",
    "\n",
    "Total Number of Samples = 14\n",
    "\n",
    "E(Humidity == High) = 0.9852\n",
    "E(Humidity == Normal) = 0.5917\n",
    "\n",
    "# Overall Entropy\n",
    "E(S) = -(((9/14) * np.log2(9/14)) + ((5/14) * np.log2(5/14)))\n",
    "E(S) = 0.9403\n",
    "\n",
    "# Information Gain\n",
    "IG(S) = Overall E(S) - sum[Weighted Avg. * Entropy of each value]\n",
    "\n",
    "IG_Humidity = 0.9403 - [(7/14) * 1 + (6/14) * 0.9183]\n",
    "IG_Humidity = 0.1518"
   ]
  },
  {
   "cell_type": "code",
   "execution_count": 18,
   "id": "89b47002",
   "metadata": {},
   "outputs": [
    {
     "data": {
      "text/plain": [
       "0.5916727785823275"
      ]
     },
     "execution_count": 18,
     "metadata": {},
     "output_type": "execute_result"
    }
   ],
   "source": [
    "-(((6/7) * np.log2(6/7)) + ((1/7) * np.log2(1/7)))"
   ]
  },
  {
   "cell_type": "code",
   "execution_count": 19,
   "id": "f4dbd6c9",
   "metadata": {},
   "outputs": [
    {
     "data": {
      "text/plain": [
       "0.15185000000000004"
      ]
     },
     "execution_count": 19,
     "metadata": {},
     "output_type": "execute_result"
    }
   ],
   "source": [
    "IG_Humidity = 0.9403 - (((7/14) * 0.9852) + ((7/14) * 0.5917))\n",
    "IG_Humidity"
   ]
  },
  {
   "cell_type": "markdown",
   "id": "fdbe4ae2",
   "metadata": {},
   "source": [
    "# 4. Windy"
   ]
  },
  {
   "cell_type": "code",
   "execution_count": null,
   "id": "88e19de0",
   "metadata": {},
   "outputs": [],
   "source": [
    "True  >> 3Y & 3N\n",
    "False  >> 6Y & 2N\n",
    "\n",
    "Total Number of Samples = 14\n",
    "\n",
    "E(Windy == True) = 1\n",
    "E(Windy == False) = 0.8112\n",
    "\n",
    "# Overall Entropy\n",
    "E(S) = -(((9/14) * np.log2(9/14)) + ((5/14) * np.log2(5/14)))\n",
    "E(S) = 0.9403\n",
    "\n",
    "\n",
    "# Information Gain\n",
    "IG(S) = Overall E(S) - sum[Weighted Avg. * Entropy of each value]\n",
    "\n",
    "IG_Windy = 0.0482"
   ]
  },
  {
   "cell_type": "code",
   "execution_count": 20,
   "id": "dcdb19e7",
   "metadata": {},
   "outputs": [
    {
     "data": {
      "text/plain": [
       "0.8112781244591328"
      ]
     },
     "execution_count": 20,
     "metadata": {},
     "output_type": "execute_result"
    }
   ],
   "source": [
    "-(((6/8) * np.log2(6/8)) + ((2/8) * np.log2(2/8)))"
   ]
  },
  {
   "cell_type": "code",
   "execution_count": 21,
   "id": "3c975f71",
   "metadata": {},
   "outputs": [
    {
     "data": {
      "text/plain": [
       "0.04818571428571439"
      ]
     },
     "execution_count": 21,
     "metadata": {},
     "output_type": "execute_result"
    }
   ],
   "source": [
    "IG_Windy = 0.9403 - (((6/14) * 1) + ((8/14) * 0.8112))\n",
    "IG_Windy"
   ]
  },
  {
   "cell_type": "markdown",
   "id": "a4792bac",
   "metadata": {},
   "source": [
    "#### Comparision of Information Gain"
   ]
  },
  {
   "cell_type": "code",
   "execution_count": null,
   "id": "f39d149a",
   "metadata": {},
   "outputs": [],
   "source": [
    "IG_Outlook = 0.2468\n",
    "IG_Temperatue = 0.0292\n",
    "IG_Humidity = 0.1518\n",
    "IG_Windy = 0.0482\n",
    "# whichver column has the highest information gain(maximum decrease in entropy)\n",
    "the algorithm will select that column to split the data or decision node\n",
    "Outlook will be decision node"
   ]
  },
  {
   "cell_type": "code",
   "execution_count": null,
   "id": "10d7fa94-7a05-4f2c-991e-5e7a2cf9fd11",
   "metadata": {},
   "outputs": [],
   "source": [
    "## step6 Find Information gain recursively\n",
    "once a leaf node is reached (entropy =0) , no more splitting is done"
   ]
  },
  {
   "cell_type": "markdown",
   "id": "8bdc3d97",
   "metadata": {},
   "source": [
    "# 2nd decision Node calculations"
   ]
  },
  {
   "cell_type": "code",
   "execution_count": null,
   "id": "40760035",
   "metadata": {},
   "outputs": [],
   "source": [
    "Outlook -->rainy --> 3Y & 2N"
   ]
  }
 ],
 "metadata": {
  "kernelspec": {
   "display_name": "base",
   "language": "python",
   "name": "python3"
  },
  "language_info": {
   "codemirror_mode": {
    "name": "ipython",
    "version": 3
   },
   "file_extension": ".py",
   "mimetype": "text/x-python",
   "name": "python",
   "nbconvert_exporter": "python",
   "pygments_lexer": "ipython3",
   "version": "3.11.5"
  }
 },
 "nbformat": 4,
 "nbformat_minor": 5
}
