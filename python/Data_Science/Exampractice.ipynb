{
 "cells": [
  {
   "cell_type": "code",
   "execution_count": 1,
   "id": "e3e7fbf7",
   "metadata": {},
   "outputs": [],
   "source": [
    "import numpy as np"
   ]
  },
  {
   "cell_type": "markdown",
   "id": "ce32e54d",
   "metadata": {},
   "source": [
    "# Training the Linear model using the Scikit learn and the random data generated\n"
   ]
  },
  {
   "cell_type": "code",
   "execution_count": 2,
   "id": "ff2b1ed5",
   "metadata": {},
   "outputs": [],
   "source": [
    "x =np.random.randint(150,550,1500).reshape(-1,1)\n",
    "y=3*x+6\n"
   ]
  },
  {
   "cell_type": "code",
   "execution_count": 6,
   "id": "3c9aeb2f",
   "metadata": {},
   "outputs": [],
   "source": [
    "from sklearn.model_selection import train_test_split\n",
    "\n",
    "x_train,x_test,y_train,y_test=train_test_split(x,y,test_size=0.1,random_state=2)"
   ]
  },
  {
   "cell_type": "code",
   "execution_count": null,
   "id": "ab69f112",
   "metadata": {},
   "outputs": [],
   "source": [
    "from sklearn.linear_model import \n",
    "\n"
   ]
  },
  {
   "cell_type": "code",
   "execution_count": null,
   "id": "f51c0aff",
   "metadata": {},
   "outputs": [],
   "source": []
  }
 ],
 "metadata": {
  "kernelspec": {
   "display_name": "base",
   "language": "python",
   "name": "python3"
  },
  "language_info": {
   "codemirror_mode": {
    "name": "ipython",
    "version": 3
   },
   "file_extension": ".py",
   "mimetype": "text/x-python",
   "name": "python",
   "nbconvert_exporter": "python",
   "pygments_lexer": "ipython3",
   "version": "3.11.5"
  }
 },
 "nbformat": 4,
 "nbformat_minor": 5
}
