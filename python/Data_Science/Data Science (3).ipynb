{
 "cells": [
  {
   "cell_type": "markdown",
   "id": "b2d1b837",
   "metadata": {},
   "source": [
    "# Data Science"
   ]
  },
  {
   "cell_type": "code",
   "execution_count": null,
   "id": "e074d5ba",
   "metadata": {},
   "outputs": [],
   "source": [
    "It is the process of exctracting the knowledge and insights from the data by using scientific methods."
   ]
  },
  {
   "cell_type": "markdown",
   "id": "bb70da79",
   "metadata": {},
   "source": [
    "# Scientific Methods"
   ]
  },
  {
   "cell_type": "code",
   "execution_count": null,
   "id": "48f152ba",
   "metadata": {},
   "outputs": [],
   "source": [
    "1. Machine Learning\n",
    "2. Deep Learning\n",
    "3. Natural Language Processing\n",
    "4. Statistics\n",
    "5. Visualizations Tool (Matplotlib, seaborn)"
   ]
  },
  {
   "cell_type": "markdown",
   "id": "eb1d66ba",
   "metadata": {},
   "source": [
    "# Data"
   ]
  },
  {
   "cell_type": "code",
   "execution_count": null,
   "id": "a4c161b7",
   "metadata": {},
   "outputs": [],
   "source": [
    "1. Structured Data --> CSV Files, Excel Files\n",
    "\n",
    "2. Unstructured Data --> Image, videos, Audios, Text\n",
    "image --> Text (opencv) --> cv2.imread(image_path)\n",
    "videos (frames --> Numericals)\n",
    "Audios\n",
    "Text (Vectorisation Methods)\n",
    "\n",
    "3. Semi-structured Data --> JSON, HTML"
   ]
  },
  {
   "cell_type": "raw",
   "id": "4bb9031c",
   "metadata": {},
   "source": [
    "# Why we use Machine Learning?\n",
    "It is branch of AI, based on idea, system can learn from data, identifies pattern and make decision with minimal human intervention.\n",
    "\n",
    "Used to understand the human behaviour\n",
    "All the machine learning model are predective model"
   ]
  },
  {
   "cell_type": "markdown",
   "id": "17ad7b10",
   "metadata": {},
   "source": [
    "# Real World Applications"
   ]
  },
  {
   "cell_type": "code",
   "execution_count": null,
   "id": "a30f9fe2",
   "metadata": {},
   "outputs": [],
   "source": [
    "1. Chatbot\n",
    "2. Face Recognition (Google Photos, Facebook, Bank Account Opening, LensKart)\n",
    "vKYC -->\n",
    "3. Digitalization of any document. \n",
    "    OCRS -->\n",
    "    1. Google Vision\n",
    "    2. Amazon Textract\n",
    "    3. Pytesseract\n",
    "    \n",
    "4. House Price Prediction\n",
    "5. Car Price Prediction\n",
    "6. Weather Prediction\n",
    "7. Google Search Engine\n",
    "8. Google Map\n",
    "9. Sentiment Analysis --> \n",
    "10. Medical Diagnosis\n",
    "11. Speech Recognition (Alexa, Siri, Google Voice Assistant, Typing Assistant)\n",
    "12. Self Driving Cars (Tesla)\n",
    "    Object Detection technique\n",
    "    \n",
    "13. Stock Market Analysis (ML, DL, Time Series Analysis)\n",
    "\n",
    "14. Gaming Moves prediction\n",
    "15. Agriculture Prediction\n",
    "16. Robotics\n",
    "17. In Austronomics\n",
    "18. Election Result Prediction\n",
    "...\n"
   ]
  },
  {
   "cell_type": "markdown",
   "id": "477cd4b8",
   "metadata": {},
   "source": [
    "# Types of Machine Learning"
   ]
  },
  {
   "cell_type": "code",
   "execution_count": null,
   "id": "65228754",
   "metadata": {},
   "outputs": [],
   "source": [
    "1. Supervised ML\n",
    "2. Unsupervised ML\n",
    "3. Reinforcement ML"
   ]
  },
  {
   "cell_type": "markdown",
   "id": "086a9c2e",
   "metadata": {},
   "source": [
    "## 1. Supervised ML"
   ]
  },
  {
   "cell_type": "code",
   "execution_count": null,
   "id": "3403dec8",
   "metadata": {},
   "outputs": [],
   "source": [
    "If the data is labelled, then use supervise machine learning algorithm\n",
    "Target Column is present.\n",
    "\n",
    "labelled:\n",
    "    1. Independent Variables (Input Variable, features, parameter, predictors)\n",
    "    2. Dependent Variables (output, target)\n",
    "    \n",
    "Classification: (Categorical Data in target Column)\n",
    "    1. Binary Classification (Two categories in your target column)\n",
    "        Approved/Decline, Yes/No, True/False, Positive/Negative, Good/Bad, Male/Female, 1/0 ...\n",
    "    \n",
    "    2. Multiclass Classification  (More than two categories in target column)\n",
    "    setos, versicolor, verginica\n",
    "    High, medium, low\n",
    "    High Risk, medium Risk, Low Risk\n",
    "    Class1 , class2, class3, class4\n",
    "    \n",
    "Regression: (Numeric Data in target Column, but it is continuos data)\n",
    "    Car Price Prediction\n",
    "    House Price Prediction\n",
    "    Weather Prediction\n",
    "    Stock Price Prediction\n",
    "    "
   ]
  },
  {
   "cell_type": "markdown",
   "id": "16bd39c5",
   "metadata": {},
   "source": [
    "# Supervised ML Algorithms"
   ]
  },
  {
   "cell_type": "code",
   "execution_count": null,
   "id": "b2eeb1d1",
   "metadata": {},
   "outputs": [],
   "source": [
    "1. Linear Regression                     Regression\n",
    "2. logistic Regression                   Classification\n",
    "3. K- Nearest Neighbour                  Classification and regression\n",
    "4. Decision Tree                         Classification and regression\n",
    "5. Random Forest                         Classification and regression\n",
    "6. AdaBoost (Adaptive)                   Classification (mainly) and regression\n",
    "7. Gradaboost (Gradient)                 Classification and regression\n",
    "8. XGBoost (Extream Gradient)            Classification and regression\n",
    "9. Support Vector Machine                Classification and regression\n",
    "10. Naive Bayes Algorithm                Classification"
   ]
  },
  {
   "cell_type": "markdown",
   "id": "24530dd4",
   "metadata": {},
   "source": [
    "# Unsupervised Machine Learning"
   ]
  },
  {
   "cell_type": "code",
   "execution_count": null,
   "id": "a5dfb68a",
   "metadata": {},
   "outputs": [],
   "source": [
    "If the data is Unlabelled, then use unsupervised machine learning algorithm\n",
    "Target Column is not present. only independent variables are there.\n",
    "\n",
    "           Matches     Innings     Runs   Wickets\n",
    "Sachin     100          95         5000    12\n",
    "Harbhajan  95           75         1000    90\n",
    "Yuvraj     90           75         3300    40\n",
    "...\n",
    "\n",
    "# 3 Clusters\n",
    "Batmans --> \n",
    "Bowlers --> \n",
    "All Rounders --> "
   ]
  },
  {
   "cell_type": "markdown",
   "id": "0b14f6e5",
   "metadata": {},
   "source": [
    "# Unsupervised ML Alogorithms"
   ]
  },
  {
   "cell_type": "code",
   "execution_count": null,
   "id": "f1177fe4",
   "metadata": {},
   "outputs": [],
   "source": [
    "1. Kmean Clustering\n",
    "2. Hierarchical Clusters\n",
    "3. Principal Component Analysis (PCA)\n",
    "# Curse of dimensionality --> Reduce non important features"
   ]
  },
  {
   "cell_type": "markdown",
   "id": "cea56f23",
   "metadata": {},
   "source": [
    "# Reinforcement ML"
   ]
  },
  {
   "cell_type": "code",
   "execution_count": null,
   "id": "a722809b",
   "metadata": {},
   "outputs": [],
   "source": [
    "Reward Based learning (Punnish/ Appriciate)\n",
    "Feedback based system\n",
    "No target column\n",
    "Reward based system is for betterment.\n",
    "If not performing good, change itself.\n",
    "\n",
    "1. Self Driving Car\n",
    "Terminologies:\n",
    "    Environment : Obstacles, others cars, signals, dividers\n",
    "    Agent: system of car\n",
    "    Rewards : (Feedback Positive/ Negative)\n",
    "    Action: Not doing good --> Do changes in algorithm\n",
    "            Doing good --> appriciate the changes\n",
    "              \n",
    "2. Kids\n",
    "\n",
    "3. Temperature Control System"
   ]
  }
 ],
 "metadata": {
  "kernelspec": {
   "display_name": "Python 3 (ipykernel)",
   "language": "python",
   "name": "python3"
  },
  "language_info": {
   "codemirror_mode": {
    "name": "ipython",
    "version": 3
   },
   "file_extension": ".py",
   "mimetype": "text/x-python",
   "name": "python",
   "nbconvert_exporter": "python",
   "pygments_lexer": "ipython3",
   "version": "3.12.7"
  }
 },
 "nbformat": 4,
 "nbformat_minor": 5
}
