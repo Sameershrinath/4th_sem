{
 "cells": [
  {
   "cell_type": "markdown",
   "id": "8f381598",
   "metadata": {},
   "source": [
    "# Logistic Regression - Diabetes"
   ]
  },
  {
   "cell_type": "code",
   "execution_count": 1,
   "id": "c21734e0",
   "metadata": {},
   "outputs": [],
   "source": [
    "import numpy as np\n",
    "import pandas as pd\n",
    "\n",
    "from sklearn.linear_model import LogisticRegression\n",
    "from sklearn.model_selection import train_test_split\n",
    "\n",
    "from sklearn.metrics import confusion_matrix, classification_report, accuracy_score\n",
    "from sklearn.metrics import precision_score, recall_score, f1_score\n",
    "from sklearn.metrics import ConfusionMatrixDisplay\n",
    "from sklearn.metrics import roc_curve, roc_auc_score, auc\n",
    "\n",
    "import matplotlib.pyplot as plt\n",
    "import seaborn as sns\n",
    "\n",
    "import warnings\n",
    "warnings.filterwarnings(\"ignore\")"
   ]
  },
  {
   "cell_type": "code",
   "execution_count": 3,
   "id": "2268ec61",
   "metadata": {},
   "outputs": [
    {
     "data": {
      "text/html": [
       "<div>\n",
       "<style scoped>\n",
       "    .dataframe tbody tr th:only-of-type {\n",
       "        vertical-align: middle;\n",
       "    }\n",
       "\n",
       "    .dataframe tbody tr th {\n",
       "        vertical-align: top;\n",
       "    }\n",
       "\n",
       "    .dataframe thead th {\n",
       "        text-align: right;\n",
       "    }\n",
       "</style>\n",
       "<table border=\"1\" class=\"dataframe\">\n",
       "  <thead>\n",
       "    <tr style=\"text-align: right;\">\n",
       "      <th></th>\n",
       "      <th>Pregnancies</th>\n",
       "      <th>Glucose</th>\n",
       "      <th>BloodPressure</th>\n",
       "      <th>SkinThickness</th>\n",
       "      <th>Insulin</th>\n",
       "      <th>BMI</th>\n",
       "      <th>DiabetesPedigreeFunction</th>\n",
       "      <th>Age</th>\n",
       "      <th>Outcome</th>\n",
       "    </tr>\n",
       "  </thead>\n",
       "  <tbody>\n",
       "    <tr>\n",
       "      <th>0</th>\n",
       "      <td>2</td>\n",
       "      <td>138</td>\n",
       "      <td>62</td>\n",
       "      <td>35</td>\n",
       "      <td>0</td>\n",
       "      <td>33.6</td>\n",
       "      <td>0.127</td>\n",
       "      <td>47</td>\n",
       "      <td>1</td>\n",
       "    </tr>\n",
       "    <tr>\n",
       "      <th>1</th>\n",
       "      <td>0</td>\n",
       "      <td>84</td>\n",
       "      <td>82</td>\n",
       "      <td>31</td>\n",
       "      <td>125</td>\n",
       "      <td>38.2</td>\n",
       "      <td>0.233</td>\n",
       "      <td>23</td>\n",
       "      <td>0</td>\n",
       "    </tr>\n",
       "    <tr>\n",
       "      <th>2</th>\n",
       "      <td>0</td>\n",
       "      <td>145</td>\n",
       "      <td>0</td>\n",
       "      <td>0</td>\n",
       "      <td>0</td>\n",
       "      <td>44.2</td>\n",
       "      <td>0.630</td>\n",
       "      <td>31</td>\n",
       "      <td>1</td>\n",
       "    </tr>\n",
       "    <tr>\n",
       "      <th>3</th>\n",
       "      <td>0</td>\n",
       "      <td>135</td>\n",
       "      <td>68</td>\n",
       "      <td>42</td>\n",
       "      <td>250</td>\n",
       "      <td>42.3</td>\n",
       "      <td>0.365</td>\n",
       "      <td>24</td>\n",
       "      <td>1</td>\n",
       "    </tr>\n",
       "    <tr>\n",
       "      <th>4</th>\n",
       "      <td>1</td>\n",
       "      <td>139</td>\n",
       "      <td>62</td>\n",
       "      <td>41</td>\n",
       "      <td>480</td>\n",
       "      <td>40.7</td>\n",
       "      <td>0.536</td>\n",
       "      <td>21</td>\n",
       "      <td>0</td>\n",
       "    </tr>\n",
       "    <tr>\n",
       "      <th>...</th>\n",
       "      <td>...</td>\n",
       "      <td>...</td>\n",
       "      <td>...</td>\n",
       "      <td>...</td>\n",
       "      <td>...</td>\n",
       "      <td>...</td>\n",
       "      <td>...</td>\n",
       "      <td>...</td>\n",
       "      <td>...</td>\n",
       "    </tr>\n",
       "    <tr>\n",
       "      <th>1995</th>\n",
       "      <td>2</td>\n",
       "      <td>75</td>\n",
       "      <td>64</td>\n",
       "      <td>24</td>\n",
       "      <td>55</td>\n",
       "      <td>29.7</td>\n",
       "      <td>0.370</td>\n",
       "      <td>33</td>\n",
       "      <td>0</td>\n",
       "    </tr>\n",
       "    <tr>\n",
       "      <th>1996</th>\n",
       "      <td>8</td>\n",
       "      <td>179</td>\n",
       "      <td>72</td>\n",
       "      <td>42</td>\n",
       "      <td>130</td>\n",
       "      <td>32.7</td>\n",
       "      <td>0.719</td>\n",
       "      <td>36</td>\n",
       "      <td>1</td>\n",
       "    </tr>\n",
       "    <tr>\n",
       "      <th>1997</th>\n",
       "      <td>6</td>\n",
       "      <td>85</td>\n",
       "      <td>78</td>\n",
       "      <td>0</td>\n",
       "      <td>0</td>\n",
       "      <td>31.2</td>\n",
       "      <td>0.382</td>\n",
       "      <td>42</td>\n",
       "      <td>0</td>\n",
       "    </tr>\n",
       "    <tr>\n",
       "      <th>1998</th>\n",
       "      <td>0</td>\n",
       "      <td>129</td>\n",
       "      <td>110</td>\n",
       "      <td>46</td>\n",
       "      <td>130</td>\n",
       "      <td>67.1</td>\n",
       "      <td>0.319</td>\n",
       "      <td>26</td>\n",
       "      <td>1</td>\n",
       "    </tr>\n",
       "    <tr>\n",
       "      <th>1999</th>\n",
       "      <td>2</td>\n",
       "      <td>81</td>\n",
       "      <td>72</td>\n",
       "      <td>15</td>\n",
       "      <td>76</td>\n",
       "      <td>30.1</td>\n",
       "      <td>0.547</td>\n",
       "      <td>25</td>\n",
       "      <td>0</td>\n",
       "    </tr>\n",
       "  </tbody>\n",
       "</table>\n",
       "<p>2000 rows × 9 columns</p>\n",
       "</div>"
      ],
      "text/plain": [
       "      Pregnancies  Glucose  BloodPressure  SkinThickness  Insulin   BMI  \\\n",
       "0               2      138             62             35        0  33.6   \n",
       "1               0       84             82             31      125  38.2   \n",
       "2               0      145              0              0        0  44.2   \n",
       "3               0      135             68             42      250  42.3   \n",
       "4               1      139             62             41      480  40.7   \n",
       "...           ...      ...            ...            ...      ...   ...   \n",
       "1995            2       75             64             24       55  29.7   \n",
       "1996            8      179             72             42      130  32.7   \n",
       "1997            6       85             78              0        0  31.2   \n",
       "1998            0      129            110             46      130  67.1   \n",
       "1999            2       81             72             15       76  30.1   \n",
       "\n",
       "      DiabetesPedigreeFunction  Age  Outcome  \n",
       "0                        0.127   47        1  \n",
       "1                        0.233   23        0  \n",
       "2                        0.630   31        1  \n",
       "3                        0.365   24        1  \n",
       "4                        0.536   21        0  \n",
       "...                        ...  ...      ...  \n",
       "1995                     0.370   33        0  \n",
       "1996                     0.719   36        1  \n",
       "1997                     0.382   42        0  \n",
       "1998                     0.319   26        1  \n",
       "1999                     0.547   25        0  \n",
       "\n",
       "[2000 rows x 9 columns]"
      ]
     },
     "execution_count": 3,
     "metadata": {},
     "output_type": "execute_result"
    }
   ],
   "source": [
    "df = pd.read_csv(\"Datasets/diabetes.csv\")\n",
    "df"
   ]
  },
  {
   "cell_type": "code",
   "execution_count": 4,
   "id": "87af46ab",
   "metadata": {},
   "outputs": [
    {
     "name": "stdout",
     "output_type": "stream",
     "text": [
      "<class 'pandas.core.frame.DataFrame'>\n",
      "RangeIndex: 2000 entries, 0 to 1999\n",
      "Data columns (total 9 columns):\n",
      " #   Column                    Non-Null Count  Dtype  \n",
      "---  ------                    --------------  -----  \n",
      " 0   Pregnancies               2000 non-null   int64  \n",
      " 1   Glucose                   2000 non-null   int64  \n",
      " 2   BloodPressure             2000 non-null   int64  \n",
      " 3   SkinThickness             2000 non-null   int64  \n",
      " 4   Insulin                   2000 non-null   int64  \n",
      " 5   BMI                       2000 non-null   float64\n",
      " 6   DiabetesPedigreeFunction  2000 non-null   float64\n",
      " 7   Age                       2000 non-null   int64  \n",
      " 8   Outcome                   2000 non-null   int64  \n",
      "dtypes: float64(2), int64(7)\n",
      "memory usage: 140.8 KB\n"
     ]
    }
   ],
   "source": [
    "df.info()"
   ]
  },
  {
   "cell_type": "code",
   "execution_count": 5,
   "id": "b72a068e",
   "metadata": {},
   "outputs": [],
   "source": [
    "value_cout=df['Outcome'].value_counts()   # imbalance data  # bais data"
   ]
  },
  {
   "cell_type": "code",
   "execution_count": 17,
   "id": "42432e26",
   "metadata": {},
   "outputs": [],
   "source": [
    "result_cnt=df.Outcome"
   ]
  },
  {
   "cell_type": "code",
   "execution_count": 22,
   "id": "86d0dc8d",
   "metadata": {},
   "outputs": [],
   "source": [
    "data_rst=list(result_cnt)"
   ]
  },
  {
   "cell_type": "code",
   "execution_count": null,
   "id": "fdb6337f",
   "metadata": {},
   "outputs": [],
   "source": []
  },
  {
   "cell_type": "code",
   "execution_count": 16,
   "id": "45424478",
   "metadata": {},
   "outputs": [
    {
     "data": {
      "text/plain": [
       "<Axes: xlabel='Outcome', ylabel='count'>"
      ]
     },
     "execution_count": 16,
     "metadata": {},
     "output_type": "execute_result"
    },
    {
     "data": {
      "image/png": "[encoded data removed]",
      "text/plain": [
       "<Figure size 640x480 with 1 Axes>"
      ]
     },
     "metadata": {},
     "output_type": "display_data"
    }
   ],
   "source": [
    "sns.countplot(x  = df['Outcome'])"
   ]
  },
  {
   "cell_type": "markdown",
   "id": "9d0de3dc",
   "metadata": {},
   "source": [
    "# Train Test Split"
   ]
  },
  {
   "cell_type": "code",
   "execution_count": null,
   "id": "4de87f8e",
   "metadata": {},
   "outputs": [],
   "source": [
    "x = df.drop('Outcome', axis=1)\n",
    "y = df['Outcome']  # target column\n",
    "\n",
    "x_train, x_test, y_train, y_test = train_test_split(x,y, test_size=0.25, random_state=1, stratify=y)\n"
   ]
  },
  {
   "cell_type": "code",
   "execution_count": null,
   "id": "56791683",
   "metadata": {},
   "outputs": [
    {
     "data": {
      "text/plain": [
       "Outcome\n",
       "0    500\n",
       "1    268\n",
       "Name: count, dtype: int64"
      ]
     },
     "execution_count": 25,
     "metadata": {},
     "output_type": "execute_result"
    }
   ],
   "source": [
    "y.value_counts()"
   ]
  },
  {
   "cell_type": "code",
   "execution_count": null,
   "id": "93bda461-429b-4890-9235-69a8d8ea56e1",
   "metadata": {},
   "outputs": [
    {
     "data": {
      "text/plain": [
       "0.6510416666666666"
      ]
     },
     "execution_count": 26,
     "metadata": {},
     "output_type": "execute_result"
    }
   ],
   "source": [
    "# % of 0 class out of total training records \n",
    "500/(268+500)"
   ]
  },
  {
   "cell_type": "code",
   "execution_count": null,
   "id": "301a5119",
   "metadata": {
    "scrolled": true
   },
   "outputs": [
    {
     "data": {
      "text/plain": [
       "Outcome\n",
       "0    375\n",
       "1    201\n",
       "Name: count, dtype: int64"
      ]
     },
     "execution_count": 27,
     "metadata": {},
     "output_type": "execute_result"
    }
   ],
   "source": [
    "y_train.value_counts()"
   ]
  },
  {
   "cell_type": "code",
   "execution_count": null,
   "id": "00e845a6",
   "metadata": {},
   "outputs": [
    {
     "data": {
      "text/plain": [
       "0.6545138888888888"
      ]
     },
     "execution_count": 28,
     "metadata": {},
     "output_type": "execute_result"
    }
   ],
   "source": [
    "# without stratify-- if we dont use startify in train_test_split\n",
    "377/(377+199)"
   ]
  },
  {
   "cell_type": "code",
   "execution_count": null,
   "id": "03dbb343",
   "metadata": {},
   "outputs": [
    {
     "data": {
      "text/plain": [
       "0.6510416666666666"
      ]
     },
     "execution_count": 29,
     "metadata": {},
     "output_type": "execute_result"
    }
   ],
   "source": [
    "# with stratify\n",
    "375/(375+201)"
   ]
  },
  {
   "cell_type": "code",
   "execution_count": null,
   "id": "560de11c",
   "metadata": {},
   "outputs": [
    {
     "data": {
      "text/plain": [
       "Outcome\n",
       "0    125\n",
       "1     67\n",
       "Name: count, dtype: int64"
      ]
     },
     "execution_count": 30,
     "metadata": {},
     "output_type": "execute_result"
    }
   ],
   "source": [
    "y_test.value_counts()"
   ]
  },
  {
   "cell_type": "code",
   "execution_count": null,
   "id": "fd6def88",
   "metadata": {},
   "outputs": [
    {
     "data": {
      "text/plain": [
       "0.6510416666666666"
      ]
     },
     "execution_count": 31,
     "metadata": {},
     "output_type": "execute_result"
    }
   ],
   "source": [
    "125/(125+67)"
   ]
  },
  {
   "cell_type": "markdown",
   "id": "471ccaff",
   "metadata": {},
   "source": [
    "# Model training"
   ]
  },
  {
   "cell_type": "code",
   "execution_count": null,
   "id": "97c6382d",
   "metadata": {},
   "outputs": [
    {
     "data": {
      "text/html": [
       "<style>#sk-container-id-1 {\n",
       "  /* Definition of color scheme common for light and dark mode */\n",
       "  --sklearn-color-text: black;\n",
       "  --sklearn-color-line: gray;\n",
       "  /* Definition of color scheme for unfitted estimators */\n",
       "  --sklearn-color-unfitted-level-0: #fff5e6;\n",
       "  --sklearn-color-unfitted-level-1: #f6e4d2;\n",
       "  --sklearn-color-unfitted-level-2: #ffe0b3;\n",
       "  --sklearn-color-unfitted-level-3: chocolate;\n",
       "  /* Definition of color scheme for fitted estimators */\n",
       "  --sklearn-color-fitted-level-0: #f0f8ff;\n",
       "  --sklearn-color-fitted-level-1: #d4ebff;\n",
       "  --sklearn-color-fitted-level-2: #b3dbfd;\n",
       "  --sklearn-color-fitted-level-3: cornflowerblue;\n",
       "\n",
       "  /* Specific color for light theme */\n",
       "  --sklearn-color-text-on-default-background: var(--sg-text-color, var(--theme-code-foreground, var(--jp-content-font-color1, black)));\n",
       "  --sklearn-color-background: var(--sg-background-color, var(--theme-background, var(--jp-layout-color0, white)));\n",
       "  --sklearn-color-border-box: var(--sg-text-color, var(--theme-code-foreground, var(--jp-content-font-color1, black)));\n",
       "  --sklearn-color-icon: #696969;\n",
       "\n",
       "  @media (prefers-color-scheme: dark) {\n",
       "    /* Redefinition of color scheme for dark theme */\n",
       "    --sklearn-color-text-on-default-background: var(--sg-text-color, var(--theme-code-foreground, var(--jp-content-font-color1, white)));\n",
       "    --sklearn-color-background: var(--sg-background-color, var(--theme-background, var(--jp-layout-color0, #111)));\n",
       "    --sklearn-color-border-box: var(--sg-text-color, var(--theme-code-foreground, var(--jp-content-font-color1, white)));\n",
       "    --sklearn-color-icon: #878787;\n",
       "  }\n",
       "}\n",
       "\n",
       "#sk-container-id-1 {\n",
       "  color: var(--sklearn-color-text);\n",
       "}\n",
       "\n",
       "#sk-container-id-1 pre {\n",
       "  padding: 0;\n",
       "}\n",
       "\n",
       "#sk-container-id-1 input.sk-hidden--visually {\n",
       "  border: 0;\n",
       "  clip: rect(1px 1px 1px 1px);\n",
       "  clip: rect(1px, 1px, 1px, 1px);\n",
       "  height: 1px;\n",
       "  margin: -1px;\n",
       "  overflow: hidden;\n",
       "  padding: 0;\n",
       "  position: absolute;\n",
       "  width: 1px;\n",
       "}\n",
       "\n",
       "#sk-container-id-1 div.sk-dashed-wrapped {\n",
       "  border: 1px dashed var(--sklearn-color-line);\n",
       "  margin: 0 0.4em 0.5em 0.4em;\n",
       "  box-sizing: border-box;\n",
       "  padding-bottom: 0.4em;\n",
       "  background-color: var(--sklearn-color-background);\n",
       "}\n",
       "\n",
       "#sk-container-id-1 div.sk-container {\n",
       "  /* jupyter's `normalize.less` sets `[hidden] { display: none; }`\n",
       "     but bootstrap.min.css set `[hidden] { display: none !important; }`\n",
       "     so we also need the `!important` here to be able to override the\n",
       "     default hidden behavior on the sphinx rendered scikit-learn.org.\n",
       "     See: https://github.com/scikit-learn/scikit-learn/issues/21755 */\n",
       "  display: inline-block !important;\n",
       "  position: relative;\n",
       "}\n",
       "\n",
       "#sk-container-id-1 div.sk-text-repr-fallback {\n",
       "  display: none;\n",
       "}\n",
       "\n",
       "div.sk-parallel-item,\n",
       "div.sk-serial,\n",
       "div.sk-item {\n",
       "  /* draw centered vertical line to link estimators */\n",
       "  background-image: linear-gradient(var(--sklearn-color-text-on-default-background), var(--sklearn-color-text-on-default-background));\n",
       "  background-size: 2px 100%;\n",
       "  background-repeat: no-repeat;\n",
       "  background-position: center center;\n",
       "}\n",
       "\n",
       "/* Parallel-specific style estimator block */\n",
       "\n",
       "#sk-container-id-1 div.sk-parallel-item::after {\n",
       "  content: \"\";\n",
       "  width: 100%;\n",
       "  border-bottom: 2px solid var(--sklearn-color-text-on-default-background);\n",
       "  flex-grow: 1;\n",
       "}\n",
       "\n",
       "#sk-container-id-1 div.sk-parallel {\n",
       "  display: flex;\n",
       "  align-items: stretch;\n",
       "  justify-content: center;\n",
       "  background-color: var(--sklearn-color-background);\n",
       "  position: relative;\n",
       "}\n",
       "\n",
       "#sk-container-id-1 div.sk-parallel-item {\n",
       "  display: flex;\n",
       "  flex-direction: column;\n",
       "}\n",
       "\n",
       "#sk-container-id-1 div.sk-parallel-item:first-child::after {\n",
       "  align-self: flex-end;\n",
       "  width: 50%;\n",
       "}\n",
       "\n",
       "#sk-container-id-1 div.sk-parallel-item:last-child::after {\n",
       "  align-self: flex-start;\n",
       "  width: 50%;\n",
       "}\n",
       "\n",
       "#sk-container-id-1 div.sk-parallel-item:only-child::after {\n",
       "  width: 0;\n",
       "}\n",
       "\n",
       "/* Serial-specific style estimator block */\n",
       "\n",
       "#sk-container-id-1 div.sk-serial {\n",
       "  display: flex;\n",
       "  flex-direction: column;\n",
       "  align-items: center;\n",
       "  background-color: var(--sklearn-color-background);\n",
       "  padding-right: 1em;\n",
       "  padding-left: 1em;\n",
       "}\n",
       "\n",
       "\n",
       "/* Toggleable style: style used for estimator/Pipeline/ColumnTransformer box that is\n",
       "clickable and can be expanded/collapsed.\n",
       "- Pipeline and ColumnTransformer use this feature and define the default style\n",
       "- Estimators will overwrite some part of the style using the `sk-estimator` class\n",
       "*/\n",
       "\n",
       "/* Pipeline and ColumnTransformer style (default) */\n",
       "\n",
       "#sk-container-id-1 div.sk-toggleable {\n",
       "  /* Default theme specific background. It is overwritten whether we have a\n",
       "  specific estimator or a Pipeline/ColumnTransformer */\n",
       "  background-color: var(--sklearn-color-background);\n",
       "}\n",
       "\n",
       "/* Toggleable label */\n",
       "#sk-container-id-1 label.sk-toggleable__label {\n",
       "  cursor: pointer;\n",
       "  display: block;\n",
       "  width: 100%;\n",
       "  margin-bottom: 0;\n",
       "  padding: 0.5em;\n",
       "  box-sizing: border-box;\n",
       "  text-align: center;\n",
       "}\n",
       "\n",
       "#sk-container-id-1 label.sk-toggleable__label-arrow:before {\n",
       "  /* Arrow on the left of the label */\n",
       "  content: \"▸\";\n",
       "  float: left;\n",
       "  margin-right: 0.25em;\n",
       "  color: var(--sklearn-color-icon);\n",
       "}\n",
       "\n",
       "#sk-container-id-1 label.sk-toggleable__label-arrow:hover:before {\n",
       "  color: var(--sklearn-color-text);\n",
       "}\n",
       "\n",
       "/* Toggleable content - dropdown */\n",
       "\n",
       "#sk-container-id-1 div.sk-toggleable__content {\n",
       "  max-height: 0;\n",
       "  max-width: 0;\n",
       "  overflow: hidden;\n",
       "  text-align: left;\n",
       "  /* unfitted */\n",
       "  background-color: var(--sklearn-color-unfitted-level-0);\n",
       "}\n",
       "\n",
       "#sk-container-id-1 div.sk-toggleable__content.fitted {\n",
       "  /* fitted */\n",
       "  background-color: var(--sklearn-color-fitted-level-0);\n",
       "}\n",
       "\n",
       "#sk-container-id-1 div.sk-toggleable__content pre {\n",
       "  margin: 0.2em;\n",
       "  border-radius: 0.25em;\n",
       "  color: var(--sklearn-color-text);\n",
       "  /* unfitted */\n",
       "  background-color: var(--sklearn-color-unfitted-level-0);\n",
       "}\n",
       "\n",
       "#sk-container-id-1 div.sk-toggleable__content.fitted pre {\n",
       "  /* unfitted */\n",
       "  background-color: var(--sklearn-color-fitted-level-0);\n",
       "}\n",
       "\n",
       "#sk-container-id-1 input.sk-toggleable__control:checked~div.sk-toggleable__content {\n",
       "  /* Expand drop-down */\n",
       "  max-height: 200px;\n",
       "  max-width: 100%;\n",
       "  overflow: auto;\n",
       "}\n",
       "\n",
       "#sk-container-id-1 input.sk-toggleable__control:checked~label.sk-toggleable__label-arrow:before {\n",
       "  content: \"▾\";\n",
       "}\n",
       "\n",
       "/* Pipeline/ColumnTransformer-specific style */\n",
       "\n",
       "#sk-container-id-1 div.sk-label input.sk-toggleable__control:checked~label.sk-toggleable__label {\n",
       "  color: var(--sklearn-color-text);\n",
       "  background-color: var(--sklearn-color-unfitted-level-2);\n",
       "}\n",
       "\n",
       "#sk-container-id-1 div.sk-label.fitted input.sk-toggleable__control:checked~label.sk-toggleable__label {\n",
       "  background-color: var(--sklearn-color-fitted-level-2);\n",
       "}\n",
       "\n",
       "/* Estimator-specific style */\n",
       "\n",
       "/* Colorize estimator box */\n",
       "#sk-container-id-1 div.sk-estimator input.sk-toggleable__control:checked~label.sk-toggleable__label {\n",
       "  /* unfitted */\n",
       "  background-color: var(--sklearn-color-unfitted-level-2);\n",
       "}\n",
       "\n",
       "#sk-container-id-1 div.sk-estimator.fitted input.sk-toggleable__control:checked~label.sk-toggleable__label {\n",
       "  /* fitted */\n",
       "  background-color: var(--sklearn-color-fitted-level-2);\n",
       "}\n",
       "\n",
       "#sk-container-id-1 div.sk-label label.sk-toggleable__label,\n",
       "#sk-container-id-1 div.sk-label label {\n",
       "  /* The background is the default theme color */\n",
       "  color: var(--sklearn-color-text-on-default-background);\n",
       "}\n",
       "\n",
       "/* On hover, darken the color of the background */\n",
       "#sk-container-id-1 div.sk-label:hover label.sk-toggleable__label {\n",
       "  color: var(--sklearn-color-text);\n",
       "  background-color: var(--sklearn-color-unfitted-level-2);\n",
       "}\n",
       "\n",
       "/* Label box, darken color on hover, fitted */\n",
       "#sk-container-id-1 div.sk-label.fitted:hover label.sk-toggleable__label.fitted {\n",
       "  color: var(--sklearn-color-text);\n",
       "  background-color: var(--sklearn-color-fitted-level-2);\n",
       "}\n",
       "\n",
       "/* Estimator label */\n",
       "\n",
       "#sk-container-id-1 div.sk-label label {\n",
       "  font-family: monospace;\n",
       "  font-weight: bold;\n",
       "  display: inline-block;\n",
       "  line-height: 1.2em;\n",
       "}\n",
       "\n",
       "#sk-container-id-1 div.sk-label-container {\n",
       "  text-align: center;\n",
       "}\n",
       "\n",
       "/* Estimator-specific */\n",
       "#sk-container-id-1 div.sk-estimator {\n",
       "  font-family: monospace;\n",
       "  border: 1px dotted var(--sklearn-color-border-box);\n",
       "  border-radius: 0.25em;\n",
       "  box-sizing: border-box;\n",
       "  margin-bottom: 0.5em;\n",
       "  /* unfitted */\n",
       "  background-color: var(--sklearn-color-unfitted-level-0);\n",
       "}\n",
       "\n",
       "#sk-container-id-1 div.sk-estimator.fitted {\n",
       "  /* fitted */\n",
       "  background-color: var(--sklearn-color-fitted-level-0);\n",
       "}\n",
       "\n",
       "/* on hover */\n",
       "#sk-container-id-1 div.sk-estimator:hover {\n",
       "  /* unfitted */\n",
       "  background-color: var(--sklearn-color-unfitted-level-2);\n",
       "}\n",
       "\n",
       "#sk-container-id-1 div.sk-estimator.fitted:hover {\n",
       "  /* fitted */\n",
       "  background-color: var(--sklearn-color-fitted-level-2);\n",
       "}\n",
       "\n",
       "/* Specification for estimator info (e.g. \"i\" and \"?\") */\n",
       "\n",
       "/* Common style for \"i\" and \"?\" */\n",
       "\n",
       ".sk-estimator-doc-link,\n",
       "a:link.sk-estimator-doc-link,\n",
       "a:visited.sk-estimator-doc-link {\n",
       "  float: right;\n",
       "  font-size: smaller;\n",
       "  line-height: 1em;\n",
       "  font-family: monospace;\n",
       "  background-color: var(--sklearn-color-background);\n",
       "  border-radius: 1em;\n",
       "  height: 1em;\n",
       "  width: 1em;\n",
       "  text-decoration: none !important;\n",
       "  margin-left: 1ex;\n",
       "  /* unfitted */\n",
       "  border: var(--sklearn-color-unfitted-level-1) 1pt solid;\n",
       "  color: var(--sklearn-color-unfitted-level-1);\n",
       "}\n",
       "\n",
       ".sk-estimator-doc-link.fitted,\n",
       "a:link.sk-estimator-doc-link.fitted,\n",
       "a:visited.sk-estimator-doc-link.fitted {\n",
       "  /* fitted */\n",
       "  border: var(--sklearn-color-fitted-level-1) 1pt solid;\n",
       "  color: var(--sklearn-color-fitted-level-1);\n",
       "}\n",
       "\n",
       "/* On hover */\n",
       "div.sk-estimator:hover .sk-estimator-doc-link:hover,\n",
       ".sk-estimator-doc-link:hover,\n",
       "div.sk-label-container:hover .sk-estimator-doc-link:hover,\n",
       ".sk-estimator-doc-link:hover {\n",
       "  /* unfitted */\n",
       "  background-color: var(--sklearn-color-unfitted-level-3);\n",
       "  color: var(--sklearn-color-background);\n",
       "  text-decoration: none;\n",
       "}\n",
       "\n",
       "div.sk-estimator.fitted:hover .sk-estimator-doc-link.fitted:hover,\n",
       ".sk-estimator-doc-link.fitted:hover,\n",
       "div.sk-label-container:hover .sk-estimator-doc-link.fitted:hover,\n",
       ".sk-estimator-doc-link.fitted:hover {\n",
       "  /* fitted */\n",
       "  background-color: var(--sklearn-color-fitted-level-3);\n",
       "  color: var(--sklearn-color-background);\n",
       "  text-decoration: none;\n",
       "}\n",
       "\n",
       "/* Span, style for the box shown on hovering the info icon */\n",
       ".sk-estimator-doc-link span {\n",
       "  display: none;\n",
       "  z-index: 9999;\n",
       "  position: relative;\n",
       "  font-weight: normal;\n",
       "  right: .2ex;\n",
       "  padding: .5ex;\n",
       "  margin: .5ex;\n",
       "  width: min-content;\n",
       "  min-width: 20ex;\n",
       "  max-width: 50ex;\n",
       "  color: var(--sklearn-color-text);\n",
       "  box-shadow: 2pt 2pt 4pt #999;\n",
       "  /* unfitted */\n",
       "  background: var(--sklearn-color-unfitted-level-0);\n",
       "  border: .5pt solid var(--sklearn-color-unfitted-level-3);\n",
       "}\n",
       "\n",
       ".sk-estimator-doc-link.fitted span {\n",
       "  /* fitted */\n",
       "  background: var(--sklearn-color-fitted-level-0);\n",
       "  border: var(--sklearn-color-fitted-level-3);\n",
       "}\n",
       "\n",
       ".sk-estimator-doc-link:hover span {\n",
       "  display: block;\n",
       "}\n",
       "\n",
       "/* \"?\"-specific style due to the `<a>` HTML tag */\n",
       "\n",
       "#sk-container-id-1 a.estimator_doc_link {\n",
       "  float: right;\n",
       "  font-size: 1rem;\n",
       "  line-height: 1em;\n",
       "  font-family: monospace;\n",
       "  background-color: var(--sklearn-color-background);\n",
       "  border-radius: 1rem;\n",
       "  height: 1rem;\n",
       "  width: 1rem;\n",
       "  text-decoration: none;\n",
       "  /* unfitted */\n",
       "  color: var(--sklearn-color-unfitted-level-1);\n",
       "  border: var(--sklearn-color-unfitted-level-1) 1pt solid;\n",
       "}\n",
       "\n",
       "#sk-container-id-1 a.estimator_doc_link.fitted {\n",
       "  /* fitted */\n",
       "  border: var(--sklearn-color-fitted-level-1) 1pt solid;\n",
       "  color: var(--sklearn-color-fitted-level-1);\n",
       "}\n",
       "\n",
       "/* On hover */\n",
       "#sk-container-id-1 a.estimator_doc_link:hover {\n",
       "  /* unfitted */\n",
       "  background-color: var(--sklearn-color-unfitted-level-3);\n",
       "  color: var(--sklearn-color-background);\n",
       "  text-decoration: none;\n",
       "}\n",
       "\n",
       "#sk-container-id-1 a.estimator_doc_link.fitted:hover {\n",
       "  /* fitted */\n",
       "  background-color: var(--sklearn-color-fitted-level-3);\n",
       "}\n",
       "</style><div id=\"sk-container-id-1\" class=\"sk-top-container\"><div class=\"sk-text-repr-fallback\"><pre>LogisticRegression()</pre><b>In a Jupyter environment, please rerun this cell to show the HTML representation or trust the notebook. <br />On GitHub, the HTML representation is unable to render, please try loading this page with nbviewer.org.</b></div><div class=\"sk-container\" hidden><div class=\"sk-item\"><div class=\"sk-estimator fitted sk-toggleable\"><input class=\"sk-toggleable__control sk-hidden--visually\" id=\"sk-estimator-id-1\" type=\"checkbox\" checked><label for=\"sk-estimator-id-1\" class=\"sk-toggleable__label fitted sk-toggleable__label-arrow fitted\">&nbsp;&nbsp;LogisticRegression<a class=\"sk-estimator-doc-link fitted\" rel=\"noreferrer\" target=\"_blank\" href=\"https://scikit-learn.org/1.5/modules/generated/sklearn.linear_model.LogisticRegression.html\">?<span>Documentation for LogisticRegression</span></a><span class=\"sk-estimator-doc-link fitted\">i<span>Fitted</span></span></label><div class=\"sk-toggleable__content fitted\"><pre>LogisticRegression()</pre></div> </div></div></div></div>"
      ],
      "text/plain": [
       "LogisticRegression()"
      ]
     },
     "execution_count": 32,
     "metadata": {},
     "output_type": "execute_result"
    }
   ],
   "source": [
    "# Create Instance\n",
    "model = LogisticRegression()\n",
    "model.fit(x_train, y_train)"
   ]
  },
  {
   "cell_type": "code",
   "execution_count": null,
   "id": "393f42f5",
   "metadata": {
    "scrolled": true
   },
   "outputs": [
    {
     "data": {
      "image/png": "[encoded data removed]",
      "text/plain": [
       "<Figure size 640x480 with 2 Axes>"
      ]
     },
     "metadata": {},
     "output_type": "display_data"
    }
   ],
   "source": [
    "# Training Data\n",
    "\n",
    "# Generate predictions\n",
    "y_pred_train = model.predict(x_train)\n",
    "\n",
    "# Compute confusion matrix\n",
    "cm = confusion_matrix(y_train, y_pred_train)\n",
    "\n",
    "# Display confusion matrix\n",
    "disp = ConfusionMatrixDisplay(confusion_matrix=cm)\n",
    "disp.plot()\n",
    "plt.show()"
   ]
  },
  {
   "cell_type": "code",
   "execution_count": null,
   "id": "80f79d86",
   "metadata": {},
   "outputs": [
    {
     "data": {
      "image/png": "[encoded data removed]",
      "text/plain": [
       "<Figure size 640x480 with 2 Axes>"
      ]
     },
     "metadata": {},
     "output_type": "display_data"
    }
   ],
   "source": [
    "# Testing Data\n",
    "# Generate predictions\n",
    "y_pred_test = model.predict(x_test)\n",
    "\n",
    "# Compute confusion matrix\n",
    "cm = confusion_matrix(y_test, y_pred_test)\n",
    "\n",
    "# Display confusion matrix\n",
    "disp = ConfusionMatrixDisplay(confusion_matrix=cm)\n",
    "disp.plot()\n",
    "plt.show()"
   ]
  },
  {
   "cell_type": "code",
   "execution_count": null,
   "id": "4620b3e4",
   "metadata": {},
   "outputs": [
    {
     "data": {
      "text/plain": [
       "0.7881944444444444"
      ]
     },
     "execution_count": 38,
     "metadata": {},
     "output_type": "execute_result"
    }
   ],
   "source": [
    "# Training Accuracy\n",
    "model.score(x_train, y_train)"
   ]
  },
  {
   "cell_type": "code",
   "execution_count": null,
   "id": "7a6f1842",
   "metadata": {},
   "outputs": [
    {
     "data": {
      "text/plain": [
       "0.7552083333333334"
      ]
     },
     "execution_count": 39,
     "metadata": {},
     "output_type": "execute_result"
    }
   ],
   "source": [
    "# Testing Accuracy\n",
    "model.score(x_test, y_test)"
   ]
  },
  {
   "cell_type": "markdown",
   "id": "2012b3f9",
   "metadata": {},
   "source": [
    "# Model Evaluation"
   ]
  },
  {
   "cell_type": "code",
   "execution_count": null,
   "id": "49bfaa31",
   "metadata": {},
   "outputs": [
    {
     "data": {
      "text/plain": [
       "array([0, 1, 0, 1, 0, 0, 1, 1, 1, 0, 1, 0, 0, 1, 0, 0, 1, 0, 1, 0, 0, 0,\n",
       "       0, 0, 0, 1, 1, 0, 0, 0, 0, 1, 0, 1, 0, 0, 0, 0, 0, 1, 0, 1, 0, 1,\n",
       "       0, 1, 1, 0, 0, 0, 1, 0, 0, 1, 0, 0, 1, 1, 1, 0, 0, 0, 0, 0, 0, 0,\n",
       "       0, 0, 0, 0, 0, 0, 0, 1, 1, 0, 0, 0, 0, 1, 0, 0, 0, 0, 0, 0, 0, 0,\n",
       "       0, 0, 0, 1, 0, 0, 1, 0, 0, 1, 0, 0, 1, 0, 1, 0, 0, 0, 0, 1, 1, 0,\n",
       "       0, 1, 0, 0, 0, 0, 0, 0, 0, 1, 0, 0, 0, 1, 1, 1, 0, 1, 0, 0, 0, 0,\n",
       "       0, 1, 0, 0, 1, 0, 1, 0, 1, 0, 1, 0, 1, 0, 0, 0, 1, 0, 0, 0, 0, 0,\n",
       "       0, 1, 0, 0, 0, 0, 0, 0, 0, 0, 0, 1, 1, 0, 0, 1, 0, 0, 0, 0, 1, 0,\n",
       "       0, 0, 0, 0, 0, 0, 0, 1, 0, 1, 0, 1, 0, 0, 0, 0], dtype=int64)"
      ]
     },
     "execution_count": 40,
     "metadata": {},
     "output_type": "execute_result"
    }
   ],
   "source": [
    "# prediction\n",
    "y_pred = model.predict(x_test)\n",
    "y_pred"
   ]
  },
  {
   "cell_type": "code",
   "execution_count": null,
   "id": "78a3c664",
   "metadata": {},
   "outputs": [
    {
     "data": {
      "text/plain": [
       "array([[0.91636593, 0.08363407],\n",
       "       [0.3242683 , 0.6757317 ],\n",
       "       [0.7401694 , 0.2598306 ],\n",
       "       [0.46077825, 0.53922175],\n",
       "       [0.87524949, 0.12475051],\n",
       "       [0.97819319, 0.02180681],\n",
       "       [0.10278616, 0.89721384],\n",
       "       [0.19029506, 0.80970494],\n",
       "       [0.0562419 , 0.9437581 ],\n",
       "       [0.99751217, 0.00248783],\n",
       "       [0.15771411, 0.84228589],\n",
       "       [0.54535645, 0.45464355],\n",
       "       [0.9123823 , 0.0876177 ],\n",
       "       [0.28324641, 0.71675359],\n",
       "       [0.57005251, 0.42994749],\n",
       "       [0.87832339, 0.12167661],\n",
       "       [0.48524251, 0.51475749],\n",
       "       [0.93661005, 0.06338995],\n",
       "       [0.45230045, 0.54769955],\n",
       "       [0.89635285, 0.10364715],\n",
       "       [0.93461104, 0.06538896],\n",
       "       [0.80407841, 0.19592159],\n",
       "       [0.84464685, 0.15535315],\n",
       "       [0.81670528, 0.18329472],\n",
       "       [0.87761443, 0.12238557],\n",
       "       [0.22827603, 0.77172397],\n",
       "       [0.36400465, 0.63599535],\n",
       "       [0.94689595, 0.05310405],\n",
       "       [0.63964815, 0.36035185],\n",
       "       [0.61418939, 0.38581061],\n",
       "       [0.72167561, 0.27832439],\n",
       "       [0.26450439, 0.73549561],\n",
       "       [0.70021464, 0.29978536],\n",
       "       [0.40127118, 0.59872882],\n",
       "       [0.56475961, 0.43524039],\n",
       "       [0.58200176, 0.41799824],\n",
       "       [0.86289248, 0.13710752],\n",
       "       [0.82453461, 0.17546539],\n",
       "       [0.88947632, 0.11052368],\n",
       "       [0.4422746 , 0.5577254 ],\n",
       "       [0.91334328, 0.08665672],\n",
       "       [0.20202335, 0.79797665],\n",
       "       [0.68180035, 0.31819965],\n",
       "       [0.2862507 , 0.7137493 ],\n",
       "       [0.90274619, 0.09725381],\n",
       "       [0.44272089, 0.55727911],\n",
       "       [0.17608572, 0.82391428],\n",
       "       [0.92034769, 0.07965231],\n",
       "       [0.82447283, 0.17552717],\n",
       "       [0.8067343 , 0.1932657 ],\n",
       "       [0.20723663, 0.79276337],\n",
       "       [0.64876754, 0.35123246],\n",
       "       [0.78243439, 0.21756561],\n",
       "       [0.33191228, 0.66808772],\n",
       "       [0.83307647, 0.16692353],\n",
       "       [0.51411938, 0.48588062],\n",
       "       [0.42565867, 0.57434133],\n",
       "       [0.13395822, 0.86604178],\n",
       "       [0.40056403, 0.59943597],\n",
       "       [0.93269377, 0.06730623],\n",
       "       [0.89980604, 0.10019396],\n",
       "       [0.93407308, 0.06592692],\n",
       "       [0.66206475, 0.33793525],\n",
       "       [0.85059413, 0.14940587],\n",
       "       [0.86437034, 0.13562966],\n",
       "       [0.69151391, 0.30848609],\n",
       "       [0.71957433, 0.28042567],\n",
       "       [0.66283557, 0.33716443],\n",
       "       [0.94154125, 0.05845875],\n",
       "       [0.58774846, 0.41225154],\n",
       "       [0.93832501, 0.06167499],\n",
       "       [0.94454443, 0.05545557],\n",
       "       [0.91018194, 0.08981806],\n",
       "       [0.29502507, 0.70497493],\n",
       "       [0.3845752 , 0.6154248 ],\n",
       "       [0.7541687 , 0.2458313 ],\n",
       "       [0.7402466 , 0.2597534 ],\n",
       "       [0.68644046, 0.31355954],\n",
       "       [0.9107212 , 0.0892788 ],\n",
       "       [0.46426867, 0.53573133],\n",
       "       [0.74246512, 0.25753488],\n",
       "       [0.93735688, 0.06264312],\n",
       "       [0.72154947, 0.27845053],\n",
       "       [0.91058839, 0.08941161],\n",
       "       [0.95997058, 0.04002942],\n",
       "       [0.84012945, 0.15987055],\n",
       "       [0.99565077, 0.00434923],\n",
       "       [0.96771602, 0.03228398],\n",
       "       [0.86611369, 0.13388631],\n",
       "       [0.56355211, 0.43644789],\n",
       "       [0.58477299, 0.41522701],\n",
       "       [0.12207942, 0.87792058],\n",
       "       [0.81875294, 0.18124706],\n",
       "       [0.77812851, 0.22187149],\n",
       "       [0.34454794, 0.65545206],\n",
       "       [0.70696845, 0.29303155],\n",
       "       [0.99266041, 0.00733959],\n",
       "       [0.16844464, 0.83155536],\n",
       "       [0.900318  , 0.099682  ],\n",
       "       [0.9744875 , 0.0255125 ],\n",
       "       [0.37535688, 0.62464312],\n",
       "       [0.88428948, 0.11571052],\n",
       "       [0.1490921 , 0.8509079 ],\n",
       "       [0.73161971, 0.26838029],\n",
       "       [0.83290367, 0.16709633],\n",
       "       [0.83816159, 0.16183841],\n",
       "       [0.96364158, 0.03635842],\n",
       "       [0.16460173, 0.83539827],\n",
       "       [0.32085564, 0.67914436],\n",
       "       [0.68866644, 0.31133356],\n",
       "       [0.93081008, 0.06918992],\n",
       "       [0.26764762, 0.73235238],\n",
       "       [0.77821811, 0.22178189],\n",
       "       [0.66030043, 0.33969957],\n",
       "       [0.91717026, 0.08282974],\n",
       "       [0.91448133, 0.08551867],\n",
       "       [0.8929078 , 0.1070922 ],\n",
       "       [0.71629462, 0.28370538],\n",
       "       [0.89712179, 0.10287821],\n",
       "       [0.37930827, 0.62069173],\n",
       "       [0.86370159, 0.13629841],\n",
       "       [0.55359947, 0.44640053],\n",
       "       [0.76623284, 0.23376716],\n",
       "       [0.1163635 , 0.8836365 ],\n",
       "       [0.21396357, 0.78603643],\n",
       "       [0.3952159 , 0.6047841 ],\n",
       "       [0.91543083, 0.08456917],\n",
       "       [0.33583002, 0.66416998],\n",
       "       [0.85859612, 0.14140388],\n",
       "       [0.81647465, 0.18352535],\n",
       "       [0.67590591, 0.32409409],\n",
       "       [0.78788767, 0.21211233],\n",
       "       [0.9495019 , 0.0504981 ],\n",
       "       [0.22358731, 0.77641269],\n",
       "       [0.85314134, 0.14685866],\n",
       "       [0.71729109, 0.28270891],\n",
       "       [0.19937021, 0.80062979],\n",
       "       [0.67407434, 0.32592566],\n",
       "       [0.46497364, 0.53502636],\n",
       "       [0.79866329, 0.20133671],\n",
       "       [0.47179325, 0.52820675],\n",
       "       [0.81827152, 0.18172848],\n",
       "       [0.19429566, 0.80570434],\n",
       "       [0.87808525, 0.12191475],\n",
       "       [0.34342118, 0.65657882],\n",
       "       [0.75653532, 0.24346468],\n",
       "       [0.88954334, 0.11045666],\n",
       "       [0.96216968, 0.03783032],\n",
       "       [0.48413429, 0.51586571],\n",
       "       [0.80724934, 0.19275066],\n",
       "       [0.69454383, 0.30545617],\n",
       "       [0.77112756, 0.22887244],\n",
       "       [0.53423173, 0.46576827],\n",
       "       [0.89874299, 0.10125701],\n",
       "       [0.68575622, 0.31424378],\n",
       "       [0.33932543, 0.66067457],\n",
       "       [0.71815348, 0.28184652],\n",
       "       [0.93512992, 0.06487008],\n",
       "       [0.74063983, 0.25936017],\n",
       "       [0.71368505, 0.28631495],\n",
       "       [0.98167203, 0.01832797],\n",
       "       [0.58914544, 0.41085456],\n",
       "       [0.81452228, 0.18547772],\n",
       "       [0.67700289, 0.32299711],\n",
       "       [0.6953572 , 0.3046428 ],\n",
       "       [0.21806579, 0.78193421],\n",
       "       [0.01772234, 0.98227766],\n",
       "       [0.96202456, 0.03797544],\n",
       "       [0.50783362, 0.49216638],\n",
       "       [0.23162488, 0.76837512],\n",
       "       [0.96519431, 0.03480569],\n",
       "       [0.88767616, 0.11232384],\n",
       "       [0.7833889 , 0.2166111 ],\n",
       "       [0.74425937, 0.25574063],\n",
       "       [0.48183482, 0.51816518],\n",
       "       [0.54921219, 0.45078781],\n",
       "       [0.84595845, 0.15404155],\n",
       "       [0.88464259, 0.11535741],\n",
       "       [0.66581067, 0.33418933],\n",
       "       [0.51572645, 0.48427355],\n",
       "       [0.80794334, 0.19205666],\n",
       "       [0.98607233, 0.01392767],\n",
       "       [0.9497856 , 0.0502144 ],\n",
       "       [0.49188067, 0.50811933],\n",
       "       [0.832874  , 0.167126  ],\n",
       "       [0.21207779, 0.78792221],\n",
       "       [0.92393509, 0.07606491],\n",
       "       [0.20696485, 0.79303515],\n",
       "       [0.70917169, 0.29082831],\n",
       "       [0.89530319, 0.10469681],\n",
       "       [0.83504519, 0.16495481],\n",
       "       [0.96125809, 0.03874191]])"
      ]
     },
     "execution_count": 41,
     "metadata": {},
     "output_type": "execute_result"
    }
   ],
   "source": [
    "# prediction probability\n",
    "y_pred_proba = model.predict_proba(x_test)\n",
    "y_pred_proba"
   ]
  },
  {
   "cell_type": "raw",
   "id": "cdecee85",
   "metadata": {},
   "source": [
    "# First 5 class probability, threshold value = 0.5 (bydefault)\n",
    "[    0            1    ]\n",
    "[0.91636267, 0.08363733], >> 0\n",
    "[0.32428013, 0.67571987], >> 1\n",
    "[0.74017864, 0.25982136], >> 0\n",
    "[0.46076794, 0.53923206], >> 1\n",
    "[0.87524548, 0.12475452], >> 0"
   ]
  },
  {
   "cell_type": "code",
   "execution_count": null,
   "id": "988f9a00",
   "metadata": {},
   "outputs": [
    {
     "name": "stdout",
     "output_type": "stream",
     "text": [
      "Confusion Matrix:\n",
      " [[108  17]\n",
      " [ 30  37]]\n",
      "*********************************************\n",
      "Accuracy Score: 0.7552083333333334\n",
      "*********************************************\n",
      "Classification report:\n",
      "               precision    recall  f1-score   support\n",
      "\n",
      "           0       0.78      0.86      0.82       125\n",
      "           1       0.69      0.55      0.61        67\n",
      "\n",
      "    accuracy                           0.76       192\n",
      "   macro avg       0.73      0.71      0.72       192\n",
      "weighted avg       0.75      0.76      0.75       192\n",
      "\n"
     ]
    }
   ],
   "source": [
    "# Testing data\n",
    "cnf_matrix = confusion_matrix(y_test, y_pred)\n",
    "print(\"Confusion Matrix:\\n\",cnf_matrix)\n",
    "\n",
    "print(\"*\"*45)\n",
    "accuracy = accuracy_score(y_test, y_pred)\n",
    "print(\"Accuracy Score:\",accuracy)\n",
    "print(\"*\"*45)\n",
    "\n",
    "clf_report = classification_report(y_test, y_pred)\n",
    "print(\"Classification report:\\n\",clf_report)"
   ]
  },
  {
   "cell_type": "code",
   "execution_count": null,
   "id": "87c35bff",
   "metadata": {},
   "outputs": [
    {
     "name": "stdout",
     "output_type": "stream",
     "text": [
      "Confusion Matrix:\n",
      " [[336  39]\n",
      " [ 83 118]]\n",
      "*********************************************\n",
      "Accuracy Score: 0.7881944444444444\n",
      "*********************************************\n",
      "Classification report:\n",
      "               precision    recall  f1-score   support\n",
      "\n",
      "           0       0.80      0.90      0.85       375\n",
      "           1       0.75      0.59      0.66       201\n",
      "\n",
      "    accuracy                           0.79       576\n",
      "   macro avg       0.78      0.74      0.75       576\n",
      "weighted avg       0.78      0.79      0.78       576\n",
      "\n"
     ]
    }
   ],
   "source": [
    "# Training data\n",
    "\n",
    "# prediction\n",
    "y_pred_train = model.predict(x_train)\n",
    "\n",
    "cnf_matrix = confusion_matrix(y_train, y_pred_train)\n",
    "print(\"Confusion Matrix:\\n\",cnf_matrix)\n",
    "\n",
    "# Visualization\n",
    "\n",
    "print(\"*\"*45)\n",
    "accuracy = accuracy_score(y_train, y_pred_train)\n",
    "print(\"Accuracy Score:\",accuracy)\n",
    "print(\"*\"*45)\n",
    "\n",
    "clf_report = classification_report(y_train, y_pred_train)\n",
    "print(\"Classification report:\\n\",clf_report)"
   ]
  },
  {
   "cell_type": "code",
   "execution_count": null,
   "id": "bb2f109c",
   "metadata": {},
   "outputs": [
    {
     "data": {
      "text/plain": [
       "0.7825520833333334"
      ]
     },
     "execution_count": 65,
     "metadata": {},
     "output_type": "execute_result"
    }
   ],
   "source": [
    "# Weighted Average\n",
    "#Precision\n",
    "((0.80 * 375) +(0.75 * 201))/ (375 + 201)"
   ]
  },
  {
   "cell_type": "code",
   "execution_count": null,
   "id": "40d0184f",
   "metadata": {},
   "outputs": [
    {
     "data": {
      "text/plain": [
       "0.7918229166666666"
      ]
     },
     "execution_count": 67,
     "metadata": {},
     "output_type": "execute_result"
    }
   ],
   "source": [
    "# Weighted Average\n",
    "#Recall\n",
    "((0.90 * 375) +(0.59 * 201)) / (375 +201)"
   ]
  },
  {
   "cell_type": "code",
   "execution_count": null,
   "id": "8e86812a-a09a-4569-a783-939986b24be2",
   "metadata": {},
   "outputs": [
    {
     "data": {
      "text/plain": [
       "0.745"
      ]
     },
     "execution_count": 74,
     "metadata": {},
     "output_type": "execute_result"
    }
   ],
   "source": [
    "# macro average\n",
    "# recall\n",
    "(0.90 +0.59)/2"
   ]
  },
  {
   "cell_type": "code",
   "execution_count": null,
   "id": "877183b2-ff51-40ba-9e63-9449ee334f8d",
   "metadata": {},
   "outputs": [
    {
     "data": {
      "text/plain": [
       "0.775"
      ]
     },
     "execution_count": 75,
     "metadata": {},
     "output_type": "execute_result"
    }
   ],
   "source": [
    "# macro average\n",
    "# precision\n",
    "(0.80 +0.75)/2"
   ]
  },
  {
   "cell_type": "raw",
   "id": "35e2fe0d-9b73-461f-8821-37a8e24cbbec",
   "metadata": {},
   "source": [
    "Confusion Matrix:\n",
    "Predicted Values\n",
    " [[336  39]   Actual Values\n",
    " [ 83 118]]   Actual Values\n",
    "    \n",
    "TN = 336\n",
    "TP = 118\n",
    "FP = 39\n",
    "FN = 83"
   ]
  },
  {
   "cell_type": "code",
   "execution_count": null,
   "id": "7a02720a",
   "metadata": {},
   "outputs": [
    {
     "data": {
      "text/plain": [
       "0.7881944444444444"
      ]
     },
     "execution_count": 26,
     "metadata": {},
     "output_type": "execute_result"
    }
   ],
   "source": [
    "# Accuracy = TP + TN/(TP+TN+FP+FN)\n",
    "\n",
    "Accuracy = (118+336)/(118+336+39+83)\n",
    "Accuracy"
   ]
  },
  {
   "cell_type": "code",
   "execution_count": null,
   "id": "f7cfb809",
   "metadata": {},
   "outputs": [
    {
     "data": {
      "text/plain": [
       "0.7515923566878981"
      ]
     },
     "execution_count": 27,
     "metadata": {},
     "output_type": "execute_result"
    }
   ],
   "source": [
    "# Precision for class 1  --> We are considering class 1 i.e. Positive class\n",
    "# Precision = TP/(TP+FP)\n",
    "Precision_1 = 118/(118+39)\n",
    "Precision_1"
   ]
  },
  {
   "cell_type": "code",
   "execution_count": null,
   "id": "cda7c3b6",
   "metadata": {},
   "outputs": [
    {
     "data": {
      "text/plain": [
       "0.801909307875895"
      ]
     },
     "execution_count": 28,
     "metadata": {},
     "output_type": "execute_result"
    }
   ],
   "source": [
    "# Precision for class 0  --> Consider Negative class\n",
    "# Precision = TN/(TN+FN)\n",
    "Precision_0 = 336/(336+83)\n",
    "Precision_0"
   ]
  },
  {
   "cell_type": "markdown",
   "id": "b753ac7e",
   "metadata": {},
   "source": [
    "# AUC-ROC Curve"
   ]
  },
  {
   "cell_type": "code",
   "execution_count": null,
   "id": "2d0218ae",
   "metadata": {},
   "outputs": [
    {
     "data": {
      "text/plain": [
       "array([       inf, 0.99272316, 0.97542302, 0.96591727, 0.95922065,\n",
       "       0.91751158, 0.9165327 , 0.90790184, 0.89685792, 0.8140372 ,\n",
       "       0.80568517, 0.79994312, 0.7973031 , 0.77792856, 0.77732392,\n",
       "       0.77281851, 0.76976966, 0.76621664, 0.76442532, 0.76340717,\n",
       "       0.75949424, 0.75691959, 0.75068341, 0.74135842, 0.73192939,\n",
       "       0.72943604, 0.72936709, 0.7154264 , 0.71070672, 0.69338368,\n",
       "       0.68829083, 0.68281176, 0.67949085, 0.67213013, 0.66875056,\n",
       "       0.66568239, 0.66309598, 0.64848877, 0.64828155, 0.63826096,\n",
       "       0.63456225, 0.6290813 , 0.61663908, 0.61119904, 0.60699552,\n",
       "       0.59991807, 0.59167685, 0.58769838, 0.5848232 , 0.58040023,\n",
       "       0.57596775, 0.55408624, 0.55320955, 0.53791236, 0.53666152,\n",
       "       0.5306205 , 0.5292856 , 0.5134771 , 0.51142691, 0.51017968,\n",
       "       0.50623077, 0.50347369, 0.49850892, 0.49774348, 0.49325904,\n",
       "       0.4921982 , 0.48503586, 0.48208929, 0.47931482, 0.47685791,\n",
       "       0.47638825, 0.46301172, 0.45993164, 0.45272095, 0.44426218,\n",
       "       0.44368683, 0.44144046, 0.43869186, 0.43866242, 0.43633676,\n",
       "       0.42821038, 0.42732334, 0.42598543, 0.41985019, 0.41963048,\n",
       "       0.40957457, 0.40778099, 0.39548441, 0.39429942, 0.39418716,\n",
       "       0.39161842, 0.38865254, 0.38814181, 0.38798674, 0.37686302,\n",
       "       0.37550001, 0.37126233, 0.36799097, 0.35507415, 0.35316447,\n",
       "       0.35093713, 0.35087939, 0.35040857, 0.34998518, 0.34709288,\n",
       "       0.34416079, 0.32158744, 0.32077388, 0.31902337, 0.31076067,\n",
       "       0.31050893, 0.30211741, 0.295727  , 0.29418469, 0.29261669,\n",
       "       0.29094574, 0.29056779, 0.29008104, 0.28758205, 0.28527121,\n",
       "       0.28217531, 0.28115502, 0.27689204, 0.27232238, 0.26713227,\n",
       "       0.2662177 , 0.25690614, 0.25572965, 0.25543974, 0.25502565,\n",
       "       0.25304632, 0.25275756, 0.2475846 , 0.24484671, 0.24160278,\n",
       "       0.23860518, 0.23515176, 0.23448317, 0.23205897, 0.22787897,\n",
       "       0.22365862, 0.22086412, 0.21820159, 0.21654702, 0.21226554,\n",
       "       0.2120969 , 0.21148238, 0.21011208, 0.20643031, 0.20601918,\n",
       "       0.20069777, 0.20022581, 0.19675546, 0.19672446, 0.17039656,\n",
       "       0.17014482, 0.16959384, 0.1693893 , 0.15989522, 0.1592203 ,\n",
       "       0.15047741, 0.14874256, 0.13677917, 0.13666273, 0.13046217,\n",
       "       0.12856748, 0.12537542, 0.12489527, 0.11551061, 0.11537866,\n",
       "       0.11325688, 0.11293675, 0.10306725, 0.10245439, 0.09619951,\n",
       "       0.09591018, 0.03420837, 0.03256265, 0.0237742 , 0.02272632,\n",
       "       0.0150289 , 0.01455315, 0.00259765])"
      ]
     },
     "execution_count": 57,
     "metadata": {},
     "output_type": "execute_result"
    }
   ],
   "source": [
    "# prediction probability\n",
    "y_pred_proba = model.predict_proba(x_train)\n",
    "y_pred_proba[:,1]  # We are getting class 1 probability\n",
    "\n",
    "fpr, tpr, thresh = roc_curve(y_train, y_pred_proba[:,1])\n",
    "thresh"
   ]
  },
  {
   "cell_type": "code",
   "execution_count": null,
   "id": "39464e40-c404-4b8e-9ce8-1997d6657890",
   "metadata": {},
   "outputs": [
    {
     "data": {
      "image/png": "[encoded data removed]",
      "text/plain": [
       "<Figure size 640x480 with 1 Axes>"
      ]
     },
     "metadata": {},
     "output_type": "display_data"
    }
   ],
   "source": [
    "# Plot AUC-ROC\n",
    "plt.plot(fpr,tpr)\n",
    "plt.xlabel(\"False Positive Rate -->\")\n",
    "plt.ylabel(\"True Positive Rate -->\")\n",
    "title = plt.title(\"Receiver Operating Characteristics\") "
   ]
  },
  {
   "cell_type": "code",
   "execution_count": null,
   "id": "90026415",
   "metadata": {},
   "outputs": [
    {
     "data": {
      "text/plain": [
       "0.104"
      ]
     },
     "execution_count": 40,
     "metadata": {},
     "output_type": "execute_result"
    }
   ],
   "source": [
    "# [[336  39]\n",
    "#  [ 83 118]]\n",
    "\n",
    "TP = 118\n",
    "TN = 336\n",
    "FP = 39\n",
    "FN = 83\n",
    "\n",
    "fpr = FP/(FP+TN)\n",
    "fpr = 39/(39+336)\n",
    "fpr"
   ]
  },
  {
   "cell_type": "code",
   "execution_count": null,
   "id": "4531315d",
   "metadata": {},
   "outputs": [],
   "source": [
    "# Calculate AUC"
   ]
  },
  {
   "cell_type": "code",
   "execution_count": null,
   "id": "5832ff81",
   "metadata": {},
   "outputs": [
    {
     "data": {
      "text/plain": [
       "0.8404112769485904"
      ]
     },
     "execution_count": 60,
     "metadata": {},
     "output_type": "execute_result"
    }
   ],
   "source": [
    "# 1 way \n",
    "auc_value = roc_auc_score(y_train, y_pred_proba[:,1])\n",
    "auc_value"
   ]
  },
  {
   "cell_type": "code",
   "execution_count": null,
   "id": "039d2a0b",
   "metadata": {},
   "outputs": [
    {
     "data": {
      "text/plain": [
       "0.8404112769485904"
      ]
     },
     "execution_count": 61,
     "metadata": {},
     "output_type": "execute_result"
    }
   ],
   "source": [
    "# 2nd way\n",
    "auc_value = auc(fpr, tpr)\n",
    "auc_value"
   ]
  },
  {
   "cell_type": "code",
   "execution_count": null,
   "id": "07fededa",
   "metadata": {},
   "outputs": [],
   "source": []
  }
 ],
 "metadata": {
  "kernelspec": {
   "display_name": "base",
   "language": "python",
   "name": "python3"
  },
  "language_info": {
   "codemirror_mode": {
    "name": "ipython",
    "version": 3
   },
   "file_extension": ".py",
   "mimetype": "text/x-python",
   "name": "python",
   "nbconvert_exporter": "python",
   "pygments_lexer": "ipython3",
   "version": "3.11.5"
  }
 },
 "nbformat": 4,
 "nbformat_minor": 5
}
