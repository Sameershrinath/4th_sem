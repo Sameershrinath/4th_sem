{
 "cells": [
  {
   "cell_type": "markdown",
   "id": "c48976ac",
   "metadata": {},
   "source": [
    "# NumPy Array"
   ]
  },
  {
   "cell_type": "code",
   "execution_count": 1,
   "id": "ccb3b41b",
   "metadata": {},
   "outputs": [],
   "source": [
    "import numpy as np"
   ]
  },
  {
   "cell_type": "code",
   "execution_count": 2,
   "id": "f0c75581",
   "metadata": {},
   "outputs": [
    {
     "data": {
      "text/plain": [
       "array([], dtype=float64)"
      ]
     },
     "execution_count": 2,
     "metadata": {},
     "output_type": "execute_result"
    }
   ],
   "source": [
    "# create empty numpy array\n",
    "a1 = np.array([])\n",
    "a1"
   ]
  },
  {
   "cell_type": "code",
   "execution_count": null,
   "id": "9280107d",
   "metadata": {},
   "outputs": [],
   "source": [
    "import numpy as np\n",
    "arr1 = np.array([1,3,4)\n",
    "arr1"
   ]
  },
  {
   "cell_type": "code",
   "execution_count": 3,
   "id": "6b2e554c",
   "metadata": {},
   "outputs": [
    {
     "name": "stdout",
     "output_type": "stream",
     "text": [
      "[1 2 3 4 5 6] <class 'numpy.ndarray'> 6\n"
     ]
    }
   ],
   "source": [
    "import numpy as np\n",
    "\n",
    "array1 = np.array([1,2,3,4,5,6])\n",
    "print(array1,type(array1),len(array1))"
   ]
  },
  {
   "cell_type": "code",
   "execution_count": 4,
   "id": "99f1f65f",
   "metadata": {},
   "outputs": [
    {
     "name": "stdout",
     "output_type": "stream",
     "text": [
      "[1.  2.  3.  4.  5.5 6. ] <class 'numpy.ndarray'> 6\n"
     ]
    }
   ],
   "source": [
    "import numpy as np\n",
    "\n",
    "array1 = np.array([1,2,3,4,5.5,6])\n",
    "print(array1,type(array1),len(array1))"
   ]
  },
  {
   "cell_type": "code",
   "execution_count": 5,
   "id": "47fe1e2e",
   "metadata": {},
   "outputs": [
    {
     "name": "stdout",
     "output_type": "stream",
     "text": [
      "[[1. +0.j 2. +0.j]\n",
      " [3. +0.j 4. +0.j]\n",
      " [5.5+0.j 6. +2.j]] <class 'numpy.ndarray'> 3\n"
     ]
    }
   ],
   "source": [
    "import numpy as np\n",
    "\n",
    "array1 = np.array([[1,2],[3,4],[5.5,6+2j]])\n",
    "print(array1,type(array1),len(array1))"
   ]
  },
  {
   "cell_type": "code",
   "execution_count": 6,
   "id": "26627e89",
   "metadata": {},
   "outputs": [
    {
     "name": "stdout",
     "output_type": "stream",
     "text": [
      "['1' '2' '3' '4' '5.5' '(6+2j)' 'a'] <class 'numpy.ndarray'> 7\n"
     ]
    }
   ],
   "source": [
    "import numpy as np\n",
    "\n",
    "array1 = np.array([1,2,3,4,5.5,6+2j,\"a\"])\n",
    "print(array1,type(array1),len(array1))"
   ]
  },
  {
   "cell_type": "code",
   "execution_count": 7,
   "id": "0c054123",
   "metadata": {},
   "outputs": [
    {
     "ename": "SyntaxError",
     "evalue": "invalid syntax (2492401289.py, line 1)",
     "output_type": "error",
     "traceback": [
      "\u001b[1;36m  Cell \u001b[1;32mIn[7], line 1\u001b[1;36m\u001b[0m\n\u001b[1;33m    We can covert:\u001b[0m\n\u001b[1;37m       ^\u001b[0m\n\u001b[1;31mSyntaxError\u001b[0m\u001b[1;31m:\u001b[0m invalid syntax\n"
     ]
    }
   ],
   "source": [
    "We can covert:\n",
    "    int --> float\n",
    "    int --> complex\n",
    "    float --> int\n",
    "    float --> complex\n",
    "    complex ||--> int\n",
    "    complex ||--> float"
   ]
  },
  {
   "cell_type": "code",
   "execution_count": 8,
   "id": "3db174b5",
   "metadata": {},
   "outputs": [
    {
     "data": {
      "text/plain": [
       "array([3, 4, 5, 6])"
      ]
     },
     "execution_count": 8,
     "metadata": {},
     "output_type": "execute_result"
    }
   ],
   "source": [
    "arr = np.array([3,4,5,6])\n",
    "arr"
   ]
  },
  {
   "cell_type": "code",
   "execution_count": 9,
   "id": "bc076793",
   "metadata": {},
   "outputs": [
    {
     "data": {
      "text/plain": [
       "array([3., 4., 5., 6.])"
      ]
     },
     "execution_count": 9,
     "metadata": {},
     "output_type": "execute_result"
    }
   ],
   "source": [
    "arr = np.array([3,4,5,6], dtype='float')\n",
    "arr"
   ]
  },
  {
   "cell_type": "code",
   "execution_count": 10,
   "id": "2e129350",
   "metadata": {},
   "outputs": [
    {
     "data": {
      "text/plain": [
       "array([3.+0.j, 4.+0.j, 5.+0.j, 6.+0.j])"
      ]
     },
     "execution_count": 10,
     "metadata": {},
     "output_type": "execute_result"
    }
   ],
   "source": [
    "arr = np.array([3,4,5,6], dtype='complex')\n",
    "arr"
   ]
  },
  {
   "cell_type": "code",
   "execution_count": 11,
   "id": "93178561",
   "metadata": {},
   "outputs": [
    {
     "data": {
      "text/plain": [
       "array([3, 4, 5, 6])"
      ]
     },
     "execution_count": 11,
     "metadata": {},
     "output_type": "execute_result"
    }
   ],
   "source": [
    "arr = np.array([3,4.5,5,6], dtype='int')\n",
    "arr"
   ]
  },
  {
   "cell_type": "code",
   "execution_count": 12,
   "id": "ea101ea6",
   "metadata": {},
   "outputs": [
    {
     "data": {
      "text/plain": [
       "array([3. +0.j, 4.5+0.j, 5. +0.j, 6. +0.j])"
      ]
     },
     "execution_count": 12,
     "metadata": {},
     "output_type": "execute_result"
    }
   ],
   "source": [
    "arr = np.array([3,4.5,5,6], dtype='complex')\n",
    "arr"
   ]
  },
  {
   "cell_type": "code",
   "execution_count": 13,
   "id": "63bfb1b1",
   "metadata": {},
   "outputs": [
    {
     "ename": "TypeError",
     "evalue": "int() argument must be a string, a bytes-like object or a real number, not 'complex'",
     "output_type": "error",
     "traceback": [
      "\u001b[1;31m---------------------------------------------------------------------------\u001b[0m",
      "\u001b[1;31mTypeError\u001b[0m                                 Traceback (most recent call last)",
      "Cell \u001b[1;32mIn[13], line 1\u001b[0m\n\u001b[1;32m----> 1\u001b[0m arr \u001b[38;5;241m=\u001b[39m np\u001b[38;5;241m.\u001b[39marray([\u001b[38;5;241m3\u001b[39m,\u001b[38;5;241m4.5\u001b[39m,\u001b[38;5;241m5\u001b[39m,\u001b[38;5;241m6\u001b[39m\u001b[38;5;241m+\u001b[39m\u001b[38;5;241m2\u001b[39mj], dtype\u001b[38;5;241m=\u001b[39m\u001b[38;5;124m'\u001b[39m\u001b[38;5;124mint\u001b[39m\u001b[38;5;124m'\u001b[39m)\n\u001b[0;32m      2\u001b[0m arr\n",
      "\u001b[1;31mTypeError\u001b[0m: int() argument must be a string, a bytes-like object or a real number, not 'complex'"
     ]
    }
   ],
   "source": [
    "arr = np.array([3,4.5,5,6+2j], dtype='int')\n",
    "arr"
   ]
  },
  {
   "cell_type": "code",
   "execution_count": null,
   "id": "ae10d207",
   "metadata": {},
   "outputs": [],
   "source": [
    "arr = np.array([3,4.5,5,6+2j], dtype='float')\n",
    "arr"
   ]
  },
  {
   "cell_type": "code",
   "execution_count": 14,
   "id": "2756066a",
   "metadata": {},
   "outputs": [
    {
     "data": {
      "text/plain": [
       "array([3, 4.5, 5, 6], dtype=object)"
      ]
     },
     "execution_count": 14,
     "metadata": {},
     "output_type": "execute_result"
    }
   ],
   "source": [
    "\n",
    "\n",
    "\n",
    "\n",
    "arr = np.array([3,4.5,5,6], dtype='object')\n",
    "arr"
   ]
  },
  {
   "cell_type": "markdown",
   "id": "85a5710b",
   "metadata": {},
   "source": [
    "# Dimensions in array"
   ]
  },
  {
   "cell_type": "code",
   "execution_count": 15,
   "id": "761004f7",
   "metadata": {},
   "outputs": [
    {
     "ename": "SyntaxError",
     "evalue": "invalid syntax (1627303787.py, line 1)",
     "output_type": "error",
     "traceback": [
      "\u001b[1;36m  Cell \u001b[1;32mIn[15], line 1\u001b[1;36m\u001b[0m\n\u001b[1;33m    synatx:\u001b[0m\n\u001b[1;37m           ^\u001b[0m\n\u001b[1;31mSyntaxError\u001b[0m\u001b[1;31m:\u001b[0m invalid syntax\n"
     ]
    }
   ],
   "source": [
    "synatx:\n",
    "    array.ndim"
   ]
  },
  {
   "cell_type": "markdown",
   "id": "021798f0",
   "metadata": {},
   "source": [
    "## 0-D dimensional array"
   ]
  },
  {
   "cell_type": "code",
   "execution_count": 16,
   "id": "73376b44",
   "metadata": {},
   "outputs": [
    {
     "name": "stdout",
     "output_type": "stream",
     "text": [
      "12\n",
      "Dimensions of array are: 0\n"
     ]
    }
   ],
   "source": [
    "arr0 = np.array(12)\n",
    "print(arr0)\n",
    "print(\"Dimensions of array are:\",arr0.ndim)"
   ]
  },
  {
   "cell_type": "code",
   "execution_count": 17,
   "id": "9ed175a6",
   "metadata": {},
   "outputs": [
    {
     "name": "stdout",
     "output_type": "stream",
     "text": [
      "7.2154\n",
      "Dimensions of array are: 0\n"
     ]
    }
   ],
   "source": [
    "arr0 = np.array(7.2154)\n",
    "print(arr0)\n",
    "print(\"Dimensions of array are:\",arr0.ndim)"
   ]
  },
  {
   "cell_type": "markdown",
   "id": "c6b5588a",
   "metadata": {},
   "source": [
    "## 1-D dimensional array"
   ]
  },
  {
   "cell_type": "code",
   "execution_count": 18,
   "id": "61cd1e8a",
   "metadata": {},
   "outputs": [
    {
     "name": "stdout",
     "output_type": "stream",
     "text": [
      "[1 2 3 4 5 6]\n",
      "Dimensions of array is: 1\n",
      "Shape of 1-D array (6,)\n"
     ]
    }
   ],
   "source": [
    "# 1-D >> 1 square bracket\n",
    "\n",
    "arr1 = np.array([1,2,3,4,5,6])\n",
    "print(arr1)\n",
    "print(\"Dimensions of array is:\",arr1.ndim)\n",
    "print(\"Shape of 1-D array\",arr1.shape)\n",
    "\n",
    "# 1-D --> made up of no. of 0-D arrays"
   ]
  },
  {
   "cell_type": "code",
   "execution_count": 24,
   "id": "37d3e8ec",
   "metadata": {},
   "outputs": [
    {
     "name": "stdout",
     "output_type": "stream",
     "text": [
      "Dimensions of array is: 1\n"
     ]
    },
    {
     "data": {
      "text/plain": [
       "array([1. , 2.5, 3. , 4. , 5. , 6. ])"
      ]
     },
     "execution_count": 24,
     "metadata": {},
     "output_type": "execute_result"
    }
   ],
   "source": [
    "# 1-D >> 1 square bracket\n",
    "\n",
    "arr1 = np.array([1,2.5,3,4,5,6])\n",
    "print(\"Dimensions of array is:\",arr1.ndim)\n",
    "arr1"
   ]
  },
  {
   "cell_type": "markdown",
   "id": "5dd74ba9",
   "metadata": {},
   "source": [
    "## 2-D dimensional array"
   ]
  },
  {
   "cell_type": "code",
   "execution_count": 26,
   "id": "358c0fd7",
   "metadata": {},
   "outputs": [
    {
     "name": "stdout",
     "output_type": "stream",
     "text": [
      "[[1 2 3 4 5 6]]\n",
      "Dimensions of array are: 2\n"
     ]
    }
   ],
   "source": [
    "# 2-D >> 2 square bracket\n",
    "\n",
    "arr2 = np.array([[1,2,3,4,5,6]])\n",
    "print(arr2)\n",
    "print(\"Dimensions of array are:\",arr2.ndim)\n",
    "\n",
    "# 1-D --> made up of no. of 0-D arrays"
   ]
  },
  {
   "cell_type": "code",
   "execution_count": 28,
   "id": "ac540687",
   "metadata": {},
   "outputs": [
    {
     "name": "stdout",
     "output_type": "stream",
     "text": [
      "[[1 2]\n",
      " [3 4]\n",
      " [5 6]]\n",
      "Dimensions of array are: 2\n",
      "Shape of array is (3, 2)\n"
     ]
    }
   ],
   "source": [
    "# 2-D >> 2 square bracket\n",
    "\n",
    "arr2 = np.array([[1,2],[3,4],[5,6]])\n",
    "print(arr2)\n",
    "print(\"Dimensions of array are:\",arr2.ndim)\n",
    "print(\"Shape of array is\", arr2.shape)\n",
    "# 2-D --> made up of no. of 1-D arrays"
   ]
  },
  {
   "cell_type": "code",
   "execution_count": 29,
   "id": "6a79d1f9",
   "metadata": {},
   "outputs": [
    {
     "name": "stdout",
     "output_type": "stream",
     "text": [
      "[[11 12 13]\n",
      " [ 3  4  5]\n",
      " [ 5  6  7]]\n",
      "Dimensions of array are: 2\n",
      "Shape of array is (3, 3)\n"
     ]
    }
   ],
   "source": [
    "# 2-D >> 2 square bracket\n",
    "\n",
    "arr2 = np.array([[11,12,13],[3,4,5],[5,6,7]])\n",
    "print(arr2)\n",
    "print(\"Dimensions of array are:\",arr2.ndim)\n",
    "print(\"Shape of array is\", arr2.shape)\n",
    "\n",
    "# 2-D --> made up of no. of 1-D arrays"
   ]
  },
  {
   "cell_type": "code",
   "execution_count": 30,
   "id": "9147443a",
   "metadata": {},
   "outputs": [
    {
     "name": "stdout",
     "output_type": "stream",
     "text": [
      "[[1 2]\n",
      " [3 4]]\n",
      "Dimensions of array are: 2\n",
      "Shape of array is (2, 2)\n"
     ]
    }
   ],
   "source": [
    "# 2-D >> 2 square bracket\n",
    "\n",
    "arr2 = np.array([[1,2],[3,4]])\n",
    "print(arr2)\n",
    "print(\"Dimensions of array are:\",arr2.ndim)\n",
    "print(\"Shape of array is\", arr2.shape)\n",
    "# 2-D --> made up of no. of 1-D arrays"
   ]
  },
  {
   "cell_type": "code",
   "execution_count": 31,
   "id": "365c84eb",
   "metadata": {},
   "outputs": [
    {
     "name": "stdout",
     "output_type": "stream",
     "text": [
      "[list([1, 2]) list([3, 4, 5])]\n",
      "Dimensions of array are: 1\n",
      "Shape of array is (2,)\n"
     ]
    },
    {
     "name": "stderr",
     "output_type": "stream",
     "text": [
      "C:\\Users\\hp\\AppData\\Local\\Temp\\ipykernel_1192\\787926024.py:3: VisibleDeprecationWarning: Creating an ndarray from ragged nested sequences (which is a list-or-tuple of lists-or-tuples-or ndarrays with different lengths or shapes) is deprecated. If you meant to do this, you must specify 'dtype=object' when creating the ndarray.\n",
      "  arr2 = np.array([[1,2],[3,4,5]])\n"
     ]
    }
   ],
   "source": [
    "# 2-D >> 2 square bracket\n",
    "\n",
    "arr2 = np.array([[1,2],[3,4,5]])\n",
    "print(arr2)\n",
    "print(\"Dimensions of array are:\",arr2.ndim)\n",
    "print(\"Shape of array is\", arr2.shape)\n",
    "# 2-D --> made up of no. of 1-D arrays\n",
    "\n",
    "\n",
    "# All 0-D elements should be euqul in 1-D array "
   ]
  },
  {
   "cell_type": "code",
   "execution_count": 34,
   "id": "aa0ee4d6",
   "metadata": {},
   "outputs": [
    {
     "name": "stdout",
     "output_type": "stream",
     "text": [
      "[[1 2 5]\n",
      " [3 4 5]]\n",
      "Dimensions of array are: 2\n",
      "Shape of array is (2, 3)\n"
     ]
    }
   ],
   "source": [
    "# 2-D >> 2 square bracket\n",
    "\n",
    "arr2 = np.array([[1,2,5],[3,4,5]])\n",
    "print(arr2)\n",
    "print(\"Dimensions of array are:\",arr2.ndim)\n",
    "print(\"Shape of array is\", arr2.shape)\n",
    "\n",
    "# 2-D --> made up of no. of 1-D arrays\n",
    "\n",
    "\n",
    "# All 0-D elements should be euqul in 1-D array "
   ]
  },
  {
   "cell_type": "code",
   "execution_count": 35,
   "id": "1b9f7149",
   "metadata": {},
   "outputs": [
    {
     "name": "stdout",
     "output_type": "stream",
     "text": [
      "[[ 1  2  5]\n",
      " [ 3  4  5]\n",
      " [10 20 50]]\n",
      "Dimensions of array are: 2\n",
      "Shape of array is (3, 3)\n"
     ]
    }
   ],
   "source": [
    "arr2 = np.array([[1,2,5],[3,4,5], [10,20,50]])\n",
    "print(arr2)\n",
    "print(\"Dimensions of array are:\",arr2.ndim)\n",
    "print(\"Shape of array is\", arr2.shape)"
   ]
  },
  {
   "cell_type": "code",
   "execution_count": 36,
   "id": "da6eac3e",
   "metadata": {},
   "outputs": [
    {
     "name": "stdout",
     "output_type": "stream",
     "text": [
      "[[1 2 5]]\n",
      "Dimensions of array are: 2\n",
      "Shape of array is (1, 3)\n"
     ]
    }
   ],
   "source": [
    "arr2 = np.array([[1,2,5]])\n",
    "print(arr2)\n",
    "print(\"Dimensions of array are:\",arr2.ndim)\n",
    "print(\"Shape of array is\", arr2.shape)"
   ]
  },
  {
   "cell_type": "code",
   "execution_count": 37,
   "id": "e3328cf7",
   "metadata": {},
   "outputs": [
    {
     "name": "stdout",
     "output_type": "stream",
     "text": [
      "[1 2 5]\n",
      "Dimensions of array are: 1\n",
      "Shape of array is (3,)\n"
     ]
    }
   ],
   "source": [
    "arr2 = np.array(([1,2,5]))\n",
    "print(arr2)\n",
    "print(\"Dimensions of array are:\",arr2.ndim)\n",
    "print(\"Shape of array is\", arr2.shape)\n",
    "\n",
    "# tuple + list will not give you result"
   ]
  },
  {
   "cell_type": "code",
   "execution_count": 39,
   "id": "4b687848",
   "metadata": {},
   "outputs": [
    {
     "name": "stdout",
     "output_type": "stream",
     "text": [
      "[1 2 5]\n",
      "Dimensions of array are: 1\n",
      "Shape of array is (3,)\n"
     ]
    }
   ],
   "source": [
    "arr2 = np.array(((1,2,5)))\n",
    "print(arr2)\n",
    "print(\"Dimensions of array are:\",arr2.ndim)\n",
    "print(\"Shape of array is\", arr2.shape)\n",
    "\n",
    "# tuple + list will not give you result"
   ]
  },
  {
   "cell_type": "code",
   "execution_count": 40,
   "id": "c107b3e5",
   "metadata": {},
   "outputs": [
    {
     "data": {
      "text/plain": [
       "[1, 2, 5]"
      ]
     },
     "execution_count": 40,
     "metadata": {},
     "output_type": "execute_result"
    }
   ],
   "source": [
    "([1,2,5])"
   ]
  },
  {
   "cell_type": "markdown",
   "id": "be104aa7",
   "metadata": {},
   "source": [
    "## 3-D dimensional array"
   ]
  },
  {
   "cell_type": "code",
   "execution_count": 42,
   "id": "c7591cc2",
   "metadata": {},
   "outputs": [
    {
     "name": "stdout",
     "output_type": "stream",
     "text": [
      "Dimensions of array are: 3\n",
      "Shape of array is (1, 1, 7)\n",
      "[[[1 2 3 4 5 6 7]]]\n"
     ]
    }
   ],
   "source": [
    "# 3 square brackets >> 3-D\n",
    "\n",
    "arr3 = np.array([[[1,2,3,4,5,6,7]]])\n",
    "print(\"Dimensions of array are:\",arr3.ndim)\n",
    "print(\"Shape of array is\", arr3.shape)\n",
    "print(arr3)\n",
    "\n",
    "# 3-D array is made up of number of 2-D array"
   ]
  },
  {
   "cell_type": "code",
   "execution_count": 43,
   "id": "c1bf1021",
   "metadata": {},
   "outputs": [
    {
     "name": "stdout",
     "output_type": "stream",
     "text": [
      "Dimensions of array are: 3\n",
      "Shape of array is (1, 3, 2)\n",
      "[[[1 2]\n",
      "  [3 4]\n",
      "  [5 6]]]\n"
     ]
    }
   ],
   "source": [
    "arr3 = np.array([[[1,2],[3,4],[5,6]]])\n",
    "print(\"Dimensions of array are:\",arr3.ndim)\n",
    "print(\"Shape of array is\", arr3.shape)\n",
    "print(arr3)\n",
    "# shape >> [2D, 1D, 0D] --> (1,3,2)"
   ]
  },
  {
   "cell_type": "code",
   "execution_count": 48,
   "id": "84500a5e",
   "metadata": {},
   "outputs": [
    {
     "name": "stdout",
     "output_type": "stream",
     "text": [
      "Dimensions of array are: 3\n",
      "Shape of array is (3, 3, 2)\n",
      "[[[ 1  2]\n",
      "  [ 3  4]\n",
      "  [ 5  6]]\n",
      "\n",
      " [[11 12]\n",
      "  [13 14]\n",
      "  [15 16]]\n",
      "\n",
      " [[10 20]\n",
      "  [30 40]\n",
      "  [50 60]]]\n",
      "length of array 3\n"
     ]
    }
   ],
   "source": [
    "arr3 = np.array([[[1,2],[3,4],[5,6]], [[11,12],[13,14],[15,16]], [[10,20],[30,40],[50,60]]])\n",
    "print(\"Dimensions of array are:\",arr3.ndim)\n",
    "print(\"Shape of array is\", arr3.shape)\n",
    "print(arr3)\n",
    "# shape >> [2D, 1D, 0D] --> (3,3,2)\n",
    "\n",
    "print(\"length of array\", len(arr3))"
   ]
  },
  {
   "cell_type": "markdown",
   "id": "62fba044",
   "metadata": {},
   "source": [
    "## 4-D dimensional array"
   ]
  },
  {
   "cell_type": "code",
   "execution_count": 49,
   "id": "a2096317",
   "metadata": {},
   "outputs": [
    {
     "name": "stdout",
     "output_type": "stream",
     "text": [
      "Dimensions of array are: 4\n",
      "Shape of array is (1, 1, 1, 6)\n",
      "[[[[1 2 4 5 6 7]]]]\n"
     ]
    }
   ],
   "source": [
    "# 4 sqaure brackets --> 4 D array\n",
    "\n",
    "arr4 = np.array([[[[1,2,4,5,6,7]]]])\n",
    "print(\"Dimensions of array are:\",arr4.ndim)\n",
    "print(\"Shape of array is\", arr4.shape)   # [3D, 2D, 1D, 0D]\n",
    "print(arr4)"
   ]
  },
  {
   "cell_type": "markdown",
   "id": "90a57028",
   "metadata": {},
   "source": [
    "# Indexing and Slicing"
   ]
  },
  {
   "cell_type": "markdown",
   "id": "9d743f4d",
   "metadata": {},
   "source": [
    "## 1-D"
   ]
  },
  {
   "cell_type": "code",
   "execution_count": 51,
   "id": "8005dc73",
   "metadata": {},
   "outputs": [
    {
     "data": {
      "text/plain": [
       "8"
      ]
     },
     "execution_count": 51,
     "metadata": {},
     "output_type": "execute_result"
    }
   ],
   "source": [
    "# indexing\n",
    "arr1 = np.array([1,2,3,4,8])\n",
    "arr1[4]"
   ]
  },
  {
   "cell_type": "code",
   "execution_count": 9,
   "id": "98ce0fc3",
   "metadata": {},
   "outputs": [
    {
     "data": {
      "text/plain": [
       "'E:\\\\Data Science\\\\daily Class\\\\Daily class topics\\\\Python\\\\8_30 Numpy'"
      ]
     },
     "execution_count": 9,
     "metadata": {},
     "output_type": "execute_result"
    }
   ],
   "source": [
    "import os\n",
    "os.listdir()\n",
    "os.getcwd()"
   ]
  },
  {
   "cell_type": "code",
   "execution_count": 52,
   "id": "a84af952",
   "metadata": {},
   "outputs": [
    {
     "data": {
      "text/plain": [
       "1"
      ]
     },
     "execution_count": 52,
     "metadata": {},
     "output_type": "execute_result"
    }
   ],
   "source": [
    "arr1 = np.array([1,2,3,4,8])\n",
    "arr1[0]"
   ]
  },
  {
   "cell_type": "code",
   "execution_count": 53,
   "id": "0fde5e9a",
   "metadata": {},
   "outputs": [
    {
     "data": {
      "text/plain": [
       "array([30, 40, 80, 70])"
      ]
     },
     "execution_count": 53,
     "metadata": {},
     "output_type": "execute_result"
    }
   ],
   "source": [
    "# slicing\n",
    "\n",
    "arr1 = np.array([10,20,30,40,80,70,60])\n",
    "arr1[2:6]  #[2,3,4,5]"
   ]
  },
  {
   "cell_type": "code",
   "execution_count": 54,
   "id": "b02633ae",
   "metadata": {},
   "outputs": [
    {
     "data": {
      "text/plain": [
       "array([40, 80])"
      ]
     },
     "execution_count": 54,
     "metadata": {},
     "output_type": "execute_result"
    }
   ],
   "source": [
    "# slicing\n",
    "\n",
    "arr1 = np.array([10,20,30,40,80,70,60])\n",
    "arr1[3:5] "
   ]
  },
  {
   "cell_type": "code",
   "execution_count": 55,
   "id": "8a5db801",
   "metadata": {},
   "outputs": [
    {
     "data": {
      "text/plain": [
       "array([80])"
      ]
     },
     "execution_count": 55,
     "metadata": {},
     "output_type": "execute_result"
    }
   ],
   "source": [
    "# slicing\n",
    "\n",
    "arr1 = np.array([10,20,30,40,80,70,60])\n",
    "arr1[4:5] "
   ]
  },
  {
   "cell_type": "code",
   "execution_count": 56,
   "id": "d3c2e89a",
   "metadata": {},
   "outputs": [
    {
     "data": {
      "text/plain": [
       "array([60, 70, 80, 40, 30, 20, 10])"
      ]
     },
     "execution_count": 56,
     "metadata": {},
     "output_type": "execute_result"
    }
   ],
   "source": [
    "# reverse the arry\n",
    "\n",
    "arr1 = np.array([10,20,30,40,80,70,60])\n",
    "arr1[::-1]"
   ]
  },
  {
   "cell_type": "code",
   "execution_count": 57,
   "id": "5d5487e3",
   "metadata": {},
   "outputs": [
    {
     "data": {
      "text/plain": [
       "array([10, 20, 30, 40, 80, 70, 60])"
      ]
     },
     "execution_count": 57,
     "metadata": {},
     "output_type": "execute_result"
    }
   ],
   "source": [
    "arr1 = np.array([10,20,30,40,80,70,60])\n",
    "arr1[::]"
   ]
  },
  {
   "cell_type": "code",
   "execution_count": 58,
   "id": "9e91bb6f",
   "metadata": {},
   "outputs": [
    {
     "data": {
      "text/plain": [
       "array([10, 30, 80, 60])"
      ]
     },
     "execution_count": 58,
     "metadata": {},
     "output_type": "execute_result"
    }
   ],
   "source": [
    "arr1 = np.array([10,20,30,40,80,70,60])\n",
    "arr1[::2]"
   ]
  },
  {
   "cell_type": "code",
   "execution_count": 59,
   "id": "0e642571",
   "metadata": {},
   "outputs": [
    {
     "data": {
      "text/plain": [
       "array([10, 40, 60])"
      ]
     },
     "execution_count": 59,
     "metadata": {},
     "output_type": "execute_result"
    }
   ],
   "source": [
    "arr1 = np.array([10,20,30,40,80,70,60])\n",
    "arr1[::3]"
   ]
  },
  {
   "cell_type": "markdown",
   "id": "aafb1e80",
   "metadata": {},
   "source": [
    "# 2-D"
   ]
  },
  {
   "cell_type": "code",
   "execution_count": 60,
   "id": "f2a7a8f7",
   "metadata": {},
   "outputs": [
    {
     "data": {
      "text/plain": [
       "array([[4, 5],\n",
       "       [6, 7],\n",
       "       [8, 9]])"
      ]
     },
     "execution_count": 60,
     "metadata": {},
     "output_type": "execute_result"
    }
   ],
   "source": [
    "# indexing\n",
    "\n",
    "arr2 = np.array([[4,5],[6,7],[8,9]])\n",
    "arr2"
   ]
  },
  {
   "cell_type": "code",
   "execution_count": 61,
   "id": "bdee6b86",
   "metadata": {},
   "outputs": [
    {
     "data": {
      "text/plain": [
       "array([4, 5])"
      ]
     },
     "execution_count": 61,
     "metadata": {},
     "output_type": "execute_result"
    }
   ],
   "source": [
    "arr2 = np.array([[4,5],[6,7],[8,9]])\n",
    "arr2[0]"
   ]
  },
  {
   "cell_type": "code",
   "execution_count": 62,
   "id": "4133ddda",
   "metadata": {},
   "outputs": [
    {
     "data": {
      "text/plain": [
       "5"
      ]
     },
     "execution_count": 62,
     "metadata": {},
     "output_type": "execute_result"
    }
   ],
   "source": [
    "arr2 = np.array([[4,5],[6,7],[8,9]])\n",
    "arr2[0][1]"
   ]
  },
  {
   "cell_type": "code",
   "execution_count": 63,
   "id": "423cddbd",
   "metadata": {},
   "outputs": [
    {
     "data": {
      "text/plain": [
       "8"
      ]
     },
     "execution_count": 63,
     "metadata": {},
     "output_type": "execute_result"
    }
   ],
   "source": [
    "arr2 = np.array([[4,5],[6,7],[8,9]])\n",
    "arr2[2][0]"
   ]
  },
  {
   "cell_type": "code",
   "execution_count": 65,
   "id": "33442cab",
   "metadata": {},
   "outputs": [
    {
     "name": "stdout",
     "output_type": "stream",
     "text": [
      "[[4 5]\n",
      " [6 7]\n",
      " [8 9]]\n"
     ]
    },
    {
     "data": {
      "text/plain": [
       "8"
      ]
     },
     "execution_count": 65,
     "metadata": {},
     "output_type": "execute_result"
    }
   ],
   "source": [
    "arr2 = np.array([[4,5],[6,7],[8,9]])\n",
    "print(arr2)\n",
    "arr2[2,0]"
   ]
  },
  {
   "cell_type": "code",
   "execution_count": 67,
   "id": "dcdaa4c3",
   "metadata": {},
   "outputs": [
    {
     "data": {
      "text/plain": [
       "6"
      ]
     },
     "execution_count": 67,
     "metadata": {},
     "output_type": "execute_result"
    }
   ],
   "source": [
    "arr2 = np.array([[4,5],[6,7],[8,9]])\n",
    "# print(arr2)\n",
    "arr2[1,0]"
   ]
  },
  {
   "cell_type": "markdown",
   "id": "729949ca",
   "metadata": {},
   "source": [
    "### slicing"
   ]
  },
  {
   "cell_type": "code",
   "execution_count": 70,
   "id": "de13cb16",
   "metadata": {},
   "outputs": [
    {
     "data": {
      "text/plain": [
       "array([[ 4,  5, 10],\n",
       "       [ 6,  7, 20],\n",
       "       [ 8,  9, 30]])"
      ]
     },
     "execution_count": 70,
     "metadata": {},
     "output_type": "execute_result"
    }
   ],
   "source": [
    "arr2 = np.array([[4,5,10],[6,7,20],[8,9,30]])\n",
    "arr2"
   ]
  },
  {
   "cell_type": "code",
   "execution_count": 72,
   "id": "497536cf",
   "metadata": {},
   "outputs": [
    {
     "data": {
      "text/plain": [
       "array([[ 4,  5, 10],\n",
       "       [ 6,  7, 20],\n",
       "       [ 8,  9, 30]])"
      ]
     },
     "execution_count": 72,
     "metadata": {},
     "output_type": "execute_result"
    }
   ],
   "source": [
    "arr2 = np.array([[4,5,10],[6,7,20],[8,9,30]])\n",
    "arr2[:,:]  # [No. of rows, No. of columns]"
   ]
  },
  {
   "cell_type": "code",
   "execution_count": 73,
   "id": "c72eba65",
   "metadata": {},
   "outputs": [
    {
     "data": {
      "text/plain": [
       "array([[4, 5],\n",
       "       [6, 7],\n",
       "       [8, 9]])"
      ]
     },
     "execution_count": 73,
     "metadata": {},
     "output_type": "execute_result"
    }
   ],
   "source": [
    "arr2 = np.array([[4,5,10],[6,7,20],[8,9,30]])\n",
    "arr2[:,0:2]  # [All rows, [0th and 1st] column]"
   ]
  },
  {
   "cell_type": "code",
   "execution_count": 74,
   "id": "1dbb774e",
   "metadata": {},
   "outputs": [
    {
     "data": {
      "text/plain": [
       "array([[5],\n",
       "       [7],\n",
       "       [9]])"
      ]
     },
     "execution_count": 74,
     "metadata": {},
     "output_type": "execute_result"
    }
   ],
   "source": [
    "arr2 = np.array([[4,5,10],[6,7,20],[8,9,30]])\n",
    "arr2[:,1:2] "
   ]
  },
  {
   "cell_type": "code",
   "execution_count": 75,
   "id": "2ee8dd9d",
   "metadata": {},
   "outputs": [
    {
     "data": {
      "text/plain": [
       "array([5, 7, 9])"
      ]
     },
     "execution_count": 75,
     "metadata": {},
     "output_type": "execute_result"
    }
   ],
   "source": [
    "arr2 = np.array([[4,5,10],[6,7,20],[8,9,30]])\n",
    "arr2[:,1]"
   ]
  },
  {
   "cell_type": "code",
   "execution_count": 77,
   "id": "50866198",
   "metadata": {},
   "outputs": [
    {
     "data": {
      "text/plain": [
       "array([[ 4,  5, 10],\n",
       "       [ 6,  7, 20],\n",
       "       [ 8,  9, 30]])"
      ]
     },
     "execution_count": 77,
     "metadata": {},
     "output_type": "execute_result"
    }
   ],
   "source": [
    "arr2"
   ]
  },
  {
   "cell_type": "code",
   "execution_count": 76,
   "id": "8070a2c8",
   "metadata": {},
   "outputs": [
    {
     "data": {
      "text/plain": [
       "array([4, 6, 8])"
      ]
     },
     "execution_count": 76,
     "metadata": {},
     "output_type": "execute_result"
    }
   ],
   "source": [
    "arr2 = np.array([[4,5,10],[6,7,20],[8,9,30]])\n",
    "arr2[:,0] "
   ]
  },
  {
   "cell_type": "code",
   "execution_count": 78,
   "id": "7b7bd5c3",
   "metadata": {},
   "outputs": [
    {
     "data": {
      "text/plain": [
       "array([[ 7, 20],\n",
       "       [ 9, 30]])"
      ]
     },
     "execution_count": 78,
     "metadata": {},
     "output_type": "execute_result"
    }
   ],
   "source": [
    "arr2 = np.array([[4,5,10],[6,7,20],[8,9,30]])\n",
    "arr2[1:3,1:3] "
   ]
  },
  {
   "cell_type": "code",
   "execution_count": 79,
   "id": "2162da5e",
   "metadata": {},
   "outputs": [
    {
     "data": {
      "text/plain": [
       "array([6, 8])"
      ]
     },
     "execution_count": 79,
     "metadata": {},
     "output_type": "execute_result"
    }
   ],
   "source": [
    "arr2 = np.array([[4,5,10],[6,7,20],[8,9,30]])\n",
    "arr2[1:,0] "
   ]
  },
  {
   "cell_type": "code",
   "execution_count": 80,
   "id": "a1951c6b",
   "metadata": {},
   "outputs": [
    {
     "data": {
      "text/plain": [
       "array([[ 4,  5, 10],\n",
       "       [ 6,  7, 20],\n",
       "       [ 8,  9, 30]])"
      ]
     },
     "execution_count": 80,
     "metadata": {},
     "output_type": "execute_result"
    }
   ],
   "source": [
    "arr2"
   ]
  },
  {
   "cell_type": "code",
   "execution_count": 81,
   "id": "5b167889",
   "metadata": {},
   "outputs": [
    {
     "data": {
      "text/plain": [
       "9"
      ]
     },
     "execution_count": 81,
     "metadata": {},
     "output_type": "execute_result"
    }
   ],
   "source": [
    "arr2 = np.array([[4,5,10],[6,7,20],[8,9,30]])\n",
    "arr2[2,1] "
   ]
  },
  {
   "cell_type": "code",
   "execution_count": 82,
   "id": "9cb5e345",
   "metadata": {},
   "outputs": [
    {
     "data": {
      "text/plain": [
       "array([ 4,  5, 10])"
      ]
     },
     "execution_count": 82,
     "metadata": {},
     "output_type": "execute_result"
    }
   ],
   "source": [
    "arr2 = np.array([[4,5,10],[6,7,20],[8,9,30]])\n",
    "arr2[0,:] "
   ]
  },
  {
   "cell_type": "code",
   "execution_count": 84,
   "id": "2f173d93",
   "metadata": {},
   "outputs": [
    {
     "data": {
      "text/plain": [
       "array([[ 4,  5, 10],\n",
       "       [ 6,  7, 20],\n",
       "       [ 8,  9, 30],\n",
       "       [10, 20, 30],\n",
       "       [16, 17, 12],\n",
       "       [44, 45, 10]])"
      ]
     },
     "execution_count": 84,
     "metadata": {},
     "output_type": "execute_result"
    }
   ],
   "source": [
    "arr2 = np.array([[4,5,10],[6,7,20],[8,9,30],[10,20,30],[16,17,12], [44,45,10]])\n",
    "arr2"
   ]
  },
  {
   "cell_type": "code",
   "execution_count": 86,
   "id": "b0871544",
   "metadata": {},
   "outputs": [
    {
     "data": {
      "text/plain": [
       "array([[ 8,  9],\n",
       "       [10, 20]])"
      ]
     },
     "execution_count": 86,
     "metadata": {},
     "output_type": "execute_result"
    }
   ],
   "source": [
    "arr2[2:4,0:2]"
   ]
  },
  {
   "cell_type": "code",
   "execution_count": 87,
   "id": "4784578f",
   "metadata": {},
   "outputs": [
    {
     "data": {
      "text/plain": [
       "array([[ 7, 20],\n",
       "       [ 9, 30]])"
      ]
     },
     "execution_count": 87,
     "metadata": {},
     "output_type": "execute_result"
    }
   ],
   "source": [
    "arr2[1:3,1:3]"
   ]
  },
  {
   "cell_type": "code",
   "execution_count": 88,
   "id": "800a5393",
   "metadata": {},
   "outputs": [
    {
     "data": {
      "text/plain": [
       "array([[20, 30],\n",
       "       [17, 12],\n",
       "       [45, 10]])"
      ]
     },
     "execution_count": 88,
     "metadata": {},
     "output_type": "execute_result"
    }
   ],
   "source": [
    "arr2[3:,1:]"
   ]
  },
  {
   "cell_type": "markdown",
   "id": "af693f66",
   "metadata": {},
   "source": [
    "## 3-D"
   ]
  },
  {
   "cell_type": "code",
   "execution_count": 93,
   "id": "745d7aa6",
   "metadata": {},
   "outputs": [
    {
     "name": "stdout",
     "output_type": "stream",
     "text": [
      "Dimensions of array are: 3\n",
      "shape of array is: (3, 3, 2)\n"
     ]
    }
   ],
   "source": [
    "arr3 = np.array([[[2,1],[4,5],[9,7]],[[21,11],[14,15],[19,71]],[[20,10],[40,50],[90,70]]])\n",
    "print(\"Dimensions of array are:\", arr3.ndim)\n",
    "print(\"shape of array is:\", arr3.shape)"
   ]
  },
  {
   "cell_type": "code",
   "execution_count": 94,
   "id": "cd6a7838",
   "metadata": {},
   "outputs": [
    {
     "data": {
      "text/plain": [
       "array([[[ 2,  1],\n",
       "        [ 4,  5],\n",
       "        [ 9,  7]],\n",
       "\n",
       "       [[21, 11],\n",
       "        [14, 15],\n",
       "        [19, 71]],\n",
       "\n",
       "       [[20, 10],\n",
       "        [40, 50],\n",
       "        [90, 70]]])"
      ]
     },
     "execution_count": 94,
     "metadata": {},
     "output_type": "execute_result"
    }
   ],
   "source": [
    "# Indexing\n",
    "arr3 = np.array([[[2,1],[4,5],[9,7]],[[21,11],[14,15],[19,71]],[[20,10],[40,50],[90,70]]])\n",
    "arr3"
   ]
  },
  {
   "cell_type": "code",
   "execution_count": 97,
   "id": "dadb7c3f",
   "metadata": {},
   "outputs": [
    {
     "data": {
      "text/plain": [
       "4"
      ]
     },
     "execution_count": 97,
     "metadata": {},
     "output_type": "execute_result"
    }
   ],
   "source": [
    "# Indexing\n",
    "arr3 = np.array([[[2,1],[4,5],[9,7]],[[21,11],[14,15],[19,71]],[[20,10],[40,50],[90,70]]])\n",
    "arr3[0][1][0]"
   ]
  },
  {
   "cell_type": "code",
   "execution_count": 100,
   "id": "71b3cf95",
   "metadata": {},
   "outputs": [
    {
     "data": {
      "text/plain": [
       "50"
      ]
     },
     "execution_count": 100,
     "metadata": {},
     "output_type": "execute_result"
    }
   ],
   "source": [
    "# Indexing\n",
    "arr3 = np.array([[[2,1],[4,5],[9,7]],[[21,11],[14,15],[19,71]],[[20,10],[40,50],[90,70]]])\n",
    "arr3[2,1,1]   # [2-d, 1-D, 0-D]"
   ]
  },
  {
   "cell_type": "code",
   "execution_count": 101,
   "id": "d3bbe8e3",
   "metadata": {},
   "outputs": [
    {
     "data": {
      "text/plain": [
       "11"
      ]
     },
     "execution_count": 101,
     "metadata": {},
     "output_type": "execute_result"
    }
   ],
   "source": [
    "# Indexing\n",
    "arr3 = np.array([[[2,1],[4,5],[9,7]],[[21,11],[14,15],[19,71]],[[20,10],[40,50],[90,70]]])\n",
    "arr3[1,0,1]   # [2-d, 1-D, 0-D]"
   ]
  },
  {
   "cell_type": "code",
   "execution_count": 102,
   "id": "0ba2aad1",
   "metadata": {},
   "outputs": [
    {
     "data": {
      "text/plain": [
       "array([[[ 2,  1],\n",
       "        [ 4,  5],\n",
       "        [ 9,  7]],\n",
       "\n",
       "       [[21, 11],\n",
       "        [14, 15],\n",
       "        [19, 71]],\n",
       "\n",
       "       [[20, 10],\n",
       "        [40, 50],\n",
       "        [90, 70]]])"
      ]
     },
     "execution_count": 102,
     "metadata": {},
     "output_type": "execute_result"
    }
   ],
   "source": [
    "# slicing\n",
    "arr3 = np.array([[[2,1],[4,5],[9,7]],[[21,11],[14,15],[19,71]],[[20,10],[40,50],[90,70]]])\n",
    "arr3"
   ]
  },
  {
   "cell_type": "code",
   "execution_count": 104,
   "id": "cf489748",
   "metadata": {},
   "outputs": [
    {
     "data": {
      "text/plain": [
       "array([[[ 2,  1],\n",
       "        [ 4,  5],\n",
       "        [ 9,  7]],\n",
       "\n",
       "       [[21, 11],\n",
       "        [14, 15],\n",
       "        [19, 71]],\n",
       "\n",
       "       [[20, 10],\n",
       "        [40, 50],\n",
       "        [90, 70]]])"
      ]
     },
     "execution_count": 104,
     "metadata": {},
     "output_type": "execute_result"
    }
   ],
   "source": [
    "arr3[:, :, :]"
   ]
  },
  {
   "cell_type": "code",
   "execution_count": 105,
   "id": "6c536629",
   "metadata": {},
   "outputs": [
    {
     "data": {
      "text/plain": [
       "array([[21, 11],\n",
       "       [14, 15],\n",
       "       [19, 71]])"
      ]
     },
     "execution_count": 105,
     "metadata": {},
     "output_type": "execute_result"
    }
   ],
   "source": [
    "arr3[1, :, :]"
   ]
  },
  {
   "cell_type": "code",
   "execution_count": 107,
   "id": "16ffc2c0",
   "metadata": {},
   "outputs": [
    {
     "data": {
      "text/plain": [
       "array([11, 15, 71])"
      ]
     },
     "execution_count": 107,
     "metadata": {},
     "output_type": "execute_result"
    }
   ],
   "source": [
    "arr3[1, :, 1]"
   ]
  },
  {
   "cell_type": "code",
   "execution_count": 108,
   "id": "ff1f4db3",
   "metadata": {},
   "outputs": [
    {
     "data": {
      "text/plain": [
       "array([14, 15])"
      ]
     },
     "execution_count": 108,
     "metadata": {},
     "output_type": "execute_result"
    }
   ],
   "source": [
    "arr3[1, 1, :]"
   ]
  },
  {
   "cell_type": "code",
   "execution_count": 111,
   "id": "b0ecc6b8",
   "metadata": {},
   "outputs": [
    {
     "data": {
      "text/plain": [
       "array([21, 11])"
      ]
     },
     "execution_count": 111,
     "metadata": {},
     "output_type": "execute_result"
    }
   ],
   "source": [
    "arr3[1,0,:]"
   ]
  },
  {
   "cell_type": "code",
   "execution_count": 112,
   "id": "4984f608",
   "metadata": {},
   "outputs": [
    {
     "data": {
      "text/plain": [
       "array([[[ 2,  1],\n",
       "        [ 4,  5],\n",
       "        [ 9,  7]],\n",
       "\n",
       "       [[21, 11],\n",
       "        [14, 15],\n",
       "        [19, 71]],\n",
       "\n",
       "       [[20, 10],\n",
       "        [40, 50],\n",
       "        [90, 70]]])"
      ]
     },
     "execution_count": 112,
     "metadata": {},
     "output_type": "execute_result"
    }
   ],
   "source": [
    "arr3"
   ]
  },
  {
   "cell_type": "code",
   "execution_count": 113,
   "id": "bd2e1ed1",
   "metadata": {},
   "outputs": [
    {
     "data": {
      "text/plain": [
       "array([10, 50, 70])"
      ]
     },
     "execution_count": 113,
     "metadata": {},
     "output_type": "execute_result"
    }
   ],
   "source": [
    "arr3[2,:,1]"
   ]
  },
  {
   "cell_type": "code",
   "execution_count": 3,
   "id": "308f83a3",
   "metadata": {},
   "outputs": [
    {
     "data": {
      "text/plain": [
       "array([[[ 2,  1,  2],\n",
       "        [ 4,  5,  4],\n",
       "        [ 9,  7,  9]],\n",
       "\n",
       "       [[21, 11, 21],\n",
       "        [14, 15, 14],\n",
       "        [19, 71, 19]],\n",
       "\n",
       "       [[20, 10, 20],\n",
       "        [40, 50, 40],\n",
       "        [90, 70, 90]]])"
      ]
     },
     "execution_count": 3,
     "metadata": {},
     "output_type": "execute_result"
    }
   ],
   "source": [
    "import numpy as np\n",
    "arr3 = np.array([[[2,1,2],[4,5,4],[9,7,9]],[[21,11,21],[14,15,14],[19,71,19]],[[20,10,20],[40,50,40],[90,70,90]]])\n",
    "arr3"
   ]
  },
  {
   "cell_type": "code",
   "execution_count": 4,
   "id": "c363d157",
   "metadata": {},
   "outputs": [
    {
     "data": {
      "text/plain": [
       "(3, 3, 3)"
      ]
     },
     "execution_count": 4,
     "metadata": {},
     "output_type": "execute_result"
    }
   ],
   "source": [
    "arr3.shape"
   ]
  },
  {
   "cell_type": "code",
   "execution_count": 7,
   "id": "746556e7",
   "metadata": {},
   "outputs": [
    {
     "data": {
      "text/plain": [
       "array([[21, 11],\n",
       "       [14, 15]])"
      ]
     },
     "execution_count": 7,
     "metadata": {},
     "output_type": "execute_result"
    }
   ],
   "source": [
    "arr3[1,:2,:2]"
   ]
  },
  {
   "cell_type": "code",
   "execution_count": 117,
   "id": "fa06222b",
   "metadata": {},
   "outputs": [
    {
     "data": {
      "text/plain": [
       "array([[[ 2,  1,  2],\n",
       "        [ 4,  5,  4],\n",
       "        [ 9,  7,  9]],\n",
       "\n",
       "       [[21, 11, 21],\n",
       "        [14, 15, 14],\n",
       "        [19, 71, 19]],\n",
       "\n",
       "       [[20, 10, 20],\n",
       "        [40, 50, 40],\n",
       "        [90, 70, 90]]])"
      ]
     },
     "execution_count": 117,
     "metadata": {},
     "output_type": "execute_result"
    }
   ],
   "source": [
    "arr3"
   ]
  },
  {
   "cell_type": "code",
   "execution_count": 118,
   "id": "ecf360f9",
   "metadata": {},
   "outputs": [
    {
     "data": {
      "text/plain": [
       "array([[ 1,  5,  7],\n",
       "       [11, 15, 71],\n",
       "       [10, 50, 70]])"
      ]
     },
     "execution_count": 118,
     "metadata": {},
     "output_type": "execute_result"
    }
   ],
   "source": [
    "arr3[:,:,1]"
   ]
  },
  {
   "cell_type": "markdown",
   "id": "151d22c1",
   "metadata": {},
   "source": [
    "# Convert to n-D array"
   ]
  },
  {
   "cell_type": "code",
   "execution_count": 119,
   "id": "5ec5073d",
   "metadata": {},
   "outputs": [
    {
     "name": "stdout",
     "output_type": "stream",
     "text": [
      "[3 4 5 6 7]\n",
      "Dimensions --> 1\n"
     ]
    }
   ],
   "source": [
    "arr1 = np.array([3,4,5,6,7])\n",
    "print(arr1)\n",
    "print(\"Dimensions -->\", arr1.ndim)"
   ]
  },
  {
   "cell_type": "code",
   "execution_count": 120,
   "id": "2babdfe3",
   "metadata": {},
   "outputs": [
    {
     "name": "stdout",
     "output_type": "stream",
     "text": [
      "[[3 4 5 6 7]]\n",
      "Dimensions --> 2\n"
     ]
    }
   ],
   "source": [
    "arr1 = np.array([3,4,5,6,7], ndmin = 2)\n",
    "print(arr1)\n",
    "print(\"Dimensions -->\", arr1.ndim)"
   ]
  },
  {
   "cell_type": "code",
   "execution_count": 121,
   "id": "4918b10c",
   "metadata": {},
   "outputs": [
    {
     "name": "stdout",
     "output_type": "stream",
     "text": [
      "[[[3 4 5 6 7]]]\n",
      "Dimensions --> 3\n"
     ]
    }
   ],
   "source": [
    "arr1 = np.array([3,4,5,6,7], ndmin = 3)\n",
    "print(arr1)\n",
    "print(\"Dimensions -->\", arr1.ndim)"
   ]
  },
  {
   "cell_type": "code",
   "execution_count": 122,
   "id": "20954cbf",
   "metadata": {},
   "outputs": [
    {
     "name": "stdout",
     "output_type": "stream",
     "text": [
      "[[[[3 4 5 6 7]]]]\n",
      "Dimensions --> 4\n"
     ]
    }
   ],
   "source": [
    "arr1 = np.array([3,4,5,6,7], ndmin = 4)\n",
    "print(arr1)\n",
    "print(\"Dimensions -->\", arr1.ndim)"
   ]
  },
  {
   "cell_type": "code",
   "execution_count": 123,
   "id": "99b64259",
   "metadata": {},
   "outputs": [
    {
     "name": "stdout",
     "output_type": "stream",
     "text": [
      "[[[3 4]\n",
      "  [5 6]\n",
      "  [7 8]]]\n",
      "Dimensions --> 3\n"
     ]
    }
   ],
   "source": [
    "arr1 = np.array([[3,4],[5,6],[7,8]], ndmin = 3)\n",
    "print(arr1)\n",
    "print(\"Dimensions -->\", arr1.ndim)"
   ]
  },
  {
   "cell_type": "code",
   "execution_count": 124,
   "id": "57f08d4c",
   "metadata": {},
   "outputs": [
    {
     "name": "stdout",
     "output_type": "stream",
     "text": [
      "[[3 4]\n",
      " [5 6]\n",
      " [7 8]]\n",
      "Dimensions --> 2\n"
     ]
    }
   ],
   "source": [
    "arr1 = np.array([[3,4],[5,6],[7,8]], ndmin = 1)\n",
    "print(arr1)\n",
    "print(\"Dimensions -->\", arr1.ndim)\n",
    "\n",
    "# it will not convert 2D into 1D"
   ]
  },
  {
   "cell_type": "code",
   "execution_count": 125,
   "id": "fff75066",
   "metadata": {},
   "outputs": [
    {
     "name": "stdout",
     "output_type": "stream",
     "text": [
      "[[[[3 4]\n",
      "   [5 6]\n",
      "   [7 8]]]]\n",
      "Dimensions --> 4\n"
     ]
    }
   ],
   "source": [
    "arr1 = np.array([[3,4],[5,6],[7,8]], ndmin = 4)\n",
    "print(arr1)\n",
    "print(\"Dimensions -->\", arr1.ndim)"
   ]
  },
  {
   "cell_type": "markdown",
   "id": "15f7f9a2",
   "metadata": {},
   "source": [
    "# Reshape Function"
   ]
  },
  {
   "cell_type": "code",
   "execution_count": null,
   "id": "a9881059",
   "metadata": {},
   "outputs": [],
   "source": [
    "Used to convert \n",
    "    1D --> 2D or vice versa\n",
    "    1D --> 3D or vice versa\n",
    "    2D --> 3D or vice versa\n",
    "    3D --> 4D or vice versa\n",
    "    \n",
    "It is according to shape of dimensions of array.\n",
    "1D shape >> (6,)  >> 6\n",
    "2D Shape >> (3, 2) >> 6\n",
    "3D Shape >> (1, 3, 2) >> 6"
   ]
  },
  {
   "cell_type": "code",
   "execution_count": 130,
   "id": "59fe7bf7",
   "metadata": {},
   "outputs": [
    {
     "data": {
      "text/plain": [
       "(12,)"
      ]
     },
     "execution_count": 130,
     "metadata": {},
     "output_type": "execute_result"
    }
   ],
   "source": [
    "arr1 = np.array([1,2,4,5,6,7,8,10,20,30,40,45])\n",
    "arr1.shape"
   ]
  },
  {
   "cell_type": "code",
   "execution_count": null,
   "id": "1a3752a5",
   "metadata": {},
   "outputs": [],
   "source": [
    "12 Elements -->\n",
    "2 D >> (1,12), (2,6), (3,4), (4,3), (6,2), (12,1)\n",
    "3 D >> (1,1,12), (1,2,6), (2,2,3), (6,2,1), (4,3,1)"
   ]
  },
  {
   "cell_type": "code",
   "execution_count": 9,
   "id": "1ce3a8ce",
   "metadata": {},
   "outputs": [
    {
     "data": {
      "text/plain": [
       "array([[ 1,  2,  4,  5,  6,  7],\n",
       "       [ 8, 10, 20, 30, 40, 45]])"
      ]
     },
     "execution_count": 9,
     "metadata": {},
     "output_type": "execute_result"
    }
   ],
   "source": [
    "import numpy as np\n",
    "arr1 = np.array([1,2,4,5,6,7,8,10,20,30,40,45])\n",
    "arr1.reshape(2,6)"
   ]
  },
  {
   "cell_type": "code",
   "execution_count": 4,
   "id": "fdc291ac",
   "metadata": {},
   "outputs": [
    {
     "data": {
      "text/plain": [
       "array([[ 1,  2,  4,  5],\n",
       "       [ 6,  7,  8, 10],\n",
       "       [20, 30, 40, 45]])"
      ]
     },
     "execution_count": 4,
     "metadata": {},
     "output_type": "execute_result"
    }
   ],
   "source": [
    "arr1 = np.array([1,2,4,5,6,7,8,10,20,30,40,45])\n",
    "arr1.reshape(3,4)"
   ]
  },
  {
   "cell_type": "code",
   "execution_count": 133,
   "id": "c340ae92",
   "metadata": {},
   "outputs": [
    {
     "data": {
      "text/plain": [
       "array([[ 1,  2],\n",
       "       [ 4,  5],\n",
       "       [ 6,  7],\n",
       "       [ 8, 10],\n",
       "       [20, 30],\n",
       "       [40, 45]])"
      ]
     },
     "execution_count": 133,
     "metadata": {},
     "output_type": "execute_result"
    }
   ],
   "source": [
    "arr1 = np.array([1,2,4,5,6,7,8,10,20,30,40,45])\n",
    "arr1.reshape(6,2)"
   ]
  },
  {
   "cell_type": "code",
   "execution_count": 134,
   "id": "dcf40c97",
   "metadata": {},
   "outputs": [
    {
     "data": {
      "text/plain": [
       "array([[[ 1,  2,  4,  5,  6,  7],\n",
       "        [ 8, 10, 20, 30, 40, 45]]])"
      ]
     },
     "execution_count": 134,
     "metadata": {},
     "output_type": "execute_result"
    }
   ],
   "source": [
    "arr1 = np.array([1,2,4,5,6,7,8,10,20,30,40,45])\n",
    "arr1.reshape(1,2,6)"
   ]
  },
  {
   "cell_type": "code",
   "execution_count": 135,
   "id": "51483c24",
   "metadata": {},
   "outputs": [
    {
     "data": {
      "text/plain": [
       "array([[[ 1,  2,  4],\n",
       "        [ 5,  6,  7]],\n",
       "\n",
       "       [[ 8, 10, 20],\n",
       "        [30, 40, 45]]])"
      ]
     },
     "execution_count": 135,
     "metadata": {},
     "output_type": "execute_result"
    }
   ],
   "source": [
    "arr1 = np.array([1,2,4,5,6,7,8,10,20,30,40,45])\n",
    "arr1.reshape(2,2,3)"
   ]
  },
  {
   "cell_type": "code",
   "execution_count": 136,
   "id": "bc7f9265",
   "metadata": {},
   "outputs": [
    {
     "data": {
      "text/plain": [
       "array([[[ 1],\n",
       "        [ 2],\n",
       "        [ 4]],\n",
       "\n",
       "       [[ 5],\n",
       "        [ 6],\n",
       "        [ 7]],\n",
       "\n",
       "       [[ 8],\n",
       "        [10],\n",
       "        [20]],\n",
       "\n",
       "       [[30],\n",
       "        [40],\n",
       "        [45]]])"
      ]
     },
     "execution_count": 136,
     "metadata": {},
     "output_type": "execute_result"
    }
   ],
   "source": [
    "arr1 = np.array([1,2,4,5,6,7,8,10,20,30,40,45])\n",
    "arr1.reshape(4,3,1)"
   ]
  },
  {
   "cell_type": "code",
   "execution_count": 20,
   "id": "748a4d14",
   "metadata": {},
   "outputs": [
    {
     "data": {
      "text/plain": [
       "array([[[ 1,  2,  4]],\n",
       "\n",
       "       [[ 5,  6,  7]],\n",
       "\n",
       "       [[ 8, 10, 20]],\n",
       "\n",
       "       [[30, 40, 45]]])"
      ]
     },
     "execution_count": 20,
     "metadata": {},
     "output_type": "execute_result"
    }
   ],
   "source": [
    "arr1 = np.array([1,2,4,5,6,7,8,10,20,30,40,45])\n",
    "arr1.reshape(4,1,3)"
   ]
  },
  {
   "cell_type": "code",
   "execution_count": 139,
   "id": "504cc583",
   "metadata": {},
   "outputs": [
    {
     "data": {
      "text/plain": [
       "array([[[ 1,  2,  4]],\n",
       "\n",
       "       [[ 5,  6,  7]],\n",
       "\n",
       "       [[ 8, 10, 20]],\n",
       "\n",
       "       [[30, 40, 45]]])"
      ]
     },
     "execution_count": 139,
     "metadata": {},
     "output_type": "execute_result"
    }
   ],
   "source": [
    "arr4 = np.array([[[ 1,  2,  4]],\n",
    "\n",
    "       [[ 5,  6,  7]],\n",
    "\n",
    "       [[ 8, 10, 20]],\n",
    "\n",
    "       [[30, 40, 45]]])\n",
    "arr4"
   ]
  },
  {
   "cell_type": "code",
   "execution_count": 140,
   "id": "b5beb8e4",
   "metadata": {},
   "outputs": [
    {
     "data": {
      "text/plain": [
       "array([[ 1,  2,  4],\n",
       "       [ 5,  6,  7],\n",
       "       [ 8, 10, 20],\n",
       "       [30, 40, 45]])"
      ]
     },
     "execution_count": 140,
     "metadata": {},
     "output_type": "execute_result"
    }
   ],
   "source": [
    "arr4.reshape(4,3)"
   ]
  },
  {
   "cell_type": "code",
   "execution_count": 141,
   "id": "fdbb1fb9",
   "metadata": {},
   "outputs": [
    {
     "data": {
      "text/plain": [
       "array([ 1,  2,  4,  5,  6,  7,  8, 10, 20, 30, 40, 45])"
      ]
     },
     "execution_count": 141,
     "metadata": {},
     "output_type": "execute_result"
    }
   ],
   "source": [
    "arr4.reshape(12,)"
   ]
  },
  {
   "cell_type": "markdown",
   "id": "59d90751",
   "metadata": {},
   "source": [
    "# Flattern the list"
   ]
  },
  {
   "cell_type": "code",
   "execution_count": 1,
   "id": "83618114",
   "metadata": {},
   "outputs": [
    {
     "data": {
      "text/plain": [
       "[[1, 2, 3, 4], [10, 20, 30, 40], [11, 12, 13, 14]]"
      ]
     },
     "execution_count": 1,
     "metadata": {},
     "output_type": "execute_result"
    }
   ],
   "source": [
    "lst = [[1,2,3,4],[10,20,30,40], [11,12,13,14]]\n",
    "lst"
   ]
  },
  {
   "cell_type": "code",
   "execution_count": 4,
   "id": "37355579",
   "metadata": {},
   "outputs": [
    {
     "data": {
      "text/plain": [
       "array([ 1,  2,  3,  4, 10, 20, 30, 40, 11, 12, 13, 14])"
      ]
     },
     "execution_count": 4,
     "metadata": {},
     "output_type": "execute_result"
    }
   ],
   "source": [
    "import numpy as np\n",
    "arr1 = np.array(lst)\n",
    "new_arr = arr1.reshape(12,)\n",
    "new_arr"
   ]
  },
  {
   "cell_type": "code",
   "execution_count": 148,
   "id": "19eea1f7",
   "metadata": {},
   "outputs": [
    {
     "data": {
      "text/plain": [
       "[1, 2, 3, 4, 10, 20, 30, 40, 11, 12, 13, 14]"
      ]
     },
     "execution_count": 148,
     "metadata": {},
     "output_type": "execute_result"
    }
   ],
   "source": [
    "new_arr.tolist()"
   ]
  },
  {
   "cell_type": "code",
   "execution_count": 147,
   "id": "9cee0672",
   "metadata": {},
   "outputs": [
    {
     "data": {
      "text/plain": [
       "list"
      ]
     },
     "execution_count": 147,
     "metadata": {},
     "output_type": "execute_result"
    }
   ],
   "source": [
    "type(new_arr.tolist())"
   ]
  },
  {
   "cell_type": "code",
   "execution_count": null,
   "id": "a490bd69",
   "metadata": {},
   "outputs": [],
   "source": []
  },
  {
   "cell_type": "code",
   "execution_count": 149,
   "id": "79a20641",
   "metadata": {},
   "outputs": [
    {
     "data": {
      "text/plain": [
       "[[1, 2, 3, 4], [10, 20, 30, 40], [11, 12, 13, 14]]"
      ]
     },
     "execution_count": 149,
     "metadata": {},
     "output_type": "execute_result"
    }
   ],
   "source": [
    "lst = [[1,2,3,4],[10,20,30,40], [11,12,13,14]]\n",
    "lst"
   ]
  },
  {
   "cell_type": "code",
   "execution_count": 10,
   "id": "dec170ef",
   "metadata": {},
   "outputs": [
    {
     "data": {
      "text/plain": [
       "[1, 2, 3, 4, 10, 20, 30, 40, 11, 12, 13, 14]"
      ]
     },
     "execution_count": 10,
     "metadata": {},
     "output_type": "execute_result"
    }
   ],
   "source": [
    "arr1 = np.array(lst)\n",
    "new_arr = arr1.reshape(-1)\n",
    "new_arr.tolist()"
   ]
  },
  {
   "cell_type": "code",
   "execution_count": 154,
   "id": "a48588d8",
   "metadata": {},
   "outputs": [
    {
     "data": {
      "text/plain": [
       "3"
      ]
     },
     "execution_count": 154,
     "metadata": {},
     "output_type": "execute_result"
    }
   ],
   "source": [
    "lst = [[1,2,3,4,5],\n",
    "       [10,20,30,40,8],\n",
    "       [11,12,13,14,7],\n",
    "       [10,20,30,40,8],\n",
    "       [10,20,30,40,8]]\n",
    "arr1 = np.array(lst)\n",
    "len(arr1)"
   ]
  },
  {
   "cell_type": "code",
   "execution_count": 6,
   "id": "f6c63134",
   "metadata": {},
   "outputs": [
    {
     "data": {
      "text/plain": [
       "array([[1],\n",
       "       [2],\n",
       "       [3],\n",
       "       [4],\n",
       "       [5],\n",
       "       [6],\n",
       "       [7]])"
      ]
     },
     "execution_count": 6,
     "metadata": {},
     "output_type": "execute_result"
    }
   ],
   "source": [
    "arr1 = np.array([1,2,3,4,5,6,7])\n",
    "arr1.reshape(7,1)"
   ]
  },
  {
   "cell_type": "code",
   "execution_count": 7,
   "id": "8e7c7877",
   "metadata": {},
   "outputs": [
    {
     "data": {
      "text/plain": [
       "array([[[1],\n",
       "        [2],\n",
       "        [3],\n",
       "        [4],\n",
       "        [5],\n",
       "        [6],\n",
       "        [7]]])"
      ]
     },
     "execution_count": 7,
     "metadata": {},
     "output_type": "execute_result"
    }
   ],
   "source": [
    "arr1 = np.array([1,2,3,4,5,6,7])\n",
    "arr1.reshape(1,7,1)"
   ]
  },
  {
   "cell_type": "code",
   "execution_count": 8,
   "id": "2a3dbd41",
   "metadata": {},
   "outputs": [
    {
     "data": {
      "text/plain": [
       "array([[[1, 2, 3, 4, 5, 6, 7]]])"
      ]
     },
     "execution_count": 8,
     "metadata": {},
     "output_type": "execute_result"
    }
   ],
   "source": [
    "arr1 = np.array([1,2,3,4,5,6,7])\n",
    "arr1.reshape(1,1,7)"
   ]
  },
  {
   "cell_type": "code",
   "execution_count": null,
   "id": "0fd67431",
   "metadata": {},
   "outputs": [],
   "source": []
  }
 ],
 "metadata": {
  "kernelspec": {
   "display_name": "Python 3 (ipykernel)",
   "language": "python",
   "name": "python3"
  },
  "language_info": {
   "codemirror_mode": {
    "name": "ipython",
    "version": 3
   },
   "file_extension": ".py",
   "mimetype": "text/x-python",
   "name": "python",
   "nbconvert_exporter": "python",
   "pygments_lexer": "ipython3",
   "version": "3.12.7"
  }
 },
 "nbformat": 4,
 "nbformat_minor": 5
}
