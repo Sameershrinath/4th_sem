{
 "cells": [
  {
   "cell_type": "markdown",
   "id": "08e51390",
   "metadata": {},
   "source": [
    "### NumPy Functions"
   ]
  },
  {
   "cell_type": "code",
   "execution_count": 1,
   "id": "8a538804",
   "metadata": {},
   "outputs": [],
   "source": [
    "import numpy as np"
   ]
  },
  {
   "cell_type": "code",
   "execution_count": 1,
   "id": "865231f7-958f-4a5f-9185-b7c4b408307e",
   "metadata": {},
   "outputs": [
    {
     "data": {
      "text/plain": [
       "['ArrowDtype',\n",
       " 'BooleanDtype',\n",
       " 'Categorical',\n",
       " 'CategoricalDtype',\n",
       " 'CategoricalIndex',\n",
       " 'DataFrame',\n",
       " 'DateOffset',\n",
       " 'DatetimeIndex',\n",
       " 'DatetimeTZDtype',\n",
       " 'ExcelFile',\n",
       " 'ExcelWriter',\n",
       " 'Flags',\n",
       " 'Float32Dtype',\n",
       " 'Float64Dtype',\n",
       " 'Grouper',\n",
       " 'HDFStore',\n",
       " 'Index',\n",
       " 'IndexSlice',\n",
       " 'Int16Dtype',\n",
       " 'Int32Dtype',\n",
       " 'Int64Dtype',\n",
       " 'Int8Dtype',\n",
       " 'Interval',\n",
       " 'IntervalDtype',\n",
       " 'IntervalIndex',\n",
       " 'MultiIndex',\n",
       " 'NA',\n",
       " 'NaT',\n",
       " 'NamedAgg',\n",
       " 'Period',\n",
       " 'PeriodDtype',\n",
       " 'PeriodIndex',\n",
       " 'RangeIndex',\n",
       " 'Series',\n",
       " 'SparseDtype',\n",
       " 'StringDtype',\n",
       " 'Timedelta',\n",
       " 'TimedeltaIndex',\n",
       " 'Timestamp',\n",
       " 'UInt16Dtype',\n",
       " 'UInt32Dtype',\n",
       " 'UInt64Dtype',\n",
       " 'UInt8Dtype',\n",
       " '__all__',\n",
       " '__builtins__',\n",
       " '__cached__',\n",
       " '__doc__',\n",
       " '__docformat__',\n",
       " '__file__',\n",
       " '__git_version__',\n",
       " '__loader__',\n",
       " '__name__',\n",
       " '__package__',\n",
       " '__path__',\n",
       " '__spec__',\n",
       " '__version__',\n",
       " '_built_with_meson',\n",
       " '_config',\n",
       " '_is_numpy_dev',\n",
       " '_libs',\n",
       " '_pandas_datetime_CAPI',\n",
       " '_pandas_parser_CAPI',\n",
       " '_testing',\n",
       " '_typing',\n",
       " '_version_meson',\n",
       " 'annotations',\n",
       " 'api',\n",
       " 'array',\n",
       " 'arrays',\n",
       " 'bdate_range',\n",
       " 'compat',\n",
       " 'concat',\n",
       " 'core',\n",
       " 'crosstab',\n",
       " 'cut',\n",
       " 'date_range',\n",
       " 'describe_option',\n",
       " 'errors',\n",
       " 'eval',\n",
       " 'factorize',\n",
       " 'from_dummies',\n",
       " 'get_dummies',\n",
       " 'get_option',\n",
       " 'infer_freq',\n",
       " 'interval_range',\n",
       " 'io',\n",
       " 'isna',\n",
       " 'isnull',\n",
       " 'json_normalize',\n",
       " 'lreshape',\n",
       " 'melt',\n",
       " 'merge',\n",
       " 'merge_asof',\n",
       " 'merge_ordered',\n",
       " 'notna',\n",
       " 'notnull',\n",
       " 'offsets',\n",
       " 'option_context',\n",
       " 'options',\n",
       " 'pandas',\n",
       " 'period_range',\n",
       " 'pivot',\n",
       " 'pivot_table',\n",
       " 'plotting',\n",
       " 'qcut',\n",
       " 'read_clipboard',\n",
       " 'read_csv',\n",
       " 'read_excel',\n",
       " 'read_feather',\n",
       " 'read_fwf',\n",
       " 'read_gbq',\n",
       " 'read_hdf',\n",
       " 'read_html',\n",
       " 'read_json',\n",
       " 'read_orc',\n",
       " 'read_parquet',\n",
       " 'read_pickle',\n",
       " 'read_sas',\n",
       " 'read_spss',\n",
       " 'read_sql',\n",
       " 'read_sql_query',\n",
       " 'read_sql_table',\n",
       " 'read_stata',\n",
       " 'read_table',\n",
       " 'read_xml',\n",
       " 'reset_option',\n",
       " 'set_eng_float_format',\n",
       " 'set_option',\n",
       " 'show_versions',\n",
       " 'test',\n",
       " 'testing',\n",
       " 'timedelta_range',\n",
       " 'to_datetime',\n",
       " 'to_numeric',\n",
       " 'to_pickle',\n",
       " 'to_timedelta',\n",
       " 'tseries',\n",
       " 'unique',\n",
       " 'util',\n",
       " 'value_counts',\n",
       " 'wide_to_long']"
      ]
     },
     "execution_count": 1,
     "metadata": {},
     "output_type": "execute_result"
    }
   ],
   "source": [
    "import pandas as pd\n",
    "dir(pd)"
   ]
  },
  {
   "cell_type": "code",
   "execution_count": 2,
   "id": "9f7aaea9",
   "metadata": {},
   "outputs": [
    {
     "data": {
      "text/plain": [
       "['ALLOW_THREADS',\n",
       " 'BUFSIZE',\n",
       " 'CLIP',\n",
       " 'DataSource',\n",
       " 'ERR_CALL',\n",
       " 'ERR_DEFAULT',\n",
       " 'ERR_IGNORE',\n",
       " 'ERR_LOG',\n",
       " 'ERR_PRINT',\n",
       " 'ERR_RAISE',\n",
       " 'ERR_WARN',\n",
       " 'FLOATING_POINT_SUPPORT',\n",
       " 'FPE_DIVIDEBYZERO',\n",
       " 'FPE_INVALID',\n",
       " 'FPE_OVERFLOW',\n",
       " 'FPE_UNDERFLOW',\n",
       " 'False_',\n",
       " 'Inf',\n",
       " 'Infinity',\n",
       " 'MAXDIMS',\n",
       " 'MAY_SHARE_BOUNDS',\n",
       " 'MAY_SHARE_EXACT',\n",
       " 'NAN',\n",
       " 'NINF',\n",
       " 'NZERO',\n",
       " 'NaN',\n",
       " 'PINF',\n",
       " 'PZERO',\n",
       " 'RAISE',\n",
       " 'RankWarning',\n",
       " 'SHIFT_DIVIDEBYZERO',\n",
       " 'SHIFT_INVALID',\n",
       " 'SHIFT_OVERFLOW',\n",
       " 'SHIFT_UNDERFLOW',\n",
       " 'ScalarType',\n",
       " 'True_',\n",
       " 'UFUNC_BUFSIZE_DEFAULT',\n",
       " 'UFUNC_PYVALS_NAME',\n",
       " 'WRAP',\n",
       " '_CopyMode',\n",
       " '_NoValue',\n",
       " '_UFUNC_API',\n",
       " '__NUMPY_SETUP__',\n",
       " '__all__',\n",
       " '__builtins__',\n",
       " '__cached__',\n",
       " '__config__',\n",
       " '__deprecated_attrs__',\n",
       " '__dir__',\n",
       " '__doc__',\n",
       " '__expired_functions__',\n",
       " '__file__',\n",
       " '__former_attrs__',\n",
       " '__future_scalars__',\n",
       " '__getattr__',\n",
       " '__loader__',\n",
       " '__name__',\n",
       " '__package__',\n",
       " '__path__',\n",
       " '__spec__',\n",
       " '__version__',\n",
       " '_add_newdoc_ufunc',\n",
       " '_builtins',\n",
       " '_distributor_init',\n",
       " '_financial_names',\n",
       " '_get_promotion_state',\n",
       " '_globals',\n",
       " '_int_extended_msg',\n",
       " '_mat',\n",
       " '_no_nep50_warning',\n",
       " '_pyinstaller_hooks_dir',\n",
       " '_pytesttester',\n",
       " '_set_promotion_state',\n",
       " '_specific_msg',\n",
       " '_typing',\n",
       " '_using_numpy2_behavior',\n",
       " '_utils',\n",
       " 'abs',\n",
       " 'absolute',\n",
       " 'add',\n",
       " 'add_docstring',\n",
       " 'add_newdoc',\n",
       " 'add_newdoc_ufunc',\n",
       " 'all',\n",
       " 'allclose',\n",
       " 'alltrue',\n",
       " 'amax',\n",
       " 'amin',\n",
       " 'angle',\n",
       " 'any',\n",
       " 'append',\n",
       " 'apply_along_axis',\n",
       " 'apply_over_axes',\n",
       " 'arange',\n",
       " 'arccos',\n",
       " 'arccosh',\n",
       " 'arcsin',\n",
       " 'arcsinh',\n",
       " 'arctan',\n",
       " 'arctan2',\n",
       " 'arctanh',\n",
       " 'argmax',\n",
       " 'argmin',\n",
       " 'argpartition',\n",
       " 'argsort',\n",
       " 'argwhere',\n",
       " 'around',\n",
       " 'array',\n",
       " 'array2string',\n",
       " 'array_equal',\n",
       " 'array_equiv',\n",
       " 'array_repr',\n",
       " 'array_split',\n",
       " 'array_str',\n",
       " 'asanyarray',\n",
       " 'asarray',\n",
       " 'asarray_chkfinite',\n",
       " 'ascontiguousarray',\n",
       " 'asfarray',\n",
       " 'asfortranarray',\n",
       " 'asmatrix',\n",
       " 'atleast_1d',\n",
       " 'atleast_2d',\n",
       " 'atleast_3d',\n",
       " 'average',\n",
       " 'bartlett',\n",
       " 'base_repr',\n",
       " 'binary_repr',\n",
       " 'bincount',\n",
       " 'bitwise_and',\n",
       " 'bitwise_not',\n",
       " 'bitwise_or',\n",
       " 'bitwise_xor',\n",
       " 'blackman',\n",
       " 'block',\n",
       " 'bmat',\n",
       " 'bool_',\n",
       " 'broadcast',\n",
       " 'broadcast_arrays',\n",
       " 'broadcast_shapes',\n",
       " 'broadcast_to',\n",
       " 'busday_count',\n",
       " 'busday_offset',\n",
       " 'busdaycalendar',\n",
       " 'byte',\n",
       " 'byte_bounds',\n",
       " 'bytes_',\n",
       " 'c_',\n",
       " 'can_cast',\n",
       " 'cast',\n",
       " 'cbrt',\n",
       " 'cdouble',\n",
       " 'ceil',\n",
       " 'cfloat',\n",
       " 'char',\n",
       " 'character',\n",
       " 'chararray',\n",
       " 'choose',\n",
       " 'clip',\n",
       " 'clongdouble',\n",
       " 'clongfloat',\n",
       " 'column_stack',\n",
       " 'common_type',\n",
       " 'compare_chararrays',\n",
       " 'compat',\n",
       " 'complex128',\n",
       " 'complex64',\n",
       " 'complex_',\n",
       " 'complexfloating',\n",
       " 'compress',\n",
       " 'concatenate',\n",
       " 'conj',\n",
       " 'conjugate',\n",
       " 'convolve',\n",
       " 'copy',\n",
       " 'copysign',\n",
       " 'copyto',\n",
       " 'corrcoef',\n",
       " 'correlate',\n",
       " 'cos',\n",
       " 'cosh',\n",
       " 'count_nonzero',\n",
       " 'cov',\n",
       " 'cross',\n",
       " 'csingle',\n",
       " 'ctypeslib',\n",
       " 'cumprod',\n",
       " 'cumproduct',\n",
       " 'cumsum',\n",
       " 'datetime64',\n",
       " 'datetime_as_string',\n",
       " 'datetime_data',\n",
       " 'deg2rad',\n",
       " 'degrees',\n",
       " 'delete',\n",
       " 'deprecate',\n",
       " 'deprecate_with_doc',\n",
       " 'diag',\n",
       " 'diag_indices',\n",
       " 'diag_indices_from',\n",
       " 'diagflat',\n",
       " 'diagonal',\n",
       " 'diff',\n",
       " 'digitize',\n",
       " 'disp',\n",
       " 'divide',\n",
       " 'divmod',\n",
       " 'dot',\n",
       " 'double',\n",
       " 'dsplit',\n",
       " 'dstack',\n",
       " 'dtype',\n",
       " 'dtypes',\n",
       " 'e',\n",
       " 'ediff1d',\n",
       " 'einsum',\n",
       " 'einsum_path',\n",
       " 'emath',\n",
       " 'empty',\n",
       " 'empty_like',\n",
       " 'equal',\n",
       " 'errstate',\n",
       " 'euler_gamma',\n",
       " 'exceptions',\n",
       " 'exp',\n",
       " 'exp2',\n",
       " 'expand_dims',\n",
       " 'expm1',\n",
       " 'extract',\n",
       " 'eye',\n",
       " 'fabs',\n",
       " 'fastCopyAndTranspose',\n",
       " 'fft',\n",
       " 'fill_diagonal',\n",
       " 'find_common_type',\n",
       " 'finfo',\n",
       " 'fix',\n",
       " 'flatiter',\n",
       " 'flatnonzero',\n",
       " 'flexible',\n",
       " 'flip',\n",
       " 'fliplr',\n",
       " 'flipud',\n",
       " 'float16',\n",
       " 'float32',\n",
       " 'float64',\n",
       " 'float_',\n",
       " 'float_power',\n",
       " 'floating',\n",
       " 'floor',\n",
       " 'floor_divide',\n",
       " 'fmax',\n",
       " 'fmin',\n",
       " 'fmod',\n",
       " 'format_float_positional',\n",
       " 'format_float_scientific',\n",
       " 'format_parser',\n",
       " 'frexp',\n",
       " 'from_dlpack',\n",
       " 'frombuffer',\n",
       " 'fromfile',\n",
       " 'fromfunction',\n",
       " 'fromiter',\n",
       " 'frompyfunc',\n",
       " 'fromregex',\n",
       " 'fromstring',\n",
       " 'full',\n",
       " 'full_like',\n",
       " 'gcd',\n",
       " 'generic',\n",
       " 'genfromtxt',\n",
       " 'geomspace',\n",
       " 'get_array_wrap',\n",
       " 'get_include',\n",
       " 'get_printoptions',\n",
       " 'getbufsize',\n",
       " 'geterr',\n",
       " 'geterrcall',\n",
       " 'geterrobj',\n",
       " 'gradient',\n",
       " 'greater',\n",
       " 'greater_equal',\n",
       " 'half',\n",
       " 'hamming',\n",
       " 'hanning',\n",
       " 'heaviside',\n",
       " 'histogram',\n",
       " 'histogram2d',\n",
       " 'histogram_bin_edges',\n",
       " 'histogramdd',\n",
       " 'hsplit',\n",
       " 'hstack',\n",
       " 'hypot',\n",
       " 'i0',\n",
       " 'identity',\n",
       " 'iinfo',\n",
       " 'imag',\n",
       " 'in1d',\n",
       " 'index_exp',\n",
       " 'indices',\n",
       " 'inexact',\n",
       " 'inf',\n",
       " 'info',\n",
       " 'infty',\n",
       " 'inner',\n",
       " 'insert',\n",
       " 'int16',\n",
       " 'int32',\n",
       " 'int64',\n",
       " 'int8',\n",
       " 'int_',\n",
       " 'intc',\n",
       " 'integer',\n",
       " 'interp',\n",
       " 'intersect1d',\n",
       " 'intp',\n",
       " 'invert',\n",
       " 'is_busday',\n",
       " 'isclose',\n",
       " 'iscomplex',\n",
       " 'iscomplexobj',\n",
       " 'isfinite',\n",
       " 'isfortran',\n",
       " 'isin',\n",
       " 'isinf',\n",
       " 'isnan',\n",
       " 'isnat',\n",
       " 'isneginf',\n",
       " 'isposinf',\n",
       " 'isreal',\n",
       " 'isrealobj',\n",
       " 'isscalar',\n",
       " 'issctype',\n",
       " 'issubclass_',\n",
       " 'issubdtype',\n",
       " 'issubsctype',\n",
       " 'iterable',\n",
       " 'ix_',\n",
       " 'kaiser',\n",
       " 'kron',\n",
       " 'lcm',\n",
       " 'ldexp',\n",
       " 'left_shift',\n",
       " 'less',\n",
       " 'less_equal',\n",
       " 'lexsort',\n",
       " 'lib',\n",
       " 'linalg',\n",
       " 'linspace',\n",
       " 'little_endian',\n",
       " 'load',\n",
       " 'loadtxt',\n",
       " 'log',\n",
       " 'log10',\n",
       " 'log1p',\n",
       " 'log2',\n",
       " 'logaddexp',\n",
       " 'logaddexp2',\n",
       " 'logical_and',\n",
       " 'logical_not',\n",
       " 'logical_or',\n",
       " 'logical_xor',\n",
       " 'logspace',\n",
       " 'longcomplex',\n",
       " 'longdouble',\n",
       " 'longfloat',\n",
       " 'longlong',\n",
       " 'lookfor',\n",
       " 'ma',\n",
       " 'mask_indices',\n",
       " 'mat',\n",
       " 'matmul',\n",
       " 'matrix',\n",
       " 'max',\n",
       " 'maximum',\n",
       " 'maximum_sctype',\n",
       " 'may_share_memory',\n",
       " 'mean',\n",
       " 'median',\n",
       " 'memmap',\n",
       " 'meshgrid',\n",
       " 'mgrid',\n",
       " 'min',\n",
       " 'min_scalar_type',\n",
       " 'minimum',\n",
       " 'mintypecode',\n",
       " 'mod',\n",
       " 'modf',\n",
       " 'moveaxis',\n",
       " 'msort',\n",
       " 'multiply',\n",
       " 'nan',\n",
       " 'nan_to_num',\n",
       " 'nanargmax',\n",
       " 'nanargmin',\n",
       " 'nancumprod',\n",
       " 'nancumsum',\n",
       " 'nanmax',\n",
       " 'nanmean',\n",
       " 'nanmedian',\n",
       " 'nanmin',\n",
       " 'nanpercentile',\n",
       " 'nanprod',\n",
       " 'nanquantile',\n",
       " 'nanstd',\n",
       " 'nansum',\n",
       " 'nanvar',\n",
       " 'nbytes',\n",
       " 'ndarray',\n",
       " 'ndenumerate',\n",
       " 'ndim',\n",
       " 'ndindex',\n",
       " 'nditer',\n",
       " 'negative',\n",
       " 'nested_iters',\n",
       " 'newaxis',\n",
       " 'nextafter',\n",
       " 'nonzero',\n",
       " 'not_equal',\n",
       " 'numarray',\n",
       " 'number',\n",
       " 'obj2sctype',\n",
       " 'object_',\n",
       " 'ogrid',\n",
       " 'oldnumeric',\n",
       " 'ones',\n",
       " 'ones_like',\n",
       " 'outer',\n",
       " 'packbits',\n",
       " 'pad',\n",
       " 'partition',\n",
       " 'percentile',\n",
       " 'pi',\n",
       " 'piecewise',\n",
       " 'place',\n",
       " 'poly',\n",
       " 'poly1d',\n",
       " 'polyadd',\n",
       " 'polyder',\n",
       " 'polydiv',\n",
       " 'polyfit',\n",
       " 'polyint',\n",
       " 'polymul',\n",
       " 'polynomial',\n",
       " 'polysub',\n",
       " 'polyval',\n",
       " 'positive',\n",
       " 'power',\n",
       " 'printoptions',\n",
       " 'prod',\n",
       " 'product',\n",
       " 'promote_types',\n",
       " 'ptp',\n",
       " 'put',\n",
       " 'put_along_axis',\n",
       " 'putmask',\n",
       " 'quantile',\n",
       " 'r_',\n",
       " 'rad2deg',\n",
       " 'radians',\n",
       " 'random',\n",
       " 'ravel',\n",
       " 'ravel_multi_index',\n",
       " 'real',\n",
       " 'real_if_close',\n",
       " 'rec',\n",
       " 'recarray',\n",
       " 'recfromcsv',\n",
       " 'recfromtxt',\n",
       " 'reciprocal',\n",
       " 'record',\n",
       " 'remainder',\n",
       " 'repeat',\n",
       " 'require',\n",
       " 'reshape',\n",
       " 'resize',\n",
       " 'result_type',\n",
       " 'right_shift',\n",
       " 'rint',\n",
       " 'roll',\n",
       " 'rollaxis',\n",
       " 'roots',\n",
       " 'rot90',\n",
       " 'round',\n",
       " 'round_',\n",
       " 'row_stack',\n",
       " 's_',\n",
       " 'safe_eval',\n",
       " 'save',\n",
       " 'savetxt',\n",
       " 'savez',\n",
       " 'savez_compressed',\n",
       " 'sctype2char',\n",
       " 'sctypeDict',\n",
       " 'sctypes',\n",
       " 'searchsorted',\n",
       " 'select',\n",
       " 'set_numeric_ops',\n",
       " 'set_printoptions',\n",
       " 'set_string_function',\n",
       " 'setbufsize',\n",
       " 'setdiff1d',\n",
       " 'seterr',\n",
       " 'seterrcall',\n",
       " 'seterrobj',\n",
       " 'setxor1d',\n",
       " 'shape',\n",
       " 'shares_memory',\n",
       " 'short',\n",
       " 'show_config',\n",
       " 'show_runtime',\n",
       " 'sign',\n",
       " 'signbit',\n",
       " 'signedinteger',\n",
       " 'sin',\n",
       " 'sinc',\n",
       " 'single',\n",
       " 'singlecomplex',\n",
       " 'sinh',\n",
       " 'size',\n",
       " 'sometrue',\n",
       " 'sort',\n",
       " 'sort_complex',\n",
       " 'source',\n",
       " 'spacing',\n",
       " 'split',\n",
       " 'sqrt',\n",
       " 'square',\n",
       " 'squeeze',\n",
       " 'stack',\n",
       " 'std',\n",
       " 'str_',\n",
       " 'string_',\n",
       " 'subtract',\n",
       " 'sum',\n",
       " 'swapaxes',\n",
       " 'take',\n",
       " 'take_along_axis',\n",
       " 'tan',\n",
       " 'tanh',\n",
       " 'tensordot',\n",
       " 'test',\n",
       " 'testing',\n",
       " 'tile',\n",
       " 'timedelta64',\n",
       " 'trace',\n",
       " 'tracemalloc_domain',\n",
       " 'transpose',\n",
       " 'trapz',\n",
       " 'tri',\n",
       " 'tril',\n",
       " 'tril_indices',\n",
       " 'tril_indices_from',\n",
       " 'trim_zeros',\n",
       " 'triu',\n",
       " 'triu_indices',\n",
       " 'triu_indices_from',\n",
       " 'true_divide',\n",
       " 'trunc',\n",
       " 'typecodes',\n",
       " 'typename',\n",
       " 'ubyte',\n",
       " 'ufunc',\n",
       " 'uint',\n",
       " 'uint16',\n",
       " 'uint32',\n",
       " 'uint64',\n",
       " 'uint8',\n",
       " 'uintc',\n",
       " 'uintp',\n",
       " 'ulonglong',\n",
       " 'unicode_',\n",
       " 'union1d',\n",
       " 'unique',\n",
       " 'unpackbits',\n",
       " 'unravel_index',\n",
       " 'unsignedinteger',\n",
       " 'unwrap',\n",
       " 'ushort',\n",
       " 'vander',\n",
       " 'var',\n",
       " 'vdot',\n",
       " 'vectorize',\n",
       " 'version',\n",
       " 'void',\n",
       " 'vsplit',\n",
       " 'vstack',\n",
       " 'where',\n",
       " 'who',\n",
       " 'zeros',\n",
       " 'zeros_like']"
      ]
     },
     "execution_count": 2,
     "metadata": {},
     "output_type": "execute_result"
    }
   ],
   "source": [
    "dir(np)"
   ]
  },
  {
   "cell_type": "code",
   "execution_count": 3,
   "id": "c24cbd27",
   "metadata": {},
   "outputs": [
    {
     "data": {
      "text/plain": [
       "599"
      ]
     },
     "execution_count": 3,
     "metadata": {},
     "output_type": "execute_result"
    }
   ],
   "source": [
    "len(dir(np))"
   ]
  },
  {
   "cell_type": "markdown",
   "id": "e9f25d4e",
   "metadata": {},
   "source": [
    "# 10. append"
   ]
  },
  {
   "cell_type": "code",
   "execution_count": null,
   "id": "4a9258f5",
   "metadata": {},
   "outputs": [],
   "source": [
    "used to append the value at the end of an array\n",
    "synatx:\n",
    "    np.append(array1, value, axis=None)\n",
    "    \n",
    "value >> 0D, 1D, 2D ....\n",
    "\n",
    "# Answer of every array in 1D only\n",
    "# Flattern the array"
   ]
  },
  {
   "cell_type": "code",
   "execution_count": 6,
   "id": "b16319ed",
   "metadata": {},
   "outputs": [],
   "source": [
    "array1 = np.array([3,2,4,5])\n",
    "array2 = np.array([10,20,30,40])\n",
    "array3 = np.array(100)   "
   ]
  },
  {
   "cell_type": "code",
   "execution_count": 7,
   "id": "677fda67",
   "metadata": {},
   "outputs": [
    {
     "data": {
      "text/plain": [
       "array([  3,   2,   4,   5, 100])"
      ]
     },
     "execution_count": 7,
     "metadata": {},
     "output_type": "execute_result"
    }
   ],
   "source": [
    "np.append(array1, array3)"
   ]
  },
  {
   "cell_type": "code",
   "execution_count": 8,
   "id": "479801c1",
   "metadata": {},
   "outputs": [
    {
     "data": {
      "text/plain": [
       "array([ 3,  2,  4,  5, 10, 20, 30, 40])"
      ]
     },
     "execution_count": 8,
     "metadata": {},
     "output_type": "execute_result"
    }
   ],
   "source": [
    "np.append(array1, array2)"
   ]
  },
  {
   "cell_type": "code",
   "execution_count": 9,
   "id": "ac5f28dc",
   "metadata": {},
   "outputs": [
    {
     "data": {
      "text/plain": [
       "[1, 2, 3, 4, 4, 5, 6, 7]"
      ]
     },
     "execution_count": 9,
     "metadata": {},
     "output_type": "execute_result"
    }
   ],
   "source": [
    "lst1 = [1,2,3,4]\n",
    "lst2 = [4,5,6,7]\n",
    "lst1 + lst2"
   ]
  },
  {
   "cell_type": "code",
   "execution_count": 10,
   "id": "7d84d420",
   "metadata": {},
   "outputs": [
    {
     "data": {
      "text/plain": [
       "array([13, 22, 34, 45])"
      ]
     },
     "execution_count": 10,
     "metadata": {},
     "output_type": "execute_result"
    }
   ],
   "source": [
    "array1 = np.array([3,2,4,5])\n",
    "array2 = np.array([10,20,30,40])\n",
    "array1 + array2"
   ]
  },
  {
   "cell_type": "code",
   "execution_count": 11,
   "id": "b671c908",
   "metadata": {},
   "outputs": [
    {
     "data": {
      "text/plain": [
       "array([ 3,  2,  4,  5, 10, 20, 30, 40])"
      ]
     },
     "execution_count": 11,
     "metadata": {},
     "output_type": "execute_result"
    }
   ],
   "source": [
    "array1 = np.array([3,2,4,5])   # 1D\n",
    "array2 = np.array([[10,20],[30,40]])  # 2D\n",
    "\n",
    "np.append(array1, array2)"
   ]
  },
  {
   "cell_type": "code",
   "execution_count": 12,
   "id": "debee189",
   "metadata": {},
   "outputs": [
    {
     "data": {
      "text/plain": [
       "array([ 3,  2,  4,  5, 10, 20, 30, 40])"
      ]
     },
     "execution_count": 12,
     "metadata": {},
     "output_type": "execute_result"
    }
   ],
   "source": [
    "array1 = np.array([[[3,2,4,5]]])   # 3D\n",
    "array2 = np.array([[10,20],[30,40]])  # 2D\n",
    "\n",
    "np.append(array1, array2)"
   ]
  },
  {
   "cell_type": "code",
   "execution_count": null,
   "id": "542a9a81",
   "metadata": {},
   "outputs": [],
   "source": [
    "# axis = 0 --> Rowise\n",
    "# axis = 1 --> Columnwise"
   ]
  },
  {
   "cell_type": "code",
   "execution_count": 14,
   "id": "67035ebb",
   "metadata": {},
   "outputs": [
    {
     "name": "stdout",
     "output_type": "stream",
     "text": [
      "array1 -->\n",
      " [[3 2]\n",
      " [4 5]]\n",
      "array2 -->\n",
      " [[10 20]\n",
      " [30 40]]\n"
     ]
    },
    {
     "data": {
      "text/plain": [
       "array([[ 3,  2],\n",
       "       [ 4,  5],\n",
       "       [10, 20],\n",
       "       [30, 40]])"
      ]
     },
     "execution_count": 14,
     "metadata": {},
     "output_type": "execute_result"
    }
   ],
   "source": [
    "# Rowwise append\n",
    "array1 = np.array([[3,2],[4,5]])   # 2D\n",
    "print(\"array1 -->\\n\",array1)\n",
    "array2 = np.array([[10,20],[30,40]])  # 2D\n",
    "print(\"array2 -->\\n\",array2)\n",
    "\n",
    "\n",
    "np.append(array1, array2, axis=0)"
   ]
  },
  {
   "cell_type": "code",
   "execution_count": 15,
   "id": "ccb847d3",
   "metadata": {},
   "outputs": [
    {
     "name": "stdout",
     "output_type": "stream",
     "text": [
      "array1 -->\n",
      " [[3 2]\n",
      " [4 5]]\n",
      "array2 -->\n",
      " [[10 20]\n",
      " [30 40]]\n"
     ]
    },
    {
     "data": {
      "text/plain": [
       "array([[ 3,  2, 10, 20],\n",
       "       [ 4,  5, 30, 40]])"
      ]
     },
     "execution_count": 15,
     "metadata": {},
     "output_type": "execute_result"
    }
   ],
   "source": [
    "# Columnwise append\n",
    "array1 = np.array([[3,2],[4,5]])   # 2D\n",
    "print(\"array1 -->\\n\",array1)\n",
    "array2 = np.array([[10,20],[30,40]])  # 2D\n",
    "print(\"array2 -->\\n\",array2)\n",
    "\n",
    "\n",
    "np.append(array1, array2, axis=1)"
   ]
  },
  {
   "cell_type": "markdown",
   "id": "52c6d53f",
   "metadata": {},
   "source": [
    "# 11. Concatenate()"
   ]
  },
  {
   "cell_type": "code",
   "execution_count": null,
   "id": "a015f968",
   "metadata": {},
   "outputs": [],
   "source": [
    "syntax:\n",
    "    np.concatenate([a1,a2,a3......], axis=0)\n",
    "    \n",
    "# axis = 0 --> bydefault"
   ]
  },
  {
   "cell_type": "code",
   "execution_count": 18,
   "id": "4c01237f",
   "metadata": {},
   "outputs": [
    {
     "name": "stdout",
     "output_type": "stream",
     "text": [
      "array1 -->\n",
      " [3 2 4 5]\n",
      "array2 -->\n",
      " [10 20 30 40]\n"
     ]
    },
    {
     "data": {
      "text/plain": [
       "array([ 3,  2,  4,  5, 10, 20, 30, 40])"
      ]
     },
     "execution_count": 18,
     "metadata": {},
     "output_type": "execute_result"
    }
   ],
   "source": [
    "array1 = np.array([3,2,4,5])\n",
    "print(\"array1 -->\\n\",array1)\n",
    "\n",
    "array2 = np.array([10,20,30,40])\n",
    "print(\"array2 -->\\n\",array2)\n",
    "\n",
    "np.concatenate([array1, array2], axis=0)"
   ]
  },
  {
   "cell_type": "code",
   "execution_count": 19,
   "id": "664aeb27",
   "metadata": {},
   "outputs": [
    {
     "name": "stdout",
     "output_type": "stream",
     "text": [
      "array1 -->\n",
      " [3 2 4 5]\n",
      "array2 -->\n",
      " [10 20 30 40]\n"
     ]
    },
    {
     "ename": "AxisError",
     "evalue": "axis 1 is out of bounds for array of dimension 1",
     "output_type": "error",
     "traceback": [
      "\u001b[1;31m---------------------------------------------------------------------------\u001b[0m",
      "\u001b[1;31mAxisError\u001b[0m                                 Traceback (most recent call last)",
      "Input \u001b[1;32mIn [19]\u001b[0m, in \u001b[0;36m<cell line: 7>\u001b[1;34m()\u001b[0m\n\u001b[0;32m      4\u001b[0m array2 \u001b[38;5;241m=\u001b[39m np\u001b[38;5;241m.\u001b[39marray([\u001b[38;5;241m10\u001b[39m,\u001b[38;5;241m20\u001b[39m,\u001b[38;5;241m30\u001b[39m,\u001b[38;5;241m40\u001b[39m])\n\u001b[0;32m      5\u001b[0m \u001b[38;5;28mprint\u001b[39m(\u001b[38;5;124m\"\u001b[39m\u001b[38;5;124marray2 -->\u001b[39m\u001b[38;5;130;01m\\n\u001b[39;00m\u001b[38;5;124m\"\u001b[39m,array2)\n\u001b[1;32m----> 7\u001b[0m \u001b[43mnp\u001b[49m\u001b[38;5;241;43m.\u001b[39;49m\u001b[43mconcatenate\u001b[49m\u001b[43m(\u001b[49m\u001b[43m[\u001b[49m\u001b[43marray1\u001b[49m\u001b[43m,\u001b[49m\u001b[43m \u001b[49m\u001b[43marray2\u001b[49m\u001b[43m]\u001b[49m\u001b[43m,\u001b[49m\u001b[43m \u001b[49m\u001b[43maxis\u001b[49m\u001b[38;5;241;43m=\u001b[39;49m\u001b[38;5;241;43m1\u001b[39;49m\u001b[43m)\u001b[49m\n",
      "File \u001b[1;32m<__array_function__ internals>:180\u001b[0m, in \u001b[0;36mconcatenate\u001b[1;34m(*args, **kwargs)\u001b[0m\n",
      "\u001b[1;31mAxisError\u001b[0m: axis 1 is out of bounds for array of dimension 1"
     ]
    }
   ],
   "source": [
    "array1 = np.array([3,2,4,5])\n",
    "print(\"array1 -->\\n\",array1)\n",
    "\n",
    "array2 = np.array([10,20,30,40])\n",
    "print(\"array2 -->\\n\",array2)\n",
    "\n",
    "np.concatenate([array1, array2], axis=1)  "
   ]
  },
  {
   "cell_type": "code",
   "execution_count": 25,
   "id": "95b8790d",
   "metadata": {},
   "outputs": [
    {
     "name": "stdout",
     "output_type": "stream",
     "text": [
      "array1 -->\n",
      " [[3 2]\n",
      " [4 5]]\n",
      "array2 -->\n",
      " [[10 20]\n",
      " [30 40]]\n",
      "array3 -->\n",
      " [[100 200]\n",
      " [300 400]]\n"
     ]
    },
    {
     "data": {
      "text/plain": [
       "array([[  3,   2],\n",
       "       [  4,   5],\n",
       "       [ 10,  20],\n",
       "       [ 30,  40],\n",
       "       [100, 200],\n",
       "       [300, 400]])"
      ]
     },
     "execution_count": 25,
     "metadata": {},
     "output_type": "execute_result"
    }
   ],
   "source": [
    "array1 = np.array([[3,2],[4,5]])\n",
    "print(\"array1 -->\\n\",array1)\n",
    "\n",
    "array2 = np.array([[10,20],[30,40]])\n",
    "print(\"array2 -->\\n\",array2)\n",
    "\n",
    "array3 = np.array([[100,200],[300,400]])\n",
    "print(\"array3 -->\\n\",array3)\n",
    "\n",
    "np.concatenate([array1, array2, array3])"
   ]
  },
  {
   "cell_type": "code",
   "execution_count": 24,
   "id": "50327b9c",
   "metadata": {},
   "outputs": [
    {
     "name": "stdout",
     "output_type": "stream",
     "text": [
      "array1 -->\n",
      " [[3 2]\n",
      " [4 5]]\n",
      "array2 -->\n",
      " [[10 20]\n",
      " [30 40]]\n",
      "array3 -->\n",
      " [[100 200]\n",
      " [300 400]]\n"
     ]
    },
    {
     "data": {
      "text/plain": [
       "array([[  3,   2,  10,  20, 100, 200],\n",
       "       [  4,   5,  30,  40, 300, 400]])"
      ]
     },
     "execution_count": 24,
     "metadata": {},
     "output_type": "execute_result"
    }
   ],
   "source": [
    "array1 = np.array([[3,2],[4,5]])\n",
    "print(\"array1 -->\\n\",array1)\n",
    "\n",
    "array2 = np.array([[10,20],[30,40]])\n",
    "print(\"array2 -->\\n\",array2)\n",
    "\n",
    "array3 = np.array([[100,200],[300,400]])\n",
    "print(\"array3 -->\\n\",array3)\n",
    "\n",
    "np.concatenate([array1, array2, array3], axis=1)"
   ]
  },
  {
   "cell_type": "markdown",
   "id": "b514b079",
   "metadata": {},
   "source": [
    "# 12. for loop"
   ]
  },
  {
   "cell_type": "code",
   "execution_count": 26,
   "id": "667e3133",
   "metadata": {},
   "outputs": [
    {
     "data": {
      "text/plain": [
       "array([2, 3, 4, 5, 6])"
      ]
     },
     "execution_count": 26,
     "metadata": {},
     "output_type": "execute_result"
    }
   ],
   "source": [
    "array = np.array([2,3,4,5,6])\n",
    "array"
   ]
  },
  {
   "cell_type": "code",
   "execution_count": 27,
   "id": "fe980694",
   "metadata": {},
   "outputs": [
    {
     "name": "stdout",
     "output_type": "stream",
     "text": [
      "Value is: 2\n",
      "Value is: 3\n",
      "Value is: 4\n",
      "Value is: 5\n",
      "Value is: 6\n"
     ]
    }
   ],
   "source": [
    "for i in array:\n",
    "    print(\"Value is:\", i)"
   ]
  },
  {
   "cell_type": "code",
   "execution_count": 29,
   "id": "1bc1de90",
   "metadata": {},
   "outputs": [
    {
     "name": "stdout",
     "output_type": "stream",
     "text": [
      "Value is: 2\n",
      "Value is: 3\n",
      "Value is: 4\n",
      "Value is: 5\n",
      "Value is: 6\n",
      "Value is: 7\n"
     ]
    }
   ],
   "source": [
    "arr2 = np.array([[2,3],[4,5],[6,7]])\n",
    "\n",
    "for i in arr2:\n",
    "    for j in i:\n",
    "        print(\"Value is:\", j)"
   ]
  },
  {
   "cell_type": "code",
   "execution_count": 2,
   "id": "12f96b57",
   "metadata": {},
   "outputs": [
    {
     "name": "stdout",
     "output_type": "stream",
     "text": [
      "[[2 3]\n",
      " [4 5]]\n",
      "Value is: 2\n",
      "Value is: 3\n",
      "Value is: 4\n",
      "Value is: 5\n",
      "[[20 30]\n",
      " [40 50]]\n",
      "Value is: 20\n",
      "Value is: 30\n",
      "Value is: 40\n",
      "Value is: 50\n"
     ]
    }
   ],
   "source": [
    "import numpy as np\n",
    "arr3 = np.array([[[2,3],[4,5]],[[20,30],[40,50]]])  # 3D\n",
    "\n",
    "for i in arr3:\n",
    "    print(i)\n",
    "    for j in i:\n",
    "        for k in j:\n",
    "            print(\"Value is:\", k)"
   ]
  },
  {
   "cell_type": "markdown",
   "id": "ff007645",
   "metadata": {},
   "source": [
    "# 14. nditer()"
   ]
  },
  {
   "cell_type": "code",
   "execution_count": null,
   "id": "25d36adf",
   "metadata": {},
   "outputs": [],
   "source": [
    "It will work like a for loop\n",
    "syntax:\n",
    "    np.nditer(array)"
   ]
  },
  {
   "cell_type": "code",
   "execution_count": 32,
   "id": "1ec07273",
   "metadata": {},
   "outputs": [
    {
     "name": "stdout",
     "output_type": "stream",
     "text": [
      "Value is: 2\n",
      "Value is: 3\n",
      "Value is: 4\n",
      "Value is: 5\n",
      "Value is: 6\n"
     ]
    }
   ],
   "source": [
    "array = np.array([2,3,4,5,6])\n",
    "\n",
    "for i in np.nditer(array):\n",
    "    print(\"Value is:\", i)"
   ]
  },
  {
   "cell_type": "code",
   "execution_count": 33,
   "id": "3605447a",
   "metadata": {},
   "outputs": [
    {
     "name": "stdout",
     "output_type": "stream",
     "text": [
      "Value is: 2\n",
      "Value is: 3\n",
      "Value is: 4\n",
      "Value is: 5\n",
      "Value is: 6\n",
      "Value is: 7\n"
     ]
    }
   ],
   "source": [
    "arr2 = np.array([[2,3],[4,5],[6,7]])\n",
    "\n",
    "for i in np.nditer(arr2):\n",
    "    print(\"Value is:\", i)"
   ]
  },
  {
   "cell_type": "code",
   "execution_count": 34,
   "id": "71feab10",
   "metadata": {},
   "outputs": [
    {
     "name": "stdout",
     "output_type": "stream",
     "text": [
      "Value is: 2\n",
      "Value is: 3\n",
      "Value is: 4\n",
      "Value is: 5\n",
      "Value is: 20\n",
      "Value is: 30\n",
      "Value is: 40\n",
      "Value is: 50\n"
     ]
    }
   ],
   "source": [
    "arr3 = np.array([[[2,3],[4,5]],[[20,30],[40,50]]])  # 3D\n",
    "\n",
    "for i in np.nditer(arr3):\n",
    "    print(\"Value is:\", i)"
   ]
  },
  {
   "cell_type": "markdown",
   "id": "828b7eac",
   "metadata": {},
   "source": [
    "# 15. ndenumerate"
   ]
  },
  {
   "cell_type": "code",
   "execution_count": null,
   "id": "889fc23c",
   "metadata": {},
   "outputs": [],
   "source": [
    "synatx:\n",
    "    np.ndenumerate(array)\n",
    "    \n",
    "it will return index of an element and value at that index"
   ]
  },
  {
   "cell_type": "code",
   "execution_count": 35,
   "id": "27e109d2",
   "metadata": {},
   "outputs": [
    {
     "name": "stdout",
     "output_type": "stream",
     "text": [
      "Value is: ((0,), 2)\n",
      "Value is: ((1,), 3)\n",
      "Value is: ((2,), 4)\n",
      "Value is: ((3,), 5)\n",
      "Value is: ((4,), 6)\n"
     ]
    }
   ],
   "source": [
    "array = np.array([2,3,4,5,6])\n",
    "\n",
    "for i in np.ndenumerate(array):\n",
    "    print(\"Value is:\", i)"
   ]
  },
  {
   "cell_type": "code",
   "execution_count": 36,
   "id": "3f6e3878",
   "metadata": {},
   "outputs": [
    {
     "name": "stdout",
     "output_type": "stream",
     "text": [
      "Value is: ((0, 0), 2)\n",
      "Value is: ((0, 1), 3)\n",
      "Value is: ((1, 0), 4)\n",
      "Value is: ((1, 1), 5)\n",
      "Value is: ((2, 0), 6)\n",
      "Value is: ((2, 1), 7)\n"
     ]
    }
   ],
   "source": [
    "arr2 = np.array([[2,3],[4,5],[6,7]])\n",
    "\n",
    "for i in np.ndenumerate(arr2):\n",
    "    print(\"Value is:\", i)"
   ]
  },
  {
   "cell_type": "code",
   "execution_count": 37,
   "id": "26af9b69",
   "metadata": {},
   "outputs": [
    {
     "name": "stdout",
     "output_type": "stream",
     "text": [
      "Value is: ((0, 0, 0), 2)\n",
      "Value is: ((0, 0, 1), 3)\n",
      "Value is: ((0, 1, 0), 4)\n",
      "Value is: ((0, 1, 1), 5)\n",
      "Value is: ((1, 0, 0), 20)\n",
      "Value is: ((1, 0, 1), 30)\n",
      "Value is: ((1, 1, 0), 40)\n",
      "Value is: ((1, 1, 1), 50)\n"
     ]
    }
   ],
   "source": [
    "arr3 = np.array([[[2,3],[4,5]],[[20,30],[40,50]]])  # 3D\n",
    "\n",
    "for i in np.ndenumerate(arr3):\n",
    "    print(\"Value is:\", i)"
   ]
  },
  {
   "cell_type": "code",
   "execution_count": 1,
   "id": "c73850ab",
   "metadata": {},
   "outputs": [
    {
     "name": "stdout",
     "output_type": "stream",
     "text": [
      "array1 -->\n",
      " [[3 2]\n",
      " [4 5]]\n",
      "array2 -->\n",
      " [[10 20]\n",
      " [30 40]]\n"
     ]
    },
    {
     "data": {
      "text/plain": [
       "array([[ 90, 140],\n",
       "       [190, 280]])"
      ]
     },
     "execution_count": 1,
     "metadata": {},
     "output_type": "execute_result"
    }
   ],
   "source": [
    "import numpy as np\n",
    "array1 = np.array([[3,2],[4,5]])\n",
    "print(\"array1 -->\\n\",array1)\n",
    "\n",
    "array2 = np.array([[10,20],[30,40]])\n",
    "print(\"array2 -->\\n\",array2)\n",
    "np.dot(array1,array2)"
   ]
  },
  {
   "cell_type": "code",
   "execution_count": null,
   "id": "e70bef82-7864-42c3-a6cc-374b75bdb20f",
   "metadata": {},
   "outputs": [],
   "source": [
    "np."
   ]
  }
 ],
 "metadata": {
  "kernelspec": {
   "display_name": "Python 3 (ipykernel)",
   "language": "python",
   "name": "python3"
  },
  "language_info": {
   "codemirror_mode": {
    "name": "ipython",
    "version": 3
   },
   "file_extension": ".py",
   "mimetype": "text/x-python",
   "name": "python",
   "nbconvert_exporter": "python",
   "pygments_lexer": "ipython3",
   "version": "3.12.7"
  }
 },
 "nbformat": 4,
 "nbformat_minor": 5
}
