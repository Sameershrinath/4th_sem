{
 "cells": [
  {
   "cell_type": "markdown",
   "metadata": {},
   "source": [
    "# **Creating the array using the numpy array**"
   ]
  },
  {
   "cell_type": "markdown",
   "metadata": {},
   "source": [
    "## Import the numpy library"
   ]
  },
  {
   "cell_type": "code",
   "execution_count": 64,
   "metadata": {},
   "outputs": [],
   "source": [
    "import numpy as np "
   ]
  },
  {
   "cell_type": "markdown",
   "metadata": {},
   "source": [
    "## Zero dimention array"
   ]
  },
  {
   "cell_type": "code",
   "execution_count": 57,
   "metadata": {},
   "outputs": [
    {
     "name": "stdout",
     "output_type": "stream",
     "text": [
      "5 <class 'numpy.ndarray'> 0\n"
     ]
    }
   ],
   "source": [
    "array0=np.array(5)\n",
    "print(array0,type(array0),array0.ndim)"
   ]
  },
  {
   "cell_type": "markdown",
   "metadata": {},
   "source": [
    "## 1 dimention array"
   ]
  },
  {
   "cell_type": "code",
   "execution_count": 55,
   "metadata": {},
   "outputs": [
    {
     "name": "stdout",
     "output_type": "stream",
     "text": [
      "[5] <class 'numpy.ndarray'> 1\n"
     ]
    }
   ],
   "source": [
    "array1=np.array([5])\n",
    "print(array1,type(array1),array1.ndim)"
   ]
  },
  {
   "cell_type": "markdown",
   "metadata": {},
   "source": [
    "## 2 dimention array"
   ]
  },
  {
   "cell_type": "code",
   "execution_count": 72,
   "metadata": {},
   "outputs": [
    {
     "name": "stdout",
     "output_type": "stream",
     "text": [
      "[[5 7]\n",
      " [6 8]] <class 'numpy.ndarray'> 2\n",
      "(2, 2)\n"
     ]
    }
   ],
   "source": [
    "array2=np.array([[5,7],[6,8]])\n",
    "print(array2,type(array2),array2.ndim)\n",
    "print(array2.shape)"
   ]
  },
  {
   "cell_type": "markdown",
   "metadata": {},
   "source": [
    "## 3 dimention array"
   ]
  },
  {
   "cell_type": "code",
   "execution_count": 73,
   "metadata": {},
   "outputs": [
    {
     "name": "stdout",
     "output_type": "stream",
     "text": [
      "[[[5 8]\n",
      "  [6 9]]\n",
      "\n",
      " [[5 3]\n",
      "  [6 7]]] <class 'numpy.ndarray'> 3\n",
      "(2, 2, 2)\n"
     ]
    }
   ],
   "source": [
    "array3= np.array([[[5,8],[6,9]],[[5,3],[6,7]]])\n",
    "print(array3,type(array3),array3.ndim)\n",
    "print(array3.shape)\n"
   ]
  },
  {
   "cell_type": "markdown",
   "metadata": {},
   "source": [
    "## 4 dimentional array"
   ]
  },
  {
   "cell_type": "code",
   "execution_count": 69,
   "metadata": {},
   "outputs": [
    {
     "name": "stdout",
     "output_type": "stream",
     "text": [
      "[[[[1]\n",
      "   [2]]\n",
      "\n",
      "  [[1]\n",
      "   [2]]]\n",
      "\n",
      "\n",
      " [[[1]\n",
      "   [2]]\n",
      "\n",
      "  [[1]\n",
      "   [2]]]] <class 'numpy.ndarray'> 4\n",
      "(2, 2, 2, 1)\n"
     ]
    }
   ],
   "source": [
    "array4=np.array([[[[1],[2]],[[1],[2]]],[[[1],[2]],[[1],[2]]]])\n",
    "print(array4,type(array4),array4.ndim)\n",
    "print(array4.shape)\n",
    "\n",
    "\n",
    "# 1st dimension: Groups of 3D arrays.\n",
    "# 2nd dimension: Rows of 2D matrices.\n",
    "# 3rd dimension: Columns of 1D arrays.\n",
    "# 4th dimension: Individual elements in the arrays.\n"
   ]
  },
  {
   "cell_type": "markdown",
   "metadata": {},
   "source": [
    "## checking the shape of the array "
   ]
  },
  {
   "cell_type": "code",
   "execution_count": 67,
   "metadata": {},
   "outputs": [
    {
     "name": "stdout",
     "output_type": "stream",
     "text": [
      "()\n",
      "(1,)\n",
      "(2, 1)\n",
      "(2, 2, 1)\n",
      "(2, 2, 2, 1)\n"
     ]
    }
   ],
   "source": [
    "print(array0.shape)\n",
    "print(array1.shape)\n",
    "print(array2.shape)\n",
    "print(array3.shape)\n",
    "print(array4.shape)"
   ]
  },
  {
   "cell_type": "code",
   "execution_count": 88,
   "metadata": {},
   "outputs": [
    {
     "data": {
      "text/plain": [
       "array([[1],\n",
       "       [2]])"
      ]
     },
     "execution_count": 88,
     "metadata": {},
     "output_type": "execute_result"
    }
   ],
   "source": [
    "array4[1][1]"
   ]
  },
  {
   "cell_type": "markdown",
   "metadata": {},
   "source": [
    "## Slicing in the numpy array"
   ]
  },
  {
   "cell_type": "markdown",
   "metadata": {},
   "source": [
    "import numpy as raand\n",
    "arr1=np.array([2,4,6,8,10])\n",
    "arr1[::2]"
   ]
  },
  {
   "cell_type": "code",
   "execution_count": 12,
   "metadata": {},
   "outputs": [
    {
     "data": {
      "text/plain": [
       "array([ 6,  8, 10])"
      ]
     },
     "execution_count": 12,
     "metadata": {},
     "output_type": "execute_result"
    }
   ],
   "source": [
    "\n",
    "arr1[2:5]"
   ]
  },
  {
   "cell_type": "code",
   "execution_count": 13,
   "metadata": {},
   "outputs": [
    {
     "data": {
      "text/plain": [
       "array([ 2,  6, 10])"
      ]
     },
     "execution_count": 13,
     "metadata": {},
     "output_type": "execute_result"
    }
   ],
   "source": [
    "# step size \n",
    "arr1[::2]"
   ]
  },
  {
   "cell_type": "code",
   "execution_count": 25,
   "metadata": {},
   "outputs": [
    {
     "data": {
      "text/plain": [
       "7"
      ]
     },
     "execution_count": 25,
     "metadata": {},
     "output_type": "execute_result"
    }
   ],
   "source": [
    "array2=np.array([[5,7],[6,8]])\n",
    "array2[0][1]"
   ]
  },
  {
   "cell_type": "code",
   "execution_count": 27,
   "metadata": {},
   "outputs": [],
   "source": [
    "array3=np.array([[[5,7,8],[6,8,9]],[[9,10,23],[11,12,15]]])"
   ]
  },
  {
   "cell_type": "code",
   "execution_count": 28,
   "metadata": {},
   "outputs": [
    {
     "data": {
      "text/plain": [
       "12"
      ]
     },
     "execution_count": 28,
     "metadata": {},
     "output_type": "execute_result"
    }
   ],
   "source": [
    "array3[1][1][1]"
   ]
  },
  {
   "cell_type": "code",
   "execution_count": 36,
   "metadata": {},
   "outputs": [],
   "source": [
    "array4=np.array([[[[1,2,3],[4,5,6]],[[7,8,9],[10,11,12]]],[[[13,14,15],[16,17,18]],[[19,20,21],[22,23,24]]]])"
   ]
  },
  {
   "cell_type": "code",
   "execution_count": 37,
   "metadata": {},
   "outputs": [
    {
     "data": {
      "text/plain": [
       "(2, 2, 2, 3)"
      ]
     },
     "execution_count": 37,
     "metadata": {},
     "output_type": "execute_result"
    }
   ],
   "source": [
    "array4.shape"
   ]
  },
  {
   "cell_type": "code",
   "execution_count": 45,
   "metadata": {},
   "outputs": [
    {
     "data": {
      "text/plain": [
       "array([16, 17])"
      ]
     },
     "execution_count": 45,
     "metadata": {},
     "output_type": "execute_result"
    }
   ],
   "source": [
    "array4[1][0][1][0:2]"
   ]
  },
  {
   "cell_type": "code",
   "execution_count": 55,
   "metadata": {},
   "outputs": [
    {
     "data": {
      "text/plain": [
       "array([[[ 2,  1,  2],\n",
       "        [ 4,  5,  4],\n",
       "        [ 9,  7,  9]],\n",
       "\n",
       "       [[21, 11, 21],\n",
       "        [14, 15, 16],\n",
       "        [19, 71, 19]],\n",
       "\n",
       "       [[20, 10, 20],\n",
       "        [40, 50, 40],\n",
       "        [90, 70, 90]]])"
      ]
     },
     "execution_count": 55,
     "metadata": {},
     "output_type": "execute_result"
    }
   ],
   "source": [
    "import numpy as np\n",
    "arr33=np.array([[[2,1,2],[4,5,4],[9,7,9]],[[21,11,21],[14,15,16],[19,71,19]],[[20,10,20],[40,50,40],[90,70,90]]])\n",
    "arr33"
   ]
  },
  {
   "cell_type": "code",
   "execution_count": 9,
   "metadata": {},
   "outputs": [
    {
     "data": {
      "text/plain": [
       "array([[21, 11],\n",
       "       [14, 15]])"
      ]
     },
     "execution_count": 9,
     "metadata": {},
     "output_type": "execute_result"
    }
   ],
   "source": [
    "arr33[1,:2,:2]"
   ]
  },
  {
   "cell_type": "code",
   "execution_count": 10,
   "metadata": {},
   "outputs": [
    {
     "data": {
      "text/plain": [
       "(3, 3, 3)"
      ]
     },
     "execution_count": 10,
     "metadata": {},
     "output_type": "execute_result"
    }
   ],
   "source": [
    "arr33.shape"
   ]
  },
  {
   "cell_type": "code",
   "execution_count": 11,
   "metadata": {},
   "outputs": [
    {
     "data": {
      "text/plain": [
       "array([[21, 11, 21],\n",
       "       [14, 15, 16]])"
      ]
     },
     "execution_count": 11,
     "metadata": {},
     "output_type": "execute_result"
    }
   ],
   "source": [
    "arr33[1][:2][:2]"
   ]
  },
  {
   "cell_type": "code",
   "execution_count": 12,
   "metadata": {},
   "outputs": [
    {
     "data": {
      "text/plain": [
       "array([14, 15])"
      ]
     },
     "execution_count": 12,
     "metadata": {},
     "output_type": "execute_result"
    }
   ],
   "source": [
    "arr33[1][1][0:2]"
   ]
  },
  {
   "cell_type": "code",
   "execution_count": 13,
   "metadata": {},
   "outputs": [
    {
     "data": {
      "text/plain": [
       "array([21, 11])"
      ]
     },
     "execution_count": 13,
     "metadata": {},
     "output_type": "execute_result"
    }
   ],
   "source": [
    "arr33[1][0][0:2]"
   ]
  },
  {
   "cell_type": "code",
   "execution_count": 14,
   "metadata": {},
   "outputs": [
    {
     "data": {
      "text/plain": [
       "array([[[ 2,  1,  2],\n",
       "        [ 4,  5,  4],\n",
       "        [ 9,  7,  9]],\n",
       "\n",
       "       [[21, 11, 21],\n",
       "        [14, 15, 16],\n",
       "        [19, 71, 19]],\n",
       "\n",
       "       [[20, 10, 20],\n",
       "        [40, 50, 40],\n",
       "        [90, 70, 90]]])"
      ]
     },
     "execution_count": 14,
     "metadata": {},
     "output_type": "execute_result"
    }
   ],
   "source": [
    "arr33"
   ]
  },
  {
   "cell_type": "code",
   "execution_count": 16,
   "metadata": {},
   "outputs": [
    {
     "data": {
      "text/plain": [
       "array([[5, 4],\n",
       "       [7, 9]])"
      ]
     },
     "execution_count": 16,
     "metadata": {},
     "output_type": "execute_result"
    }
   ],
   "source": [
    "arr33[0,1:3,1:3]"
   ]
  },
  {
   "cell_type": "code",
   "execution_count": 33,
   "metadata": {},
   "outputs": [
    {
     "name": "stdout",
     "output_type": "stream",
     "text": [
      "[1 2 3 4 5 6 7 8 9] (9,)\n",
      "Reshaped array :\n",
      " [[1 2 3]\n",
      " [4 5 6]\n",
      " [7 8 9]]\n"
     ]
    }
   ],
   "source": [
    "new_arr = np.array([1, 2, 3, 4, 5, 6, 7, 8, 9])\n",
    "print(new_arr,new_arr.shape)\n",
    "reshaped_new_arr = new_arr.reshape(3, 3)\n",
    "print(\"Reshaped array :\\n\",reshaped_new_arr)"
   ]
  },
  {
   "cell_type": "code",
   "execution_count": 34,
   "metadata": {},
   "outputs": [
    {
     "name": "stdout",
     "output_type": "stream",
     "text": [
      "[1 2 3 4 5 6 7 8 9] 1\n"
     ]
    }
   ],
   "source": [
    "new_re=reshaped_new_arr.reshape(9,)\n",
    "print(new_re,new_re.ndim)"
   ]
  },
  {
   "cell_type": "code",
   "execution_count": 35,
   "metadata": {},
   "outputs": [
    {
     "data": {
      "text/plain": [
       "array([1, 2, 3, 4, 5, 6, 7, 8, 9])"
      ]
     },
     "execution_count": 35,
     "metadata": {},
     "output_type": "execute_result"
    }
   ],
   "source": [
    "new_arr"
   ]
  },
  {
   "cell_type": "code",
   "execution_count": 39,
   "metadata": {},
   "outputs": [
    {
     "data": {
      "text/plain": [
       "array([9, 8, 7, 6, 5, 4, 3, 2, 1])"
      ]
     },
     "execution_count": 39,
     "metadata": {},
     "output_type": "execute_result"
    }
   ],
   "source": [
    "new_arr[::-1]"
   ]
  },
  {
   "cell_type": "code",
   "execution_count": 3,
   "metadata": {},
   "outputs": [
    {
     "name": "stdout",
     "output_type": "stream",
     "text": [
      "Original 4D array:\n",
      " [[[[ 1  2  3  4]\n",
      "   [ 5  6  7  8]]\n",
      "\n",
      "  [[ 9 10 11 12]\n",
      "   [13 14 15 16]]]\n",
      "\n",
      "\n",
      " [[[17 18 19 20]\n",
      "   [21 22 23 24]]\n",
      "\n",
      "  [[25 26 27 28]\n",
      "   [29 30 31 32]]]]\n",
      "\n",
      "Reshaped array:\n",
      " [[[ 1  2]\n",
      "  [ 3  4]\n",
      "  [ 5  6]\n",
      "  [ 7  8]]\n",
      "\n",
      " [[ 9 10]\n",
      "  [11 12]\n",
      "  [13 14]\n",
      "  [15 16]]\n",
      "\n",
      " [[17 18]\n",
      "  [19 20]\n",
      "  [21 22]\n",
      "  [23 24]]\n",
      "\n",
      " [[25 26]\n",
      "  [27 28]\n",
      "  [29 30]\n",
      "  [31 32]]]\n"
     ]
    }
   ],
   "source": [
    "# Create a 4-dimensional array\n",
    "import numpy as np\n",
    "array4d = np.arange(1, 33).reshape(2, 2, 2, 4)\n",
    "print(\"Original 4D array:\\n\", array4d)\n",
    "\n",
    "# Reshape the 4-dimensional array\n",
    "\n",
    "reshaped_array4d = array4d.reshape(4, 4, 2)\n",
    "print(\"\\nReshaped array:\\n\", reshaped_array4d)"
   ]
  },
  {
   "cell_type": "code",
   "execution_count": 4,
   "metadata": {},
   "outputs": [
    {
     "name": "stdout",
     "output_type": "stream",
     "text": [
      "Original 3D array:\n",
      " [[[ 1  2  3  4]\n",
      "  [ 5  6  7  8]]\n",
      "\n",
      " [[ 9 10 11 12]\n",
      "  [13 14 15 16]]\n",
      "\n",
      " [[17 18 19 20]\n",
      "  [21 22 23 24]]]\n",
      "\n",
      "Reshaped 2D array:\n",
      " [[ 1  2  3  4]\n",
      " [ 5  6  7  8]\n",
      " [ 9 10 11 12]\n",
      " [13 14 15 16]\n",
      " [17 18 19 20]\n",
      " [21 22 23 24]]\n"
     ]
    }
   ],
   "source": [
    "# Create a 3-dimensional array\n",
    "array3d = np.arange(1, 25).reshape(3, 2, 4)\n",
    "print(\"Original 3D array:\\n\", array3d)\n",
    "\n",
    "# Reshape the 3-dimensional array into a 2-dimensional array\n",
    "reshaped_array2d = array3d.reshape(6, 4)\n",
    "print(\"\\nReshaped 2D array:\\n\", reshaped_array2d)"
   ]
  },
  {
   "cell_type": "code",
   "execution_count": 7,
   "metadata": {},
   "outputs": [],
   "source": [
    "array5=np.array([[5,6,3,1,4],[6,9,8,5,4]])"
   ]
  },
  {
   "cell_type": "code",
   "execution_count": 8,
   "metadata": {},
   "outputs": [
    {
     "name": "stdout",
     "output_type": "stream",
     "text": [
      "1\n",
      "2\n",
      "3\n"
     ]
    }
   ],
   "source": [
    "def my_generator():\n",
    "    yield 1\n",
    "    yield 2\n",
    "    yield 3\n",
    "\n",
    "# Using the generator\n",
    "gen = my_generator()\n",
    "for value in gen:\n",
    "    print(value)"
   ]
  },
  {
   "cell_type": "code",
   "execution_count": 9,
   "metadata": {},
   "outputs": [
    {
     "name": "stdout",
     "output_type": "stream",
     "text": [
      "Hello, monkey patched world!\n"
     ]
    }
   ],
   "source": [
    "# Original class\n",
    "class MyClass:\n",
    "    def greet(self):\n",
    "        return \"Hello, world!\"\n",
    "\n",
    "# Monkey patching the greet method\n",
    "def new_greet(self):\n",
    "    return \"Hello, monkey patched world!\"\n",
    "\n",
    "MyClass.greet = new_greet\n",
    "\n",
    "# Using the patched class\n",
    "obj = MyClass()\n",
    "print(obj.greet())  # Output: Hello, monkey patched world!"
   ]
  },
  {
   "cell_type": "code",
   "execution_count": 40,
   "metadata": {},
   "outputs": [],
   "source": [
    "tup={6,5,9,8}\n",
    "tupi=np.array(tup)"
   ]
  },
  {
   "cell_type": "code",
   "execution_count": 41,
   "metadata": {},
   "outputs": [
    {
     "data": {
      "text/plain": [
       "array({8, 9, 5, 6}, dtype=object)"
      ]
     },
     "execution_count": 41,
     "metadata": {},
     "output_type": "execute_result"
    }
   ],
   "source": [
    "tupi"
   ]
  },
  {
   "cell_type": "code",
   "execution_count": 42,
   "metadata": {},
   "outputs": [
    {
     "data": {
      "text/plain": [
       "set"
      ]
     },
     "execution_count": 42,
     "metadata": {},
     "output_type": "execute_result"
    }
   ],
   "source": [
    "type(tup)"
   ]
  },
  {
   "cell_type": "code",
   "execution_count": 43,
   "metadata": {},
   "outputs": [
    {
     "data": {
      "text/plain": [
       "numpy.ndarray"
      ]
     },
     "execution_count": 43,
     "metadata": {},
     "output_type": "execute_result"
    }
   ],
   "source": [
    "type(tupi)"
   ]
  },
  {
   "cell_type": "code",
   "execution_count": 44,
   "metadata": {},
   "outputs": [
    {
     "data": {
      "text/plain": [
       "0"
      ]
     },
     "execution_count": 44,
     "metadata": {},
     "output_type": "execute_result"
    }
   ],
   "source": [
    "tupi.ndim"
   ]
  },
  {
   "cell_type": "code",
   "execution_count": 46,
   "metadata": {},
   "outputs": [
    {
     "name": "stdout",
     "output_type": "stream",
     "text": [
      "Lorem ipsum dolor sit amet, consectetur adipiscing elit. Sed do eiusmod tempor\n",
      "\n",
      " incididunt ut labore et dolore magna aliqua. Ut enim ad minim veniam, quis nostrud \n",
      "\n",
      " exercitation ullamco laboris nisi ut aliquip ex ea commodo consequat. Duis aute irure \n",
      "\n",
      " dolor in reprehenderit in voluptate velit esse cillum dolore eu fugiat nulla pariatur. Excepteur \n",
      "\n",
      " sint occaecat cupidatat non proident, sunt in culpa qui officia deserunt mollit anim id est laborum.\n",
      "\n",
      "\n",
      "\n",
      "Curabitur pretium tincidunt lacus. Nulla gravida orci a odio. Nullam varius, turpis et commodo pharetra, est eros bibendum elit,\n"
     ]
    }
   ],
   "source": [
    "def read_large_file(file_path):\n",
    "    with open(file_path, 'r') as file:\n",
    "        for line in file:\n",
    "            yield line\n",
    "\n",
    "# Usage\n",
    "for line in read_large_file('file.txt'):\n",
    "    print(line)"
   ]
  },
  {
   "cell_type": "code",
   "execution_count": null,
   "metadata": {},
   "outputs": [],
   "source": []
  },
  {
   "cell_type": "code",
   "execution_count": null,
   "metadata": {},
   "outputs": [],
   "source": []
  },
  {
   "cell_type": "code",
   "execution_count": 58,
   "metadata": {},
   "outputs": [
    {
     "name": "stdout",
     "output_type": "stream",
     "text": [
      "1\n",
      "2\n",
      "3\n"
     ]
    }
   ],
   "source": [
    "def simple_generator():\n",
    "    yield 1\n",
    "    yield 2\n",
    "    yield 3\n",
    "\n",
    "# Using the generator\n",
    "for i in simple_generator():\n",
    "    print(i)"
   ]
  },
  {
   "cell_type": "code",
   "execution_count": 65,
   "metadata": {},
   "outputs": [],
   "source": [
    "# line space\n",
    "# syntax = np.linespace(start,end,num=50,retstep=True)\n",
    "import numpy as np \n",
    "arr6=np.linspace(1,50,num=50,retstep=True,dtype=int,axis=)"
   ]
  },
  {
   "cell_type": "code",
   "execution_count": 62,
   "metadata": {},
   "outputs": [
    {
     "data": {
      "text/plain": [
       "(array([ 1,  2,  3,  4,  5,  6,  7,  8,  9, 10, 11, 12, 13, 14, 15, 16, 17,\n",
       "        18, 19, 20, 21, 22, 23, 24, 25, 26, 27, 28, 29, 30, 31, 32, 33, 34,\n",
       "        35, 36, 37, 38, 39, 40, 41, 42, 43, 44, 45, 46, 47, 48, 49, 50]),\n",
       " 1.0)"
      ]
     },
     "execution_count": 62,
     "metadata": {},
     "output_type": "execute_result"
    }
   ],
   "source": [
    "arr6"
   ]
  },
  {
   "cell_type": "code",
   "execution_count": 67,
   "metadata": {},
   "outputs": [
    {
     "name": "stdout",
     "output_type": "stream",
     "text": [
      "[2 2 2 2 3]\n"
     ]
    }
   ],
   "source": [
    "import numpy as np\n",
    "\n",
    "# Generate 5 evenly spaced numbers between 2.0 and 3.0\n",
    "result = np.linspace(2.0, 3.0, num=5,dtype=int)\n",
    "print(result)  # Output: [2.  , 2.25, 2.5 , 2.75, 3.  ]"
   ]
  },
  {
   "cell_type": "code",
   "execution_count": 68,
   "metadata": {},
   "outputs": [
    {
     "data": {
      "text/plain": [
       "array([[1, 0, 0, 0],\n",
       "       [0, 1, 0, 0],\n",
       "       [0, 0, 1, 0],\n",
       "       [0, 0, 0, 1]])"
      ]
     },
     "execution_count": 68,
     "metadata": {},
     "output_type": "execute_result"
    }
   ],
   "source": [
    "# eye matrix\n",
    "\n",
    "# syntax=np.eye(shape,dtype=int)\n",
    "\n",
    "import numpy as np\n",
    "\n",
    "np.eye(4,dtype=int)"
   ]
  },
  {
   "cell_type": "code",
   "execution_count": 71,
   "metadata": {},
   "outputs": [
    {
     "data": {
      "text/plain": [
       "array([[1, 0, 0, 0, 0],\n",
       "       [0, 1, 0, 0, 0],\n",
       "       [0, 0, 1, 0, 0],\n",
       "       [0, 0, 0, 1, 0],\n",
       "       [0, 0, 0, 0, 1]])"
      ]
     },
     "execution_count": 71,
     "metadata": {},
     "output_type": "execute_result"
    }
   ],
   "source": [
    "#identity matrix\n",
    "#syntax= np.identit(n,dtype=int)\n",
    "\n",
    "np.identity(5,dtype=int)"
   ]
  },
  {
   "cell_type": "code",
   "execution_count": 97,
   "metadata": {},
   "outputs": [
    {
     "name": "stdout",
     "output_type": "stream",
     "text": [
      "random 5 values from 0 to 1 : [0.09801827 0.76856605 0.33573655 0.42970606 0.17149026]\n",
      "random values from start to end : [2 9 4 6 7 2 1 9 3 8]\n",
      "random value array :  [[-0.45123081 -0.57866073  0.59814822 -0.97924312]\n",
      " [-1.72111278  1.40822392 -0.52117154  0.8903413 ]]\n",
      "random value array :  [[ 0.70293984 -0.99123526 -0.1423259  -1.29820103]\n",
      " [-0.94170689 -2.13160328 -2.33783585 -0.03145288]]\n",
      "random value array :  [[0.21235802 0.27301538 0.26702863 0.66080455 0.84706989 0.9268885 ]\n",
      " [0.23021831 0.02060314 0.96333379 0.86221991 0.29270408 0.85964306]]\n"
     ]
    }
   ],
   "source": [
    "# Subfunctions in the random library\n",
    "\n",
    "# ran\n",
    "# randint\n",
    "# randn\n",
    "# ranf\n",
    "\n",
    "\n",
    "import numpy as np\n",
    "\n",
    "print(\"random 5 values from 0 to 1 :\",np.random.rand(5))\n",
    "print(\"random values from start to end :\",np.random.randint(1,10,size=10))\n",
    "print(\"random value array : \",np.random.randn(2,4))\n",
    "print(\"random value array : \",np.random.randn(2,4))\n",
    "print(\"random value array : \",np.random.ranf((2,6)))"
   ]
  },
  {
   "cell_type": "code",
   "execution_count": 103,
   "metadata": {},
   "outputs": [
    {
     "data": {
      "text/plain": [
       "array([[6, 6, 7, 8, 8, 9],\n",
       "       [1, 2, 3, 4, 5, 5]])"
      ]
     },
     "execution_count": 103,
     "metadata": {},
     "output_type": "execute_result"
    }
   ],
   "source": [
    "# SOrt Function\n",
    "# np.sort(array)\n",
    "newarr=np.array([[9,6,8,7,6,8],[1,2,5,4,3,5]])\n",
    "np.sort(newarr,axis=1)"
   ]
  },
  {
   "cell_type": "code",
   "execution_count": 113,
   "metadata": {},
   "outputs": [
    {
     "data": {
      "text/plain": [
       "array([5, 5, 6, 6, 7, 4, 3, 6, 3, 8, 5, 3, 6])"
      ]
     },
     "execution_count": 113,
     "metadata": {},
     "output_type": "execute_result"
    }
   ],
   "source": [
    "# append:\n",
    "# np.append(arrayname,value,axis=None)\n",
    "array7=np.random.randint(1,10,size=10)\n",
    "np.append(array7,[5,3,6])"
   ]
  },
  {
   "cell_type": "code",
   "execution_count": 111,
   "metadata": {},
   "outputs": [
    {
     "data": {
      "text/plain": [
       "array([7, 3, 2, 4, 8, 5, 1, 2, 4, 2])"
      ]
     },
     "execution_count": 111,
     "metadata": {},
     "output_type": "execute_result"
    }
   ],
   "source": [
    "array7"
   ]
  },
  {
   "cell_type": "code",
   "execution_count": 38,
   "metadata": {},
   "outputs": [
    {
     "name": "stdout",
     "output_type": "stream",
     "text": [
      "[[[ 5  8  5  4]\n",
      "  [ 6  6  6  7]\n",
      "  [ 5  8  8  9]]\n",
      "\n",
      " [[ 8  9  6  8]\n",
      "  [ 1  5  5  8]\n",
      "  [ 5  4  2  3]]\n",
      "\n",
      " [[11 14 19 13]\n",
      "  [12 15 14 17]\n",
      "  [15 15 10 13]]\n",
      "\n",
      " [[15 14 14 13]\n",
      "  [13 14 17 12]\n",
      "  [18 16 14 10]]\n",
      "\n",
      " [[22 21 26 27]\n",
      "  [29 27 27 26]\n",
      "  [21 20 21 28]]\n",
      "\n",
      " [[21 28 23 28]\n",
      "  [21 26 21 22]\n",
      "  [21 28 25 22]]] 3 (6, 3, 4)\n"
     ]
    }
   ],
   "source": [
    "# concat function in Python \n",
    "#syntax : np.concatenate(a1,a2,a3,.....)\n",
    "import numpy as np\n",
    "# Create 3 three-dimensional arrays\n",
    "array1 = np.random.randint(1, 10, size=(2, 3, 4),dtype=int)\n",
    "array2 = np.random.randint(10, 20, size=(2, 3, 4),dtype=int)\n",
    "array3 = np.random.randint(20, 30, size=(2, 3, 4),dtype=int)\n",
    "\n",
    "array4=np.concatenate((array1,array2,array3),axis=0)\n",
    "print(array4,array4.ndim,array4.shape)\n"
   ]
  },
  {
   "cell_type": "code",
   "execution_count": 24,
   "metadata": {},
   "outputs": [],
   "source": [
    "# Creating the array with tuple\n",
    "\n",
    "li=[5,6,3,9,8,7,4]\n",
    "import numpy as np\n",
    "\n",
    "tup=(56,4,23,4,7,5)\n",
    "\n",
    "array1=np.array(li)\n",
    "array2=np.array(tup)"
   ]
  },
  {
   "cell_type": "code",
   "execution_count": 26,
   "metadata": {},
   "outputs": [
    {
     "name": "stdout",
     "output_type": "stream",
     "text": [
      "[56  4 23  4  7  5] <class 'numpy.ndarray'>\n"
     ]
    }
   ],
   "source": [
    "print(array2,type(array2))"
   ]
  },
  {
   "cell_type": "code",
   "execution_count": 31,
   "metadata": {},
   "outputs": [
    {
     "data": {
      "text/plain": [
       "array([[[1, 7, 8, 3],\n",
       "        [5, 5, 8, 3],\n",
       "        [3, 2, 1, 5]],\n",
       "\n",
       "       [[5, 4, 9, 2],\n",
       "        [5, 5, 9, 4],\n",
       "        [3, 5, 5, 3]]])"
      ]
     },
     "execution_count": 31,
     "metadata": {},
     "output_type": "execute_result"
    }
   ],
   "source": [
    "array1\n"
   ]
  },
  {
   "cell_type": "code",
   "execution_count": 32,
   "metadata": {},
   "outputs": [
    {
     "data": {
      "text/plain": [
       "array([[[10, 15, 17, 14],\n",
       "        [15, 16, 16, 16],\n",
       "        [11, 19, 14, 16]],\n",
       "\n",
       "       [[16, 16, 14, 13],\n",
       "        [12, 10, 14, 13],\n",
       "        [19, 12, 11, 11]]])"
      ]
     },
     "execution_count": 32,
     "metadata": {},
     "output_type": "execute_result"
    }
   ],
   "source": [
    "array2"
   ]
  },
  {
   "cell_type": "code",
   "execution_count": 50,
   "metadata": {},
   "outputs": [
    {
     "data": {
      "text/plain": [
       "array([[[ 5,  8,  5,  4],\n",
       "        [ 6,  6,  6,  7],\n",
       "        [ 5,  8,  8,  9]],\n",
       "\n",
       "       [[ 8,  9,  6,  8],\n",
       "        [ 1,  5,  5,  8],\n",
       "        [ 5,  4,  2,  3]],\n",
       "\n",
       "       [[11, 14, 19, 13],\n",
       "        [12, 15, 14, 17],\n",
       "        [15, 15, 10, 13]],\n",
       "\n",
       "       [[15, 14, 14, 13],\n",
       "        [13, 14, 17, 12],\n",
       "        [18, 16, 14, 10]],\n",
       "\n",
       "       [[22, 21, 26, 27],\n",
       "        [29, 27, 27, 26],\n",
       "        [21, 20, 21, 28]],\n",
       "\n",
       "       [[21, 28, 23, 28],\n",
       "        [21, 26, 21, 22],\n",
       "        [21, 28, 25, 22]]])"
      ]
     },
     "execution_count": 50,
     "metadata": {},
     "output_type": "execute_result"
    }
   ],
   "source": [
    "# DIfference between append and concat\n",
    "\n",
    "import numpy as np\n",
    "\n",
    "array4=np.concatenate((array1,array2,array3))\n",
    "\n",
    "\n",
    "array4"
   ]
  },
  {
   "cell_type": "code",
   "execution_count": 45,
   "metadata": {},
   "outputs": [
    {
     "data": {
      "text/plain": [
       "array([[[5, 8, 5, 4],\n",
       "        [6, 6, 6, 7],\n",
       "        [5, 8, 8, 9]],\n",
       "\n",
       "       [[8, 9, 6, 8],\n",
       "        [1, 5, 5, 8],\n",
       "        [5, 4, 2, 3]]])"
      ]
     },
     "execution_count": 45,
     "metadata": {},
     "output_type": "execute_result"
    }
   ],
   "source": [
    "array1"
   ]
  },
  {
   "cell_type": "code",
   "execution_count": 40,
   "metadata": {},
   "outputs": [
    {
     "data": {
      "text/plain": [
       "array([[[11, 14, 19, 13],\n",
       "        [12, 15, 14, 17],\n",
       "        [15, 15, 10, 13]],\n",
       "\n",
       "       [[15, 14, 14, 13],\n",
       "        [13, 14, 17, 12],\n",
       "        [18, 16, 14, 10]]])"
      ]
     },
     "execution_count": 40,
     "metadata": {},
     "output_type": "execute_result"
    }
   ],
   "source": [
    "array2"
   ]
  },
  {
   "cell_type": "code",
   "execution_count": 41,
   "metadata": {},
   "outputs": [
    {
     "data": {
      "text/plain": [
       "array([[[22, 21, 26, 27],\n",
       "        [29, 27, 27, 26],\n",
       "        [21, 20, 21, 28]],\n",
       "\n",
       "       [[21, 28, 23, 28],\n",
       "        [21, 26, 21, 22],\n",
       "        [21, 28, 25, 22]]])"
      ]
     },
     "execution_count": 41,
     "metadata": {},
     "output_type": "execute_result"
    }
   ],
   "source": [
    "array3"
   ]
  },
  {
   "cell_type": "code",
   "execution_count": 58,
   "metadata": {},
   "outputs": [
    {
     "name": "stdout",
     "output_type": "stream",
     "text": [
      "One-dimensional array:\n",
      " [1 2 3 4 5]\n",
      "\n",
      "Two-dimensional array:\n",
      " [[1 2 3]\n",
      " [4 5 6]]\n",
      "\n",
      "Three-dimensional array:\n",
      " [[[ 1  2  3]\n",
      "  [ 4  5  6]]\n",
      "\n",
      " [[ 7  8  9]\n",
      "  [10 11 12]]]\n"
     ]
    }
   ],
   "source": [
    "# One-dimensional array\n",
    "one_d_array = np.array([1, 2, 3, 4, 5])\n",
    "print(\"One-dimensional array:\\n\", one_d_array)\n",
    "\n",
    "# Two-dimensional array\n",
    "two_d_array = np.array([[1, 2, 3], [4, 5, 6]])\n",
    "print(\"\\nTwo-dimensional array:\\n\", two_d_array)\n",
    "\n",
    "# Three-dimensional array\n",
    "three_d_array = np.array([[[1, 2, 3], [4, 5, 6]], [[7, 8, 9], [10, 11, 12]]])\n",
    "print(\"\\nThree-dimensional array:\\n\", three_d_array)"
   ]
  },
  {
   "cell_type": "code",
   "execution_count": 61,
   "metadata": {},
   "outputs": [
    {
     "name": "stdout",
     "output_type": "stream",
     "text": [
      "value :  21\n",
      "value :  22\n",
      "value :  23\n",
      "value :  24\n",
      "value :  25\n"
     ]
    }
   ],
   "source": [
    "for i in one_d_array:\n",
    "    print(\"value : \", i+20)"
   ]
  },
  {
   "cell_type": "code",
   "execution_count": 62,
   "metadata": {},
   "outputs": [
    {
     "name": "stdout",
     "output_type": "stream",
     "text": [
      "value :  [21 22 23]\n",
      "value :  [24 25 26]\n"
     ]
    }
   ],
   "source": [
    "for i  in two_d_array:\n",
    "    print(\"value : \", i+20)"
   ]
  },
  {
   "cell_type": "code",
   "execution_count": 64,
   "metadata": {},
   "outputs": [
    {
     "name": "stdout",
     "output_type": "stream",
     "text": [
      "value :  [[1 2 3]\n",
      " [4 5 6]]\n",
      "value :  [[ 7  8  9]\n",
      " [10 11 12]]\n"
     ]
    }
   ],
   "source": [
    "for i in three_d_array:\n",
    "    print(\"value : \", i)"
   ]
  },
  {
   "cell_type": "code",
   "execution_count": 68,
   "metadata": {},
   "outputs": [
    {
     "name": "stdout",
     "output_type": "stream",
     "text": [
      "Value is  1\n",
      "Value is  2\n",
      "Value is  3\n",
      "Value is  4\n",
      "Value is  5\n",
      "Value is  6\n"
     ]
    }
   ],
   "source": [
    "#for loop in the 1+ dimentional array\n",
    "\n",
    "two_d_array\n",
    "\n",
    "for i in np.nditer(two_d_array):\n",
    "    print(\"Value is \", i)"
   ]
  },
  {
   "cell_type": "code",
   "execution_count": 69,
   "metadata": {},
   "outputs": [
    {
     "name": "stdout",
     "output_type": "stream",
     "text": [
      "Index: 0, Value: [1 2 3]\n",
      "Index: 1, Value: [4 5 6]\n"
     ]
    }
   ],
   "source": [
    "for index, value in enumerate(two_d_array):\n",
    "    print(f\"Index: {index}, Value: {value}\")"
   ]
  },
  {
   "cell_type": "code",
   "execution_count": 28,
   "metadata": {},
   "outputs": [],
   "source": [
    "class Solution:\n",
    "    def lltonum(self,head):\n",
    "        num=\"\"\n",
    "        cur=head\n",
    "        while cur!=None:\n",
    "            num=num+str(cur.data)\n",
    "            cur=cur.next\n",
    "        return num\n",
    "        \n",
    "    def addTwoLists(self, num1, num2):\n",
    "        n1=self.lltonum(num1)\n",
    "        n2=self.lltonum(num2)\n",
    "        print(n1)\n",
    "        print(n2)\n",
    "        return int(n1)+int(n2)\n",
    "        \n"
   ]
  },
  {
   "cell_type": "code",
   "execution_count": 29,
   "metadata": {},
   "outputs": [
    {
     "name": "stdout",
     "output_type": "stream",
     "text": [
      "15545\n",
      "55545\n",
      "71090\n"
     ]
    }
   ],
   "source": [
    "solution = Solution()\n",
    "sum = solution.addTwoLists(num1=head, num2=head2)\n",
    "print(sum)"
   ]
  },
  {
   "cell_type": "code",
   "execution_count": 2,
   "metadata": {},
   "outputs": [],
   "source": [
    "class Node:\n",
    "    def __init__(self, data):\n",
    "        self.data = data\n",
    "        self.next = None\n",
    "        "
   ]
  },
  {
   "cell_type": "code",
   "execution_count": null,
   "metadata": {},
   "outputs": [],
   "source": []
  },
  {
   "cell_type": "code",
   "execution_count": 5,
   "metadata": {},
   "outputs": [],
   "source": [
    "# Define the Node class\n",
    "class Node:\n",
    "    def __init__(self, data):\n",
    "        self.data = data\n",
    "        self.next = None\n",
    "\n",
    "# Create 5 nodes\n",
    "head = Node(1)\n",
    "second = Node(2)\n",
    "third = Node(3)\n",
    "fourth = Node(4)\n",
    "fifth = Node(5)\n",
    "\n",
    "# Link the nodes\n",
    "head.next = second\n",
    "second.next = third\n",
    "third.next = fourth\n",
    "fourth.next = fifth\n",
    "\n"
   ]
  },
  {
   "cell_type": "code",
   "execution_count": 26,
   "metadata": {},
   "outputs": [],
   "source": [
    "# Create 5 nodes\n",
    "head2 = Node(5)\n",
    "second = Node(5)\n",
    "third = Node(5)\n",
    "fourth = Node(4)\n",
    "fifth = Node(5)\n",
    "\n",
    "# Link the nodes\n",
    "head2.next = second\n",
    "second.next = third\n",
    "third.next = fourth\n",
    "fourth.next = fifth\n"
   ]
  },
  {
   "cell_type": "code",
   "execution_count": 27,
   "metadata": {},
   "outputs": [
    {
     "data": {
      "text/plain": [
       "5"
      ]
     },
     "execution_count": 27,
     "metadata": {},
     "output_type": "execute_result"
    }
   ],
   "source": [
    "head2.next.data"
   ]
  },
  {
   "cell_type": "code",
   "execution_count": null,
   "metadata": {},
   "outputs": [],
   "source": []
  }
 ],
 "metadata": {
  "kernelspec": {
   "display_name": "base",
   "language": "python",
   "name": "python3"
  },
  "language_info": {
   "codemirror_mode": {
    "name": "ipython",
    "version": 3
   },
   "file_extension": ".py",
   "mimetype": "text/x-python",
   "name": "python",
   "nbconvert_exporter": "python",
   "pygments_lexer": "ipython3",
   "version": "3.11.5"
  }
 },
 "nbformat": 4,
 "nbformat_minor": 2
}
