{
 "cells": [
  {
   "cell_type": "markdown",
   "metadata": {},
   "source": [
    "# **Creating the array using the numpy array**"
   ]
  },
  {
   "cell_type": "markdown",
   "metadata": {},
   "source": [
    "## Import the numpy library"
   ]
  },
  {
   "cell_type": "code",
   "execution_count": 64,
   "metadata": {},
   "outputs": [],
   "source": [
    "import numpy as np "
   ]
  },
  {
   "cell_type": "markdown",
   "metadata": {},
   "source": [
    "## Zero dimention array"
   ]
  },
  {
   "cell_type": "code",
   "execution_count": 57,
   "metadata": {},
   "outputs": [
    {
     "name": "stdout",
     "output_type": "stream",
     "text": [
      "5 <class 'numpy.ndarray'> 0\n"
     ]
    }
   ],
   "source": [
    "array0=np.array(5)\n",
    "print(array0,type(array0),array0.ndim)"
   ]
  },
  {
   "cell_type": "markdown",
   "metadata": {},
   "source": [
    "## 1 dimention array"
   ]
  },
  {
   "cell_type": "code",
   "execution_count": 55,
   "metadata": {},
   "outputs": [
    {
     "name": "stdout",
     "output_type": "stream",
     "text": [
      "[5] <class 'numpy.ndarray'> 1\n"
     ]
    }
   ],
   "source": [
    "array1=np.array([5])\n",
    "print(array1,type(array1),array1.ndim)"
   ]
  },
  {
   "cell_type": "markdown",
   "metadata": {},
   "source": [
    "## 2 dimention array"
   ]
  },
  {
   "cell_type": "code",
   "execution_count": 72,
   "metadata": {},
   "outputs": [
    {
     "name": "stdout",
     "output_type": "stream",
     "text": [
      "[[5 7]\n",
      " [6 8]] <class 'numpy.ndarray'> 2\n",
      "(2, 2)\n"
     ]
    }
   ],
   "source": [
    "array2=np.array([[5,7],[6,8]])\n",
    "print(array2,type(array2),array2.ndim)\n",
    "print(array2.shape)"
   ]
  },
  {
   "cell_type": "markdown",
   "metadata": {},
   "source": [
    "## 3 dimention array"
   ]
  },
  {
   "cell_type": "code",
   "execution_count": 73,
   "metadata": {},
   "outputs": [
    {
     "name": "stdout",
     "output_type": "stream",
     "text": [
      "[[[5 8]\n",
      "  [6 9]]\n",
      "\n",
      " [[5 3]\n",
      "  [6 7]]] <class 'numpy.ndarray'> 3\n",
      "(2, 2, 2)\n"
     ]
    }
   ],
   "source": [
    "array3= np.array([[[5,8],[6,9]],[[5,3],[6,7]]])\n",
    "print(array3,type(array3),array3.ndim)\n",
    "print(array3.shape)\n"
   ]
  },
  {
   "cell_type": "markdown",
   "metadata": {},
   "source": [
    "## 4 dimentional array"
   ]
  },
  {
   "cell_type": "code",
   "execution_count": 69,
   "metadata": {},
   "outputs": [
    {
     "name": "stdout",
     "output_type": "stream",
     "text": [
      "[[[[1]\n",
      "   [2]]\n",
      "\n",
      "  [[1]\n",
      "   [2]]]\n",
      "\n",
      "\n",
      " [[[1]\n",
      "   [2]]\n",
      "\n",
      "  [[1]\n",
      "   [2]]]] <class 'numpy.ndarray'> 4\n",
      "(2, 2, 2, 1)\n"
     ]
    }
   ],
   "source": [
    "array4=np.array([[[[1],[2]],[[1],[2]]],[[[1],[2]],[[1],[2]]]])\n",
    "print(array4,type(array4),array4.ndim)\n",
    "print(array4.shape)\n",
    "\n",
    "\n",
    "# 1st dimension: Groups of 3D arrays.\n",
    "# 2nd dimension: Rows of 2D matrices.\n",
    "# 3rd dimension: Columns of 1D arrays.\n",
    "# 4th dimension: Individual elements in the arrays.\n"
   ]
  },
  {
   "cell_type": "markdown",
   "metadata": {},
   "source": [
    "## checking the shape of the array "
   ]
  },
  {
   "cell_type": "code",
   "execution_count": 67,
   "metadata": {},
   "outputs": [
    {
     "name": "stdout",
     "output_type": "stream",
     "text": [
      "()\n",
      "(1,)\n",
      "(2, 1)\n",
      "(2, 2, 1)\n",
      "(2, 2, 2, 1)\n"
     ]
    }
   ],
   "source": [
    "print(array0.shape)\n",
    "print(array1.shape)\n",
    "print(array2.shape)\n",
    "print(array3.shape)\n",
    "print(array4.shape)"
   ]
  },
  {
   "cell_type": "code",
   "execution_count": 88,
   "metadata": {},
   "outputs": [
    {
     "data": {
      "text/plain": [
       "array([[1],\n",
       "       [2]])"
      ]
     },
     "execution_count": 88,
     "metadata": {},
     "output_type": "execute_result"
    }
   ],
   "source": [
    "array4[1][1]"
   ]
  },
  {
   "cell_type": "code",
   "execution_count": null,
   "metadata": {},
   "outputs": [],
   "source": []
  },
  {
   "cell_type": "code",
   "execution_count": null,
   "metadata": {},
   "outputs": [],
   "source": []
  }
 ],
 "metadata": {
  "kernelspec": {
   "display_name": "base",
   "language": "python",
   "name": "python3"
  },
  "language_info": {
   "codemirror_mode": {
    "name": "ipython",
    "version": 3
   },
   "file_extension": ".py",
   "mimetype": "text/x-python",
   "name": "python",
   "nbconvert_exporter": "python",
   "pygments_lexer": "ipython3",
   "version": "3.11.5"
  }
 },
 "nbformat": 4,
 "nbformat_minor": 2
}
