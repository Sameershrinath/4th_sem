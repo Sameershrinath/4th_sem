{
 "cells": [
  {
   "cell_type": "markdown",
   "id": "564812ce",
   "metadata": {},
   "source": [
    "# Numpy Functions"
   ]
  },
  {
   "cell_type": "markdown",
   "id": "88b36fb7",
   "metadata": {},
   "source": [
    "## 1. np.reshape(m,n)"
   ]
  },
  {
   "cell_type": "markdown",
   "id": "26506cfa",
   "metadata": {},
   "source": [
    "## 2. np.zeros()"
   ]
  },
  {
   "cell_type": "code",
   "execution_count": null,
   "id": "2ce368f0",
   "metadata": {},
   "outputs": [],
   "source": [
    "Syntax:\n",
    "    np.zeros(shape, dtype = 'int'/'float')\n",
    "    \n",
    "Returns an array of zero values\n",
    "- use in weight initialization in deep learning algorithm.\n",
    "- Target variable in machine learning\n",
    "    Its value either '0' or '1'"
   ]
  },
  {
   "cell_type": "code",
   "execution_count": 4,
   "id": "63b4e196",
   "metadata": {},
   "outputs": [
    {
     "data": {
      "text/plain": [
       "array([0., 0., 0., 0., 0.])"
      ]
     },
     "execution_count": 4,
     "metadata": {},
     "output_type": "execute_result"
    }
   ],
   "source": [
    "import numpy as np\n",
    "arr = np.zeros(5)   # float\n",
    "arr"
   ]
  },
  {
   "cell_type": "code",
   "execution_count": 5,
   "id": "57a8dd2e",
   "metadata": {},
   "outputs": [
    {
     "data": {
      "text/plain": [
       "array([0, 0, 0, 0, 0, 0, 0, 0, 0, 0])"
      ]
     },
     "execution_count": 5,
     "metadata": {},
     "output_type": "execute_result"
    }
   ],
   "source": [
    "arr = np.zeros(10, dtype = 'int')   # float\n",
    "arr"
   ]
  },
  {
   "cell_type": "code",
   "execution_count": 6,
   "id": "00118bf5",
   "metadata": {},
   "outputs": [
    {
     "data": {
      "text/plain": [
       "array([[0, 0, 0],\n",
       "       [0, 0, 0]])"
      ]
     },
     "execution_count": 6,
     "metadata": {},
     "output_type": "execute_result"
    }
   ],
   "source": [
    "arr = np.zeros([2,3], dtype = 'int')   # float\n",
    "arr"
   ]
  },
  {
   "cell_type": "code",
   "execution_count": 7,
   "id": "18bdd983",
   "metadata": {},
   "outputs": [
    {
     "data": {
      "text/plain": [
       "array([[0, 0, 0],\n",
       "       [0, 0, 0],\n",
       "       [0, 0, 0]])"
      ]
     },
     "execution_count": 7,
     "metadata": {},
     "output_type": "execute_result"
    }
   ],
   "source": [
    "arr = np.zeros([3,3], dtype = 'int')   # float\n",
    "arr"
   ]
  },
  {
   "cell_type": "code",
   "execution_count": 8,
   "id": "003eabe0",
   "metadata": {},
   "outputs": [
    {
     "data": {
      "text/plain": [
       "5"
      ]
     },
     "execution_count": 8,
     "metadata": {},
     "output_type": "execute_result"
    }
   ],
   "source": [
    "np.round(5)"
   ]
  },
  {
   "cell_type": "code",
   "execution_count": 9,
   "id": "20dea094",
   "metadata": {},
   "outputs": [
    {
     "data": {
      "text/plain": [
       "array([[0, 0, 0, 0, 0],\n",
       "       [0, 0, 0, 0, 0],\n",
       "       [0, 0, 0, 0, 0],\n",
       "       [0, 0, 0, 0, 0]])"
      ]
     },
     "execution_count": 9,
     "metadata": {},
     "output_type": "execute_result"
    }
   ],
   "source": [
    "arr = np.zeros([4,5], dtype = 'int')   # float\n",
    "arr"
   ]
  },
  {
   "cell_type": "markdown",
   "id": "5d867e51",
   "metadata": {},
   "source": [
    "## 3. np.ones()"
   ]
  },
  {
   "cell_type": "code",
   "execution_count": 10,
   "id": "f9babd58",
   "metadata": {},
   "outputs": [
    {
     "ename": "SyntaxError",
     "evalue": "invalid syntax (1085710226.py, line 1)",
     "output_type": "error",
     "traceback": [
      "\u001b[1;36m  Cell \u001b[1;32mIn[10], line 1\u001b[1;36m\u001b[0m\n\u001b[1;33m    syntax:\u001b[0m\n\u001b[1;37m           ^\u001b[0m\n\u001b[1;31mSyntaxError\u001b[0m\u001b[1;31m:\u001b[0m invalid syntax\n"
     ]
    }
   ],
   "source": [
    "syntax:\n",
    "    np.ones(shape, dtype = 'int'/'float')"
   ]
  },
  {
   "cell_type": "code",
   "execution_count": 11,
   "id": "917a4fb2",
   "metadata": {},
   "outputs": [
    {
     "data": {
      "text/plain": [
       "array([1, 1, 1, 1, 1, 1, 1, 1, 1, 1])"
      ]
     },
     "execution_count": 11,
     "metadata": {},
     "output_type": "execute_result"
    }
   ],
   "source": [
    "arr = np.ones(10, dtype = 'int')\n",
    "arr"
   ]
  },
  {
   "cell_type": "code",
   "execution_count": 12,
   "id": "6b349deb",
   "metadata": {},
   "outputs": [
    {
     "data": {
      "text/plain": [
       "array([[1, 1, 1],\n",
       "       [1, 1, 1]])"
      ]
     },
     "execution_count": 12,
     "metadata": {},
     "output_type": "execute_result"
    }
   ],
   "source": [
    "arr = np.ones([2,3], dtype = 'int')\n",
    "arr"
   ]
  },
  {
   "cell_type": "code",
   "execution_count": 13,
   "id": "5321b686",
   "metadata": {},
   "outputs": [
    {
     "data": {
      "text/plain": [
       "array([[1, 1, 1],\n",
       "       [1, 1, 1],\n",
       "       [1, 1, 1]])"
      ]
     },
     "execution_count": 13,
     "metadata": {},
     "output_type": "execute_result"
    }
   ],
   "source": [
    "arr = np.ones([3,3], dtype = 'int')\n",
    "arr"
   ]
  },
  {
   "cell_type": "code",
   "execution_count": 14,
   "id": "02cdc897",
   "metadata": {},
   "outputs": [
    {
     "data": {
      "text/plain": [
       "array([[1, 1, 1, 1, 1],\n",
       "       [1, 1, 1, 1, 1],\n",
       "       [1, 1, 1, 1, 1],\n",
       "       [1, 1, 1, 1, 1]])"
      ]
     },
     "execution_count": 14,
     "metadata": {},
     "output_type": "execute_result"
    }
   ],
   "source": [
    "arr = np.ones([4,5], dtype = 'int')\n",
    "arr"
   ]
  },
  {
   "cell_type": "markdown",
   "id": "89132bc8",
   "metadata": {},
   "source": [
    "### dataframe"
   ]
  },
  {
   "cell_type": "code",
   "execution_count": 15,
   "id": "86afec55",
   "metadata": {},
   "outputs": [],
   "source": [
    "import pandas as pd"
   ]
  },
  {
   "cell_type": "code",
   "execution_count": 16,
   "id": "adf70030",
   "metadata": {},
   "outputs": [
    {
     "data": {
      "text/html": [
       "<div>\n",
       "<style scoped>\n",
       "    .dataframe tbody tr th:only-of-type {\n",
       "        vertical-align: middle;\n",
       "    }\n",
       "\n",
       "    .dataframe tbody tr th {\n",
       "        vertical-align: top;\n",
       "    }\n",
       "\n",
       "    .dataframe thead th {\n",
       "        text-align: right;\n",
       "    }\n",
       "</style>\n",
       "<table border=\"1\" class=\"dataframe\">\n",
       "  <thead>\n",
       "    <tr style=\"text-align: right;\">\n",
       "      <th></th>\n",
       "      <th>0</th>\n",
       "      <th>1</th>\n",
       "      <th>2</th>\n",
       "      <th>3</th>\n",
       "      <th>4</th>\n",
       "    </tr>\n",
       "  </thead>\n",
       "  <tbody>\n",
       "    <tr>\n",
       "      <th>0</th>\n",
       "      <td>1</td>\n",
       "      <td>1</td>\n",
       "      <td>1</td>\n",
       "      <td>1</td>\n",
       "      <td>1</td>\n",
       "    </tr>\n",
       "    <tr>\n",
       "      <th>1</th>\n",
       "      <td>1</td>\n",
       "      <td>1</td>\n",
       "      <td>1</td>\n",
       "      <td>1</td>\n",
       "      <td>1</td>\n",
       "    </tr>\n",
       "    <tr>\n",
       "      <th>2</th>\n",
       "      <td>1</td>\n",
       "      <td>1</td>\n",
       "      <td>1</td>\n",
       "      <td>1</td>\n",
       "      <td>1</td>\n",
       "    </tr>\n",
       "    <tr>\n",
       "      <th>3</th>\n",
       "      <td>1</td>\n",
       "      <td>1</td>\n",
       "      <td>1</td>\n",
       "      <td>1</td>\n",
       "      <td>1</td>\n",
       "    </tr>\n",
       "  </tbody>\n",
       "</table>\n",
       "</div>"
      ],
      "text/plain": [
       "   0  1  2  3  4\n",
       "0  1  1  1  1  1\n",
       "1  1  1  1  1  1\n",
       "2  1  1  1  1  1\n",
       "3  1  1  1  1  1"
      ]
     },
     "execution_count": 16,
     "metadata": {},
     "output_type": "execute_result"
    }
   ],
   "source": [
    "df = pd.DataFrame(arr)\n",
    "df"
   ]
  },
  {
   "cell_type": "markdown",
   "id": "2b9b5b97",
   "metadata": {},
   "source": [
    "## 4. arange"
   ]
  },
  {
   "cell_type": "code",
   "execution_count": null,
   "id": "82336648",
   "metadata": {},
   "outputs": [],
   "source": [
    "- simillar to range function\n",
    "syntax:\n",
    "    np.arange()"
   ]
  },
  {
   "cell_type": "code",
   "execution_count": 14,
   "id": "0124b0a3",
   "metadata": {},
   "outputs": [
    {
     "data": {
      "text/plain": [
       "[10, 11, 12, 13, 14, 15, 16, 17, 18, 19]"
      ]
     },
     "execution_count": 14,
     "metadata": {},
     "output_type": "execute_result"
    }
   ],
   "source": [
    "list(range(10,20))"
   ]
  },
  {
   "cell_type": "code",
   "execution_count": 15,
   "id": "f80c3cb0",
   "metadata": {},
   "outputs": [
    {
     "data": {
      "text/plain": [
       "array([10, 11, 12, 13, 14, 15, 16, 17, 18, 19])"
      ]
     },
     "execution_count": 15,
     "metadata": {},
     "output_type": "execute_result"
    }
   ],
   "source": [
    "np.arange(10,20)"
   ]
  },
  {
   "cell_type": "code",
   "execution_count": 2,
   "id": "630f4724-30d4-4e07-9171-cd0e1e784264",
   "metadata": {},
   "outputs": [
    {
     "data": {
      "text/plain": [
       "range"
      ]
     },
     "execution_count": 2,
     "metadata": {},
     "output_type": "execute_result"
    }
   ],
   "source": [
    "a= range(10,20)\n",
    "type(a)"
   ]
  },
  {
   "cell_type": "code",
   "execution_count": 16,
   "id": "6ea3696c",
   "metadata": {},
   "outputs": [
    {
     "data": {
      "text/plain": [
       "array([10, 11, 12, 13, 14, 15, 16, 17, 18, 19, 20, 21, 22, 23, 24, 25, 26,\n",
       "       27, 28, 29, 30])"
      ]
     },
     "execution_count": 16,
     "metadata": {},
     "output_type": "execute_result"
    }
   ],
   "source": [
    "np.arange(10,31)"
   ]
  },
  {
   "cell_type": "code",
   "execution_count": 17,
   "id": "ffe2a938",
   "metadata": {},
   "outputs": [
    {
     "data": {
      "text/plain": [
       "array([10, 12, 14, 16, 18, 20, 22, 24, 26, 28, 30])"
      ]
     },
     "execution_count": 17,
     "metadata": {},
     "output_type": "execute_result"
    }
   ],
   "source": [
    "np.arange(10,31,2)"
   ]
  },
  {
   "cell_type": "code",
   "execution_count": 5,
   "id": "1b3e052c",
   "metadata": {},
   "outputs": [
    {
     "name": "stdout",
     "output_type": "stream",
     "text": [
      "[20. 19. 18. 17. 16. 15. 14. 13. 12. 11.]\n"
     ]
    },
    {
     "data": {
      "text/plain": [
       "(10, 1)"
      ]
     },
     "execution_count": 5,
     "metadata": {},
     "output_type": "execute_result"
    }
   ],
   "source": [
    "import numpy as np\n",
    "arr = np.arange(20,10,-1, dtype='float')\n",
    "print(arr)\n",
    "arr.shape\n",
    "\n",
    "# possibilities\n",
    "5,2\n",
    "2,5\n",
    "1,10\n",
    "10,1"
   ]
  },
  {
   "cell_type": "code",
   "execution_count": 21,
   "id": "bf30f62d",
   "metadata": {},
   "outputs": [
    {
     "data": {
      "text/plain": [
       "array([[20, 19, 18, 17, 16],\n",
       "       [15, 14, 13, 12, 11]])"
      ]
     },
     "execution_count": 21,
     "metadata": {},
     "output_type": "execute_result"
    }
   ],
   "source": [
    "arr.reshape(2,5)"
   ]
  },
  {
   "cell_type": "code",
   "execution_count": 22,
   "id": "81451852",
   "metadata": {},
   "outputs": [
    {
     "data": {
      "text/plain": [
       "array([[20, 19],\n",
       "       [18, 17],\n",
       "       [16, 15],\n",
       "       [14, 13],\n",
       "       [12, 11]])"
      ]
     },
     "execution_count": 22,
     "metadata": {},
     "output_type": "execute_result"
    }
   ],
   "source": [
    "arr.reshape(5,2)"
   ]
  },
  {
   "cell_type": "markdown",
   "id": "4b80d44c",
   "metadata": {},
   "source": [
    "## 5. linspace()"
   ]
  },
  {
   "cell_type": "code",
   "execution_count": null,
   "id": "055d8835",
   "metadata": {},
   "outputs": [],
   "source": [
    "synatx:\n",
    "    np.linspace(start, end, num=50, retstep = True)"
   ]
  },
  {
   "cell_type": "code",
   "execution_count": 6,
   "id": "8640e5b9",
   "metadata": {},
   "outputs": [
    {
     "data": {
      "text/plain": [
       "(array([ 1.        ,  3.04166667,  5.08333333,  7.125     ,  9.16666667,\n",
       "        11.20833333, 13.25      , 15.29166667, 17.33333333, 19.375     ,\n",
       "        21.41666667, 23.45833333, 25.5       , 27.54166667, 29.58333333,\n",
       "        31.625     , 33.66666667, 35.70833333, 37.75      , 39.79166667,\n",
       "        41.83333333, 43.875     , 45.91666667, 47.95833333, 50.        ]),\n",
       " 2.0416666666666665)"
      ]
     },
     "execution_count": 6,
     "metadata": {},
     "output_type": "execute_result"
    }
   ],
   "source": [
    "import numpy as np\n",
    "arr1 = np.linspace(1,50, num=25, retstep= True)\n",
    "arr1\n",
    "\n",
    "# retstep = (50 - 1) / (50 - 1)"
   ]
  },
  {
   "cell_type": "code",
   "execution_count": 25,
   "id": "e0ed2a23",
   "metadata": {},
   "outputs": [
    {
     "data": {
      "text/plain": [
       "(array([  1.,  12.,  23.,  34.,  45.,  56.,  67.,  78.,  89., 100.]), 11.0)"
      ]
     },
     "execution_count": 25,
     "metadata": {},
     "output_type": "execute_result"
    }
   ],
   "source": [
    "arr1 = np.linspace(1,100, num=10, retstep= True)\n",
    "arr1\n",
    "# [1,.......,100]\n",
    "\n",
    "# retstep = 100-1 / 10-1"
   ]
  },
  {
   "cell_type": "code",
   "execution_count": 26,
   "id": "99227cf1",
   "metadata": {},
   "outputs": [
    {
     "data": {
      "text/plain": [
       "array([  1.,  12.,  23.,  34.,  45.,  56.,  67.,  78.,  89., 100.])"
      ]
     },
     "execution_count": 26,
     "metadata": {},
     "output_type": "execute_result"
    }
   ],
   "source": [
    "arr1 = np.linspace(1,100, num=10, retstep= False)\n",
    "arr1"
   ]
  },
  {
   "cell_type": "code",
   "execution_count": 27,
   "id": "a5a7b29f",
   "metadata": {},
   "outputs": [
    {
     "data": {
      "text/plain": [
       "(array([ 1.        ,  6.44444444, 11.88888889, 17.33333333, 22.77777778,\n",
       "        28.22222222, 33.66666667, 39.11111111, 44.55555556, 50.        ]),\n",
       " 5.444444444444445)"
      ]
     },
     "execution_count": 27,
     "metadata": {},
     "output_type": "execute_result"
    }
   ],
   "source": [
    "arr1 = np.linspace(1,50, num=10, retstep= True)\n",
    "arr1"
   ]
  },
  {
   "cell_type": "code",
   "execution_count": 28,
   "id": "aae6baa1",
   "metadata": {},
   "outputs": [
    {
     "data": {
      "text/plain": [
       "(array([ 1.        ,  3.57894737,  6.15789474,  8.73684211, 11.31578947,\n",
       "        13.89473684, 16.47368421, 19.05263158, 21.63157895, 24.21052632,\n",
       "        26.78947368, 29.36842105, 31.94736842, 34.52631579, 37.10526316,\n",
       "        39.68421053, 42.26315789, 44.84210526, 47.42105263, 50.        ]),\n",
       " 2.5789473684210527)"
      ]
     },
     "execution_count": 28,
     "metadata": {},
     "output_type": "execute_result"
    }
   ],
   "source": [
    "arr1 = np.linspace(1,50, num=20, retstep= True)\n",
    "arr1\n",
    "\n",
    "# returnstepsize = 2.5789473684210527"
   ]
  },
  {
   "cell_type": "code",
   "execution_count": 29,
   "id": "349a3f30",
   "metadata": {},
   "outputs": [
    {
     "data": {
      "text/plain": [
       "{'zeros': array([0., 0., 0., 0., 0., 0., 0., 0., 0., 0.]),\n",
       " 'ones': array([1., 1., 1., 1., 1., 1., 1., 1., 1., 1.]),\n",
       " 'Arange': array([20, 21, 22, 23, 24, 25, 26, 27, 28, 29]),\n",
       " 'Linspace': array([100.        , 111.11111111, 122.22222222, 133.33333333,\n",
       "        144.44444444, 155.55555556, 166.66666667, 177.77777778,\n",
       "        188.88888889, 200.        ])}"
      ]
     },
     "execution_count": 29,
     "metadata": {},
     "output_type": "execute_result"
    }
   ],
   "source": [
    "# create dictionary\n",
    "\n",
    "dict1 = {\"zeros\": np.zeros(10),\n",
    "        \"ones\": np.ones(10),\n",
    "        \"Arange\":np.arange(20,30),\n",
    "        \"Linspace\":np.linspace(100,200, num=10)}\n",
    "\n",
    "dict1"
   ]
  },
  {
   "cell_type": "code",
   "execution_count": 30,
   "id": "a9f89c11",
   "metadata": {},
   "outputs": [
    {
     "data": {
      "text/html": [
       "<div>\n",
       "<style scoped>\n",
       "    .dataframe tbody tr th:only-of-type {\n",
       "        vertical-align: middle;\n",
       "    }\n",
       "\n",
       "    .dataframe tbody tr th {\n",
       "        vertical-align: top;\n",
       "    }\n",
       "\n",
       "    .dataframe thead th {\n",
       "        text-align: right;\n",
       "    }\n",
       "</style>\n",
       "<table border=\"1\" class=\"dataframe\">\n",
       "  <thead>\n",
       "    <tr style=\"text-align: right;\">\n",
       "      <th></th>\n",
       "      <th>zeros</th>\n",
       "      <th>ones</th>\n",
       "      <th>Arange</th>\n",
       "      <th>Linspace</th>\n",
       "    </tr>\n",
       "  </thead>\n",
       "  <tbody>\n",
       "    <tr>\n",
       "      <th>0</th>\n",
       "      <td>0.0</td>\n",
       "      <td>1.0</td>\n",
       "      <td>20</td>\n",
       "      <td>100.000000</td>\n",
       "    </tr>\n",
       "    <tr>\n",
       "      <th>1</th>\n",
       "      <td>0.0</td>\n",
       "      <td>1.0</td>\n",
       "      <td>21</td>\n",
       "      <td>111.111111</td>\n",
       "    </tr>\n",
       "    <tr>\n",
       "      <th>2</th>\n",
       "      <td>0.0</td>\n",
       "      <td>1.0</td>\n",
       "      <td>22</td>\n",
       "      <td>122.222222</td>\n",
       "    </tr>\n",
       "    <tr>\n",
       "      <th>3</th>\n",
       "      <td>0.0</td>\n",
       "      <td>1.0</td>\n",
       "      <td>23</td>\n",
       "      <td>133.333333</td>\n",
       "    </tr>\n",
       "    <tr>\n",
       "      <th>4</th>\n",
       "      <td>0.0</td>\n",
       "      <td>1.0</td>\n",
       "      <td>24</td>\n",
       "      <td>144.444444</td>\n",
       "    </tr>\n",
       "    <tr>\n",
       "      <th>5</th>\n",
       "      <td>0.0</td>\n",
       "      <td>1.0</td>\n",
       "      <td>25</td>\n",
       "      <td>155.555556</td>\n",
       "    </tr>\n",
       "    <tr>\n",
       "      <th>6</th>\n",
       "      <td>0.0</td>\n",
       "      <td>1.0</td>\n",
       "      <td>26</td>\n",
       "      <td>166.666667</td>\n",
       "    </tr>\n",
       "    <tr>\n",
       "      <th>7</th>\n",
       "      <td>0.0</td>\n",
       "      <td>1.0</td>\n",
       "      <td>27</td>\n",
       "      <td>177.777778</td>\n",
       "    </tr>\n",
       "    <tr>\n",
       "      <th>8</th>\n",
       "      <td>0.0</td>\n",
       "      <td>1.0</td>\n",
       "      <td>28</td>\n",
       "      <td>188.888889</td>\n",
       "    </tr>\n",
       "    <tr>\n",
       "      <th>9</th>\n",
       "      <td>0.0</td>\n",
       "      <td>1.0</td>\n",
       "      <td>29</td>\n",
       "      <td>200.000000</td>\n",
       "    </tr>\n",
       "  </tbody>\n",
       "</table>\n",
       "</div>"
      ],
      "text/plain": [
       "   zeros  ones  Arange    Linspace\n",
       "0    0.0   1.0      20  100.000000\n",
       "1    0.0   1.0      21  111.111111\n",
       "2    0.0   1.0      22  122.222222\n",
       "3    0.0   1.0      23  133.333333\n",
       "4    0.0   1.0      24  144.444444\n",
       "5    0.0   1.0      25  155.555556\n",
       "6    0.0   1.0      26  166.666667\n",
       "7    0.0   1.0      27  177.777778\n",
       "8    0.0   1.0      28  188.888889\n",
       "9    0.0   1.0      29  200.000000"
      ]
     },
     "execution_count": 30,
     "metadata": {},
     "output_type": "execute_result"
    }
   ],
   "source": [
    "# create a data frame\n",
    "import pandas as pd\n",
    "df = pd.DataFrame(dict1)\n",
    "df"
   ]
  },
  {
   "cell_type": "code",
   "execution_count": 31,
   "id": "061bec1c",
   "metadata": {},
   "outputs": [
    {
     "data": {
      "text/html": [
       "<div>\n",
       "<style scoped>\n",
       "    .dataframe tbody tr th:only-of-type {\n",
       "        vertical-align: middle;\n",
       "    }\n",
       "\n",
       "    .dataframe tbody tr th {\n",
       "        vertical-align: top;\n",
       "    }\n",
       "\n",
       "    .dataframe thead th {\n",
       "        text-align: right;\n",
       "    }\n",
       "</style>\n",
       "<table border=\"1\" class=\"dataframe\">\n",
       "  <thead>\n",
       "    <tr style=\"text-align: right;\">\n",
       "      <th></th>\n",
       "      <th>zeros</th>\n",
       "      <th>ones</th>\n",
       "      <th>Arange</th>\n",
       "      <th>Linspace</th>\n",
       "      <th>Python</th>\n",
       "    </tr>\n",
       "  </thead>\n",
       "  <tbody>\n",
       "    <tr>\n",
       "      <th>0</th>\n",
       "      <td>0.0</td>\n",
       "      <td>1.0</td>\n",
       "      <td>20</td>\n",
       "      <td>100.000000</td>\n",
       "      <td>1</td>\n",
       "    </tr>\n",
       "    <tr>\n",
       "      <th>1</th>\n",
       "      <td>0.0</td>\n",
       "      <td>1.0</td>\n",
       "      <td>21</td>\n",
       "      <td>111.111111</td>\n",
       "      <td>2</td>\n",
       "    </tr>\n",
       "    <tr>\n",
       "      <th>2</th>\n",
       "      <td>0.0</td>\n",
       "      <td>1.0</td>\n",
       "      <td>22</td>\n",
       "      <td>122.222222</td>\n",
       "      <td>3</td>\n",
       "    </tr>\n",
       "    <tr>\n",
       "      <th>3</th>\n",
       "      <td>0.0</td>\n",
       "      <td>1.0</td>\n",
       "      <td>23</td>\n",
       "      <td>133.333333</td>\n",
       "      <td>4</td>\n",
       "    </tr>\n",
       "    <tr>\n",
       "      <th>4</th>\n",
       "      <td>0.0</td>\n",
       "      <td>1.0</td>\n",
       "      <td>24</td>\n",
       "      <td>144.444444</td>\n",
       "      <td>5</td>\n",
       "    </tr>\n",
       "    <tr>\n",
       "      <th>5</th>\n",
       "      <td>0.0</td>\n",
       "      <td>1.0</td>\n",
       "      <td>25</td>\n",
       "      <td>155.555556</td>\n",
       "      <td>6</td>\n",
       "    </tr>\n",
       "    <tr>\n",
       "      <th>6</th>\n",
       "      <td>0.0</td>\n",
       "      <td>1.0</td>\n",
       "      <td>26</td>\n",
       "      <td>166.666667</td>\n",
       "      <td>7</td>\n",
       "    </tr>\n",
       "    <tr>\n",
       "      <th>7</th>\n",
       "      <td>0.0</td>\n",
       "      <td>1.0</td>\n",
       "      <td>27</td>\n",
       "      <td>177.777778</td>\n",
       "      <td>8</td>\n",
       "    </tr>\n",
       "    <tr>\n",
       "      <th>8</th>\n",
       "      <td>0.0</td>\n",
       "      <td>1.0</td>\n",
       "      <td>28</td>\n",
       "      <td>188.888889</td>\n",
       "      <td>9</td>\n",
       "    </tr>\n",
       "    <tr>\n",
       "      <th>9</th>\n",
       "      <td>0.0</td>\n",
       "      <td>1.0</td>\n",
       "      <td>29</td>\n",
       "      <td>200.000000</td>\n",
       "      <td>10</td>\n",
       "    </tr>\n",
       "  </tbody>\n",
       "</table>\n",
       "</div>"
      ],
      "text/plain": [
       "   zeros  ones  Arange    Linspace  Python\n",
       "0    0.0   1.0      20  100.000000       1\n",
       "1    0.0   1.0      21  111.111111       2\n",
       "2    0.0   1.0      22  122.222222       3\n",
       "3    0.0   1.0      23  133.333333       4\n",
       "4    0.0   1.0      24  144.444444       5\n",
       "5    0.0   1.0      25  155.555556       6\n",
       "6    0.0   1.0      26  166.666667       7\n",
       "7    0.0   1.0      27  177.777778       8\n",
       "8    0.0   1.0      28  188.888889       9\n",
       "9    0.0   1.0      29  200.000000      10"
      ]
     },
     "execution_count": 31,
     "metadata": {},
     "output_type": "execute_result"
    }
   ],
   "source": [
    "df['Python'] = [1,2,3,4,5,6,7,8,9,10]\n",
    "df"
   ]
  },
  {
   "cell_type": "code",
   "execution_count": 32,
   "id": "04b4335e",
   "metadata": {},
   "outputs": [
    {
     "data": {
      "text/html": [
       "<div>\n",
       "<style scoped>\n",
       "    .dataframe tbody tr th:only-of-type {\n",
       "        vertical-align: middle;\n",
       "    }\n",
       "\n",
       "    .dataframe tbody tr th {\n",
       "        vertical-align: top;\n",
       "    }\n",
       "\n",
       "    .dataframe thead th {\n",
       "        text-align: right;\n",
       "    }\n",
       "</style>\n",
       "<table border=\"1\" class=\"dataframe\">\n",
       "  <thead>\n",
       "    <tr style=\"text-align: right;\">\n",
       "      <th></th>\n",
       "      <th>zeros</th>\n",
       "      <th>ones</th>\n",
       "      <th>Arange</th>\n",
       "      <th>Linspace</th>\n",
       "      <th>Python</th>\n",
       "      <th>Linspace2</th>\n",
       "    </tr>\n",
       "  </thead>\n",
       "  <tbody>\n",
       "    <tr>\n",
       "      <th>0</th>\n",
       "      <td>0.0</td>\n",
       "      <td>1.0</td>\n",
       "      <td>20</td>\n",
       "      <td>100.000000</td>\n",
       "      <td>1</td>\n",
       "      <td>500.000000</td>\n",
       "    </tr>\n",
       "    <tr>\n",
       "      <th>1</th>\n",
       "      <td>0.0</td>\n",
       "      <td>1.0</td>\n",
       "      <td>21</td>\n",
       "      <td>111.111111</td>\n",
       "      <td>2</td>\n",
       "      <td>555.555556</td>\n",
       "    </tr>\n",
       "    <tr>\n",
       "      <th>2</th>\n",
       "      <td>0.0</td>\n",
       "      <td>1.0</td>\n",
       "      <td>22</td>\n",
       "      <td>122.222222</td>\n",
       "      <td>3</td>\n",
       "      <td>611.111111</td>\n",
       "    </tr>\n",
       "    <tr>\n",
       "      <th>3</th>\n",
       "      <td>0.0</td>\n",
       "      <td>1.0</td>\n",
       "      <td>23</td>\n",
       "      <td>133.333333</td>\n",
       "      <td>4</td>\n",
       "      <td>666.666667</td>\n",
       "    </tr>\n",
       "    <tr>\n",
       "      <th>4</th>\n",
       "      <td>0.0</td>\n",
       "      <td>1.0</td>\n",
       "      <td>24</td>\n",
       "      <td>144.444444</td>\n",
       "      <td>5</td>\n",
       "      <td>722.222222</td>\n",
       "    </tr>\n",
       "    <tr>\n",
       "      <th>5</th>\n",
       "      <td>0.0</td>\n",
       "      <td>1.0</td>\n",
       "      <td>25</td>\n",
       "      <td>155.555556</td>\n",
       "      <td>6</td>\n",
       "      <td>777.777778</td>\n",
       "    </tr>\n",
       "    <tr>\n",
       "      <th>6</th>\n",
       "      <td>0.0</td>\n",
       "      <td>1.0</td>\n",
       "      <td>26</td>\n",
       "      <td>166.666667</td>\n",
       "      <td>7</td>\n",
       "      <td>833.333333</td>\n",
       "    </tr>\n",
       "    <tr>\n",
       "      <th>7</th>\n",
       "      <td>0.0</td>\n",
       "      <td>1.0</td>\n",
       "      <td>27</td>\n",
       "      <td>177.777778</td>\n",
       "      <td>8</td>\n",
       "      <td>888.888889</td>\n",
       "    </tr>\n",
       "    <tr>\n",
       "      <th>8</th>\n",
       "      <td>0.0</td>\n",
       "      <td>1.0</td>\n",
       "      <td>28</td>\n",
       "      <td>188.888889</td>\n",
       "      <td>9</td>\n",
       "      <td>944.444444</td>\n",
       "    </tr>\n",
       "    <tr>\n",
       "      <th>9</th>\n",
       "      <td>0.0</td>\n",
       "      <td>1.0</td>\n",
       "      <td>29</td>\n",
       "      <td>200.000000</td>\n",
       "      <td>10</td>\n",
       "      <td>1000.000000</td>\n",
       "    </tr>\n",
       "  </tbody>\n",
       "</table>\n",
       "</div>"
      ],
      "text/plain": [
       "   zeros  ones  Arange    Linspace  Python    Linspace2\n",
       "0    0.0   1.0      20  100.000000       1   500.000000\n",
       "1    0.0   1.0      21  111.111111       2   555.555556\n",
       "2    0.0   1.0      22  122.222222       3   611.111111\n",
       "3    0.0   1.0      23  133.333333       4   666.666667\n",
       "4    0.0   1.0      24  144.444444       5   722.222222\n",
       "5    0.0   1.0      25  155.555556       6   777.777778\n",
       "6    0.0   1.0      26  166.666667       7   833.333333\n",
       "7    0.0   1.0      27  177.777778       8   888.888889\n",
       "8    0.0   1.0      28  188.888889       9   944.444444\n",
       "9    0.0   1.0      29  200.000000      10  1000.000000"
      ]
     },
     "execution_count": 32,
     "metadata": {},
     "output_type": "execute_result"
    }
   ],
   "source": [
    "df['Linspace2'] = np.linspace(500,1000, num=10)\n",
    "df"
   ]
  },
  {
   "cell_type": "code",
   "execution_count": 34,
   "id": "0ead4d3a",
   "metadata": {},
   "outputs": [
    {
     "data": {
      "text/plain": [
       "(array([5000.        , 4555.55555556, 4111.11111111, 3666.66666667,\n",
       "        3222.22222222, 2777.77777778, 2333.33333333, 1888.88888889,\n",
       "        1444.44444444, 1000.        ]),\n",
       " -444.44444444444446)"
      ]
     },
     "execution_count": 34,
     "metadata": {},
     "output_type": "execute_result"
    }
   ],
   "source": [
    "np.linspace(5000,1000, num=10, retstep=True)"
   ]
  },
  {
   "cell_type": "markdown",
   "id": "8453bc2b",
   "metadata": {},
   "source": [
    "## 6. eye()"
   ]
  },
  {
   "cell_type": "code",
   "execution_count": null,
   "id": "d1fa07ab",
   "metadata": {},
   "outputs": [],
   "source": [
    "It will return 2D array with diagonal matrix\n",
    "\n",
    "syntax:\n",
    "    np.eye(shape, dtype= 'int')\n",
    "    "
   ]
  },
  {
   "cell_type": "code",
   "execution_count": 2,
   "id": "8dcfe64f",
   "metadata": {},
   "outputs": [
    {
     "data": {
      "text/plain": [
       "array([[1, 0, 0],\n",
       "       [0, 1, 0],\n",
       "       [0, 0, 1]])"
      ]
     },
     "execution_count": 2,
     "metadata": {},
     "output_type": "execute_result"
    }
   ],
   "source": [
    "import numpy as np\n",
    "np.eye(3, dtype = 'int')\n",
    "# identity matrix 3 * 3"
   ]
  },
  {
   "cell_type": "code",
   "execution_count": 38,
   "id": "69b20426",
   "metadata": {},
   "outputs": [
    {
     "data": {
      "text/plain": [
       "array([[1, 0, 0, 0, 0],\n",
       "       [0, 1, 0, 0, 0],\n",
       "       [0, 0, 1, 0, 0],\n",
       "       [0, 0, 0, 1, 0],\n",
       "       [0, 0, 0, 0, 1]])"
      ]
     },
     "execution_count": 38,
     "metadata": {},
     "output_type": "execute_result"
    }
   ],
   "source": [
    "np.eye(5, dtype = 'int')\n",
    "# identity matrix 5 * 5"
   ]
  },
  {
   "cell_type": "code",
   "execution_count": 39,
   "id": "220c5cf8",
   "metadata": {},
   "outputs": [
    {
     "data": {
      "text/plain": [
       "array([[1, 0, 0, 0],\n",
       "       [0, 1, 0, 0],\n",
       "       [0, 0, 1, 0],\n",
       "       [0, 0, 0, 1],\n",
       "       [0, 0, 0, 0]])"
      ]
     },
     "execution_count": 39,
     "metadata": {},
     "output_type": "execute_result"
    }
   ],
   "source": [
    "np.eye(5,4, dtype = 'int')\n",
    "#  5 * 4"
   ]
  },
  {
   "cell_type": "code",
   "execution_count": 40,
   "id": "324d01f8",
   "metadata": {},
   "outputs": [
    {
     "data": {
      "text/plain": [
       "array([[1, 0, 0, 0],\n",
       "       [0, 1, 0, 0]])"
      ]
     },
     "execution_count": 40,
     "metadata": {},
     "output_type": "execute_result"
    }
   ],
   "source": [
    "np.eye(2,4, dtype = 'int')\n",
    "#  2 * 4"
   ]
  },
  {
   "cell_type": "markdown",
   "id": "396e3dbd",
   "metadata": {},
   "source": [
    "## 7. identity()"
   ]
  },
  {
   "cell_type": "code",
   "execution_count": null,
   "id": "edb489dc",
   "metadata": {},
   "outputs": [],
   "source": [
    "It will return an 2D array with ones o diagonal\n",
    "\n",
    "synatx:\n",
    "    np.identity(n, dtype=\"int\")\n",
    "    \n",
    "    matrix of order n * n"
   ]
  },
  {
   "cell_type": "code",
   "execution_count": 3,
   "id": "bffe673b",
   "metadata": {},
   "outputs": [
    {
     "data": {
      "text/plain": [
       "array([[1, 0, 0],\n",
       "       [0, 1, 0],\n",
       "       [0, 0, 1]])"
      ]
     },
     "execution_count": 3,
     "metadata": {},
     "output_type": "execute_result"
    }
   ],
   "source": [
    "np.identity(3, dtype= 'int')"
   ]
  },
  {
   "cell_type": "code",
   "execution_count": 136,
   "id": "e735f970",
   "metadata": {},
   "outputs": [
    {
     "data": {
      "text/plain": [
       "array([[1, 0, 0, 0],\n",
       "       [0, 1, 0, 0],\n",
       "       [0, 0, 1, 0],\n",
       "       [0, 0, 0, 1]])"
      ]
     },
     "execution_count": 136,
     "metadata": {},
     "output_type": "execute_result"
    }
   ],
   "source": [
    "np.identity(4, dtype= 'int')"
   ]
  },
  {
   "cell_type": "markdown",
   "id": "d2971873",
   "metadata": {},
   "source": [
    "## 8. random()"
   ]
  },
  {
   "cell_type": "code",
   "execution_count": null,
   "id": "9158c62f",
   "metadata": {},
   "outputs": [],
   "source": [
    "It is used for generating random numbers in an array.\n",
    "\n",
    "Subfunctions:\n",
    "    1. rand()\n",
    "    2. randint()\n",
    "    3. randn()\n",
    "    4. ranf()"
   ]
  },
  {
   "cell_type": "markdown",
   "id": "390d50a4",
   "metadata": {},
   "source": [
    "#### 8.1 random.rand()"
   ]
  },
  {
   "cell_type": "code",
   "execution_count": 6,
   "id": "cc04fd05",
   "metadata": {},
   "outputs": [
    {
     "data": {
      "text/plain": [
       "array([0.50197151, 0.02379953, 0.87226985, 0.07105993, 0.8155693 ])"
      ]
     },
     "execution_count": 6,
     "metadata": {},
     "output_type": "execute_result"
    }
   ],
   "source": [
    "arr1 = np.random.rand(5)\n",
    "arr1"
   ]
  },
  {
   "cell_type": "code",
   "execution_count": null,
   "id": "8c1ab27d",
   "metadata": {},
   "outputs": [],
   "source": [
    "np."
   ]
  },
  {
   "cell_type": "code",
   "execution_count": 85,
   "id": "da1db047",
   "metadata": {},
   "outputs": [
    {
     "data": {
      "text/plain": [
       "array([[0.01913752, 0.56644776, 0.26188762],\n",
       "       [0.85390264, 0.78397364, 0.4360929 ],\n",
       "       [0.54032805, 0.59601333, 0.2378395 ],\n",
       "       [0.32324857, 0.61018769, 0.34809219],\n",
       "       [0.65790195, 0.9603407 , 0.21793333]])"
      ]
     },
     "execution_count": 85,
     "metadata": {},
     "output_type": "execute_result"
    }
   ],
   "source": [
    "arr1 = np.random.rand(5,3)\n",
    "arr1"
   ]
  },
  {
   "cell_type": "code",
   "execution_count": 86,
   "id": "a1750925",
   "metadata": {},
   "outputs": [
    {
     "data": {
      "text/plain": [
       "array([[0.69544348, 0.52340311, 0.49417222],\n",
       "       [0.64598582, 0.60575099, 0.03937801],\n",
       "       [0.77702594, 0.66647782, 0.71128755]])"
      ]
     },
     "execution_count": 86,
     "metadata": {},
     "output_type": "execute_result"
    }
   ],
   "source": [
    "arr1 = np.random.rand(3,3)\n",
    "arr1"
   ]
  },
  {
   "cell_type": "markdown",
   "id": "6629a848",
   "metadata": {},
   "source": [
    "#### 8.2 random.randint()"
   ]
  },
  {
   "cell_type": "code",
   "execution_count": null,
   "id": "90d4438d",
   "metadata": {},
   "outputs": [],
   "source": [
    "Returns random integers between given shape\n",
    "\n",
    "syntax:\n",
    "    np.random.randint(low, high, size = , dtype = )\n",
    "    \n",
    "    size = size of an array\n",
    "    \n",
    "    "
   ]
  },
  {
   "cell_type": "code",
   "execution_count": 87,
   "id": "030ebf8e",
   "metadata": {},
   "outputs": [
    {
     "data": {
      "text/plain": [
       "array([42, 15, 41,  5, 18])"
      ]
     },
     "execution_count": 87,
     "metadata": {},
     "output_type": "execute_result"
    }
   ],
   "source": [
    "array = np.random.randint(1,50, size = 5)\n",
    "array"
   ]
  },
  {
   "cell_type": "code",
   "execution_count": 101,
   "id": "65b05473",
   "metadata": {},
   "outputs": [
    {
     "data": {
      "text/plain": [
       "array([49, 49, 48, 46, 49, 47, 42, 47, 42, 44])"
      ]
     },
     "execution_count": 101,
     "metadata": {},
     "output_type": "execute_result"
    }
   ],
   "source": [
    "array = np.random.randint(40,50, size = 10)\n",
    "array"
   ]
  },
  {
   "cell_type": "code",
   "execution_count": 102,
   "id": "6f874707",
   "metadata": {},
   "outputs": [
    {
     "data": {
      "text/plain": [
       "array([[47, 36, 25],\n",
       "       [33, 30, 27],\n",
       "       [31, 44, 36]])"
      ]
     },
     "execution_count": 102,
     "metadata": {},
     "output_type": "execute_result"
    }
   ],
   "source": [
    "array = np.random.randint(25,50, size = (3,3))\n",
    "array"
   ]
  },
  {
   "cell_type": "code",
   "execution_count": 103,
   "id": "76823399",
   "metadata": {},
   "outputs": [
    {
     "data": {
      "text/plain": [
       "array([[13, 16, 15],\n",
       "       [17, 19, 15],\n",
       "       [14, 18, 17]])"
      ]
     },
     "execution_count": 103,
     "metadata": {},
     "output_type": "execute_result"
    }
   ],
   "source": [
    "array = np.random.randint(11,20, size = (3,3))\n",
    "array"
   ]
  },
  {
   "cell_type": "code",
   "execution_count": 104,
   "id": "f74339b8",
   "metadata": {},
   "outputs": [
    {
     "data": {
      "text/plain": [
       "array([[[11, 11, 13],\n",
       "        [19, 18, 12],\n",
       "        [11, 18, 19]],\n",
       "\n",
       "       [[16, 18, 17],\n",
       "        [15, 14, 16],\n",
       "        [15, 19, 11]],\n",
       "\n",
       "       [[18, 13, 19],\n",
       "        [13, 13, 12],\n",
       "        [19, 14, 12]]])"
      ]
     },
     "execution_count": 104,
     "metadata": {},
     "output_type": "execute_result"
    }
   ],
   "source": [
    "array = np.random.randint(11,20, size = (3,3,3))\n",
    "array"
   ]
  },
  {
   "cell_type": "markdown",
   "id": "d5f2a8bd",
   "metadata": {},
   "source": [
    "#### 8.3 random.randn()"
   ]
  },
  {
   "cell_type": "code",
   "execution_count": null,
   "id": "56f6f899",
   "metadata": {},
   "outputs": [],
   "source": [
    "random normalize\n",
    "returns normally distributed values\n",
    "\n",
    "standard normal distribution >> Bell shape curve/ Gausian Curve\n",
    "\n",
    "syntax:\n",
    "    np.random.randn(shape)"
   ]
  },
  {
   "cell_type": "code",
   "execution_count": 116,
   "id": "4364319d",
   "metadata": {},
   "outputs": [
    {
     "data": {
      "text/plain": [
       "array([ 0.0841035 ,  0.05072388, -0.99720537,  1.41371068, -1.50430588])"
      ]
     },
     "execution_count": 116,
     "metadata": {},
     "output_type": "execute_result"
    }
   ],
   "source": [
    "np.random.randn(5)"
   ]
  },
  {
   "cell_type": "code",
   "execution_count": 117,
   "id": "89e0f37b",
   "metadata": {},
   "outputs": [
    {
     "data": {
      "text/plain": [
       "array([[ 0.21277665,  1.15174583, -0.17831501],\n",
       "       [ 0.54892626,  0.09580482,  0.77769393],\n",
       "       [ 0.13198712,  1.46829907, -0.4814915 ],\n",
       "       [ 0.0374234 , -2.47953713,  0.19675818],\n",
       "       [-0.84311392,  1.21002455, -1.55520311]])"
      ]
     },
     "execution_count": 117,
     "metadata": {},
     "output_type": "execute_result"
    }
   ],
   "source": [
    "np.random.randn(5,3)"
   ]
  },
  {
   "cell_type": "code",
   "execution_count": 118,
   "id": "58f39575",
   "metadata": {},
   "outputs": [
    {
     "data": {
      "text/plain": [
       "array([[[-1.04140741e+00,  1.21736779e+00],\n",
       "        [-1.68765897e-01, -5.05867147e-01],\n",
       "        [ 1.43490920e-02,  3.48789108e-01]],\n",
       "\n",
       "       [[ 5.47644369e-02,  5.29995432e-02],\n",
       "        [-3.54363290e-04,  7.45626996e-01],\n",
       "        [ 6.29238800e-01, -9.26129324e-01]],\n",
       "\n",
       "       [[ 9.11507631e-02, -1.49024065e-01],\n",
       "        [ 1.43588661e+00, -7.69108055e-02],\n",
       "        [ 1.25849954e+00, -1.18897562e-01]],\n",
       "\n",
       "       [[-7.88570601e-01,  2.04872116e+00],\n",
       "        [ 5.50160757e-01,  8.46636299e-02],\n",
       "        [ 2.34258055e+00,  1.20115860e+00]],\n",
       "\n",
       "       [[ 7.19752254e-01,  7.38505771e-01],\n",
       "        [ 1.53630188e+00,  2.42872465e+00],\n",
       "        [ 7.60721625e-01,  1.47250376e+00]]])"
      ]
     },
     "execution_count": 118,
     "metadata": {},
     "output_type": "execute_result"
    }
   ],
   "source": [
    "np.random.randn(5,3,2)"
   ]
  },
  {
   "cell_type": "markdown",
   "id": "25847596",
   "metadata": {},
   "source": [
    "#### 8.4 random.ranf()"
   ]
  },
  {
   "cell_type": "code",
   "execution_count": null,
   "id": "ca310628",
   "metadata": {},
   "outputs": [],
   "source": [
    "Returns random float in between 0 to 1 interval\n",
    "\n",
    "syntax:\n",
    "    np.random.ranf(shape)\n",
    "    np.random.random_sample(shape)"
   ]
  },
  {
   "cell_type": "code",
   "execution_count": 119,
   "id": "8c65de6d",
   "metadata": {},
   "outputs": [
    {
     "data": {
      "text/plain": [
       "array([0.11737394, 0.72073445, 0.8917298 , 0.77552039, 0.19691278])"
      ]
     },
     "execution_count": 119,
     "metadata": {},
     "output_type": "execute_result"
    }
   ],
   "source": [
    "np.random.ranf(5)"
   ]
  },
  {
   "cell_type": "code",
   "execution_count": 121,
   "id": "5a820d23",
   "metadata": {},
   "outputs": [
    {
     "data": {
      "text/plain": [
       "array([[0.43309656, 0.24359913, 0.73955579],\n",
       "       [0.4011194 , 0.36314683, 0.40586087],\n",
       "       [0.12470711, 0.05388314, 0.20098959],\n",
       "       [0.70875615, 0.30800995, 0.24392008],\n",
       "       [0.20301178, 0.62801065, 0.18509925]])"
      ]
     },
     "execution_count": 121,
     "metadata": {},
     "output_type": "execute_result"
    }
   ],
   "source": [
    "np.random.ranf((5,3))"
   ]
  },
  {
   "cell_type": "code",
   "execution_count": 122,
   "id": "7901a517",
   "metadata": {
    "scrolled": true
   },
   "outputs": [
    {
     "data": {
      "text/plain": [
       "array([[0.66661995, 0.24660884, 0.82535022],\n",
       "       [0.90625216, 0.32069514, 0.83646578],\n",
       "       [0.22404999, 0.04213746, 0.70634336],\n",
       "       [0.86098363, 0.98421161, 0.83289425]])"
      ]
     },
     "execution_count": 122,
     "metadata": {},
     "output_type": "execute_result"
    }
   ],
   "source": [
    "np.random.random_sample((4,3))"
   ]
  },
  {
   "cell_type": "markdown",
   "id": "3a2bcecc",
   "metadata": {},
   "source": [
    "## 9. sort"
   ]
  },
  {
   "cell_type": "code",
   "execution_count": null,
   "id": "022160d1",
   "metadata": {},
   "outputs": [],
   "source": [
    "syntax:\n",
    "    np.sort(array)\n",
    "    \n",
    "    axis = 0 # It will sorted rowwise\n",
    "    axis = 1 # It will sorted columnwise"
   ]
  },
  {
   "cell_type": "code",
   "execution_count": 123,
   "id": "d4dbd65b",
   "metadata": {},
   "outputs": [
    {
     "data": {
      "text/plain": [
       "array([19, 15, 14, 18, 10, 19, 17, 12, 12, 10])"
      ]
     },
     "execution_count": 123,
     "metadata": {},
     "output_type": "execute_result"
    }
   ],
   "source": [
    "# create an array\n",
    "\n",
    "arr = np.random.randint(10,20, size=10)\n",
    "arr"
   ]
  },
  {
   "cell_type": "code",
   "execution_count": 124,
   "id": "b3acda00",
   "metadata": {},
   "outputs": [
    {
     "data": {
      "text/plain": [
       "array([10, 10, 12, 12, 14, 15, 17, 18, 19, 19])"
      ]
     },
     "execution_count": 124,
     "metadata": {},
     "output_type": "execute_result"
    }
   ],
   "source": [
    "np.sort(arr)"
   ]
  },
  {
   "cell_type": "code",
   "execution_count": 3,
   "id": "a2e462b2",
   "metadata": {},
   "outputs": [
    {
     "data": {
      "text/plain": [
       "array([[19, 14, 19, 12],\n",
       "       [19, 18, 12, 13],\n",
       "       [10, 17, 14, 16]])"
      ]
     },
     "execution_count": 3,
     "metadata": {},
     "output_type": "execute_result"
    }
   ],
   "source": [
    "arr = np.random.randint(10,20, size=(3,4))\n",
    "arr"
   ]
  },
  {
   "cell_type": "code",
   "execution_count": 4,
   "id": "29013a65",
   "metadata": {},
   "outputs": [
    {
     "data": {
      "text/plain": [
       "array([[19, 14, 19, 12],\n",
       "       [19, 18, 12, 13],\n",
       "       [10, 17, 14, 16]])"
      ]
     },
     "execution_count": 4,
     "metadata": {},
     "output_type": "execute_result"
    }
   ],
   "source": [
    "arr   # original matrix"
   ]
  },
  {
   "cell_type": "code",
   "execution_count": 5,
   "id": "a5450f01",
   "metadata": {},
   "outputs": [
    {
     "data": {
      "text/plain": [
       "array([[10, 14, 12, 12],\n",
       "       [19, 17, 14, 13],\n",
       "       [19, 18, 19, 16]])"
      ]
     },
     "execution_count": 5,
     "metadata": {},
     "output_type": "execute_result"
    }
   ],
   "source": [
    "np.sort(arr, axis = 0)  # Rowwise"
   ]
  },
  {
   "cell_type": "code",
   "execution_count": 134,
   "id": "e0828519",
   "metadata": {},
   "outputs": [
    {
     "data": {
      "text/plain": [
       "array([[11, 11, 12, 14],\n",
       "       [11, 13, 13, 18],\n",
       "       [10, 10, 13, 18]])"
      ]
     },
     "execution_count": 134,
     "metadata": {},
     "output_type": "execute_result"
    }
   ],
   "source": [
    "np.sort(arr, axis = 1)  # columnwise"
   ]
  },
  {
   "cell_type": "code",
   "execution_count": null,
   "id": "f0368932",
   "metadata": {},
   "outputs": [],
   "source": [
    "# Axis = 0 >> row\n",
    "# axis = 1 >> Column"
   ]
  }
 ],
 "metadata": {
  "kernelspec": {
   "display_name": "Python 3 (ipykernel)",
   "language": "python",
   "name": "python3"
  },
  "language_info": {
   "codemirror_mode": {
    "name": "ipython",
    "version": 3
   },
   "file_extension": ".py",
   "mimetype": "text/x-python",
   "name": "python",
   "nbconvert_exporter": "python",
   "pygments_lexer": "ipython3",
   "version": "3.12.7"
  }
 },
 "nbformat": 4,
 "nbformat_minor": 5
}
