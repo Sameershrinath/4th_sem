{
 "cells": [
  {
   "cell_type": "markdown",
   "id": "8b87511b",
   "metadata": {},
   "source": [
    "# Numpy"
   ]
  },
  {
   "cell_type": "code",
   "execution_count": 1,
   "id": "981ac2b0",
   "metadata": {},
   "outputs": [
    {
     "data": {
      "text/plain": [
       "array([1, 2, 3, 4])"
      ]
     },
     "execution_count": 1,
     "metadata": {},
     "output_type": "execute_result"
    }
   ],
   "source": [
    "import numpy as np\n",
    "\n",
    "arr = np.array([1,2,3,4])\n",
    "arr"
   ]
  },
  {
   "cell_type": "code",
   "execution_count": 6,
   "id": "956a5829",
   "metadata": {},
   "outputs": [
    {
     "data": {
      "text/plain": [
       "2"
      ]
     },
     "execution_count": 6,
     "metadata": {},
     "output_type": "execute_result"
    }
   ],
   "source": [
    "arr = np.array([[1,2,3,4]])\n",
    "arr.ndim"
   ]
  },
  {
   "cell_type": "code",
   "execution_count": 9,
   "id": "b23ae103",
   "metadata": {},
   "outputs": [
    {
     "data": {
      "text/plain": [
       "3"
      ]
     },
     "execution_count": 9,
     "metadata": {},
     "output_type": "execute_result"
    }
   ],
   "source": [
    "arr = np.array([[(1,2),(3,4)]])\n",
    "arr.ndim"
   ]
  },
  {
   "cell_type": "code",
   "execution_count": 10,
   "id": "ddb08cc9",
   "metadata": {},
   "outputs": [
    {
     "data": {
      "text/plain": [
       "array([[1, 2, 3, 4, 5, 6]])"
      ]
     },
     "execution_count": 10,
     "metadata": {},
     "output_type": "execute_result"
    }
   ],
   "source": [
    "arr = np.array([[1,2,3,4,5,6]])\n",
    "arr"
   ]
  },
  {
   "cell_type": "code",
   "execution_count": 11,
   "id": "8983ec6d",
   "metadata": {},
   "outputs": [
    {
     "data": {
      "text/plain": [
       "array([[1, 2],\n",
       "       [3, 4],\n",
       "       [5, 6]])"
      ]
     },
     "execution_count": 11,
     "metadata": {},
     "output_type": "execute_result"
    }
   ],
   "source": [
    "arr.reshape(3,2)"
   ]
  },
  {
   "cell_type": "code",
   "execution_count": 12,
   "id": "8a6a02b0",
   "metadata": {},
   "outputs": [
    {
     "data": {
      "text/plain": [
       "array([[1],\n",
       "       [2],\n",
       "       [3],\n",
       "       [4],\n",
       "       [5],\n",
       "       [6]])"
      ]
     },
     "execution_count": 12,
     "metadata": {},
     "output_type": "execute_result"
    }
   ],
   "source": [
    "arr.reshape(6,1)"
   ]
  },
  {
   "cell_type": "code",
   "execution_count": 14,
   "id": "3a1f5f40",
   "metadata": {},
   "outputs": [
    {
     "data": {
      "text/plain": [
       "array([[[1],\n",
       "        [2],\n",
       "        [3]],\n",
       "\n",
       "       [[4],\n",
       "        [5],\n",
       "        [6]]])"
      ]
     },
     "execution_count": 14,
     "metadata": {},
     "output_type": "execute_result"
    }
   ],
   "source": [
    "arr.reshape(2,3,1)"
   ]
  },
  {
   "cell_type": "code",
   "execution_count": 15,
   "id": "43a3df47",
   "metadata": {},
   "outputs": [
    {
     "data": {
      "text/plain": [
       "[10, 12, 14, 15, 17, 19, 10, 12, 14, 15, 17, 19]"
      ]
     },
     "execution_count": 15,
     "metadata": {},
     "output_type": "execute_result"
    }
   ],
   "source": [
    "l = [10,12,14,15,17,19]\n",
    "\n",
    "l * 2"
   ]
  },
  {
   "cell_type": "code",
   "execution_count": 16,
   "id": "c7e0ed0c",
   "metadata": {},
   "outputs": [
    {
     "data": {
      "text/plain": [
       "[20, 24, 28, 30, 34, 38]"
      ]
     },
     "execution_count": 16,
     "metadata": {},
     "output_type": "execute_result"
    }
   ],
   "source": [
    "# Multiply by 2\n",
    "output = [i*2 for i in l]\n",
    "output"
   ]
  },
  {
   "cell_type": "code",
   "execution_count": 17,
   "id": "5350cda4",
   "metadata": {},
   "outputs": [
    {
     "data": {
      "text/plain": [
       "[20, 24, 28, 30, 34, 38]"
      ]
     },
     "execution_count": 17,
     "metadata": {},
     "output_type": "execute_result"
    }
   ],
   "source": [
    "# by using lambda \n",
    "a = list(map(lambda x: x*2, l))\n",
    "a"
   ]
  },
  {
   "cell_type": "code",
   "execution_count": 21,
   "id": "8d36a6fd",
   "metadata": {},
   "outputs": [
    {
     "data": {
      "text/plain": [
       "[20, 24, 28, 30, 34, 38]"
      ]
     },
     "execution_count": 21,
     "metadata": {},
     "output_type": "execute_result"
    }
   ],
   "source": [
    "# by using array\n",
    "import numpy as np\n",
    "arr = np.array(l)\n",
    "b = arr * 2\n",
    "\n",
    "output = b.tolist()\n",
    "output"
   ]
  },
  {
   "cell_type": "code",
   "execution_count": 22,
   "id": "82bf00d2",
   "metadata": {},
   "outputs": [
    {
     "data": {
      "text/plain": [
       "[5.0, 6.0, 7.0, 7.5, 8.5, 9.5]"
      ]
     },
     "execution_count": 22,
     "metadata": {},
     "output_type": "execute_result"
    }
   ],
   "source": [
    "# division\n",
    "\n",
    "l = [10,12,14,15,17,19]\n",
    "arr = np.array(l)\n",
    "b = arr / 2\n",
    "\n",
    "output = b.tolist()\n",
    "output"
   ]
  },
  {
   "cell_type": "code",
   "execution_count": 23,
   "id": "9d6d1a60",
   "metadata": {},
   "outputs": [
    {
     "data": {
      "text/plain": [
       "[5, 6, 7, 7, 8, 9]"
      ]
     },
     "execution_count": 23,
     "metadata": {},
     "output_type": "execute_result"
    }
   ],
   "source": [
    "# Floor division\n",
    "\n",
    "l = [10,12,14,15,17,19]\n",
    "arr = np.array(l)\n",
    "b = arr // 2\n",
    "\n",
    "output = b.tolist()\n",
    "output"
   ]
  },
  {
   "cell_type": "code",
   "execution_count": 24,
   "id": "8e971253",
   "metadata": {},
   "outputs": [
    {
     "data": {
      "text/plain": [
       "[100, 144, 196, 225, 289, 361]"
      ]
     },
     "execution_count": 24,
     "metadata": {},
     "output_type": "execute_result"
    }
   ],
   "source": [
    "# square\n",
    "\n",
    "l = [10,12,14,15,17,19]\n",
    "arr = np.array(l)\n",
    "b = arr ** 2\n",
    "\n",
    "output = b.tolist()\n",
    "output"
   ]
  },
  {
   "cell_type": "code",
   "execution_count": 25,
   "id": "75940c12",
   "metadata": {},
   "outputs": [
    {
     "data": {
      "text/plain": [
       "[1000, 1728, 2744, 3375, 4913, 6859]"
      ]
     },
     "execution_count": 25,
     "metadata": {},
     "output_type": "execute_result"
    }
   ],
   "source": [
    "# cube\n",
    "\n",
    "l = [10,12,14,15,17,19]\n",
    "arr = np.array(l)\n",
    "b = arr ** 3\n",
    "\n",
    "output = b.tolist()\n",
    "output"
   ]
  },
  {
   "cell_type": "code",
   "execution_count": 26,
   "id": "784864cd",
   "metadata": {},
   "outputs": [
    {
     "data": {
      "text/plain": [
       "[1, 0, 2, 0, 2, 1]"
      ]
     },
     "execution_count": 26,
     "metadata": {},
     "output_type": "execute_result"
    }
   ],
   "source": [
    "# remainder\n",
    "\n",
    "l = [10,12,14,15,17,19]\n",
    "arr = np.array(l)\n",
    "b = arr % 3\n",
    "\n",
    "output = b.tolist()\n",
    "output"
   ]
  },
  {
   "cell_type": "markdown",
   "id": "b5e2e390",
   "metadata": {},
   "source": [
    "# Add two arrays"
   ]
  },
  {
   "cell_type": "code",
   "execution_count": null,
   "id": "825a847d",
   "metadata": {},
   "outputs": [],
   "source": [
    "Condition:\n",
    "    shape of both the arrays should be same"
   ]
  },
  {
   "cell_type": "code",
   "execution_count": 32,
   "id": "f64e81d4",
   "metadata": {},
   "outputs": [
    {
     "data": {
      "text/plain": [
       "array([11, 22, 33, 44])"
      ]
     },
     "execution_count": 32,
     "metadata": {},
     "output_type": "execute_result"
    }
   ],
   "source": [
    "a1 = np.array([10,20,30,40])\n",
    "a2 = np.array([1,2,3,4])\n",
    "\n",
    "a1 + a2"
   ]
  },
  {
   "cell_type": "code",
   "execution_count": 2,
   "id": "cf532ab2",
   "metadata": {},
   "outputs": [
    {
     "name": "stdout",
     "output_type": "stream",
     "text": [
      "[[11 22]\n",
      " [33 44]]\n"
     ]
    },
    {
     "data": {
      "text/plain": [
       "array([[11, 22],\n",
       "       [33, 44]])"
      ]
     },
     "execution_count": 2,
     "metadata": {},
     "output_type": "execute_result"
    }
   ],
   "source": [
    "import numpy as np\n",
    "a1 = np.array([[10,20],[30,40]])\n",
    "a2 = np.array([[1,2],[3,4]])\n",
    "\n",
    "print(a1+a2)\n",
    "np.add(a1,a2)  # a1 + a2"
   ]
  },
  {
   "cell_type": "markdown",
   "id": "5354ea66",
   "metadata": {},
   "source": [
    "### Multiplication of arrays"
   ]
  },
  {
   "cell_type": "code",
   "execution_count": 29,
   "id": "8fd4a446",
   "metadata": {},
   "outputs": [
    {
     "data": {
      "text/plain": [
       "array([ 10,  40,  90, 160])"
      ]
     },
     "execution_count": 29,
     "metadata": {},
     "output_type": "execute_result"
    }
   ],
   "source": [
    "a1 = np.array([10,20,30,40])\n",
    "a2 = np.array([1,2,3,4])\n",
    "\n",
    "a1 * a2"
   ]
  },
  {
   "cell_type": "code",
   "execution_count": 31,
   "id": "dc098161",
   "metadata": {},
   "outputs": [
    {
     "data": {
      "text/plain": [
       "array([[ 10,  40],\n",
       "       [ 90, 160]])"
      ]
     },
     "execution_count": 31,
     "metadata": {},
     "output_type": "execute_result"
    }
   ],
   "source": [
    "a1 = np.array([[10,20],[30,40]])\n",
    "a2 = np.array([[1,2],[3,4]])\n",
    "\n",
    "np.multiply(a1, a2)"
   ]
  },
  {
   "cell_type": "markdown",
   "id": "aa6cd9f5",
   "metadata": {},
   "source": [
    "### sum of elements of an array"
   ]
  },
  {
   "cell_type": "code",
   "execution_count": 33,
   "id": "b309854d",
   "metadata": {},
   "outputs": [
    {
     "data": {
      "text/plain": [
       "100"
      ]
     },
     "execution_count": 33,
     "metadata": {},
     "output_type": "execute_result"
    }
   ],
   "source": [
    "a1 = np.array([[10,20],[30,40]])\n",
    "np.sum(a1)"
   ]
  },
  {
   "cell_type": "markdown",
   "id": "8522557d",
   "metadata": {},
   "source": [
    "### Matrix addition"
   ]
  },
  {
   "cell_type": "code",
   "execution_count": null,
   "id": "1915d2d2",
   "metadata": {},
   "outputs": [],
   "source": [
    "Matrix >> 2D array"
   ]
  },
  {
   "cell_type": "code",
   "execution_count": 34,
   "id": "3fff8c78",
   "metadata": {},
   "outputs": [
    {
     "name": "stdout",
     "output_type": "stream",
     "text": [
      "Array 1 --> [[10 20]\n",
      " [30 40]]\n",
      "Array 2 --> [[1 2]\n",
      " [3 4]]\n"
     ]
    },
    {
     "data": {
      "text/plain": [
       "array([[11, 22],\n",
       "       [33, 44]])"
      ]
     },
     "execution_count": 34,
     "metadata": {},
     "output_type": "execute_result"
    }
   ],
   "source": [
    "a1 = np.array([[10,20],[30,40]])\n",
    "a2 = np.array([[1,2],[3,4]])\n",
    "\n",
    "print(\"Array 1 -->\", a1)\n",
    "print(\"Array 2 -->\", a2)\n",
    "\n",
    "np.add(a1,a2)"
   ]
  },
  {
   "cell_type": "markdown",
   "id": "9de7af38",
   "metadata": {},
   "source": [
    "### Matrix Multiplication"
   ]
  },
  {
   "cell_type": "code",
   "execution_count": 35,
   "id": "a5add6d8",
   "metadata": {},
   "outputs": [
    {
     "name": "stdout",
     "output_type": "stream",
     "text": [
      "Array 1 --> [[10 20]\n",
      " [30 40]]\n",
      "Array 2 --> [[1 2]\n",
      " [3 4]]\n"
     ]
    },
    {
     "data": {
      "text/plain": [
       "array([[ 10,  40],\n",
       "       [ 90, 160]])"
      ]
     },
     "execution_count": 35,
     "metadata": {},
     "output_type": "execute_result"
    }
   ],
   "source": [
    "a1 = np.array([[10,20],[30,40]])\n",
    "a2 = np.array([[1,2],[3,4]])\n",
    "\n",
    "print(\"Array 1 -->\", a1)\n",
    "print(\"Array 2 -->\", a2)\n",
    "\n",
    "np.multiply(a1,a2)"
   ]
  },
  {
   "cell_type": "markdown",
   "id": "b8df758f",
   "metadata": {},
   "source": [
    "### Matrix dot product"
   ]
  },
  {
   "cell_type": "code",
   "execution_count": null,
   "id": "778fb389",
   "metadata": {},
   "outputs": [],
   "source": [
    "Matrix dot product is possible only when,\n",
    "No. of columns of 1st matix = No. of rows of 2nd matrix"
   ]
  },
  {
   "cell_type": "code",
   "execution_count": 40,
   "id": "9209186e",
   "metadata": {},
   "outputs": [
    {
     "name": "stdout",
     "output_type": "stream",
     "text": [
      "Array 1 -->\n",
      " [[10 20]\n",
      " [30 40]] (2, 2)\n",
      "Array 2 -->\n",
      " [[1 2]\n",
      " [3 4]] (2, 2)\n"
     ]
    }
   ],
   "source": [
    "a1 = np.array([[10,20],[30,40]])\n",
    "a2 = np.array([[1,2],[3,4]])\n",
    "\n",
    "print(\"Array 1 -->\\n\", a1,a1.shape)\n",
    "print(\"Array 2 -->\\n\", a2, a2.shape)\n",
    "\n"
   ]
  },
  {
   "cell_type": "code",
   "execution_count": null,
   "id": "cdb780ff",
   "metadata": {},
   "outputs": [],
   "source": [
    "# dot product\n",
    "10*1 + 20*3        10*2 + 20*4\n",
    "30*1 + 40*3        30*2 + 40*4"
   ]
  },
  {
   "cell_type": "code",
   "execution_count": 38,
   "id": "6ac7ac87",
   "metadata": {},
   "outputs": [
    {
     "name": "stdout",
     "output_type": "stream",
     "text": [
      "Array 1 -->\n",
      " [[10 20]\n",
      " [30 40]]\n",
      "Array 2 -->\n",
      " [[1 2]\n",
      " [3 4]]\n"
     ]
    },
    {
     "data": {
      "text/plain": [
       "array([[ 70, 100],\n",
       "       [150, 220]])"
      ]
     },
     "execution_count": 38,
     "metadata": {},
     "output_type": "execute_result"
    }
   ],
   "source": [
    "a1 = np.array([[10,20],[30,40]])\n",
    "a2 = np.array([[1,2],[3,4]])\n",
    "\n",
    "print(\"Array 1 -->\\n\", a1)\n",
    "print(\"Array 2 -->\\n\", a2)\n",
    "np.dot(a1,a2)"
   ]
  },
  {
   "cell_type": "code",
   "execution_count": 3,
   "id": "34324bc7-1228-4558-9623-587301550e18",
   "metadata": {},
   "outputs": [
    {
     "name": "stdout",
     "output_type": "stream",
     "text": [
      "[[19 22]\n",
      " [43 50]]\n"
     ]
    }
   ],
   "source": [
    "import numpy as np\n",
    "\n",
    "A = np.array([[1, 2], [3, 4]])\n",
    "B = np.array([[5, 6], [7, 8]])\n",
    "\n",
    "result = A @ B\n",
    "print(result)\n"
   ]
  },
  {
   "cell_type": "code",
   "execution_count": 4,
   "id": "e44ca846-b93b-4a79-a8c5-1db95d3aec7f",
   "metadata": {},
   "outputs": [
    {
     "name": "stdout",
     "output_type": "stream",
     "text": [
      "[[0, 0], [0, 0]]\n"
     ]
    }
   ],
   "source": [
    "# Define two matrices\n",
    "A = [[1, 2], [3, 4]]\n",
    "B = [[5, 6], [7, 8]]\n",
    "\n",
    "# Initialize the result matrix with zeros\n",
    "result = [[0 for _ in range(len(B[0]))] for _ in range(len(A))]\n",
    "\n",
    "# Perform matrix multiplication\n",
    "# for i in range(len(A)):\n",
    "#     for j in range(len(B[0])):\n",
    "#         for k in range(len(B)):\n",
    "#             result[i][j] += A[i][k] * B[k][j]\n",
    "\n",
    "print(result)\n"
   ]
  },
  {
   "cell_type": "code",
   "execution_count": 42,
   "id": "7fd7eb36",
   "metadata": {},
   "outputs": [
    {
     "name": "stdout",
     "output_type": "stream",
     "text": [
      "Array 1 -->\n",
      " [[10 20]\n",
      " [30 40]\n",
      " [ 4  6]] (3, 2)\n",
      "Array 2 -->\n",
      " [[1 2]\n",
      " [3 4]] (2, 2)\n"
     ]
    },
    {
     "data": {
      "text/plain": [
       "array([[ 70, 100],\n",
       "       [150, 220],\n",
       "       [ 22,  32]])"
      ]
     },
     "execution_count": 42,
     "metadata": {},
     "output_type": "execute_result"
    }
   ],
   "source": [
    "a1 = np.array([[10,20],[30,40],[4,6]])\n",
    "a2 = np.array([[1,2],[3,4]])\n",
    "\n",
    "\n",
    "print(\"Array 1 -->\\n\", a1, a1.shape)\n",
    "print(\"Array 2 -->\\n\", a2, a2.shape)\n",
    "np.dot(a1,a2)"
   ]
  },
  {
   "cell_type": "code",
   "execution_count": 43,
   "id": "d5984140",
   "metadata": {},
   "outputs": [
    {
     "name": "stdout",
     "output_type": "stream",
     "text": [
      "Array 1 -->\n",
      " [[10 20]\n",
      " [30 40]\n",
      " [ 4  6]] (3, 2)\n",
      "Array 2 -->\n",
      " [[1 2]\n",
      " [3 4]] (2, 2)\n"
     ]
    },
    {
     "data": {
      "text/plain": [
       "array([[ 70, 100],\n",
       "       [150, 220],\n",
       "       [ 22,  32]])"
      ]
     },
     "execution_count": 43,
     "metadata": {},
     "output_type": "execute_result"
    }
   ],
   "source": [
    "a1 = np.array([[10,20],[30,40],[4,6]])  #(3,2)\n",
    "a2 = np.array([[1,2],[3,4]])            #(2,2)\n",
    "a3 = np.array([[2,3,4],[7,8,9]])        #(2,3)\n",
    "\n",
    "print(\"Array 1 -->\\n\", a1, a1.shape)\n",
    "print(\"Array 2 -->\\n\", a2, a2.shape)\n",
    "np.dot(a1,a2)"
   ]
  },
  {
   "cell_type": "code",
   "execution_count": 47,
   "id": "ac144473",
   "metadata": {},
   "outputs": [
    {
     "name": "stdout",
     "output_type": "stream",
     "text": [
      "Array 1 -->\n",
      " [[10 20]\n",
      " [30 40]\n",
      " [ 4  6]] (3, 2)\n",
      "Array 2 -->\n",
      " [[1 2]\n",
      " [3 4]] (2, 2)\n"
     ]
    },
    {
     "data": {
      "text/plain": [
       "array([[160, 190, 220],\n",
       "       [340, 410, 480],\n",
       "       [ 50,  60,  70]])"
      ]
     },
     "execution_count": 47,
     "metadata": {},
     "output_type": "execute_result"
    }
   ],
   "source": [
    "a1 = np.array([[10,20],[30,40],[4,6]])  #(3,2)\n",
    "a2 = np.array([[1,2],[3,4]])            #(2,2)\n",
    "a3 = np.array([[2,3,4],[7,8,9]])        #(2,3)\n",
    "\n",
    "print(\"Array 1 -->\\n\", a1, a1.shape)\n",
    "print(\"Array 2 -->\\n\", a2, a2.shape)\n",
    "np.dot(a1,a3)"
   ]
  },
  {
   "cell_type": "code",
   "execution_count": null,
   "id": "8f16ef1e",
   "metadata": {},
   "outputs": [],
   "source": []
  }
 ],
 "metadata": {
  "kernelspec": {
   "display_name": "Python 3 (ipykernel)",
   "language": "python",
   "name": "python3"
  },
  "language_info": {
   "codemirror_mode": {
    "name": "ipython",
    "version": 3
   },
   "file_extension": ".py",
   "mimetype": "text/x-python",
   "name": "python",
   "nbconvert_exporter": "python",
   "pygments_lexer": "ipython3",
   "version": "3.12.7"
  }
 },
 "nbformat": 4,
 "nbformat_minor": 5
}
